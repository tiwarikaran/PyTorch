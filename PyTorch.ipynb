{
  "nbformat": 4,
  "nbformat_minor": 0,
  "metadata": {
    "colab": {
      "name": "PyTorch.ipynb",
      "provenance": [],
      "collapsed_sections": [
        "L7C0kfpU0Kmg"
      ],
      "mount_file_id": "1jH9fTuLbcRHU5So9oOxbcH4XXE7dn2Ad",
      "authorship_tag": "ABX9TyMIvU0TqAlq4LcDvj6iqWo1",
      "include_colab_link": true
    },
    "kernelspec": {
      "name": "python3",
      "display_name": "Python 3"
    },
    "accelerator": "GPU",
    "widgets": {
      "application/vnd.jupyter.widget-state+json": {
        "aa1957d6331a49de82f46a56ca1da2d6": {
          "model_module": "@jupyter-widgets/controls",
          "model_name": "HBoxModel",
          "state": {
            "_view_name": "HBoxView",
            "_dom_classes": [],
            "_model_name": "HBoxModel",
            "_view_module": "@jupyter-widgets/controls",
            "_model_module_version": "1.5.0",
            "_view_count": null,
            "_view_module_version": "1.5.0",
            "box_style": "",
            "layout": "IPY_MODEL_de311c2c2cf8444fb043473d091ed8f3",
            "_model_module": "@jupyter-widgets/controls",
            "children": [
              "IPY_MODEL_0bbfbacd8ab94187947f5cb3b2f55dd5",
              "IPY_MODEL_cd89a196024c40f491ef33b23a4ed017"
            ]
          }
        },
        "de311c2c2cf8444fb043473d091ed8f3": {
          "model_module": "@jupyter-widgets/base",
          "model_name": "LayoutModel",
          "state": {
            "_view_name": "LayoutView",
            "grid_template_rows": null,
            "right": null,
            "justify_content": null,
            "_view_module": "@jupyter-widgets/base",
            "overflow": null,
            "_model_module_version": "1.2.0",
            "_view_count": null,
            "flex_flow": null,
            "width": null,
            "min_width": null,
            "border": null,
            "align_items": null,
            "bottom": null,
            "_model_module": "@jupyter-widgets/base",
            "top": null,
            "grid_column": null,
            "overflow_y": null,
            "overflow_x": null,
            "grid_auto_flow": null,
            "grid_area": null,
            "grid_template_columns": null,
            "flex": null,
            "_model_name": "LayoutModel",
            "justify_items": null,
            "grid_row": null,
            "max_height": null,
            "align_content": null,
            "visibility": null,
            "align_self": null,
            "height": null,
            "min_height": null,
            "padding": null,
            "grid_auto_rows": null,
            "grid_gap": null,
            "max_width": null,
            "order": null,
            "_view_module_version": "1.2.0",
            "grid_template_areas": null,
            "object_position": null,
            "object_fit": null,
            "grid_auto_columns": null,
            "margin": null,
            "display": null,
            "left": null
          }
        },
        "0bbfbacd8ab94187947f5cb3b2f55dd5": {
          "model_module": "@jupyter-widgets/controls",
          "model_name": "FloatProgressModel",
          "state": {
            "_view_name": "ProgressView",
            "style": "IPY_MODEL_c46682859a8f49398b0743f3f7ab1e48",
            "_dom_classes": [],
            "description": "100%",
            "_model_name": "FloatProgressModel",
            "bar_style": "success",
            "max": 87306240,
            "_view_module": "@jupyter-widgets/controls",
            "_model_module_version": "1.5.0",
            "value": 87306240,
            "_view_count": null,
            "_view_module_version": "1.5.0",
            "orientation": "horizontal",
            "min": 0,
            "description_tooltip": null,
            "_model_module": "@jupyter-widgets/controls",
            "layout": "IPY_MODEL_893051ff078543fb91d7b6855e28d624"
          }
        },
        "cd89a196024c40f491ef33b23a4ed017": {
          "model_module": "@jupyter-widgets/controls",
          "model_name": "HTMLModel",
          "state": {
            "_view_name": "HTMLView",
            "style": "IPY_MODEL_d803237ba8994a67ad36ceaa5626dadd",
            "_dom_classes": [],
            "description": "",
            "_model_name": "HTMLModel",
            "placeholder": "​",
            "_view_module": "@jupyter-widgets/controls",
            "_model_module_version": "1.5.0",
            "value": " 83.3M/83.3M [13:53&lt;00:00, 105kB/s]",
            "_view_count": null,
            "_view_module_version": "1.5.0",
            "description_tooltip": null,
            "_model_module": "@jupyter-widgets/controls",
            "layout": "IPY_MODEL_d7ff36e5070d48ae8583f1804031f177"
          }
        },
        "c46682859a8f49398b0743f3f7ab1e48": {
          "model_module": "@jupyter-widgets/controls",
          "model_name": "ProgressStyleModel",
          "state": {
            "_view_name": "StyleView",
            "_model_name": "ProgressStyleModel",
            "description_width": "initial",
            "_view_module": "@jupyter-widgets/base",
            "_model_module_version": "1.5.0",
            "_view_count": null,
            "_view_module_version": "1.2.0",
            "bar_color": null,
            "_model_module": "@jupyter-widgets/controls"
          }
        },
        "893051ff078543fb91d7b6855e28d624": {
          "model_module": "@jupyter-widgets/base",
          "model_name": "LayoutModel",
          "state": {
            "_view_name": "LayoutView",
            "grid_template_rows": null,
            "right": null,
            "justify_content": null,
            "_view_module": "@jupyter-widgets/base",
            "overflow": null,
            "_model_module_version": "1.2.0",
            "_view_count": null,
            "flex_flow": null,
            "width": null,
            "min_width": null,
            "border": null,
            "align_items": null,
            "bottom": null,
            "_model_module": "@jupyter-widgets/base",
            "top": null,
            "grid_column": null,
            "overflow_y": null,
            "overflow_x": null,
            "grid_auto_flow": null,
            "grid_area": null,
            "grid_template_columns": null,
            "flex": null,
            "_model_name": "LayoutModel",
            "justify_items": null,
            "grid_row": null,
            "max_height": null,
            "align_content": null,
            "visibility": null,
            "align_self": null,
            "height": null,
            "min_height": null,
            "padding": null,
            "grid_auto_rows": null,
            "grid_gap": null,
            "max_width": null,
            "order": null,
            "_view_module_version": "1.2.0",
            "grid_template_areas": null,
            "object_position": null,
            "object_fit": null,
            "grid_auto_columns": null,
            "margin": null,
            "display": null,
            "left": null
          }
        },
        "d803237ba8994a67ad36ceaa5626dadd": {
          "model_module": "@jupyter-widgets/controls",
          "model_name": "DescriptionStyleModel",
          "state": {
            "_view_name": "StyleView",
            "_model_name": "DescriptionStyleModel",
            "description_width": "",
            "_view_module": "@jupyter-widgets/base",
            "_model_module_version": "1.5.0",
            "_view_count": null,
            "_view_module_version": "1.2.0",
            "_model_module": "@jupyter-widgets/controls"
          }
        },
        "d7ff36e5070d48ae8583f1804031f177": {
          "model_module": "@jupyter-widgets/base",
          "model_name": "LayoutModel",
          "state": {
            "_view_name": "LayoutView",
            "grid_template_rows": null,
            "right": null,
            "justify_content": null,
            "_view_module": "@jupyter-widgets/base",
            "overflow": null,
            "_model_module_version": "1.2.0",
            "_view_count": null,
            "flex_flow": null,
            "width": null,
            "min_width": null,
            "border": null,
            "align_items": null,
            "bottom": null,
            "_model_module": "@jupyter-widgets/base",
            "top": null,
            "grid_column": null,
            "overflow_y": null,
            "overflow_x": null,
            "grid_auto_flow": null,
            "grid_area": null,
            "grid_template_columns": null,
            "flex": null,
            "_model_name": "LayoutModel",
            "justify_items": null,
            "grid_row": null,
            "max_height": null,
            "align_content": null,
            "visibility": null,
            "align_self": null,
            "height": null,
            "min_height": null,
            "padding": null,
            "grid_auto_rows": null,
            "grid_gap": null,
            "max_width": null,
            "order": null,
            "_view_module_version": "1.2.0",
            "grid_template_areas": null,
            "object_position": null,
            "object_fit": null,
            "grid_auto_columns": null,
            "margin": null,
            "display": null,
            "left": null
          }
        },
        "fcd0bb7de7bd4ddcb2340a01e1f889e0": {
          "model_module": "@jupyter-widgets/controls",
          "model_name": "HBoxModel",
          "state": {
            "_view_name": "HBoxView",
            "_dom_classes": [],
            "_model_name": "HBoxModel",
            "_view_module": "@jupyter-widgets/controls",
            "_model_module_version": "1.5.0",
            "_view_count": null,
            "_view_module_version": "1.5.0",
            "box_style": "",
            "layout": "IPY_MODEL_8116423d7d354734a2fd7450be0853e8",
            "_model_module": "@jupyter-widgets/controls",
            "children": [
              "IPY_MODEL_568bdaeac7c9451e85814defb0acdd4d",
              "IPY_MODEL_2a07cc551d0b404c94624ea6d1fce1c3"
            ]
          }
        },
        "8116423d7d354734a2fd7450be0853e8": {
          "model_module": "@jupyter-widgets/base",
          "model_name": "LayoutModel",
          "state": {
            "_view_name": "LayoutView",
            "grid_template_rows": null,
            "right": null,
            "justify_content": null,
            "_view_module": "@jupyter-widgets/base",
            "overflow": null,
            "_model_module_version": "1.2.0",
            "_view_count": null,
            "flex_flow": null,
            "width": null,
            "min_width": null,
            "border": null,
            "align_items": null,
            "bottom": null,
            "_model_module": "@jupyter-widgets/base",
            "top": null,
            "grid_column": null,
            "overflow_y": null,
            "overflow_x": null,
            "grid_auto_flow": null,
            "grid_area": null,
            "grid_template_columns": null,
            "flex": null,
            "_model_name": "LayoutModel",
            "justify_items": null,
            "grid_row": null,
            "max_height": null,
            "align_content": null,
            "visibility": null,
            "align_self": null,
            "height": null,
            "min_height": null,
            "padding": null,
            "grid_auto_rows": null,
            "grid_gap": null,
            "max_width": null,
            "order": null,
            "_view_module_version": "1.2.0",
            "grid_template_areas": null,
            "object_position": null,
            "object_fit": null,
            "grid_auto_columns": null,
            "margin": null,
            "display": null,
            "left": null
          }
        },
        "568bdaeac7c9451e85814defb0acdd4d": {
          "model_module": "@jupyter-widgets/controls",
          "model_name": "FloatProgressModel",
          "state": {
            "_view_name": "ProgressView",
            "style": "IPY_MODEL_92724eab1ad84494ba7e6b0acd1451ec",
            "_dom_classes": [],
            "description": "100%",
            "_model_name": "FloatProgressModel",
            "bar_style": "success",
            "max": 102502400,
            "_view_module": "@jupyter-widgets/controls",
            "_model_module_version": "1.5.0",
            "value": 102502400,
            "_view_count": null,
            "_view_module_version": "1.5.0",
            "orientation": "horizontal",
            "min": 0,
            "description_tooltip": null,
            "_model_module": "@jupyter-widgets/controls",
            "layout": "IPY_MODEL_41042d45bc2c41bebec116acc855dc1b"
          }
        },
        "2a07cc551d0b404c94624ea6d1fce1c3": {
          "model_module": "@jupyter-widgets/controls",
          "model_name": "HTMLModel",
          "state": {
            "_view_name": "HTMLView",
            "style": "IPY_MODEL_f6fe933e59da40fd82e5e969fed2cb3c",
            "_dom_classes": [],
            "description": "",
            "_model_name": "HTMLModel",
            "placeholder": "​",
            "_view_module": "@jupyter-widgets/controls",
            "_model_module_version": "1.5.0",
            "value": " 97.8M/97.8M [00:00&lt;00:00, 146MB/s]",
            "_view_count": null,
            "_view_module_version": "1.5.0",
            "description_tooltip": null,
            "_model_module": "@jupyter-widgets/controls",
            "layout": "IPY_MODEL_bb57e77e3a6941e98fc363240f1ca578"
          }
        },
        "92724eab1ad84494ba7e6b0acd1451ec": {
          "model_module": "@jupyter-widgets/controls",
          "model_name": "ProgressStyleModel",
          "state": {
            "_view_name": "StyleView",
            "_model_name": "ProgressStyleModel",
            "description_width": "initial",
            "_view_module": "@jupyter-widgets/base",
            "_model_module_version": "1.5.0",
            "_view_count": null,
            "_view_module_version": "1.2.0",
            "bar_color": null,
            "_model_module": "@jupyter-widgets/controls"
          }
        },
        "41042d45bc2c41bebec116acc855dc1b": {
          "model_module": "@jupyter-widgets/base",
          "model_name": "LayoutModel",
          "state": {
            "_view_name": "LayoutView",
            "grid_template_rows": null,
            "right": null,
            "justify_content": null,
            "_view_module": "@jupyter-widgets/base",
            "overflow": null,
            "_model_module_version": "1.2.0",
            "_view_count": null,
            "flex_flow": null,
            "width": null,
            "min_width": null,
            "border": null,
            "align_items": null,
            "bottom": null,
            "_model_module": "@jupyter-widgets/base",
            "top": null,
            "grid_column": null,
            "overflow_y": null,
            "overflow_x": null,
            "grid_auto_flow": null,
            "grid_area": null,
            "grid_template_columns": null,
            "flex": null,
            "_model_name": "LayoutModel",
            "justify_items": null,
            "grid_row": null,
            "max_height": null,
            "align_content": null,
            "visibility": null,
            "align_self": null,
            "height": null,
            "min_height": null,
            "padding": null,
            "grid_auto_rows": null,
            "grid_gap": null,
            "max_width": null,
            "order": null,
            "_view_module_version": "1.2.0",
            "grid_template_areas": null,
            "object_position": null,
            "object_fit": null,
            "grid_auto_columns": null,
            "margin": null,
            "display": null,
            "left": null
          }
        },
        "f6fe933e59da40fd82e5e969fed2cb3c": {
          "model_module": "@jupyter-widgets/controls",
          "model_name": "DescriptionStyleModel",
          "state": {
            "_view_name": "StyleView",
            "_model_name": "DescriptionStyleModel",
            "description_width": "",
            "_view_module": "@jupyter-widgets/base",
            "_model_module_version": "1.5.0",
            "_view_count": null,
            "_view_module_version": "1.2.0",
            "_model_module": "@jupyter-widgets/controls"
          }
        },
        "bb57e77e3a6941e98fc363240f1ca578": {
          "model_module": "@jupyter-widgets/base",
          "model_name": "LayoutModel",
          "state": {
            "_view_name": "LayoutView",
            "grid_template_rows": null,
            "right": null,
            "justify_content": null,
            "_view_module": "@jupyter-widgets/base",
            "overflow": null,
            "_model_module_version": "1.2.0",
            "_view_count": null,
            "flex_flow": null,
            "width": null,
            "min_width": null,
            "border": null,
            "align_items": null,
            "bottom": null,
            "_model_module": "@jupyter-widgets/base",
            "top": null,
            "grid_column": null,
            "overflow_y": null,
            "overflow_x": null,
            "grid_auto_flow": null,
            "grid_area": null,
            "grid_template_columns": null,
            "flex": null,
            "_model_name": "LayoutModel",
            "justify_items": null,
            "grid_row": null,
            "max_height": null,
            "align_content": null,
            "visibility": null,
            "align_self": null,
            "height": null,
            "min_height": null,
            "padding": null,
            "grid_auto_rows": null,
            "grid_gap": null,
            "max_width": null,
            "order": null,
            "_view_module_version": "1.2.0",
            "grid_template_areas": null,
            "object_position": null,
            "object_fit": null,
            "grid_auto_columns": null,
            "margin": null,
            "display": null,
            "left": null
          }
        },
        "27690b0de35a4d929b2f3a5ea310b7c9": {
          "model_module": "@jupyter-widgets/controls",
          "model_name": "HBoxModel",
          "state": {
            "_view_name": "HBoxView",
            "_dom_classes": [],
            "_model_name": "HBoxModel",
            "_view_module": "@jupyter-widgets/controls",
            "_model_module_version": "1.5.0",
            "_view_count": null,
            "_view_module_version": "1.5.0",
            "box_style": "",
            "layout": "IPY_MODEL_875b8e695fbf4d778dd3bec9614f7343",
            "_model_module": "@jupyter-widgets/controls",
            "children": [
              "IPY_MODEL_6a9e071b403d4afca53d3e6d36c03f5f",
              "IPY_MODEL_00ed2ed75b4548bf8902aa02ddc0d37f"
            ]
          }
        },
        "875b8e695fbf4d778dd3bec9614f7343": {
          "model_module": "@jupyter-widgets/base",
          "model_name": "LayoutModel",
          "state": {
            "_view_name": "LayoutView",
            "grid_template_rows": null,
            "right": null,
            "justify_content": null,
            "_view_module": "@jupyter-widgets/base",
            "overflow": null,
            "_model_module_version": "1.2.0",
            "_view_count": null,
            "flex_flow": null,
            "width": null,
            "min_width": null,
            "border": null,
            "align_items": null,
            "bottom": null,
            "_model_module": "@jupyter-widgets/base",
            "top": null,
            "grid_column": null,
            "overflow_y": null,
            "overflow_x": null,
            "grid_auto_flow": null,
            "grid_area": null,
            "grid_template_columns": null,
            "flex": null,
            "_model_name": "LayoutModel",
            "justify_items": null,
            "grid_row": null,
            "max_height": null,
            "align_content": null,
            "visibility": null,
            "align_self": null,
            "height": null,
            "min_height": null,
            "padding": null,
            "grid_auto_rows": null,
            "grid_gap": null,
            "max_width": null,
            "order": null,
            "_view_module_version": "1.2.0",
            "grid_template_areas": null,
            "object_position": null,
            "object_fit": null,
            "grid_auto_columns": null,
            "margin": null,
            "display": null,
            "left": null
          }
        },
        "6a9e071b403d4afca53d3e6d36c03f5f": {
          "model_module": "@jupyter-widgets/controls",
          "model_name": "FloatProgressModel",
          "state": {
            "_view_name": "ProgressView",
            "style": "IPY_MODEL_1f0e280174de46be887282dac715fbcc",
            "_dom_classes": [],
            "description": "100%",
            "_model_name": "FloatProgressModel",
            "bar_style": "success",
            "max": 178728960,
            "_view_module": "@jupyter-widgets/controls",
            "_model_module_version": "1.5.0",
            "value": 178728960,
            "_view_count": null,
            "_view_module_version": "1.5.0",
            "orientation": "horizontal",
            "min": 0,
            "description_tooltip": null,
            "_model_module": "@jupyter-widgets/controls",
            "layout": "IPY_MODEL_cb49ce4289e348bab116d66085be2a24"
          }
        },
        "00ed2ed75b4548bf8902aa02ddc0d37f": {
          "model_module": "@jupyter-widgets/controls",
          "model_name": "HTMLModel",
          "state": {
            "_view_name": "HTMLView",
            "style": "IPY_MODEL_0344a8bc17a44b07be300ea2c99905c8",
            "_dom_classes": [],
            "description": "",
            "_model_name": "HTMLModel",
            "placeholder": "​",
            "_view_module": "@jupyter-widgets/controls",
            "_model_module_version": "1.5.0",
            "value": " 170M/170M [00:06&lt;00:00, 25.8MB/s]",
            "_view_count": null,
            "_view_module_version": "1.5.0",
            "description_tooltip": null,
            "_model_module": "@jupyter-widgets/controls",
            "layout": "IPY_MODEL_9a52b1cb5f5f4dfdb5fd99dfbdb55830"
          }
        },
        "1f0e280174de46be887282dac715fbcc": {
          "model_module": "@jupyter-widgets/controls",
          "model_name": "ProgressStyleModel",
          "state": {
            "_view_name": "StyleView",
            "_model_name": "ProgressStyleModel",
            "description_width": "initial",
            "_view_module": "@jupyter-widgets/base",
            "_model_module_version": "1.5.0",
            "_view_count": null,
            "_view_module_version": "1.2.0",
            "bar_color": null,
            "_model_module": "@jupyter-widgets/controls"
          }
        },
        "cb49ce4289e348bab116d66085be2a24": {
          "model_module": "@jupyter-widgets/base",
          "model_name": "LayoutModel",
          "state": {
            "_view_name": "LayoutView",
            "grid_template_rows": null,
            "right": null,
            "justify_content": null,
            "_view_module": "@jupyter-widgets/base",
            "overflow": null,
            "_model_module_version": "1.2.0",
            "_view_count": null,
            "flex_flow": null,
            "width": null,
            "min_width": null,
            "border": null,
            "align_items": null,
            "bottom": null,
            "_model_module": "@jupyter-widgets/base",
            "top": null,
            "grid_column": null,
            "overflow_y": null,
            "overflow_x": null,
            "grid_auto_flow": null,
            "grid_area": null,
            "grid_template_columns": null,
            "flex": null,
            "_model_name": "LayoutModel",
            "justify_items": null,
            "grid_row": null,
            "max_height": null,
            "align_content": null,
            "visibility": null,
            "align_self": null,
            "height": null,
            "min_height": null,
            "padding": null,
            "grid_auto_rows": null,
            "grid_gap": null,
            "max_width": null,
            "order": null,
            "_view_module_version": "1.2.0",
            "grid_template_areas": null,
            "object_position": null,
            "object_fit": null,
            "grid_auto_columns": null,
            "margin": null,
            "display": null,
            "left": null
          }
        },
        "0344a8bc17a44b07be300ea2c99905c8": {
          "model_module": "@jupyter-widgets/controls",
          "model_name": "DescriptionStyleModel",
          "state": {
            "_view_name": "StyleView",
            "_model_name": "DescriptionStyleModel",
            "description_width": "",
            "_view_module": "@jupyter-widgets/base",
            "_model_module_version": "1.5.0",
            "_view_count": null,
            "_view_module_version": "1.2.0",
            "_model_module": "@jupyter-widgets/controls"
          }
        },
        "9a52b1cb5f5f4dfdb5fd99dfbdb55830": {
          "model_module": "@jupyter-widgets/base",
          "model_name": "LayoutModel",
          "state": {
            "_view_name": "LayoutView",
            "grid_template_rows": null,
            "right": null,
            "justify_content": null,
            "_view_module": "@jupyter-widgets/base",
            "overflow": null,
            "_model_module_version": "1.2.0",
            "_view_count": null,
            "flex_flow": null,
            "width": null,
            "min_width": null,
            "border": null,
            "align_items": null,
            "bottom": null,
            "_model_module": "@jupyter-widgets/base",
            "top": null,
            "grid_column": null,
            "overflow_y": null,
            "overflow_x": null,
            "grid_auto_flow": null,
            "grid_area": null,
            "grid_template_columns": null,
            "flex": null,
            "_model_name": "LayoutModel",
            "justify_items": null,
            "grid_row": null,
            "max_height": null,
            "align_content": null,
            "visibility": null,
            "align_self": null,
            "height": null,
            "min_height": null,
            "padding": null,
            "grid_auto_rows": null,
            "grid_gap": null,
            "max_width": null,
            "order": null,
            "_view_module_version": "1.2.0",
            "grid_template_areas": null,
            "object_position": null,
            "object_fit": null,
            "grid_auto_columns": null,
            "margin": null,
            "display": null,
            "left": null
          }
        },
        "22ebc2a476cc41ea8e988e0d56a36fd5": {
          "model_module": "@jupyter-widgets/controls",
          "model_name": "HBoxModel",
          "state": {
            "_view_name": "HBoxView",
            "_dom_classes": [],
            "_model_name": "HBoxModel",
            "_view_module": "@jupyter-widgets/controls",
            "_model_module_version": "1.5.0",
            "_view_count": null,
            "_view_module_version": "1.5.0",
            "box_style": "",
            "layout": "IPY_MODEL_a7deaa275ccf47a5a3603c0514a76c35",
            "_model_module": "@jupyter-widgets/controls",
            "children": [
              "IPY_MODEL_19893f1441aa4eb599cdc0d129037bb8",
              "IPY_MODEL_695968d4449c4aec8fbfafd2a8c7ae5c"
            ]
          }
        },
        "a7deaa275ccf47a5a3603c0514a76c35": {
          "model_module": "@jupyter-widgets/base",
          "model_name": "LayoutModel",
          "state": {
            "_view_name": "LayoutView",
            "grid_template_rows": null,
            "right": null,
            "justify_content": null,
            "_view_module": "@jupyter-widgets/base",
            "overflow": null,
            "_model_module_version": "1.2.0",
            "_view_count": null,
            "flex_flow": null,
            "width": null,
            "min_width": null,
            "border": null,
            "align_items": null,
            "bottom": null,
            "_model_module": "@jupyter-widgets/base",
            "top": null,
            "grid_column": null,
            "overflow_y": null,
            "overflow_x": null,
            "grid_auto_flow": null,
            "grid_area": null,
            "grid_template_columns": null,
            "flex": null,
            "_model_name": "LayoutModel",
            "justify_items": null,
            "grid_row": null,
            "max_height": null,
            "align_content": null,
            "visibility": null,
            "align_self": null,
            "height": null,
            "min_height": null,
            "padding": null,
            "grid_auto_rows": null,
            "grid_gap": null,
            "max_width": null,
            "order": null,
            "_view_module_version": "1.2.0",
            "grid_template_areas": null,
            "object_position": null,
            "object_fit": null,
            "grid_auto_columns": null,
            "margin": null,
            "display": null,
            "left": null
          }
        },
        "19893f1441aa4eb599cdc0d129037bb8": {
          "model_module": "@jupyter-widgets/controls",
          "model_name": "FloatProgressModel",
          "state": {
            "_view_name": "ProgressView",
            "style": "IPY_MODEL_a5b4e06aca1a4a97bbb97372c357ed7f",
            "_dom_classes": [],
            "description": "100%",
            "_model_name": "FloatProgressModel",
            "bar_style": "success",
            "max": 100441675,
            "_view_module": "@jupyter-widgets/controls",
            "_model_module_version": "1.5.0",
            "value": 100441675,
            "_view_count": null,
            "_view_module_version": "1.5.0",
            "orientation": "horizontal",
            "min": 0,
            "description_tooltip": null,
            "_model_module": "@jupyter-widgets/controls",
            "layout": "IPY_MODEL_d92f04720db245b7a3945c2a5ef28752"
          }
        },
        "695968d4449c4aec8fbfafd2a8c7ae5c": {
          "model_module": "@jupyter-widgets/controls",
          "model_name": "HTMLModel",
          "state": {
            "_view_name": "HTMLView",
            "style": "IPY_MODEL_33cf247436904bdea03d3efa4b6b9a8f",
            "_dom_classes": [],
            "description": "",
            "_model_name": "HTMLModel",
            "placeholder": "​",
            "_view_module": "@jupyter-widgets/controls",
            "_model_module_version": "1.5.0",
            "value": " 95.8M/95.8M [00:04&lt;00:00, 20.5MB/s]",
            "_view_count": null,
            "_view_module_version": "1.5.0",
            "description_tooltip": null,
            "_model_module": "@jupyter-widgets/controls",
            "layout": "IPY_MODEL_ffdcec1f646746c2b388f39dceb4c7a9"
          }
        },
        "a5b4e06aca1a4a97bbb97372c357ed7f": {
          "model_module": "@jupyter-widgets/controls",
          "model_name": "ProgressStyleModel",
          "state": {
            "_view_name": "StyleView",
            "_model_name": "ProgressStyleModel",
            "description_width": "initial",
            "_view_module": "@jupyter-widgets/base",
            "_model_module_version": "1.5.0",
            "_view_count": null,
            "_view_module_version": "1.2.0",
            "bar_color": null,
            "_model_module": "@jupyter-widgets/controls"
          }
        },
        "d92f04720db245b7a3945c2a5ef28752": {
          "model_module": "@jupyter-widgets/base",
          "model_name": "LayoutModel",
          "state": {
            "_view_name": "LayoutView",
            "grid_template_rows": null,
            "right": null,
            "justify_content": null,
            "_view_module": "@jupyter-widgets/base",
            "overflow": null,
            "_model_module_version": "1.2.0",
            "_view_count": null,
            "flex_flow": null,
            "width": null,
            "min_width": null,
            "border": null,
            "align_items": null,
            "bottom": null,
            "_model_module": "@jupyter-widgets/base",
            "top": null,
            "grid_column": null,
            "overflow_y": null,
            "overflow_x": null,
            "grid_auto_flow": null,
            "grid_area": null,
            "grid_template_columns": null,
            "flex": null,
            "_model_name": "LayoutModel",
            "justify_items": null,
            "grid_row": null,
            "max_height": null,
            "align_content": null,
            "visibility": null,
            "align_self": null,
            "height": null,
            "min_height": null,
            "padding": null,
            "grid_auto_rows": null,
            "grid_gap": null,
            "max_width": null,
            "order": null,
            "_view_module_version": "1.2.0",
            "grid_template_areas": null,
            "object_position": null,
            "object_fit": null,
            "grid_auto_columns": null,
            "margin": null,
            "display": null,
            "left": null
          }
        },
        "33cf247436904bdea03d3efa4b6b9a8f": {
          "model_module": "@jupyter-widgets/controls",
          "model_name": "DescriptionStyleModel",
          "state": {
            "_view_name": "StyleView",
            "_model_name": "DescriptionStyleModel",
            "description_width": "",
            "_view_module": "@jupyter-widgets/base",
            "_model_module_version": "1.5.0",
            "_view_count": null,
            "_view_module_version": "1.2.0",
            "_model_module": "@jupyter-widgets/controls"
          }
        },
        "ffdcec1f646746c2b388f39dceb4c7a9": {
          "model_module": "@jupyter-widgets/base",
          "model_name": "LayoutModel",
          "state": {
            "_view_name": "LayoutView",
            "grid_template_rows": null,
            "right": null,
            "justify_content": null,
            "_view_module": "@jupyter-widgets/base",
            "overflow": null,
            "_model_module_version": "1.2.0",
            "_view_count": null,
            "flex_flow": null,
            "width": null,
            "min_width": null,
            "border": null,
            "align_items": null,
            "bottom": null,
            "_model_module": "@jupyter-widgets/base",
            "top": null,
            "grid_column": null,
            "overflow_y": null,
            "overflow_x": null,
            "grid_auto_flow": null,
            "grid_area": null,
            "grid_template_columns": null,
            "flex": null,
            "_model_name": "LayoutModel",
            "justify_items": null,
            "grid_row": null,
            "max_height": null,
            "align_content": null,
            "visibility": null,
            "align_self": null,
            "height": null,
            "min_height": null,
            "padding": null,
            "grid_auto_rows": null,
            "grid_gap": null,
            "max_width": null,
            "order": null,
            "_view_module_version": "1.2.0",
            "grid_template_areas": null,
            "object_position": null,
            "object_fit": null,
            "grid_auto_columns": null,
            "margin": null,
            "display": null,
            "left": null
          }
        },
        "a50d82dc9e0544f2a0aad72e705c0fc5": {
          "model_module": "@jupyter-widgets/controls",
          "model_name": "HBoxModel",
          "state": {
            "_view_name": "HBoxView",
            "_dom_classes": [],
            "_model_name": "HBoxModel",
            "_view_module": "@jupyter-widgets/controls",
            "_model_module_version": "1.5.0",
            "_view_count": null,
            "_view_module_version": "1.5.0",
            "box_style": "",
            "layout": "IPY_MODEL_9e59a17515fc41d1a036aab67f986756",
            "_model_module": "@jupyter-widgets/controls",
            "children": [
              "IPY_MODEL_89542611d90f483e8e202ec842f2ed71",
              "IPY_MODEL_5988bea08e874ef7a28dfc2244e6b55e"
            ]
          }
        },
        "9e59a17515fc41d1a036aab67f986756": {
          "model_module": "@jupyter-widgets/base",
          "model_name": "LayoutModel",
          "state": {
            "_view_name": "LayoutView",
            "grid_template_rows": null,
            "right": null,
            "justify_content": null,
            "_view_module": "@jupyter-widgets/base",
            "overflow": null,
            "_model_module_version": "1.2.0",
            "_view_count": null,
            "flex_flow": null,
            "width": null,
            "min_width": null,
            "border": null,
            "align_items": null,
            "bottom": null,
            "_model_module": "@jupyter-widgets/base",
            "top": null,
            "grid_column": null,
            "overflow_y": null,
            "overflow_x": null,
            "grid_auto_flow": null,
            "grid_area": null,
            "grid_template_columns": null,
            "flex": null,
            "_model_name": "LayoutModel",
            "justify_items": null,
            "grid_row": null,
            "max_height": null,
            "align_content": null,
            "visibility": null,
            "align_self": null,
            "height": null,
            "min_height": null,
            "padding": null,
            "grid_auto_rows": null,
            "grid_gap": null,
            "max_width": null,
            "order": null,
            "_view_module_version": "1.2.0",
            "grid_template_areas": null,
            "object_position": null,
            "object_fit": null,
            "grid_auto_columns": null,
            "margin": null,
            "display": null,
            "left": null
          }
        },
        "89542611d90f483e8e202ec842f2ed71": {
          "model_module": "@jupyter-widgets/controls",
          "model_name": "FloatProgressModel",
          "state": {
            "_view_name": "ProgressView",
            "style": "IPY_MODEL_1bd1619ba7934c79a291afe882b98ce1",
            "_dom_classes": [],
            "description": "100%",
            "_model_name": "FloatProgressModel",
            "bar_style": "success",
            "max": 138223492,
            "_view_module": "@jupyter-widgets/controls",
            "_model_module_version": "1.5.0",
            "value": 138223492,
            "_view_count": null,
            "_view_module_version": "1.5.0",
            "orientation": "horizontal",
            "min": 0,
            "description_tooltip": null,
            "_model_module": "@jupyter-widgets/controls",
            "layout": "IPY_MODEL_1ca9e7cf779b470ea3c67b496d853fdf"
          }
        },
        "5988bea08e874ef7a28dfc2244e6b55e": {
          "model_module": "@jupyter-widgets/controls",
          "model_name": "HTMLModel",
          "state": {
            "_view_name": "HTMLView",
            "style": "IPY_MODEL_a5f8d6886557445a974f9f96c741e8dc",
            "_dom_classes": [],
            "description": "",
            "_model_name": "HTMLModel",
            "placeholder": "​",
            "_view_module": "@jupyter-widgets/controls",
            "_model_module_version": "1.5.0",
            "value": " 132M/132M [00:03&lt;00:00, 38.3MB/s]",
            "_view_count": null,
            "_view_module_version": "1.5.0",
            "description_tooltip": null,
            "_model_module": "@jupyter-widgets/controls",
            "layout": "IPY_MODEL_905feb9254514284adf5f22f99ce594c"
          }
        },
        "1bd1619ba7934c79a291afe882b98ce1": {
          "model_module": "@jupyter-widgets/controls",
          "model_name": "ProgressStyleModel",
          "state": {
            "_view_name": "StyleView",
            "_model_name": "ProgressStyleModel",
            "description_width": "initial",
            "_view_module": "@jupyter-widgets/base",
            "_model_module_version": "1.5.0",
            "_view_count": null,
            "_view_module_version": "1.2.0",
            "bar_color": null,
            "_model_module": "@jupyter-widgets/controls"
          }
        },
        "1ca9e7cf779b470ea3c67b496d853fdf": {
          "model_module": "@jupyter-widgets/base",
          "model_name": "LayoutModel",
          "state": {
            "_view_name": "LayoutView",
            "grid_template_rows": null,
            "right": null,
            "justify_content": null,
            "_view_module": "@jupyter-widgets/base",
            "overflow": null,
            "_model_module_version": "1.2.0",
            "_view_count": null,
            "flex_flow": null,
            "width": null,
            "min_width": null,
            "border": null,
            "align_items": null,
            "bottom": null,
            "_model_module": "@jupyter-widgets/base",
            "top": null,
            "grid_column": null,
            "overflow_y": null,
            "overflow_x": null,
            "grid_auto_flow": null,
            "grid_area": null,
            "grid_template_columns": null,
            "flex": null,
            "_model_name": "LayoutModel",
            "justify_items": null,
            "grid_row": null,
            "max_height": null,
            "align_content": null,
            "visibility": null,
            "align_self": null,
            "height": null,
            "min_height": null,
            "padding": null,
            "grid_auto_rows": null,
            "grid_gap": null,
            "max_width": null,
            "order": null,
            "_view_module_version": "1.2.0",
            "grid_template_areas": null,
            "object_position": null,
            "object_fit": null,
            "grid_auto_columns": null,
            "margin": null,
            "display": null,
            "left": null
          }
        },
        "a5f8d6886557445a974f9f96c741e8dc": {
          "model_module": "@jupyter-widgets/controls",
          "model_name": "DescriptionStyleModel",
          "state": {
            "_view_name": "StyleView",
            "_model_name": "DescriptionStyleModel",
            "description_width": "",
            "_view_module": "@jupyter-widgets/base",
            "_model_module_version": "1.5.0",
            "_view_count": null,
            "_view_module_version": "1.2.0",
            "_model_module": "@jupyter-widgets/controls"
          }
        },
        "905feb9254514284adf5f22f99ce594c": {
          "model_module": "@jupyter-widgets/base",
          "model_name": "LayoutModel",
          "state": {
            "_view_name": "LayoutView",
            "grid_template_rows": null,
            "right": null,
            "justify_content": null,
            "_view_module": "@jupyter-widgets/base",
            "overflow": null,
            "_model_module_version": "1.2.0",
            "_view_count": null,
            "flex_flow": null,
            "width": null,
            "min_width": null,
            "border": null,
            "align_items": null,
            "bottom": null,
            "_model_module": "@jupyter-widgets/base",
            "top": null,
            "grid_column": null,
            "overflow_y": null,
            "overflow_x": null,
            "grid_auto_flow": null,
            "grid_area": null,
            "grid_template_columns": null,
            "flex": null,
            "_model_name": "LayoutModel",
            "justify_items": null,
            "grid_row": null,
            "max_height": null,
            "align_content": null,
            "visibility": null,
            "align_self": null,
            "height": null,
            "min_height": null,
            "padding": null,
            "grid_auto_rows": null,
            "grid_gap": null,
            "max_width": null,
            "order": null,
            "_view_module_version": "1.2.0",
            "grid_template_areas": null,
            "object_position": null,
            "object_fit": null,
            "grid_auto_columns": null,
            "margin": null,
            "display": null,
            "left": null
          }
        },
        "d933df3cca304b79b0cd210584962b90": {
          "model_module": "@jupyter-widgets/controls",
          "model_name": "HBoxModel",
          "state": {
            "_view_name": "HBoxView",
            "_dom_classes": [],
            "_model_name": "HBoxModel",
            "_view_module": "@jupyter-widgets/controls",
            "_model_module_version": "1.5.0",
            "_view_count": null,
            "_view_module_version": "1.5.0",
            "box_style": "",
            "layout": "IPY_MODEL_0b2845afdc8743f9a807eccbe65a8262",
            "_model_module": "@jupyter-widgets/controls",
            "children": [
              "IPY_MODEL_3325ad2257d44216b6841980cd21f74d",
              "IPY_MODEL_350c0c9c4b3541c9aa26a1b4ea510939"
            ]
          }
        },
        "0b2845afdc8743f9a807eccbe65a8262": {
          "model_module": "@jupyter-widgets/base",
          "model_name": "LayoutModel",
          "state": {
            "_view_name": "LayoutView",
            "grid_template_rows": null,
            "right": null,
            "justify_content": null,
            "_view_module": "@jupyter-widgets/base",
            "overflow": null,
            "_model_module_version": "1.2.0",
            "_view_count": null,
            "flex_flow": null,
            "width": null,
            "min_width": null,
            "border": null,
            "align_items": null,
            "bottom": null,
            "_model_module": "@jupyter-widgets/base",
            "top": null,
            "grid_column": null,
            "overflow_y": null,
            "overflow_x": null,
            "grid_auto_flow": null,
            "grid_area": null,
            "grid_template_columns": null,
            "flex": null,
            "_model_name": "LayoutModel",
            "justify_items": null,
            "grid_row": null,
            "max_height": null,
            "align_content": null,
            "visibility": null,
            "align_self": null,
            "height": null,
            "min_height": null,
            "padding": null,
            "grid_auto_rows": null,
            "grid_gap": null,
            "max_width": null,
            "order": null,
            "_view_module_version": "1.2.0",
            "grid_template_areas": null,
            "object_position": null,
            "object_fit": null,
            "grid_auto_columns": null,
            "margin": null,
            "display": null,
            "left": null
          }
        },
        "3325ad2257d44216b6841980cd21f74d": {
          "model_module": "@jupyter-widgets/controls",
          "model_name": "FloatProgressModel",
          "state": {
            "_view_name": "ProgressView",
            "style": "IPY_MODEL_d42dafc634c34b7b900baea5ea2201d2",
            "_dom_classes": [],
            "description": "100%",
            "_model_name": "FloatProgressModel",
            "bar_style": "success",
            "max": 254695146,
            "_view_module": "@jupyter-widgets/controls",
            "_model_module_version": "1.5.0",
            "value": 254695146,
            "_view_count": null,
            "_view_module_version": "1.5.0",
            "orientation": "horizontal",
            "min": 0,
            "description_tooltip": null,
            "_model_module": "@jupyter-widgets/controls",
            "layout": "IPY_MODEL_bf1f22b7626140bf9b47e2889bc4c6c0"
          }
        },
        "350c0c9c4b3541c9aa26a1b4ea510939": {
          "model_module": "@jupyter-widgets/controls",
          "model_name": "HTMLModel",
          "state": {
            "_view_name": "HTMLView",
            "style": "IPY_MODEL_cf7abf10c4e74042a20f2ff276cfb394",
            "_dom_classes": [],
            "description": "",
            "_model_name": "HTMLModel",
            "placeholder": "​",
            "_view_module": "@jupyter-widgets/controls",
            "_model_module_version": "1.5.0",
            "value": " 243M/243M [00:01&lt;00:00, 156MB/s]",
            "_view_count": null,
            "_view_module_version": "1.5.0",
            "description_tooltip": null,
            "_model_module": "@jupyter-widgets/controls",
            "layout": "IPY_MODEL_339cb6cfb72146db9d45ad12ca582f9f"
          }
        },
        "d42dafc634c34b7b900baea5ea2201d2": {
          "model_module": "@jupyter-widgets/controls",
          "model_name": "ProgressStyleModel",
          "state": {
            "_view_name": "StyleView",
            "_model_name": "ProgressStyleModel",
            "description_width": "initial",
            "_view_module": "@jupyter-widgets/base",
            "_model_module_version": "1.5.0",
            "_view_count": null,
            "_view_module_version": "1.2.0",
            "bar_color": null,
            "_model_module": "@jupyter-widgets/controls"
          }
        },
        "bf1f22b7626140bf9b47e2889bc4c6c0": {
          "model_module": "@jupyter-widgets/base",
          "model_name": "LayoutModel",
          "state": {
            "_view_name": "LayoutView",
            "grid_template_rows": null,
            "right": null,
            "justify_content": null,
            "_view_module": "@jupyter-widgets/base",
            "overflow": null,
            "_model_module_version": "1.2.0",
            "_view_count": null,
            "flex_flow": null,
            "width": null,
            "min_width": null,
            "border": null,
            "align_items": null,
            "bottom": null,
            "_model_module": "@jupyter-widgets/base",
            "top": null,
            "grid_column": null,
            "overflow_y": null,
            "overflow_x": null,
            "grid_auto_flow": null,
            "grid_area": null,
            "grid_template_columns": null,
            "flex": null,
            "_model_name": "LayoutModel",
            "justify_items": null,
            "grid_row": null,
            "max_height": null,
            "align_content": null,
            "visibility": null,
            "align_self": null,
            "height": null,
            "min_height": null,
            "padding": null,
            "grid_auto_rows": null,
            "grid_gap": null,
            "max_width": null,
            "order": null,
            "_view_module_version": "1.2.0",
            "grid_template_areas": null,
            "object_position": null,
            "object_fit": null,
            "grid_auto_columns": null,
            "margin": null,
            "display": null,
            "left": null
          }
        },
        "cf7abf10c4e74042a20f2ff276cfb394": {
          "model_module": "@jupyter-widgets/controls",
          "model_name": "DescriptionStyleModel",
          "state": {
            "_view_name": "StyleView",
            "_model_name": "DescriptionStyleModel",
            "description_width": "",
            "_view_module": "@jupyter-widgets/base",
            "_model_module_version": "1.5.0",
            "_view_count": null,
            "_view_module_version": "1.2.0",
            "_model_module": "@jupyter-widgets/controls"
          }
        },
        "339cb6cfb72146db9d45ad12ca582f9f": {
          "model_module": "@jupyter-widgets/base",
          "model_name": "LayoutModel",
          "state": {
            "_view_name": "LayoutView",
            "grid_template_rows": null,
            "right": null,
            "justify_content": null,
            "_view_module": "@jupyter-widgets/base",
            "overflow": null,
            "_model_module_version": "1.2.0",
            "_view_count": null,
            "flex_flow": null,
            "width": null,
            "min_width": null,
            "border": null,
            "align_items": null,
            "bottom": null,
            "_model_module": "@jupyter-widgets/base",
            "top": null,
            "grid_column": null,
            "overflow_y": null,
            "overflow_x": null,
            "grid_auto_flow": null,
            "grid_area": null,
            "grid_template_columns": null,
            "flex": null,
            "_model_name": "LayoutModel",
            "justify_items": null,
            "grid_row": null,
            "max_height": null,
            "align_content": null,
            "visibility": null,
            "align_self": null,
            "height": null,
            "min_height": null,
            "padding": null,
            "grid_auto_rows": null,
            "grid_gap": null,
            "max_width": null,
            "order": null,
            "_view_module_version": "1.2.0",
            "grid_template_areas": null,
            "object_position": null,
            "object_fit": null,
            "grid_auto_columns": null,
            "margin": null,
            "display": null,
            "left": null
          }
        }
      }
    }
  },
  "cells": [
    {
      "cell_type": "markdown",
      "metadata": {
        "id": "view-in-github",
        "colab_type": "text"
      },
      "source": [
        "<a href=\"https://colab.research.google.com/github/tiwarikaran/PyTorch/blob/main/PyTorch.ipynb\" target=\"_parent\"><img src=\"https://colab.research.google.com/assets/colab-badge.svg\" alt=\"Open In Colab\"/></a>"
      ]
    },
    {
      "cell_type": "code",
      "metadata": {
        "id": "ac0d7gGF0Pgb"
      },
      "source": [
        "from __future__ import print_function, division\r\n",
        "\r\n",
        "import torch\r\n",
        "import torch.nn as nn\r\n",
        "import torch.optim as optim\r\n",
        "from torch.optim import lr_scheduler\r\n",
        "import numpy as np\r\n",
        "import torchvision\r\n",
        "from torchvision import datasets, models, transforms\r\n",
        "import matplotlib.pyplot as plt\r\n",
        "import time\r\n",
        "import os\r\n",
        "import copy\r\n",
        "\r\n",
        "plt.ion() "
      ],
      "execution_count": null,
      "outputs": []
    },
    {
      "cell_type": "markdown",
      "metadata": {
        "id": "OxCQnMq37mxv"
      },
      "source": [
        "# Basic"
      ]
    },
    {
      "cell_type": "code",
      "metadata": {
        "colab": {
          "base_uri": "https://localhost:8080/"
        },
        "id": "bCfm_1pIS3J5",
        "outputId": "adf7d27f-a595-468e-e3e4-387c87f60a33"
      },
      "source": [
        "data_transform = transforms.Compose([\r\n",
        "        transforms.RandomResizedCrop(220),\r\n",
        "        transforms.RandomVerticalFlip(),\r\n",
        "        transforms.RandomHorizontalFlip(),\r\n",
        "        transforms.RandomPerspective(),\r\n",
        "        transforms.ToTensor(),\r\n",
        "        transforms.Normalize(mean=[0.485, 0.456, 0.406],\r\n",
        "                             std=[0.229, 0.224, 0.225])\r\n",
        "    ]);type(data_transform)"
      ],
      "execution_count": null,
      "outputs": [
        {
          "output_type": "execute_result",
          "data": {
            "text/plain": [
              "torchvision.transforms.transforms.Compose"
            ]
          },
          "metadata": {
            "tags": []
          },
          "execution_count": 6
        }
      ]
    },
    {
      "cell_type": "code",
      "metadata": {
        "id": "LpxfuS9nzbEm"
      },
      "source": [
        "train_dataset = datasets.ImageFolder(root='/content/drive/MyDrive/data/train',\r\n",
        "                                           transform=data_transform)"
      ],
      "execution_count": null,
      "outputs": []
    },
    {
      "cell_type": "code",
      "metadata": {
        "id": "5U0qiPc8zc3y"
      },
      "source": [
        "train_loader = torch.utils.data.DataLoader(train_dataset,\r\n",
        "                                             batch_size=4,\r\n",
        "                                             shuffle=True,\r\n",
        "                                             num_workers=8)"
      ],
      "execution_count": null,
      "outputs": []
    },
    {
      "cell_type": "code",
      "metadata": {
        "id": "D1UfEFdz1ezr"
      },
      "source": [
        "val_dataset = datasets.ImageFolder(root='/content/drive/MyDrive/data/valid',\r\n",
        "                                           transform=data_transform)"
      ],
      "execution_count": null,
      "outputs": []
    },
    {
      "cell_type": "code",
      "metadata": {
        "id": "FcXjc3Sw1ewv"
      },
      "source": [
        "val_loader = torch.utils.data.DataLoader(val_dataset,\r\n",
        "                                             batch_size=4,\r\n",
        "                                             shuffle=True,\r\n",
        "                                             num_workers=8)"
      ],
      "execution_count": null,
      "outputs": []
    },
    {
      "cell_type": "code",
      "metadata": {
        "colab": {
          "base_uri": "https://localhost:8080/"
        },
        "id": "4AzRR9r-TCyk",
        "outputId": "e16c3288-1739-47cc-e0ac-09db9d9e39d9"
      },
      "source": [
        "train_dataset"
      ],
      "execution_count": null,
      "outputs": [
        {
          "output_type": "execute_result",
          "data": {
            "text/plain": [
              "Dataset ImageFolder\n",
              "    Number of datapoints: 400\n",
              "    Root location: /content/drive/MyDrive/data/train\n",
              "    StandardTransform\n",
              "Transform: Compose(\n",
              "               RandomResizedCrop(size=(220, 220), scale=(0.08, 1.0), ratio=(0.75, 1.3333), interpolation=PIL.Image.BILINEAR)\n",
              "               RandomVerticalFlip(p=0.5)\n",
              "               RandomHorizontalFlip(p=0.5)\n",
              "               RandomPerspective(p=0.5)\n",
              "               ToTensor()\n",
              "               Normalize(mean=[0.485, 0.456, 0.406], std=[0.229, 0.224, 0.225])\n",
              "           )"
            ]
          },
          "metadata": {
            "tags": []
          },
          "execution_count": 16
        }
      ]
    },
    {
      "cell_type": "code",
      "metadata": {
        "id": "Q9SvC2Og1xqj",
        "colab": {
          "base_uri": "https://localhost:8080/"
        },
        "outputId": "d07c0332-e4fa-418b-efab-021e82b6b826"
      },
      "source": [
        "for images, labels in train_loader:\r\n",
        "    print(labels)\r\n",
        "    print(images.shape)\r\n",
        "    break"
      ],
      "execution_count": null,
      "outputs": [
        {
          "output_type": "stream",
          "text": [
            "tensor([1, 0, 1, 1])\n",
            "torch.Size([4, 3, 220, 220])\n"
          ],
          "name": "stdout"
        }
      ]
    },
    {
      "cell_type": "code",
      "metadata": {
        "id": "vY7ZaUE52YYv"
      },
      "source": [
        "model_ft = models.resnet18(pretrained=True)\r\n",
        "num_ftrs = model_ft.fc.in_features\r\n",
        "# Here the size of each output sample is can be set to 2.\r\n",
        "model_ft.fc = nn.Linear(num_ftrs, 2)\r\n",
        "\r\n",
        "model_ft = model_ft.to('cpu')\r\n",
        "\r\n",
        "criterion = nn.CrossEntropyLoss()\r\n",
        "\r\n",
        "# Observe that all parameters are being optimized\r\n",
        "optimizer_ft = optim.SGD(model_ft.parameters(), lr=0.001, momentum=0.9)\r\n",
        "\r\n",
        "# Decay LR by a factor of 0.1 every 7 epochs\r\n",
        "exp_lr_scheduler = lr_scheduler.StepLR(optimizer_ft, step_size=7, gamma=0.1)"
      ],
      "execution_count": null,
      "outputs": []
    },
    {
      "cell_type": "markdown",
      "metadata": {
        "id": "L7C0kfpU0Kmg"
      },
      "source": [
        "# Advance Stuff to incorporate Training as validation into Dict."
      ]
    },
    {
      "cell_type": "code",
      "metadata": {
        "id": "w8b3gJxyTMSY"
      },
      "source": [
        "data_transforms = {\r\n",
        "    'train': transforms.Compose([\r\n",
        "        transforms.RandomResizedCrop(256),\r\n",
        "        transforms.RandomHorizontalFlip(),\r\n",
        "        transforms.RandomVerticalFlip(),\r\n",
        "        transforms.ToTensor(),\r\n",
        "        transforms.Normalize([0.485, 0.456, 0.406], [0.229, 0.224, 0.225])\r\n",
        "    ]),\r\n",
        "    'valid': transforms.Compose([\r\n",
        "        transforms.Resize(256),\r\n",
        "        transforms.CenterCrop(128),\r\n",
        "        transforms.ToTensor(),\r\n",
        "        transforms.Normalize([0.485, 0.456, 0.406], [0.229, 0.224, 0.225])\r\n",
        "    ]),\r\n",
        "}"
      ],
      "execution_count": null,
      "outputs": []
    },
    {
      "cell_type": "code",
      "metadata": {
        "colab": {
          "base_uri": "https://localhost:8080/"
        },
        "id": "enuze7Pe0T0a",
        "outputId": "225eb108-09c3-43a8-d756-f2a0a27e1fee"
      },
      "source": [
        "type(data_transforms)"
      ],
      "execution_count": null,
      "outputs": [
        {
          "output_type": "execute_result",
          "data": {
            "text/plain": [
              "dict"
            ]
          },
          "metadata": {
            "tags": []
          },
          "execution_count": 3
        }
      ]
    },
    {
      "cell_type": "code",
      "metadata": {
        "id": "AOXY-ot60V4l"
      },
      "source": [
        "data_dir = '/content/drive/MyDrive/data'"
      ],
      "execution_count": null,
      "outputs": []
    },
    {
      "cell_type": "code",
      "metadata": {
        "id": "WMIAEpH60pl6"
      },
      "source": [
        "image_datasets = {x: datasets.ImageFolder(os.path.join(data_dir, x),\r\n",
        "                                          data_transforms[x])\r\n",
        "                  for x in ['train', 'valid']}\r\n",
        "dataloaders = {x: torch.utils.data.DataLoader(image_datasets[x], batch_size=8,\r\n",
        "                                             shuffle=True, num_workers=8)\r\n",
        "              for x in ['train', 'valid']}"
      ],
      "execution_count": null,
      "outputs": []
    },
    {
      "cell_type": "code",
      "metadata": {
        "colab": {
          "base_uri": "https://localhost:8080/"
        },
        "id": "TTXDYpozahXq",
        "outputId": "804b9d2a-9f8f-4e21-c33f-85161f252ae6"
      },
      "source": [
        "image_datasets['train'].class_to_idx "
      ],
      "execution_count": null,
      "outputs": [
        {
          "output_type": "execute_result",
          "data": {
            "text/plain": [
              "{'meme': 0, 'not_meme': 1}"
            ]
          },
          "metadata": {
            "tags": []
          },
          "execution_count": 6
        }
      ]
    },
    {
      "cell_type": "code",
      "metadata": {
        "colab": {
          "base_uri": "https://localhost:8080/"
        },
        "id": "Tbx_MVBQ0z_Z",
        "outputId": "53ec78e3-98bb-4120-986b-15390d51bb3d"
      },
      "source": [
        "image_datasets['train'],image_datasets['valid']"
      ],
      "execution_count": null,
      "outputs": [
        {
          "output_type": "execute_result",
          "data": {
            "text/plain": [
              "(Dataset ImageFolder\n",
              "     Number of datapoints: 400\n",
              "     Root location: /content/drive/MyDrive/data/train\n",
              "     StandardTransform\n",
              " Transform: Compose(\n",
              "                RandomResizedCrop(size=(128, 128), scale=(0.08, 1.0), ratio=(0.75, 1.3333), interpolation=PIL.Image.BILINEAR)\n",
              "                RandomHorizontalFlip(p=0.5)\n",
              "                RandomVerticalFlip(p=0.5)\n",
              "                ToTensor()\n",
              "                Normalize(mean=[0.485, 0.456, 0.406], std=[0.229, 0.224, 0.225])\n",
              "            ), Dataset ImageFolder\n",
              "     Number of datapoints: 180\n",
              "     Root location: /content/drive/MyDrive/data/valid\n",
              "     StandardTransform\n",
              " Transform: Compose(\n",
              "                Resize(size=128, interpolation=PIL.Image.BILINEAR)\n",
              "                CenterCrop(size=(128, 128))\n",
              "                ToTensor()\n",
              "                Normalize(mean=[0.485, 0.456, 0.406], std=[0.229, 0.224, 0.225])\n",
              "            ))"
            ]
          },
          "metadata": {
            "tags": []
          },
          "execution_count": 7
        }
      ]
    },
    {
      "cell_type": "code",
      "metadata": {
        "colab": {
          "base_uri": "https://localhost:8080/"
        },
        "id": "I-jyFm7Y0rxu",
        "outputId": "5b6d923b-45e0-4418-ebb6-3a88aa13e44e"
      },
      "source": [
        "dataset_sizes = {x: len(image_datasets[x]) for x in ['train', 'valid']}\r\n",
        "print(dataset_sizes)\r\n",
        "print('----------------------------')\r\n",
        "class_names = image_datasets['train'].classes\r\n",
        "print(class_names)\r\n",
        "print('----------------------------')\r\n",
        "device = torch.device(\"cuda:0\" if torch.cuda.is_available() else \"cpu\")\r\n",
        "print(device)"
      ],
      "execution_count": null,
      "outputs": [
        {
          "output_type": "stream",
          "text": [
            "{'train': 400, 'valid': 180}\n",
            "----------------------------\n",
            "['meme', 'not_meme']\n",
            "----------------------------\n",
            "cuda:0\n"
          ],
          "name": "stdout"
        }
      ]
    },
    {
      "cell_type": "code",
      "metadata": {
        "colab": {
          "base_uri": "https://localhost:8080/"
        },
        "id": "NznYCy4j8RKN",
        "outputId": "be4d80b7-7acf-43f1-a4b8-381d7240e1e4"
      },
      "source": [
        "torch.cuda.is_available()"
      ],
      "execution_count": null,
      "outputs": [
        {
          "output_type": "execute_result",
          "data": {
            "text/plain": [
              "True"
            ]
          },
          "metadata": {
            "tags": []
          },
          "execution_count": 34
        }
      ]
    },
    {
      "cell_type": "code",
      "metadata": {
        "colab": {
          "base_uri": "https://localhost:8080/"
        },
        "id": "MqLe96qK2EMi",
        "outputId": "13488684-84d3-419b-8c46-f7bf6842baa4"
      },
      "source": [
        "print(torch.cuda.get_device_name(0))"
      ],
      "execution_count": null,
      "outputs": [
        {
          "output_type": "stream",
          "text": [
            "Tesla P100-PCIE-16GB\n"
          ],
          "name": "stdout"
        }
      ]
    },
    {
      "cell_type": "code",
      "metadata": {
        "colab": {
          "base_uri": "https://localhost:8080/"
        },
        "id": "cllIV5sw2Y-w",
        "outputId": "e6e54c2d-6098-4d93-e83f-9fea88295323"
      },
      "source": [
        "!nvidia-smi"
      ],
      "execution_count": null,
      "outputs": [
        {
          "output_type": "stream",
          "text": [
            "Wed Jan  6 18:24:23 2021       \n",
            "+-----------------------------------------------------------------------------+\n",
            "| NVIDIA-SMI 460.27.04    Driver Version: 418.67       CUDA Version: 10.1     |\n",
            "|-------------------------------+----------------------+----------------------+\n",
            "| GPU  Name        Persistence-M| Bus-Id        Disp.A | Volatile Uncorr. ECC |\n",
            "| Fan  Temp  Perf  Pwr:Usage/Cap|         Memory-Usage | GPU-Util  Compute M. |\n",
            "|                               |                      |               MIG M. |\n",
            "|===============================+======================+======================|\n",
            "|   0  Tesla P100-PCIE...  Off  | 00000000:00:04.0 Off |                    0 |\n",
            "| N/A   33C    P0    26W / 250W |     10MiB / 16280MiB |      0%      Default |\n",
            "|                               |                      |                 ERR! |\n",
            "+-------------------------------+----------------------+----------------------+\n",
            "                                                                               \n",
            "+-----------------------------------------------------------------------------+\n",
            "| Processes:                                                                  |\n",
            "|  GPU   GI   CI        PID   Type   Process name                  GPU Memory |\n",
            "|        ID   ID                                                   Usage      |\n",
            "|=============================================================================|\n",
            "|  No running processes found                                                 |\n",
            "+-----------------------------------------------------------------------------+\n"
          ],
          "name": "stdout"
        }
      ]
    },
    {
      "cell_type": "code",
      "metadata": {
        "colab": {
          "base_uri": "https://localhost:8080/"
        },
        "id": "PJEVnLTi8NOy",
        "outputId": "c8c37416-cff4-4a2b-885b-67ea20ab4ddd"
      },
      "source": [
        " ! nvcc --version "
      ],
      "execution_count": null,
      "outputs": [
        {
          "output_type": "stream",
          "text": [
            "nvcc: NVIDIA (R) Cuda compiler driver\n",
            "Copyright (c) 2005-2019 NVIDIA Corporation\n",
            "Built on Sun_Jul_28_19:07:16_PDT_2019\n",
            "Cuda compilation tools, release 10.1, V10.1.243\n"
          ],
          "name": "stdout"
        }
      ]
    },
    {
      "cell_type": "code",
      "metadata": {
        "id": "K4cW3Rej-SA4"
      },
      "source": [
        "def imshow(inp, title=None):\r\n",
        "    \"\"\"Imshow for Tensor.\"\"\"\r\n",
        "    inp = inp.numpy().transpose((1, 2, 0))\r\n",
        "    mean = np.array([0.485, 0.456, 0.406])\r\n",
        "    std = np.array([0.229, 0.224, 0.225])\r\n",
        "    inp = std * inp + mean\r\n",
        "    inp = np.clip(inp, 0, 1)\r\n",
        "    plt.imshow(inp)\r\n",
        "    if title is not None:\r\n",
        "        plt.title(title)\r\n",
        "    plt.pause(0.001)  # pause a bit so that plots are updated"
      ],
      "execution_count": null,
      "outputs": []
    },
    {
      "cell_type": "code",
      "metadata": {
        "id": "AjqWR_QF-RxJ"
      },
      "source": [
        "inputs, classes = next(iter(dataloaders['train']))"
      ],
      "execution_count": null,
      "outputs": []
    },
    {
      "cell_type": "code",
      "metadata": {
        "colab": {
          "base_uri": "https://localhost:8080/"
        },
        "id": "J4KQzlst-RgV",
        "outputId": "e56b54a0-e1bc-452e-b599-b5dc065ce7e5"
      },
      "source": [
        "inputs.shape,classes.shape"
      ],
      "execution_count": null,
      "outputs": [
        {
          "output_type": "execute_result",
          "data": {
            "text/plain": [
              "(torch.Size([8, 3, 256, 256]), torch.Size([8]))"
            ]
          },
          "metadata": {
            "tags": []
          },
          "execution_count": 81
        }
      ]
    },
    {
      "cell_type": "code",
      "metadata": {
        "colab": {
          "base_uri": "https://localhost:8080/"
        },
        "id": "RycniVM3-ReH",
        "outputId": "89417b68-4684-4186-870d-ae5820426d7f"
      },
      "source": [
        "out = torchvision.utils.make_grid(inputs);out.shape"
      ],
      "execution_count": null,
      "outputs": [
        {
          "output_type": "execute_result",
          "data": {
            "text/plain": [
              "torch.Size([3, 260, 2066])"
            ]
          },
          "metadata": {
            "tags": []
          },
          "execution_count": 82
        }
      ]
    },
    {
      "cell_type": "code",
      "metadata": {
        "colab": {
          "base_uri": "https://localhost:8080/",
          "height": 106
        },
        "id": "8RlY3RlP-RYj",
        "outputId": "debcb402-0e5c-4d4f-b085-d9f685ca4d73"
      },
      "source": [
        "imshow(out,[class_names[x] for x in classes])"
      ],
      "execution_count": null,
      "outputs": [
        {
          "output_type": "display_data",
          "data": {
            "image/png": "[encoded data removed]",
            "text/plain": [
              "<Figure size 432x288 with 1 Axes>"
            ]
          },
          "metadata": {
            "tags": [],
            "needs_background": "light"
          }
        }
      ]
    },
    {
      "cell_type": "markdown",
      "metadata": {
        "id": "l-T4VE-YEyb1"
      },
      "source": [
        "Define Train Model"
      ]
    },
    {
      "cell_type": "code",
      "metadata": {
        "id": "r46SX_NNO_xO"
      },
      "source": [
        "def train_model(model, criterion, optimizer, scheduler, num_epochs=25):\r\n",
        "    since = time.time()\r\n",
        "\r\n",
        "    best_model_wts = copy.deepcopy(model.state_dict())\r\n",
        "    best_acc = 0.0\r\n",
        "\r\n",
        "    for epoch in range(num_epochs):\r\n",
        "        print('Epoch {}/{}'.format(epoch +1, num_epochs))\r\n",
        "        print('-' * 10)\r\n",
        "\r\n",
        "        # Each epoch has a training and validation phase\r\n",
        "        for phase in ['train', 'valid']:\r\n",
        "            if phase == 'train':\r\n",
        "                model.train()  # Set model to training mode\r\n",
        "            else:\r\n",
        "                model.eval()   # Set model to evaluate mode\r\n",
        "\r\n",
        "            running_loss = 0.0\r\n",
        "            running_corrects = 0\r\n",
        "\r\n",
        "            # Iterate over data.\r\n",
        "            for inputs, labels in dataloaders[phase]:\r\n",
        "                inputs = inputs.to(device)\r\n",
        "                labels = labels.to(device)\r\n",
        "\r\n",
        "                # zero the parameter gradients\r\n",
        "                optimizer.zero_grad()\r\n",
        "\r\n",
        "                # forward\r\n",
        "                # track history if only in train\r\n",
        "                with torch.set_grad_enabled(phase == 'train'):\r\n",
        "                    outputs = model(inputs)\r\n",
        "                    _, preds = torch.max(outputs, 1)\r\n",
        "                    loss = criterion(outputs, labels)\r\n",
        "\r\n",
        "                    # backward + optimize only if in training phase\r\n",
        "                    if phase == 'train':\r\n",
        "                        loss.backward()\r\n",
        "                        optimizer.step()\r\n",
        "\r\n",
        "                # statistics\r\n",
        "                running_loss += loss.item() * inputs.size(0)\r\n",
        "                running_corrects += torch.sum(preds == labels.data)\r\n",
        "            if phase == 'train':\r\n",
        "                scheduler.step()\r\n",
        "\r\n",
        "            epoch_loss = running_loss / dataset_sizes[phase]\r\n",
        "            epoch_acc = running_corrects.double() / dataset_sizes[phase]\r\n",
        "\r\n",
        "            print('{} Loss: {:.4f} Acc: {:.4f}'.format(\r\n",
        "                phase, epoch_loss, epoch_acc))\r\n",
        "\r\n",
        "            # deep copy the model\r\n",
        "            if phase == 'valid' and epoch_acc > best_acc:\r\n",
        "                best_acc = epoch_acc\r\n",
        "                best_model_wts = copy.deepcopy(model.state_dict())\r\n",
        "\r\n",
        "        print()\r\n",
        "\r\n",
        "    time_elapsed = time.time() - since\r\n",
        "    print('Training complete in {:.0f}m {:.0f}s'.format(\r\n",
        "        time_elapsed // 60, time_elapsed % 60))\r\n",
        "    print('Best val Acc: {:4f}'.format(best_acc))\r\n",
        "\r\n",
        "    # load best model weights\r\n",
        "    model.load_state_dict(best_model_wts)\r\n",
        "    return model"
      ],
      "execution_count": null,
      "outputs": []
    },
    {
      "cell_type": "code",
      "metadata": {
        "id": "TNB4J23o5We6"
      },
      "source": [
        "def visualize_model(model, num_images=10):\r\n",
        "    was_training = model.training\r\n",
        "    model.eval()\r\n",
        "    images_so_far = 0\r\n",
        "    fig = plt.figure()\r\n",
        "\r\n",
        "    with torch.no_grad():\r\n",
        "        for i, (inputs, labels) in enumerate(dataloaders['valid']):\r\n",
        "            inputs = inputs.to(device)\r\n",
        "            labels = labels.to(device)\r\n",
        "\r\n",
        "            outputs = model(inputs)\r\n",
        "            _, preds = torch.max(outputs, 1)\r\n",
        "\r\n",
        "            for j in range(inputs.size()[0]):\r\n",
        "                images_so_far += 1\r\n",
        "                ax = plt.subplot(num_images//2, 2, images_so_far)\r\n",
        "                ax.axis('off')\r\n",
        "                ax.set_title('predicted: {}'.format(class_names[preds[j]]))\r\n",
        "                imshow(inputs.cpu().data[j])\r\n",
        "\r\n",
        "                if images_so_far == num_images:\r\n",
        "                    model.train(mode=was_training)\r\n",
        "                    return\r\n",
        "        model.train(mode=was_training)"
      ],
      "execution_count": null,
      "outputs": []
    },
    {
      "cell_type": "code",
      "metadata": {
        "id": "4oJB1ZnO-RP9",
        "colab": {
          "base_uri": "https://localhost:8080/"
        },
        "outputId": "987e97a2-03fc-47eb-8adf-182fc13acbee"
      },
      "source": [
        "for i,l in dataloaders['valid']:\r\n",
        "  print(i[0],l[0])\r\n",
        "  print(i[0].shape)\r\n",
        "  break"
      ],
      "execution_count": null,
      "outputs": [
        {
          "output_type": "stream",
          "text": [
            "tensor([[[-1.4500, -1.2959, -1.0048,  ..., -1.0219, -1.0562, -1.0904],\n",
            "         [-1.3987, -1.2788, -1.0733,  ..., -0.9363, -0.9877, -1.0048],\n",
            "         [-1.3644, -1.2788, -1.1589,  ..., -0.9363, -0.9705, -0.9877],\n",
            "         ...,\n",
            "         [-0.0629, -0.1143, -0.1486,  ...,  0.1426,  0.3652,  0.8618],\n",
            "         [-0.0801, -0.1486, -0.0972,  ...,  0.1426,  0.5707,  0.9132],\n",
            "         [-0.1486, -0.1828, -0.1314,  ...,  0.1939,  0.5193,  0.8447]],\n",
            "\n",
            "        [[-1.7731, -1.6155, -1.3179,  ..., -0.9678, -0.9853, -1.0028],\n",
            "         [-1.7206, -1.5980, -1.3880,  ..., -0.9153, -0.9328, -0.9503],\n",
            "         [-1.6681, -1.5980, -1.4755,  ..., -0.9153, -0.9328, -0.9503],\n",
            "         ...,\n",
            "         [-0.1800, -0.2500, -0.2850,  ..., -1.0903, -0.8452, -0.3375],\n",
            "         [-0.2150, -0.2850, -0.2325,  ..., -1.1253, -0.6702, -0.3200],\n",
            "         [-0.2675, -0.3200, -0.2675,  ..., -1.1078, -0.7577, -0.4426]],\n",
            "\n",
            "        [[-1.6824, -1.5256, -1.2467,  ..., -1.1247, -1.2293, -1.3687],\n",
            "         [-1.6476, -1.5081, -1.3164,  ..., -1.0376, -1.1944, -1.3164],\n",
            "         [-1.6302, -1.5256, -1.4036,  ..., -1.0376, -1.1770, -1.3164],\n",
            "         ...,\n",
            "         [ 0.7576,  0.7054,  0.6879,  ...,  0.0256,  0.2348,  0.7576],\n",
            "         [ 0.7054,  0.6705,  0.7228,  ..., -0.1312,  0.2522,  0.6531],\n",
            "         [ 0.6705,  0.6531,  0.7054,  ..., -0.2010,  0.0605,  0.4614]]]) tensor(0)\n",
            "torch.Size([3, 128, 128])\n"
          ],
          "name": "stdout"
        }
      ]
    },
    {
      "cell_type": "code",
      "metadata": {
        "id": "cAFEwchE4mNG"
      },
      "source": [
        ""
      ],
      "execution_count": null,
      "outputs": []
    },
    {
      "cell_type": "code",
      "metadata": {
        "id": "TaWj8KnOLnPJ"
      },
      "source": [
        "model_ft = models.resnet18(pretrained=True)\r\n",
        "num_ftrs = model_ft.fc.in_features\r\n",
        "# Here the size of each output sample is can be set to 2.\r\n",
        "model_ft.fc = nn.Linear(num_ftrs, len(class_names))\r\n",
        "\r\n",
        "model_ft = model_ft.to(device)\r\n",
        "\r\n",
        "criterion = nn.CrossEntropyLoss()\r\n",
        "\r\n",
        "# Observe that all parameters are being optimized\r\n",
        "optimizer_ft = optim.SGD(model_ft.parameters(), lr=0.001, momentum=0.9)\r\n",
        "\r\n",
        "# Decay LR by a factor of 0.1 every 7 epochs\r\n",
        "exp_lr_scheduler = lr_scheduler.StepLR(optimizer_ft, step_size=1, gamma=0.1)"
      ],
      "execution_count": null,
      "outputs": []
    },
    {
      "cell_type": "code",
      "metadata": {
        "colab": {
          "base_uri": "https://localhost:8080/"
        },
        "id": "95wThqi3O6Wt",
        "outputId": "800f4757-a9ef-42b3-dabc-f5872321c43d"
      },
      "source": [
        "model_ft = train_model(model_ft, criterion, optimizer_ft, exp_lr_scheduler,num_epochs=5)"
      ],
      "execution_count": null,
      "outputs": [
        {
          "output_type": "stream",
          "text": [
            "Epoch 1/5\n",
            "----------\n",
            "train Loss: 0.3479 Acc: 0.8425\n",
            "valid Loss: 0.6621 Acc: 0.7167\n",
            "\n",
            "Epoch 2/5\n",
            "----------\n",
            "train Loss: 0.1910 Acc: 0.9100\n",
            "valid Loss: 0.3348 Acc: 0.8611\n",
            "\n",
            "Epoch 3/5\n",
            "----------\n",
            "train Loss: 0.1369 Acc: 0.9475\n",
            "valid Loss: 0.3521 Acc: 0.8556\n",
            "\n",
            "Epoch 4/5\n",
            "----------\n",
            "train Loss: 0.1593 Acc: 0.9575\n",
            "valid Loss: 0.3445 Acc: 0.8556\n",
            "\n",
            "Epoch 5/5\n",
            "----------\n",
            "train Loss: 0.1554 Acc: 0.9475\n",
            "valid Loss: 0.3320 Acc: 0.8611\n",
            "\n",
            "Training complete in 7m 36s\n",
            "Best val Acc: 0.861111\n"
          ],
          "name": "stdout"
        }
      ]
    },
    {
      "cell_type": "code",
      "metadata": {
        "colab": {
          "base_uri": "https://localhost:8080/",
          "height": 687
        },
        "id": "hgWfoDQv5VxF",
        "outputId": "b1f07273-64df-40a4-91d2-ca15ccdf2d10"
      },
      "source": [
        "visualize_model(model_ft)"
      ],
      "execution_count": null,
      "outputs": [
        {
          "output_type": "display_data",
          "data": {
            "image/png": "[encoded data removed]",
            "text/plain": [
              "<Figure size 432x288 with 1 Axes>"
            ]
          },
          "metadata": {
            "tags": [],
            "needs_background": "light"
          }
        },
        {
          "output_type": "display_data",
          "data": {
            "image/png": "[encoded data removed]",
            "text/plain": [
              "<Figure size 432x288 with 1 Axes>"
            ]
          },
          "metadata": {
            "tags": [],
            "needs_background": "light"
          }
        },
        {
          "output_type": "display_data",
          "data": {
            "image/png": "[encoded data removed]",
            "text/plain": [
              "<Figure size 432x288 with 1 Axes>"
            ]
          },
          "metadata": {
            "tags": [],
            "needs_background": "light"
          }
        },
        {
          "output_type": "display_data",
          "data": {
            "image/png": "[encoded data removed]",
            "text/plain": [
              "<Figure size 432x288 with 1 Axes>"
            ]
          },
          "metadata": {
            "tags": [],
            "needs_background": "light"
          }
        },
        {
          "output_type": "display_data",
          "data": {
            "image/png": "[encoded data removed]",
            "text/plain": [
              "<Figure size 432x288 with 1 Axes>"
            ]
          },
          "metadata": {
            "tags": [],
            "needs_background": "light"
          }
        },
        {
          "output_type": "display_data",
          "data": {
            "image/png": "[encoded data removed]",
            "text/plain": [
              "<Figure size 432x288 with 1 Axes>"
            ]
          },
          "metadata": {
            "tags": [],
            "needs_background": "light"
          }
        },
        {
          "output_type": "display_data",
          "data": {
            "image/png": "[encoded data removed]",
            "text/plain": [
              "<Figure size 432x288 with 1 Axes>"
            ]
          },
          "metadata": {
            "tags": [],
            "needs_background": "light"
          }
        },
        {
          "output_type": "display_data",
          "data": {
            "image/png": "[encoded data removed]",
            "text/plain": [
              "<Figure size 432x288 with 1 Axes>"
            ]
          },
          "metadata": {
            "tags": [],
            "needs_background": "light"
          }
        },
        {
          "output_type": "display_data",
          "data": {
            "image/png": "[encoded data removed]",
            "text/plain": [
              "<Figure size 432x288 with 1 Axes>"
            ]
          },
          "metadata": {
            "tags": [],
            "needs_background": "light"
          }
        },
        {
          "output_type": "display_data",
          "data": {
            "image/png": "[encoded data removed]",
            "text/plain": [
              "<Figure size 432x288 with 1 Axes>"
            ]
          },
          "metadata": {
            "tags": [],
            "needs_background": "light"
          }
        }
      ]
    },
    {
      "cell_type": "code",
      "metadata": {
        "id": "Alp8aiVT5W1p"
      },
      "source": [
        "model_conv = torchvision.models.resnet18(pretrained=True)\r\n",
        "for param in model_conv.parameters():\r\n",
        "    param.requires_grad = False\r\n",
        "\r\n",
        "# Parameters of newly constructed modules have requires_grad=True by default\r\n",
        "num_ftrs = model_conv.fc.in_features\r\n",
        "model_conv.fc = nn.Linear(num_ftrs, 2)\r\n",
        "\r\n",
        "model_conv = model_conv.to(device)\r\n",
        "\r\n",
        "criterion = nn.CrossEntropyLoss()\r\n",
        "\r\n",
        "# Observe that only parameters of final layer are being optimized as\r\n",
        "# opposed to before.\r\n",
        "optimizer_conv = optim.SGD(model_conv.fc.parameters(), lr=0.01, momentum=0.9)\r\n",
        "\r\n",
        "# Decay LR by a factor of 0.1 every 7 epochs\r\n",
        "exp_lr_scheduler = lr_scheduler.StepLR(optimizer_conv, step_size=1, gamma=0.1)"
      ],
      "execution_count": null,
      "outputs": []
    },
    {
      "cell_type": "code",
      "metadata": {
        "colab": {
          "base_uri": "https://localhost:8080/"
        },
        "id": "_hMZ2_fp5Xg8",
        "outputId": "413c1083-816d-4c39-d357-f8e553c1d714"
      },
      "source": [
        "model_conv = train_model(model_conv, criterion, optimizer_conv,exp_lr_scheduler, num_epochs=5)"
      ],
      "execution_count": null,
      "outputs": [
        {
          "output_type": "stream",
          "text": [
            "Epoch 1/5\n",
            "----------\n",
            "train Loss: 0.8784 Acc: 0.7450\n",
            "valid Loss: 1.5550 Acc: 0.7278\n",
            "\n",
            "Epoch 2/5\n",
            "----------\n",
            "train Loss: 0.2842 Acc: 0.9275\n",
            "valid Loss: 1.0525 Acc: 0.8500\n",
            "\n",
            "Epoch 3/5\n",
            "----------\n",
            "train Loss: 0.2102 Acc: 0.9350\n",
            "valid Loss: 1.1813 Acc: 0.8167\n",
            "\n",
            "Epoch 4/5\n",
            "----------\n",
            "train Loss: 0.2652 Acc: 0.9200\n",
            "valid Loss: 1.0183 Acc: 0.8611\n",
            "\n",
            "Epoch 5/5\n",
            "----------\n",
            "train Loss: 0.2034 Acc: 0.9275\n",
            "valid Loss: 1.1179 Acc: 0.8222\n",
            "\n",
            "Training complete in 7m 34s\n",
            "Best val Acc: 0.861111\n"
          ],
          "name": "stdout"
        }
      ]
    },
    {
      "cell_type": "code",
      "metadata": {
        "id": "cohzRjIcJJF0",
        "colab": {
          "base_uri": "https://localhost:8080/",
          "height": 687
        },
        "outputId": "cccbb4fa-b757-46fc-ddde-24c3519a8ee5"
      },
      "source": [
        "visualize_model(model_conv)"
      ],
      "execution_count": null,
      "outputs": [
        {
          "output_type": "display_data",
          "data": {
            "image/png": "[encoded data removed]",
            "text/plain": [
              "<Figure size 432x288 with 1 Axes>"
            ]
          },
          "metadata": {
            "tags": [],
            "needs_background": "light"
          }
        },
        {
          "output_type": "display_data",
          "data": {
            "image/png": "[encoded data removed]",
            "text/plain": [
              "<Figure size 432x288 with 1 Axes>"
            ]
          },
          "metadata": {
            "tags": [],
            "needs_background": "light"
          }
        },
        {
          "output_type": "display_data",
          "data": {
            "image/png": "[encoded data removed]",
            "text/plain": [
              "<Figure size 432x288 with 1 Axes>"
            ]
          },
          "metadata": {
            "tags": [],
            "needs_background": "light"
          }
        },
        {
          "output_type": "display_data",
          "data": {
            "image/png": "[encoded data removed]",
            "text/plain": [
              "<Figure size 432x288 with 1 Axes>"
            ]
          },
          "metadata": {
            "tags": [],
            "needs_background": "light"
          }
        },
        {
          "output_type": "display_data",
          "data": {
            "image/png": "[encoded data removed]",
            "text/plain": [
              "<Figure size 432x288 with 1 Axes>"
            ]
          },
          "metadata": {
            "tags": [],
            "needs_background": "light"
          }
        },
        {
          "output_type": "display_data",
          "data": {
            "image/png": "[encoded data removed]",
            "text/plain": [
              "<Figure size 432x288 with 1 Axes>"
            ]
          },
          "metadata": {
            "tags": [],
            "needs_background": "light"
          }
        },
        {
          "output_type": "display_data",
          "data": {
            "image/png": "[encoded data removed]",
            "text/plain": [
              "<Figure size 432x288 with 1 Axes>"
            ]
          },
          "metadata": {
            "tags": [],
            "needs_background": "light"
          }
        },
        {
          "output_type": "display_data",
          "data": {
            "image/png": "[encoded data removed]",
            "text/plain": [
              "<Figure size 432x288 with 1 Axes>"
            ]
          },
          "metadata": {
            "tags": [],
            "needs_background": "light"
          }
        },
        {
          "output_type": "display_data",
          "data": {
            "image/png": "[encoded data removed]",
            "text/plain": [
              "<Figure size 432x288 with 1 Axes>"
            ]
          },
          "metadata": {
            "tags": [],
            "needs_background": "light"
          }
        },
        {
          "output_type": "display_data",
          "data": {
            "image/png": "[encoded data removed]",
            "text/plain": [
              "<Figure size 432x288 with 1 Axes>"
            ]
          },
          "metadata": {
            "tags": [],
            "needs_background": "light"
          }
        }
      ]
    },
    {
      "cell_type": "markdown",
      "metadata": {
        "id": "S93NjPmFEhCP"
      },
      "source": [
        "![image.png](data:image/png;base64,iVBORw0KGgoAAAANSUhEUgAAAbEAAADsCAYAAAD6t5gsAAAgAElEQVR4Abx9B5hdR5HuSJqcc053cr53cs45j6RRGs1IoxxGkmWMbTCwhGXfYtISlt2FfaTFPIxxJC3LGmNwwgnnJOds2XLA4CTZrvf/dW7duRokSzx73/3mnzqxzzl9uuvvqq7uE/DS889KVlqyRIaskPioMIkMXCYxIYESF7xcEsOCVMYGLZN4bCcSg4MUccGBEhu0QmKCcbwfYkOWC8Hz9Tyka8uU8VhPCA1UyfW4EFyDCMVxXsSHYb8Xi8cGIL0ApLUEoctwHu4tDGkDCeFIH+C22BAc690fG4b7DA2QaGwjopBOJNKLWBEg4csDJGyZg9Dly4UIWbZMggMCJAigDPUiDJKIACJxThTOteWYwACJCVyu22OXO3kVg+MSVuB+cFxhcoK4szIUVZmpUpOfLZXZKVKZmyrVBZlS5UqT7IQoSY4I0meJ4bPinhPC8XyUYQGSGRso2fHBkh4dIKmRAI5NDsU7CcExeB5DAs7lNkpnOUCSkEYinp3gMsE8tXy1ZZW8No6LhSS4bPeQiPshkiKWSzLKCpGCd0dYuryGXZfLyT7wnOWSFIxjgURcPwnlJykU24DF+10myWE4Bmkn4jj/srNYJlBG8Ywp4YGaD5TJeM8Er8m84HVTUAZScb9ECvKQSMOzExko4+koj2kol1zOjgyVHNSDrEhsR3nKjAqWopRYqS3KluribCl3pUhZXoqU5qdIdXmOVJZmS1lRhhQXpkppcbqUlaRBpkpFUbJUFadIRW68VOUmSH5ciBTEh0pJUrRUpidIU3GOVOehLORlSnVRLt5/ttQUZEh5erzkRgdKQfQKKYyBxDvOjwiQvHDKZZIfiW1RQZDBkhsRLFl495mhIT5khQdLdkSIZCEviBwcR+RGhYgrOlTyYsIUruhw3ZaD58yJWqHIjlyO518uWbiOgfuzI1DmUKeIHCznYhvB81Jwb2lRAZIVsxz3DSDv85DnxeHLpTImREqRx0V4Dwou433mA3nQI5Ql3Id6U4BzXCg/6VhPQ3nLQFnIwLY01M9cnFeMaxRG4flxb7yPTJQNvp8snJOGczLwjnmenZuM81KQLpGIepoKpGNbOiXqYiZkBupmBpe5HTIR68k8FrotDTopAeeyTLIsGVgPorE9CudQRkJGeWUE0gjH+ZTRuCfThabLuG66MhbXoN5LCAtRyfUY6FPqVdOt1K/UoSz7rAOGhKDFddZ/5x6d+sJ11gOrj6nII4J5lYY8ykDesWxn4j3qPtYJ1g3sZz1hPXDAehGMOhHiRZCvrrC+8FinriFvUDaXwuqhv85hHpp+YL3kcmp4CPRdCLiGvODUZ9ZpQ0pYsD438yIpPBR5FQw9FCIpUZFSV1EmL7/wvAT85ZUXUQnzJS8rTTzlxVKF5ZrSAqkpzpe60kJpqixVtFSUSmtlmbRVVSqaqyqkuapM2muqpLWmUtFWWyU+VOM4oNVTcRy4jecQXO6oq3FQ75EOP3Q2VAvR3VDjhUd6GqsVvU01Qti6ye6mat1O2d3gwfluXLtMmj2l0lBZJNVleVJVmC2leelSDPIoyEqS7JQ4yUiIlZSYKEmMDAd5hEtUSIiEBwYqmUUEBUk0ClYsXmhiZJikxUZIdlKsFKQlSFFGkqIwPVGKM5OlLCcNyJCSdCi5DCiy7Awpg3TnZklvnVs+c9YB+eUF35Nb//s/5e5rrpSHbr5W7rruSrnxyp/Jb3/6Y/nBv3xZPrxrs4z1NEtrdYl4oDTdhZlSUwIFB9SVZUtHTZH0NJRId30xgHdSVSTNFUXSiGerg2KsKcxSQiQpGrithumcAJ78DKmC8uSxvJZJHuspykSazrUbSnOloSIP18qXZnehtHuKFZ3I205PuXRVl0l3Tbn01JVLN9BTV6r319dQLn0NldLfWKUYaPSIgxrIGhnEuxpqrpGR1joZaq3V5cGWGhluqZXhtjoZaW+EbHBkR5NMdLfKeE+bTPW2yyTkyr4OmR7slLWDPbJ6oENW97VjW6us7GmVye4mmexqlink5+qeFlmF7Wv62oAWlWv722X9YJdsGOqWmaE+mR3tk7nRQdk0PqCYG+uXs7fPybe++Pdy85W/kEO3Xiv33XqN3H/7dYpDd/9BHrznRrn3zuvlnjuuk3vuwv57rpf77r5GHrjrGjkE3HXDf8lVl35fvvrJs+ST+7fI+efulx9+/XyUgSvk0I2/k/tu+r3i3huvltt//59y2be/Lp9cmJe904OyY7xb9qzqU+xbOSB7VxFDsrB6WBZWjcrC9Jjsnh6XnavHZBdAyfVda0axPiI7p4dk22SfbJnsVbl1qk+2T/XLtpWDsnWiX+Yn+mTzaJdsGuvyyU0jneKPLeM94gDpYHn7OM5HmpRMd/Nkl8xNdcn8VC/SxHXG+mTHSK/sGumRBRyzfaBNdg60yu6hdtk7xm3Ovu2D3bJtoEv2DLbLjt5mme9pko14V9N432u6W2RmoF02DrbJ5sFW2TrULNsGm2VLf6PM9TTK2q56mcaxa/GOxxuqZMBTKP3uAukoy5F2lNMulNFWlNu2khyVjWgk1mXGS7MrSTrR2Gh1JUp9WoTUJIdLXVq01KSgYZEYJWVoQFYmxYknI1mqs1FvoSM8eWnidqWiIZIEmSyVSKM0E3U/LVYKU2MlJzFawcYnl3OTYlQ3mD6ocKGhggaKNlSK0FgpypPqEuhY6FdPMZaLC1HPChRcristlvqyEmkoL1XpKXTpObWFeWjkuHA/OYrq/Fxdb60qkTY36mBNhQw012r9WI183TDSL3MTwzKDMr0R5ZhleSPei5Zx7/rsaK/MjPXKBoDH6bHD/TI7MqBgXZgdGfKt23amwbQ2jPbI2uEuxZqhTiGmB1kfnTq5ZqBT6+OqXtRTvKspvFdKrhtYf1mXHaDeYt3ZR9mB49tlVX8n6m63rMX9rB0dltVDA9DzDTLU1SF/evGIBLz8/DNSkp8jxTmZ0lxdJY1VpdJSXeEQFzKnqbxQWiqLoSydzGqrKgeJOWhxl0tHrRsgMVWo5LKtt1WXS2ddlXTVu5VUSCwGIx5/4mqHomd6nXUePYfn+Z9P4uoH+LIoicGWOl3nNttP2QfC47V4DCXvqQWKtgHP4ynOlar8LClzpUt+epLkJIPI4mIkOTpCEiLClLCig4LRygqEpbZMImFVRQeiJYSWQGZcFAppkpSjkNOCKs9OVtCKckgDxJMLYshJF48LpJCLxkFOqgxBef/bP35K7rv2N/LiobvkpYfulFcfv09ef/pBee7QbfLwbdfKry+5QD6ysFV6ofSrUHEK0llRYrTSsOKUZsVpRaopgBWQnyy1qJCsXJU5ySBM3FNWopThOH9UZCdgf6IPXPdHeVa8lOc4x1Tkeo9DRWW6VXmozLiOp8C5Vl1JujSWopxUQjlU5qIcuIB86awqkC53oXR7QLA1kLVF0gtQ9tUVS39dmQzUl8tgQwXywS3DTR6gWuVIs1vGWqtlor1WxjpqZRzENdpeh/V6Ge9swLZ6H8a7GrUSkKzWgnyI6X4so/KQiChJTNNQmtO9rSCuJlnZ1SSruhtlGsvTUJZrQWDr+puBVlkPBbse588gnbmRPtmEyrlptF82o5IrJgbkwNwa+cE3Pi9P3H2zvHb4YfnLcw/J60ceU/z5hUfktZcflz+99Ki88uIjKl99+TF59eVH5M8vPiyvHXlQ/vTU3XLfDb+SH3z17+VrnzxTfvBPn5VrLrtAnr/3Znn9qfvljcOPyF+eeVBef+5BefWJu+Say/9D/uGMLbJ/7YCcsaZPzlw3IGdtGJKzZ4blw8BZG0YUZ2+ckLM3TclZc5NycG5MzpwdlQOzQ3Jw4xAkzp3pl30zfbKwFkS4rvs4uXttj+yZ7pYdqztlL66xa7oX6yAXr+QywX07V3bJrlXdsmtlr+xe3SN7V/frPpIrt+2aHpAdWCY57poakj1To7J7EhIkuQCy2w2C3DPWJgsTbXLGqi45uLpbzpjqkIWxFtk93Ci7Bupla3eNzHXVyCzIaX1Xg8yBvLaNd8mOCRw31annLow1ya6hOtnc45ENHZWyobNGNvTUyXRLuYxW58lgZbZ0FaUoemANt+cnSltegtSmhUtzVox0FyXJ6oYC2TlYK9v7q2Vja5FsaCmUkao06S1KlNbcGGnJjVOCa0G5b4K1XQ/SaiyEzE9S6DLqnAeWdVlajBQnR0sR6mchSDA/KVIKkqOkODVOyjNRd6AP2EBkw7Kh1IXGXwH0qKNLm6BPG8toKLhAVEWKBhgQNBioU9m4t8Y+DQWisaJEj6srzZfaEjRYIeuRRiUseZIk19lgp74b70IjbahLNqL8bp4ali1o8GxHA2cb5NaVI15gO97X/CrI1WjsrBpxMDUi21eO4p2OKbZMjMiWiSHZOjnsg543OSjzwKapQZnDe55FA2YjGjkzY2gQAiS4jWjIbEJDhmTJ5ZnhbpVcn0Njx9nnJU/UuVmUmbmJQdmM+55HGSJIvvO4502TI3iWUTzLJO53SkbamqW7sR6W2HMS8NLhp6U4L1sKMtOkFi16tg5qywq9GVyAF5B/HJHRIjOQ2IhmgC+G0sB1fVlI03+fbeNxLSBJWmokzWa05pvczgvji+QLUSvKdxysQJIiyNLQBWKihUP0wArshkWoEsTJZe5vq8R1eG+4Dz5LLVpDJLDK3HQpBRFlJ8RIelykpNAKg7VFczUGZn50YBBcBsu9IInB1IW7iSRWmBoPYgFhwJIzciExsKXGVhtJhYRShf3VuSCBnCQo70r5l8+eJ7f95gp54vZr5fHbfifP3fsHOXzfjfLwrVdB0f1afnXRt+Wc3RulzVMAay5GXElhqBzhUpQejYoSKXmJcEklh0lxSqgUJYeoLEmNQEWKEMritEgpBUrSo6Q8IxrWIFqYWdFSkRMjVdkxKrlenh2t65W5seLOiUWFQ+sTFdidFy/Vrnif9OQnSF1BIiw4tFwLUZFLUqS5NA3lIV1ayzOkrSLTiyxphxLpqMoBKB1wW5fHpeiuLlBiI6kZsSm51ZXIECzL4cZSGW4uk5GmCsgKlSMtlTLUVO7DILaPtnhAcjUy2VEnU531IKkGJas1ICiS1iqsr+yuk5XYN9WB49qrVa4CQa7srBVHVsvqzjocWweJ80Fya2GtresFwfkDRLcdls/XPnO23HH1L+XZB26Rww/+Uf709H0gs0PyyrP3y0vP3icvPH2PPP/UvXL4Gchn75Ujz94tR56+S448dYccfuBGue2qi+XfP3eufPHcnfL9L3xCrr7of8vjN/9Gnr/vD/Liw3/EMTfJ84dukifvvFou//fPyYc3DcuuiRY5uKZL9q1skwOr2uXgdOci1vTImWt75cz1fXJgfa/sX9clC2s6YL21KfZMN4N4GkFADT7JZcOOyUbZPtEAoqgHmmTraPNx2AaC2THaIjvH8PwjzbJ9FMdD7gCREDvHnWXdNtomW0aA4XbZNtopO6G8dox0y/bhDtmJ7TtHcfxIHVADS6xGFkZrZM9IleweKIcFViZzLQWyoSFf1jWBVNoqZKarWjb11cvm/jpYZpWyvrlANneWyJZO7G/MllXuNJl0p8ukJ1MmqnNkoiZL+ksTpbswVtpyI6TdFSkd+dHSmBEMaysQBBYqoxUpsq7ZJbsGq+TcdR1y7poWOTBWLQcnamW+I1/WNCA9d7JMVWfKZG22DFdlSA/KeifKfWtBvDTlO2gFETaDKOtQRyphwZWibrrRsKxA/SxLRd1LiZBykFtFRhzqPvRBNuoO3M91ILMGeEPqYR02wDqsB2ryM1EfYelRF0H/ul3oWoBUS8trfdFqqy1xvGJcdhd4dReIi+RFON6fNKHF5ykkYearvuuqLUfjHuUcnokNI7CYQQ4kBfMykECIzbTGgflJLoM84IUglLhwzmZYdJvRuKNkI4/Lm2BRzyHNudFu2QzLWtexPDsC4hzuhFejQzbAwlbAGpsBNqCxSHB5IxqNs2h0zg6D6HA8z2NaBNMiNqMc2bZtIGI2Ks2SJKGNtTfJQGujvHT4GQn405Hn1BLLhzusGsxeVQgzlS0EsD0VPzO7Di64BlgvjSUuyLxFeEmB/QUEWx31Jbk+cJ1urqZyuKDQEqHkOlsmKmH2szVBWAvDWhlsqThwzue5/mCrpq2ySDq8aK8o1OXOKri5AH/J41rKcf3SPKkvgjmOQsW+KJJQfnKsZMVHSjpchSSpeBAYfdMx6MeKRt9YJPzk7PeiT5b+29z4GClJS9TWFq0fx8qJ19ZZTV6SENVwVxA1sGyqMmOlGpbOSFOZfOMzH5bbrrxEnrnr9/LC/TfAErtNXn7kj1Bev5dHbrlKrvvF/5HPfWQPWhlukEu8ElZhEgiLBJUSLgWJQUpeJcnoWwHK0sJQecJBXOGLEttKud0ry9PDQWgRqFioYCrDcO9hUpkZjjyIQEWLhOUYBaKN+ivpcUVLbR5QECP1BbHIuzhpLIpHOUiQ5pJERUtpkrSWJSvaylOkrTxN0VoGt01ZOiy0HEW32yU9njzprc5X9NUUiAKt6P6afBmsK4SlViRD9UXHyUG4TQ0DDcVKeENNpTLaXC5jLRVAlRLVShIbCGuy1QPpVjnRWimTbdgPrEKeTmH7ylauV/rWV+M8nks5DaKjq8pAoqNL61MH5uX3l18gz4J0XsD7euXJu9TCegVWFsnq+afvlMPYdhikxeUjxFO3yZHHb8X7vUXuvfZy+c7558gXz94m//GFj8rvf/JNeerW38irD9+iZeCVR2+VPz12Cxo3v5Yff+MTcnCmBwRSL3tAMnsn62TfhIP9k/VyxspGkFqLnLG6FRIEN90u+1e3yb5VrbKwskn2TjXKHpyza7wGaVSDfNyKbcNVsggPXHRu2TLokXlYJpsHao4Dt20drFNsG4KlNFgjWwZqgWpd3jZUKwps34ptW/qRXj+2DTRgfwOO4zl1smMY9zFaK7uGK2EBlcHqKpTd/YWyqzdfdnTkyOaWLFlbkyorqwAQyJoGl6wBaU035cl4dYYMlMRKf34oiCtO1lYnynhRmAzmrpDRogiZKIuVsbI4GS0HgeWDvHJCpDljhbRmBYHMQqUxLUDqUwKQRrSS1LqmTFkPstrSmS/buvJAnpmyuS1TdvZky6a2FJltToNFmCfb+kpkY3u+rKzP0nsYrEyW/rIk6a9IliF3hgy7s6Ufjbj2olRpzgPJwVJrhqVW50qQmpw4RS36QWvh/WC9r4VXoz4/DRZdBvpBs6SlNEeay3NRd3KlrigLdYvuf5AXvDZVICJ6cCjZV0qCo5VFsOGtjW8veZWjP5WepGLooCI0mIuBEiwTZbkkxwzVwz21aBDCVU/PxHq43el1IHkoCXmJaA6NDwcgErgHiU3YNw/LaQs8FFtgRVFuQuOE2+bQQJmF12MWLmKCdYSYgQdkQ3+LrO9r9oGNww09LYqNcOXPwlMyB0+KYRbn8FxLi2kTm5CuYcs4SBYuT/OQ0FsyAk8bvW8vI6Yj4JUXnpUiV5a40K/jLnJJOSwUZhYzUTuzkVkkMma2gxzIHBAbXgJgBOZPYiQpIzO62Jw+GaevhpnrzktXcJmkRdKkz5gtCQMtpjpsPxExcpua6GUwoYE2kCnRDuIjqZHADNxPNIOAG0Fg7ExXAsvAS0+LVxLL8ZKYBkigw5mERQKLQnBHOEiMgRtx6MBlJ2MurLailHj0dYHIUHBINrRmCFoztGQUKNDVQC0KdwOsmDFYGV/75AG5+b9+KE/deZU8c/fVsMKukRcfukmeuut38giU2s2/vki+9fnzZHasHRYQCqfX2irPoIUVrpYXSasc/nySU2VmpEolKpKVIhSSBBeiqMgIA4F5SYvElRmKVmIYyCscxBUBSzFSUeOKQqsxyrfO7VyvzY9U1BVEwRqLloaiGGksjpWmkjhYZbGKFiiTViiTtookaa9I9QIVvcIhsW5PrvRUg8SA3hoQGdBXmw/ycskgMFSbJwPAYF0+SKxgCYpkGORFDDU6GG4qkZHmUrghy1GYIUFo4yA0wn95HK6mSeybwvalWAViWw1SI7mR2KZg9VGubvfIGriqDOvRD3POtjXy3z/+d3nhgZvllcduB5HdKkce/aO8/BTI6sk75QXI55+E1fUU9oHIXnz6dnnpSRzz2E1y+P5r5d7fXSzf+/zZ8uWPbJML/+ljct3F/yZP3PKf8vKh6+SVR26Slx/9A+T18tAfLpPvfO6g7F/TqgS0Y6QSBEYLxgP3m0f2jVfLgak6EBnJrB7LDXIQltr+lSCwyWbZC+uKxLcbBLYLBLZz1AOLqEKxbagSxOOHQTcIyIO+JhCRkhTIiITkJartICqS0PYhEpUHROWW+b4KyEoftvWXy9beYsU2WFXElu4Sme8qVjIgcR2crILVUyr7hgpkb1+u7OnOlh3t6TJfnyTrQU7jJVEyUhSphDRemSgjFfFKPL2uYGkDEfW7lsmq8nBZWxklE/nLZDQ3QNaUhcsGT6ysdcfKZEWs9OUFS1fmcmnF8R2ZAdLrCpKu7OXSlRMg4xVRsrY2wUFNrGxqSZWtHemQySCyRNnUFCfrayJAptGysTkZxJYNiy9DpjwpMlqZIEMViTJQFi99ZQlwWYLIKlNBainSU5wMSw2NN3gqWuCxaEQ9r0d9N5DUFHDL1yMIqKEgFfUnFTooU8mMhFZP3QjdSp2kJAYCq8iCJyc7TT1F1MG0sKiTDbZeim6KEnRTkMQK0YVQtATs5qBLkwZIKxr4A/WVqC/wRnQ0yjpYZxthCdHSoRU0OwJSMniJaTPckfPoHyVpqcTyZpALsWmoVV2+swPNsrEffZnATF+jbOhtAJpkfQ/cwui7NHDbRnhK5uDZ2AxLbB6WGuUmuPM3DbRoekxz83AbrtUuW0Y7ZCvuRwHX5Da4KZVQQWbbYZVtg0U5hn509q2TvwJefeFpKUFGuVIT1AqjeaoZhUyguetGZlWB2Q1c96AFYOALMPCFGGEtDTAgYfnDiKwyHy8OnafsX+L1DHwBBLfz2GocZ52sdNlxmdFcLAgNuG4jSLYZJMUWTgtI1MAoMKIRliKP5Xm0oErS49SfnR0TKhmRiOgJRXQMopsYgUnCikGUUTTIizIObkVGBqVFhPpIjH5vug3pH/dkg8AAklYNW2FslUFyvRpuvBoQHC2Nf/r4gtz0qwuUxJ6792o5cuhaOfLgDfIcyOzRP14pt//2Ernom/8oCzMjSnwFCSukJCVEyYmyKClILTBaYcVJIbpcnBwM3zwRqChJCZLS1OC/IrGKjBCQ2SJ8REYyA6pJaMchDM8Q7kOtK0Lq8iJRIaNQIeGuKYxS1BdGgtgiQWzRSmitpQnSCuusrTRV0V6WJh1ouRKdFRnSVZmp6K7Kkm60bPs9WdLnzlRweaA69zj0e3KkD9tIeESf13IbqC3QPB2FpTYOIpuApUs5Btckl21d9zWXyCSIbwrER6xsKZNVIMDVIDJ/ciPhGemR5KY7PKj0bvT79OO9nC9P3PE7uP9uVbz8xB3yl8P3yUvP3CUvekELjMsvP3snCA4k99jNSlCHrrscbsRz5MtnbwaJfVSuv+Rf5ak//qf85bE/yKsgOuJPDyMw5HcXyj//3U7ZBYuLVtSuMbcS2N5xN0jMDRLzyP4JENlkjYKW2f6JZmxvwv5GHFun2APrZ/eIBxYQ7h3YOVQlOwYrveC6B8tuEBisMSWnKtncWymbeiogyxVb+0BKIKntAxUqt8JCIbaAtLb0Fcl8byGQD+slV7aBmLb35DjoypadXZmypzdbDgzmyqfXueXjq8rk7OE8WehMl51NyTJfnSDrS0FKeSEymBMkA/khMlocJaOl0bC8QqQ7Z4X0Zi+TnowAmSgMkunSEBBXqKwuDpTpkiCZqYqQWU+UbKiKlKlipAFi68OxXSS97AAZLVghw3kgvMJlsroyVNZXh8tcQ4zsbEuU3R3JKre3xMu2tgTZ2BAp01UhMlYSKKMloTJeFon7iJKBoijpLYxAX1qEdBaEwU1JOO7KNngtWuHBaMlBmUfdboC7vi4LjUB4OjzpaBRmoDEIfUDLzJMdjzqUiLqDaGS4FgkP+ttMl9VAlxLUp9StGq0MLxH1HvUfdWM59J25DWl9mRVGIiuFbvZZY9RrAK0y6+6gruO1qP/a4M3qRSDWKPqjV3c5/cJ0+c0MOZYUrSHH+mlVoqGLmIQzj/0Eg2yITQiymUO/8uwACaxRMdNHAiN5EXWyobtesRYufWIdXPnru+pkBi7/mZ4Gme125MZenA/MIh1iDmluHmpRzA/zPhxim4F1txFWHi1AuhpH0ZdOEmNMR8Arh5+UQvQNZSXGIHOytJ+IJEZXG9ncicwBuSAz1H2GDGZmK7mhJfBXy14rywjIyMkCIEhSto3XsJfE/Vy36/ofx7RIYv5ExhfD9Vpcj6gHmdLvTMIikRlxUdIPzZdI0iMZM/CBHbLsiM2JDdMw6tQwhHIjtHMpidGdSDKLR2AHLbEsBH8UIDqxDBFMzBv6vWmNsbDSfcACSxcCl93oUK6Dy6EWfU10k335Ewtyw89/IA/f8it58o7fyAuHrpfnH7hODh+6QR6//Sq56/eXyy8u+Gc5Z8cadcWRtEpTaVnBZQhJ4qIlVpYeAf97GPrBHHciJfeXACbNnejvRizL8FppkHQnVmVFqHRnwq0IeLIifTBCq6U1BtTBrUjU58eAxFBxQWS0yhwSA6F5rbOWknhpgauxFX0KRCdIrOskBEYSI2mRqHyA25FENQDXoxKWd50uRwfoW4NLsh/uyIHaQs1XEhdBQjPYOuV4k0N0lBMgOsopr4VG0ppodSw1Wss8n1YfSXCqHSQHzCEw4Ttf+oQ8cON/yQsP3iwvPnabvPQ4rS1aXQ5xvfgMXYuOK/Gl50hit8uLj98sLz18o9x//eXy3fM/LF84e5OS2DWX/Av6xBG7HrcAACAASURBVH4urzx0Lay7axTP34/oxCsvkC+duxkt0Bq4/mBFwRVIa4pktgArjKBVppYZlkliJLC9Ew6J7faSGK0wktgOng8C2zbkkNHWQVhlICXKbbSo0C+1daBK5iFpZW3qK5XNwHw/yGqgFHDkfH8xtgFwB27pK8Bx+bKp24VgjGxEFWbD+sqQbZ0Zsqs7U3Z3p8u+7hQ5sy9dzh3KlK/M18g/riuVjw5lyZ6mWNlcGS7rC4NlKnuFDKSCfGBBkcQmymNkAiTWlwMLCoTUlxUggyCkNRWRanmtLQ+TGXeUbK6FNVUTIxvdkbK+Ikxm3dGytjTUQVmIbt/aEIfjomW+jseFykZPsOxsjpUzelJloSNRdjRFq/zwSK7M4JhJ3FOfa4Vace1ZgdKZEypdeeHSiQZbK9yUjdhWl74CQSLLpTp5mXiSKFdITWqIeOC2r0KdrEDDsjQhSArjAxUliayb6J9OprcE/c7UdV4dWoHGr5IU9CdJq2qJHrWGPCUJrBTHM9pRgeMd8lq0xAoy4FFCo5wWGQmMVlkxhmoQbKxT31WiD5/3QD3ZCctsGJHbk+21wr7ktX2wnkASdAXSqqKFRbLyEZeXVIxcSGJKZHAfk8Rm0H9JAnNIrE7Wddcq1kMy+IaSBEaQ3EhiBiOxjSBBwoiM6fN6JEsG+dACdFyVrdrnNowYg96GKofE/oSOsRKEgDN0vATmbEkWMgmkZkxukW/+EW90oymhIXO5neu2zV5UOV5YGbZXgjRsmUEQxejwJIoy46UQHaCa4TiO1yNKMpwXQEkwlLUEL8muYffB65h1aGSmpIKXznX6mw3VIC+SHiP+WICYXgEiinIT0M+EcTscs0ArLB1jaUhY0YhIZJ8Y3YgE+8TYV5YaFaZ9YkUIry9DPmkBxPNpUAfIjAEcJDV26jKgow6+cKIyK1YGEMDw92dtl6sv/Z48dMuV8sw918kLD90ozz/4B3kcIdnP3neDPHjzf8uvLvym/MPZOxHMUKruRLoRSVIM5mDwBgM3GNxhgRxFXEYgh8kyLBei/4wuSAZwkPDK0ErkeglaikyPgR7cziAPEq0Cx7pPAg+Or85FKLIrBoQci2eC2wQd3g2FcJUWw/JEn1k7orwaCuOUwGiFsTOcBNYOIuvAOpeN0PxJjcTUimiywTpENoKwWorTtN+ruwouSBAZt7E/rasKpMbhBQh66fLkIxCkXPpri9WdSJcij6c7ken0eUmOrkXuG2mE+9ErxxtBVMhbRyKQBNvZv6buSPSh8fwJWGHDID/KcWybQWX64nn75NbfXAp34h3y8hMgLrgVtU8M7kQS2IvP3CsvwAojaI0xqOOFx27Rd/zQTb+U737+XPn82fNy4dc+Iddf8b/lmTuuVPJ66UFYYugbZYPm2p9+Rz69bx2USDXcNSAxkBL7xggSlD/oNiQWEKSxZ9LrRkSgAl2JO2G57RyF9TVWBVIqRpCIWzb1FsksrCe6KLcMlSlZbQIxzfWWQHFgX0+xyjlYWZuwPtdXCAWSr3JjrwtunwK0mHNAYC60qjPQn4Z1WGBb+tC/1JklO7F9ByytM3oz5ay+VDlvMFU+M54h35grk8+vypFzO2Nlf2OE7HCHyYaCQFmdGySjILC+9GXqUlxVGSsTxSATkFd7MlyC6QGwsuDmq4xRt+NcHdx/wJ72XJBXjBIb3Yqbq2Nle0Oi7Mc9nD2YLx8bL5VPTBmK5WOj+XImyGtfe4Kc0ZUsB0GwC22xiv0g3Jn6VOl2hUptAvrQkpdLI1zxdfB61KWFIloREYtowFUlgbhAYuVJAVISEyBViSukIn6ZVKCR6UZ9LEODki5+NjI5Vs4VByJLDJecuGCNWsxD5KKG40MaGdFQoJ6lHmGkM/vBGDBWwmE70C8V8IipHsY+nlOUBb0FsiOBcXgQ1ynVlQj9adZYIQnNG/7Pa+YlMRANOhRkVop9FdCpHpAjG/XtGDJDMmDAEwmCfVrmHjTLaGN3Hd51k4IBN8RsD8mpBqRTI+t7YWUh2nNdH4gLWIv1NT3VinWQa7vhnu9yy5pOLHfheJAarTaz3BbdkLTkuJ2WnUOkc4OwvECos7DI2E+2AcTKoJE5BH4MgsD6EeXsWGLPwZ0IEkuNQRQc/LE29qkoDQQD8OGJYmQMrRdKyxASii0zgwx6PM4hARkYKk7iyEuNFldKlA/McMv0gpQY9FEhXBXgMsHzir0vwNKn5LVJZCQ3kpmZ5yQykhitLkq3l7xIpiQwEivvKR9WGEmMA2IzooN1gCADO0haHICoQR0IrY+gWxFWGAfYpUZFIAgE56ZyXBjD61HA2NpBwbDWE4mN7lW2rkiQOoAV1+yuLZO/O7hD/vuS/5BDt/xWHr/renkCREYcgUJ85M5r5dAfr5ZrfnGh/NOnPywDiMpjQAcJKR/BHaUZGJuWDBKCzGcUFJ5dSRh5yvxh3lpec53H5GEcTHEG8pEtQgSYlMFaNGlh9ZVoTPgAstVlSi/UyswFKbsYrALXCAJXahG+zD67+kKEICN4oxr9Au489gfGqRuUpNSMSK429BuQxE5EZI5rES4OjH3rdoPI0OHdhVB9huu3lrEPDeNlCtLhAmFfWjH6OgsRIFIsndUl0ltfoe+WY9DaMeB4EOPlSGgkOZIdgz1Gmys1Xe7zx1BDGUhyEYMgtYGGUh/66xEp2exESFJOdCBYpLNGzt0zK7+9AqHxD90GCwsk9didGp34wpMgL0QrHnnmfkQnOpGKR0hoCPp4HtbakUdvk9uvvlx+8JVPy1c+sU++96WPyzVXfBt9oX+AlXYzohJvliMP3aoRildd8m2E9I+rAtg6jv6CYQRJjCFyEK5CA6MDGVG4KBFMAZLbPlqP/gQEYAwjug9BHJvhPpyFxbVjHIqluwCt6iqNVJyFm3BtdxGOc0NZVCo29CMqEJYYJbfNwDLbCMz0lynW9RRClsgGEOL8UAUUV4ES3nR7NlrUCIRAP9jeUViLsN729+TKgY5kOac7ST47liH/PFMiX9tQIJ8dSZUPt0XJTnewzJUGyqbScFlTFC6TcEevrkqQ1eVxMpIfLN2wztoTEZCRuULWoE9qfW0aAkDgsuwslAU80wIsyQ116bISfWfsT5upTZYtCNo4OFgqn17fIufPd8n/mmuXz8w0Kr64pVM+scqN+8qRna2psqcjQ/b1ZMpCVxaCSxBY0piHaEY0kkE8JVHLpTgmSFGOyEO6BBm0UZkOqyolWAriMCAbg88LQGQFmGwgP3a5RiSSsFwJoVo/qSNz4uHdiQmBDNegscy4CI2A5lCeIowdrcSYL+rcPASIFWXAHUiSguTY0/JcJ+qQfWA2/lR1spfESGQksEJ0Z5g0IqMsYN2HfnN0pyNNj6vuhk4tBamRzNzwfrWUZMOzUSjjzXCfd8FKAokoccDCohVlxLWh0yPr4Vrf3I8yCVIjga3rccOK82BYC0jMC5LYNIiLWA3yMpDISGjqalS3Yx0Irw5l3YHjhqQ155AZJfujiQ2wykhga0Fo69CPtmG0S8ee9jZ7SYxMxsCOZIzkL8x0MjIfLQISCVmcLrel4LgIgi+MsxkYCpMXSYjnuhIjJZdkAbhwPGUOWiPZiRwwHInxWc527iO4z8Dz9fpeMqOSJqERVNZU1AYSk2OiwzQHiRmMuCjLYBmVwEri2CuSaDYKXiZmUOC9ZMSG68h4jrJnZGIkwulDaIEhzJ6zdXA2Dw54TsIYMo4nY/8hCb80O13DXGm9siAy5JXbSjhwHGGyVRh/x0LJAsmxax85sEN+euF35Z6bfy9P3XebPPPQnYrDj94jj9x9kzx6z81y3a8uk2996bMyv3pECZjPSrLiM9By5f3mIQ9YWFm4ObiyMD0ZxBoveRi4zUGX3M51tvasUeIfvcTzWdDppiARGxx3LluGztg3Sro91PUBly7zlf2THjQODFUgGg6Kri9F5FUF+h9LMnRsDUORG0F0RmSdJbDGiFK4M4Cusky4NUBgHgzLQOBNhxvjEBGUw6CdNpAVXcidNWUaocqxigwdZrRsN4ZPtGP4BccPckA4GwftGOhKdNeWSFcNyAzk1oEBsJ3VGK8GwvNHD9cxDs8w2OqWLljJHETOZY5RG2hyyyAqCM/rQvr9WD+4bUZ+ftH35MkH4ErEuK4Xnz4kLz77IAjsAXn+mUMAxvtBHsZ2ruv2J+6T5x+7Vx649Xfyw298TiNPL/n2lzUK9QFY488eugmEeI8cfvgOHSf4sx9+S/ZsnMK4mx5Zhb6FTRPo/AY2j3uBcVNbsD4/2ekn0QGP9flxdLiPo08DIe9zCJGfQ0j87CgqPyIFZ4ahHCBXdbudFvMAotWgUDYMNcGd1CiroTCm4eKh5PoaKKo1UDTEKrSeV6PVrcf2OYpnNcZqbRxqRLQYwqjRgmcQzCyO29wFV2VboezrypdzB13yxXWV8v09LfLNLR753FSWfKI/UQ62RMt2TyiAfi30aa2tjJM1niRZWRojQ9kIyEBEYScsnpE8uA/rsmR9vUs2d6CfDmlzjNjGDpBYO6xkhNa3ZIchwCIRgRZpsroJUY8g/LPW9SjO3tAn520aks/uXiUfwbi5bYPVsqohV6bqshH9mCuT9dnSV46oQzcillGuC+MjvDOYODO2FCSg4YfAL/ajV+ejrmdQ54VLXnyQZHGGEoAzv6RHBTq6CwOdbaYdzuLBGX4iAp3ZfjgjkM78Az2yAtsNEehnj0fEc0o0ZohJQEMUXRR5qcmSmRCt3TvFCPBQwwK6hjqFEynoZApYZiOaeodkpkBgHkmQOsBAHWBkRmuMoK6mnladDT1AVye9Rm1oONJbtBL9wCQOWkp0CzoWF6ynXjSOBuEVmMTgdIz5m0U06nRnBcppOQYlVyD60a1Y3YNI4G5Yd3hfhC2v6kTQFIjMCM6RKFsoNyxj07gWCW0typxhmgTHddwLCWwVCHY1yhsHWLMe96COvvQC+8S80YkpMZHCMHu2DpgJJCCCg/jeExjpnu9FHl58bgIKA8BWiLZEoIBJTCQwKuBMtlIIbFci8xIX92Vhm4HXJokZmbqovHkvSMcIzSTJjK5KWickM4P/OkmMbkxaglkJJKMQSY8NwVQmmJmDBQ4FLRqFimQViHWCU0/ZMqUVxBAcS2ILR2GlZGGNwlQwmYlxkhobhWVMF4MxZyRALpMQjQxtuitOXcXtto/bEzClUCoCTfIxLZEbQSrZsOQ49VQSAk94HO+TU2UxrTjcNyUrCLfbMu8nDn13XCf0/nCfuh+S9xrG+weYlk2jRcl0iFNts/2cYkfTwjmcqorTyNCFwmCXdowhYzBHC6yxNiiajmLMlgASo2uxA4OmSWS0otKjMG0Wpp1hFCivzfdAJcC0LX84JU8UXLy2zjF7fJ5EuH85PKIGfZ4NGK7BchWJ8zkdEC1oThHEdP3hf+92jaTIFZKLRlIJyk4apmbi1Gbx6B+Nxn1wCjM7zt4VZRDS1zJB6cVyXHsFzgmCtOnKeCynJ6PFTys/NWI5+oGTZS1cIttnV2KMZAnqXLykxWBwPZ8dsPcQg3PYJ2uIwvLJQDc49x0ncd1Eusnh4qK3gnUkDden65wBS8wXSt6fget0n1MSnOKIkuny/mOwLw75G4ttlNzPacNyoxBMhEahJyFIhuBW3tNdLF/d3itf39Yu/7KtSb6wvlw+PZEjZ/ckyZ6GCNleGy4bK8NkVWmErEK4/BQCKUZyQ6Sf0YUZDMqIVgJrQ79tCawfTruVjfLFKaQScB9ECvInAeA96fRuWI7nvfE+gXgcSyTincRhXbsGIJknSSgbPI9TIfE5mHcsGzyGknljyywLnPKNeoN6KA3lJRPvi9OucVq7aOy3qetCca1gXJNlg2QVwvKAdS4vhySCoROWYZ0w/cLzqFfiMaGCC9MA0lLj+NWCdBAsjAuHtBzy4rJjwWEfyQuR0taIdWHIkIF63DxaJs3gMDLjgO0SNOqr4JFpQIO0B5MX0A3PhglJbLodFn0/rPxheAPQKNo+jr4yLG9Ag2JNV6VMdZViVhwETHWjX5noRDQwYCS2KKuwDQQHMlvZAZLzYlU3GhdeEjMiI5kZgVFOw4U5DQKbQsNuCv13qzGbSwcmUPAjsefUEkuKgkmMDMlF+HgOmJqkQvIxMuPLM9AyIGg2u9CCIfyJi+RlZEWi4HIGkB4XCiUN1100+pcguZ6Bc4n0uHD0y+EYWIS0jEhmdg9GcJSL5EaCY/+PYxHSVPbvn7O+MxIZQWuNZEcizMZ1WQipOJKjQn0K3woUZRhm7GDBC14WhEK4XGEFk9v9j1VSQ1RjKqavigoN8u2jouWxJ4OlF4pzbZkyEnPKJSASMiclUYmVRMSKweswLVYMf2npW2WxdTsuDIrGttl1bJ3nmELmPoNtt+NOJjnPJM/hPVLZs1w0wBprAmFxjFlzMfvJ4uFSBLGVIASf7sViRCyCyNj6I0lw3k4qfVZkuz4l1/2vG4znZ15xWwzyh5JzfTIwiRG2sWEgHJxD+KfDtJdC93vzlPnKe8hMSdD0SCJ8d/7gMXZ/ml+4BpUQlZIppAAuAwHYzm28P57DdIyAKTmPZzGsdhcajSnx0b57jcO8jbyv8CAoRYDLdg/+5/svL93Pe+d+kzFBTmOHs86wYUXlbPcTjnIdGECw4UawcbAog3Wd25ZDsdMr4SyHBLBh5jQkLK/ofo9FHpEsOAdhDp67Fm7BNdUpcnC4TD45XS0fR18Vgyt2NjoktqEiSMYLgmWiKFLG88NlFKHywznB0o9AikEEVUy4MTYqEfPqIT0SE++d1yPh2nWZxwG4l+W4p+UByxRWnrmPYD6GIMI4CI2fFXhmvh97R/55rMchjSCAy4YwEiPKVg4sG045xzleOQes5iXuxf86tszrhaIf3cpG4PIVvuvqtdlAxrZgeHt4v8F4PzzX6lMsyjcbxTlJibD06FmhtwVuROgEoig1SWcO4uxB7N5wJWPOTUyZZciDh4ZjYAtAZJRcd8FaNORymizoaRogedCrhTAaSGYMUGtB3WTQFIeorGqn+xiWOPu7YL3TLTgNIiLWwPpa2Y0AKIJk1gkLuR2yA+snIDIlOOyb5DFtDKgqgwVGawxEBnelgetr0O9Gd+N0by08BEQdppHDTD4gtZUI9miD56QbHhK1xDhYrABTTtGszcYEtTRlFfDjkkj4oA7ClLRIXCQBIgsElQvyYYRfdtzxMBIjUZDI0gAjsGSY4ItEFq4E5k9iJDKeb1YZpaXH6/B+jFBJYnR3UpLI2F/GPjmDrmMbCYyWG8/zJ7GESFRsr8JgIQrHODGn4KHAr+AyC/1yr1xUXCtQYQNRUSl5PJep0LhuLa0gTFulFYuKfnkQ0luhlYiKjuewMIeEhGn6vEYE5m3UtLidYf2xMSqtYnCftuaQnlXE5Vhe5q0QTN/SDQ9luovX4X0FoQUYCIuG21nBLA1HWpomnfs7/pjjt/FazJ8VACs8ySMZE8i60Y9QW5QAFyHGxTD0vjgG89hhRgUEgdAqMyLjwE9ahvZcTnrOeiiUBNftPmnl2L3YMp8pEo2GRFi/hJE28ysqLFTP90/Tf9nSsm28Xizmz1RFgj5QI3G+B8t/Kh0eb+dSMv9961BEAcugrAiWGUjfuTg2DOWJ1j23RWCi3khYoEyPy3YfJv3J0badSAaCXAx8Dw4WFateC7PQBOPeF+8Fk1ujccZ3txznB4C4lnnBdQO3rVgWrOu2fwW2hQdFIK1ANKrQ0AMp8L6YNsuAjyCxHA9kwurxwD04ivFcezDQ+QwEgGypgyuxIlDWlwfKVAHC2wsxqwYIbATju9SlCEusMzMU00ElSxYsJVqiJOYwNFio7C1vAkFKzOcA3KODQH0W5j/zXvdxv8K7b3kI1vHMeP6AZdzmrVPeOunkCespnz3QIT4cw+eLR0Of5EKrKwp1m0TK7SRH1ivmQwL6zKcmx+XLX/yS/OhHPxL+3n77bZX8d+zYMbn11lvlX//1m7KwsF9yc/NUL/C6LF8E0+TcrWw4pcZCH8fDM5aUBA8ZiCsZ7kMvkVEWQGeTwHISY3X2Ic5ARJCkCCMvjoU9EdQAgQ53QYfnQbcWoZulPA1jQvMw7hPeEg5RWQnCmWwB8QCrYUGRwChXwV2o7kO4E0lmRmL+RGaWGSXJjQQ20YaIYaRFEiNxcRgLo4BJbJyIgFYaiYwEp5YarLWVWJ6AnOiqlUm4GNsRvNWNfryXXngK006BxPLQ2RgDEktDRqSCvBipaBYRCUitKXRUsrMyK5bkBQuKVpQSGawmWk5AJsiH59m5tKjoHvNHCs41pCLTSF4GWmIEj1erDPvsOiZ5L3pdEJu6O9GSoP+6ELIE/t5SzF1GWQxrkuA6TWcGWai7E2n6xoaBwGKhBLXQgLyaMankn//0qha4d94ReZdL+Hec1L3Y9u67wNuyb/9uWQ7lzcpAkjCF1t7eKW++eRQF+F05euwdefuYyDuakDc9pMP1t44iHecycvStd+Vj531SlQsLtZGaSe+l9fhjSNfOe+vo2/LWW8eOS/+NN96Sy664XO8nLCJcZZXHjePecs5HZbLz349kIpdefIVEh0c4RAZlUF/Bge1xiN5EeDLG/zRj1oRWkNkikSHgA9ZYMzqV1ULy5htyRN55BxkF+eabrzv3+c7bvvt8+13sxxrvt6auVgLxzpjfEXDBxKOvkkokBK7H/fsX5M9//rNl13Fy6bMuLCxIGAJ5NJ0IKGcoZTY89u7eI8feOuq8f7xrlgf7ve0tG0yLP+wWbqOqIvgEhO63C2L/0TffkT279mrjiO9kBawkKy84/Ljf4mm4NlJiWVFw2aAXOO407wpvljjmpI93EgorzFH6AVCee+T115m/TkpvQx7DnVMabB/l2++ibGGPbfvL63+WX1/5X3LB//m+/OiiH8j/Ov8zsnP3Dqms8khiagau6RAj6xXJh265NCjk7jwEYiAakKHyG0qDZE1xEMaKBWFMF8gLY8OGcpbpjBwdaQHSjCmjWl3xmEndS2DIqwt//BPchZO3r6H8HkV5sHxifSRZvHOMRyw+v2+ZmeeXX77z8OTvAnw+li++R61bTAK/8vJybUiRqOIwczrJhZYarVFariwrfIdVVVXy7W9/W+sXz3vzzTcp9Mc0VQdALl7XWeZt3XvfA7JlfgfKYYTWfVpnzDudfBweoSSUlaw4Wln4GgIss0IQGsFlVwIsMJBcNhpxWegSojRwPSPWAYNLDHTBs+9cQWMFOpk6MQf63BUbrP1+jLSswJg3Bml1Yzq5fgyDGcZkBCQ0ktgULLQpkJK6C/0tsQ4MTwG4jyBp+S8rgbViPwiMadHSo+T6VCvGcup2ECdJktfphMuS6PKAxAgQGfpo2zCBQheC35TEOIFiPiwxklgqGDzFSzzsGyBZ0JLyh5GIWUYkKiUtHM9zliIlmh2XmG4fPnNd9iMxktlxBOc9jn1ADjDA2GvJ8V547VS4IrmN63RhkpjyQEz5cEmStEhgRSAsElsB9nN9KYHx8xppcGNx6n8jMWvlstRRKfkXNi2J3ICf7uN+LBD/9q1/lWUkMVRSYhla7svRki8tqzguDf/0TCFxmy2bvPyyn0PZoPW7HC1BtNwp2ZJMSUnT69txdq5/uqws3E/J7ZdedgVam7gvtjJxX00tzXIMpHAUjMr9rLQqsUyp9IEFqgHbzvRsuylnSh5DHMXKFZf/QgkkAp+MoEuxGgXfnYfxZOjnaFFEwAKLlLYiEBnGlrXCSmPAR3NpppKY5h3Oo5I89s5RVSi8M94D8ZaXyN703jfv/ktf/ormC61PI6BAKBgu79mzR8+zvFoq7Xm4fc/CXl8e8b0xz5nf+/YdwJXx7GiA+JcHy1veF5Udf9zPtLhm+cJlAreuC8fQQCE/f+jMczR9XmM5rkUrmtbcW8eO6vF6Dv4xbe+pJ5V2DVxBf7ZuZENpeWvlgOtnnLFfGwvc/zbeLgFK8C3bNpXvvqXbqejffOcNlBln/bU3XsV2nnNUXjv6F0innLyBhZ9c/nMZX7UWz0kLD2UC16Trjf1ZtMomEYk454mTSRcCODCouZ9AXxiJbDg3UDoRXt+SskIHEvM8usOZXxdf/jPcA8qD91qWP9rwQYMSue0FMvpt71EqWSG8+/Ci3sVL1EYq6zDOeQfP4OSZ950hI60u1dfX6/uhfqCHheRCizMIJEarlx6P7373u7iu8zOry/SDvRNrdFr5Mcn9b77l1MOHHnxMOju71WvD69m1SJzJkeh2iUOQF60yH3HFgHhiQU4xkonxq+kxICpIkhdlBixHbnOIDAaBV1dTR5uxkU1yg+GRheASetRc0Mm5iNDMQ8xAUSLGlWLoACduYJBWS3Eqhrzk6jhKuhrZxzXaUoRJuxfdiLTC1BKjyxAYB2GRuNSFyH08FvAnsJVttPaOhxGfkx4sNPS/TXa6MbkxppUDibVy2E1TJULsaYm9+Jy4MOt6JAb7ksAYKcOHVTJCoAGJIw0PlRKDjIxeoUiNxvd2vOTC/dq3RcLDMt2E7ChfikR0ghL+27meDOuOMLLzSbgck5FOCiSvxyggA/uz6BLMhctRMx4ERr/uXwegIJoI29lPYy5EhtOnMYAiArPSw8/NQA4WFhZQugTeeOM1VSbW6teiaSXRpLfAUlx++eWqiKg8g4NJPo57jy18FuTT/dFi4++SSy5DhXUsO1PQXK+rq0PFY+VjZXR+tmwVh1v9W4DnnXeepmUur9raWu+Zxwu7y9ORPMZAtUFccinzwKnc7BTvquE8lpyNI0N6yxIxs3iMdBRg5gOEU3eXxiGoA31kcC02IIKRCoGKnM9ov6X55n9fqhy8B1o+heDTOcx7rvNZ9++nkl7MJ0vXpKXHdb4nXt/IxNLYu3evHf7e0jLD5NKjbTtvB8v79u5Xwud17Lm5vPTn/5xMqmd3DAAAIABJREFUgr+l0rfRrqEbnH+2ScmLbk5cw7Bv78Ii60KFOwr8xPLtt70KHiTB444doyXPcsimBEnQUfhYUQ5hOebiG2+9LjfccIPkuwokNDhMyYzusTgEX7Risl6G1U+4AmUIofS9aZidA+TWhfFhnHljCNsHs0OlOTNaG0UkMLoLL0NjyWkssGHBK5/sHXO7P7DKmzrp72TpiDTWN+j7IqnQ6qKlTn0RAndivivvpCmeaMfRo7DsvT96RJb+HGIV+ehHP4Z3hUYOdQmvBR1FV2oK5m1Nh3sxOzFex6ym4ZtwCvWcOWH8JCwSl2+f9xhu84ftV/LDvLGcjYjzx2YiRoBWWRYMimwEXXH4AGfsX5zIAd/Cw7yRHMM5yplvaBkh+GOsleRFlyGmfwNJjYG8CFpl4+0gulb0sQFGaJRGcEZsuk9dikjHSNCb1ngHCBFRqqOw0EYx5qwFQ2nYJ6bjxF58ySGxCETZkMRoMTmWlaPsSWBEaiyiyGJBdCAzghYRYX1b/v1dS4nKCGwpielxIJVEZBYtL17bQPIiiZHAlpJYBq6bhXvIBmlmkdCQ6SQ0fzBKTpGAl4GPSLL/juTHaDiSWAo+2kdLjDPWU5GyYLKS33HHbT5rgJVUC79pBH/pLYGXXeaQDgnHFCnTOffcc5eW0ZOuU2EZER06dEiVm6Wl/VxQsrt27ZL3qgT++0yB0yLhvbw3iflXdv/lE9+ufxZwmarkoksv0eswDxld11NXjI7hAkzhVCBT9bky5knHTOMJSmJtBbDI0GnfggHSnFPytEiMLeYTNAgqKythtS665Ow5SUz8negc3eH37wMhMSsnJpdmEtepffEjgfCdUDmdisT0hFP987+W91jbxHfjEID1Dzll3EdiquhPdQHcOrQry6flJ8uallmvJU9rXJNC8XkHLth333GsoDff+ovWn8yMXAlYEar3EgoSK0wKlpmGbPSHYULfDMzYgZkwhjODYJXBtYjBzqN5gQj0QKMHUzox+tXpuwpREnPuARd8l4TA8vo+f5ZZS6U32RpPtZKX9YdaH2BRQaGjG07j8nTdWp1kI9OW+SzvHMOF8ff664770dpeHyGRab+e887YVx8Hy8r5XBS6ZBiWj1mW2PVj4FhfHzAxAydnMBhpcT0FAUQEo4LT4KpMh5VH6DLILANkZpaZGgkwAoox80gpIrsrMjE5AmYoqitIQfAWPmODvilOFjDZQasMEwm0wOoCkbH/S600ENgYhl2M4WsFBInLMEYrzktuto39ZAqQlxKdnY9hFSPtmJwA7scRDANoroQl1uidsYMklouZOsLRgcqxYiQRNTeh7GmtOJaQQ2IkMh9Z0drys6wYrEH4ExiXSVz8MjFxIhJLjMB0TwCj1CjNlUgCc0jMIUsSF2HWWAaulYl1gkSmZAaiMmLLhNWowD7n3OMJjF9DZYSRRv55I4OoXH7ykx+jaiz6/09FYldddRX6wpy+GZ5PcP1nP/vZaRRvlN8lypkKgmmYQrY0t27delx6/qTFHZYOlY0RYmdn53FpndgSM+I6LvlTrlidp6K82I/E+MVbWmKcumkNCvM6uAmmW/J1XM5QFb73hGjFdkxZxdZ4AzruT4fErNLzpuw5ufypT33qOCIwy3Xfvn3c7VMWunKSf++bxCxdZsh7/PiaeQg785VY0NJ2gg+cMrP0VP/nXLpvcd3encMibHT5rCMcxK0+SwyWsrkUF/btwnEkAWOfxRSXLvlb9tzHcmfvw8oA+3uMxPiQRmJMn647bguPitfn5vAD9pGtw3it/Rh0PelCYEc25kSEq3k9Qu0nCwJlJQI91mHC3eHSdAnV+6Y7MQju8Z/rE+rFaInxBt7vzx7iJOnQA8I6GBrsBOGQxOJiYuXuO+/6f7r+a6+9pldiHdV8RPa8fZTv0fmxb9us2YbGZvRlhkIXeANIkBeMIudwqIz4KCUyEpgRF4mNYMS1wQjLX5K8DCkIgCKBZaC/j5JT6xG0yEhg7Hqhjs2G7s/DVFpFqVE6Zo4zA3HWIM4P24nvC+pXJTAfKUlsvA3zmIKEhpsc4hptzsdXPPIUo80kNBAbwGXuI2zbWDOsOEIJzrHiSIKjbZgODrpkCCQ3jIm7myrQJ/ZeJJaK8TfmciOJKbwWmI+oQE78RP1ScvK3umzZSMz/WNtnBEYSMyJTMiNBAkaiRl6UHKeRDiwlMhKYgZYaScyO5/PYM/Gz95wnkZ/+tlBdKlMGZnzhC+ejbniVATq0taJYQfeXVuogWcjNJWWt66uvvlojkfwOO+GiTyH4kdlSAqNVdsEFF6gCYXST/88Iy7aZm4JK0OPx6L1Zev8TJMYsIYnRsmAeMvy5sRSzAMDdMIHCuBqFcQNcAbMYQ7K+E528jZjIF1GLjFTkrB+nIjHmj38e8flNwd999936fCQvIzA+64EDB3znWL6cTH5gJHayC3i3W5/ZAvrafCSm/Z3vh8RYPE/sBrSieiIS27tvD85yGmqnuG3dzfxe2mjiO9F3gSN4LTXJWTR1ha7GowhagsL2Pvj5X/yqWlQhGFPGsVyDeP/nTWAKIwx2XuVaIbNlmKAXs8fPVEZiwt8wmXOnyDS+bED3tJNfDok5z0V3ol6IV35/PyfBk6ZRU1Pjc+vRncigiw8dPHNRL5z0TGcH84n3ynpp5fjVV53gMT0C1z/6pkNcXD+KIC3+GKzFW/N5ZJAP4RjHyqE3tMZIXkmRzkBpI6+lBMb9SYh89RGW1wIz60xlOILrQF6Z0VEq+bkpklhaOIwGnJ8Ow4LxA9S39Gzxu4bF+JYaZQGGP7DfjNPWdWDiAn4aiRbZSDO/NoEPjipJQXoJbBh1fwTERjgEtkhivnXMa2rLSmwksFacg4+YjiDwYxBRjYOYCq4RY0w7MWmBuhNffumwWmJhCIWlJUZLKAVRe6kRtMSw7CUxs7B85EMiAIx4eN5SQrJ9RlD+Mj4MlhCQGBGMNPAdL/TJEUzTQHcf3X60CI2ESGAnIjGzyBZJzGlBcHCpA1iVGCBMJHEcFgdxIuKI42ioSOkKY7/O7t07NRrLlIOWJCvo/hIFjKssmKZAzWri+t/yozLwJ6PMzEyfhWGkeNFFF/1VkjzHKrP/Mu+JLeicnJzTILG/SvY0N1B5OnnAPjFWcOYjO+I5rIGTILfBdz6E2epJZJswLQ2/U7UBYblj+G5UJz5nwemrTkVivBmr/JS2bM9dVFTka0Aw/0li7BPzz8/3eqD3S2KWB6eS/xMkxmtS5RFc1h8X2LBHXjE6gSHvjADV8g1JQti7cIbQi3Xcec7ZJ/xveenfgPBt08gVnIb03nkT5ZGWl1p4ZDSnEfjGa0f1eqmZOdrYiYG1Xo+vLnxuFl+LbkyRNbkBMotpqM7qcsnetnSZq46WLfjO2GxzkQ5ad+pVoFx26c98Zc7rnT3h/X6QG+mytkYg7yMJUYH88fmtwfhe17Nyavllx3I7tx19E65X78vz52X2yTMI6+DBg1qH+f44hISTKpDISFC0tricCPcfLTS10jA1XjI+8EtwhiF+jd7AdYL7+BFgTqOXjHVb5rrP3Wi6EtGhnMQgBQYLDQLGFvBjvbkgr1zMXsIZTEhk/IpHF+Yv5SeSSGKjnGwb1piRlhHZGKb5Isab8hVmiRlxHS9hpZHA4MkZxle4h1vQTYGG8RA+m/RXJObKTkPHIW4WUSsOa4O88BAkMXPrkbyOs6iWkJgRmJETR7JzmcS1dBvXuT8WLkwjMQ4gdAYRwroDeREcKZ+MgaFGZCQzIyWzxCgNtMzMtUhS43ZmPs+n9UUYgfHzKhygGRfiDDBlIeH4k/HxUe0Te08SQ0lkuVOg5LFwG9lwOSYmxgll9y+VVnpPIK0ymIKuqKjwVRzr8+Fp/q4cHmsVxJK0dUvPqfyLrskTW2J29t8qF10gDEYJ9JIYLVu+g0L0RZYgTJefp+jCPIrjaFWvRGtqigUcX/Ll51dayrJOi8T4XITlD++UCpW/v/u7v9P857NaY2L37t26z/JDV07y74MgMSMDX5nAtZYuG4kx6lGtI2/Hvb2jpbd3OvfOaxxHYtzA10Ii8cIGPltD7W8lMZY5KlvLe5NmmVHZ6k+vzX/8eQnMS2LMDO5ZOzOHIAUMAsa7KokIkC9uHZEP97hkfV6AbCwIknP7CzBhb7EstGeoVTaPljdn1WAeMcpRSYxlAWlZfvJq/5M/uhPp0rP3ND8/r3lxOu/H7svyjOu2bNIKivWJ8RhzJ/I52RiN4NAPlm+AMwCRtDi/K3UnZ+fhGF8fmXmJygjLCIyS5xgSef4SkNB8Vhp1P3U8dDBJzNHDy9SA0JgEeL1omTEkX+s65mmtxCdoGPQxUI8ADnwZgn1bww0gn0a6E2mBOQTmT2QnJzHHzagE1oyJir0kRkvsr0iM0Ym5mJuLMwtwGh9OgsuPQ7LPSJU+yMwsLiMjJadQbqcF5VhURlZGTiQowp+wuM79dgynVEpAOuybikPhpnuPkuskMIfEHPIhEflDrTGQFomKU+kQXDYXI5dTQWDMfL4EvgxaX/ykCgksBsESOp0PBxiicDizMCyThoY6FjWULbT6qSJYkpbCbxMWdYwII+SoRAm3283Np9VSM2XM461iNDQ0+CoNKw/TfuONN3iI72ctO55jpMWdtp1KxiqetSTfH4lRWS2BN18uvfgyrWBUmLTEUvCOMyOWSTamCnJBWZXhu2gksyYX3A7FKSCwbP0ESwdmoz8dS4zPxee0/OE6lQCf9a677pLIyEh9Vj4nGxMMgrFjdOE9/n0QJLa0eHB96c/uff/CPudeGemGsmLv6GTHL93uv87rLJKY992QVNQNDiJBBOFfW2IBsnffAuhlMYTfP82TLZu3gM9hZZbvQOsJIxVJmt4H13FXCMV/5+035dgbr+t27v7Od3+gz0uXcx7q5Fd2rZRP46OZ8yUrZG1ugJyJLy1/erJCPjJYJPtacjDxb7FOK8XGJRX4ZZdc7pQD3OT/LxLj+C++I74rktl1N1wvbx71jrU0K/Rkmcb7RB7Rvc3GaGpqqjz88MO+/ONptMQc63UxEdZdZqXj6xChNcjn54w1jKaOgScpDgFpJCSS2FIoqZGgvFaYEVc8xgryPILLRAIl15kelmnEsP+MbkjV+zQoMOUWwe4j6+JhdDqD5Uhi+XGwyBD054pZpt84rMeE4AzF5wdu9UO3DSQv9I8pENUITwxBMjMLzSw2O862DzXl4IsegJfISGLD+HjtcZYYSSwbE09yWiNla5AKrRWHgR2LSK0iL1n5SAvHkYD8icnIyQjMX5Kw/Ndt2cgrBpYgsUhkiyTmuAFJqv6WGUjrJCRGIiOpJXtbECRkh8D4wUsS2OJccOFQJjZHIvt18vNytfhwgCcrqJYmligDFvnzX11KOk1NTTqY1Dnyvf8b6ZCkrHU2PDx8nIuMLjNTgiZPlKqdz30XX3yxT0n+j5GYN38u+8nFSkZsYbPTPjlkuWSg0cGBqhkAiSwfE6YWYdZvfnupCbPfd5RnSmtl3ilJzP95uUxYnqkSxbrL5fL1HTCohuHx/uedKK9s2/slMabDssCfSWeN/1l+SDNeCYI5A+PSqJBI3jZ7CpXk0t/p3T/VnNP/tGj94Fp+5ZYWjC+ABOWeViD7xJxxYTz2vX9Wpi65xIlApZdhamrK+w6c6/uuh+SogLXxRyuMIKliQD8zh4EZbGSwsZMOhfzPBzbK+esaZEdlqExigPN2d4ycN1Ik5w2XKIltRGRrMvSGzUV4xSWXevMTV3SSfO+b/wD2Lq3bfMeEjbU8nUtYQ4VE6N/A0nLsTZDv2/KaafrGcKKh9qEPfUjLDMsN6xjnV0zD7DJKRLDCSGIkNmfu1xW6rAQFIvMnMCOu4/Z5SSwO5EhQp9M4IRwDw9HDalSgLpPMSGSMTOdwJY4ry8YsPVlotOpnaGJWgNRW6BcAOEiaUcoks7FGBHN4icxIjNLIiiRGi41eGoL9Z8RgY7bCSEwDO9oqENiRLZ2NFd4Q+yPPqiVGv7myO8mJFgssMyp/ToZKxEIx2Zxhx1lP2M59hhh03BJL1237UhkL85jQ/imOisd1CX6ckuA9mFVIy9DfGuMyOx1TQbBs/VNyneB6Eu6bk50ufrHZscCcSVLxmRUQGDuOw1C41N2CikUiY6XkoNvTITEWPFo4LKDmUqRiPD0ldHwVsELMgm6tdKZZXV2tB/qn6d8a5k5/a4zpUOkYeZk8oSVmtfL4W9GKyl3MC5smi3lDi5WVibBltWSxbiTGCWFTYXVzktY0hFQTWSj8eWipFScG6wBK+tBrCjM1Hcs3uwX/57RtJ5M8ltGIpigozzrrLB/Rnew82/5BkBjziK3pSy75iZYfzu7AvLJ8UuWDsqzExXxC+eZcjZwHksedLoktzZfa2mqUE1oJDjk5QRyw7lZwGibMQrIMU48tx2wtKyCD4BLDNEoBaMTtOwASexsWkhLNexMZFS2vy/JkQQa835mZGZxvJEaycnKUgrN+kFw1fVprjMHHjocfeRLP6sy5mIV6+e2P7JSvznfJGY2JMokBzhMYI7arOUU+OlomC80IwS9LklQcx+nMSHwEy5yTZ4xYxGBqvzB0DndZmkfOXZ38P98/n8fKoIXQ6/tDJCIlp4/jMWxMGrnYAPyTp+zsufTSSzVt1kHW6cbGRt8peq/MMG/e+XZ4N9nmj370o46nCPdAy5rWWAr6r6ivjbzYV0YS42TZZm35W1x6LPSsfiuRelYJa9EKoyXGbaaP6Q0zMqOhwcmwCXIBjRpaaTQqOJ4sC0FzHFOWg+FQ9MCkwwND66wK4/y6ELnIbwaOgMRIUkO1sNCA4bocGUEjZaIF/WPNjlXmkJtDYiQ3uhqHGx1LbBj9YgzuGIR1PoQoyMbyrEUSM3ciWzvK0GRiZAZJjC1qWmQOkTkkRgIzEvO5AZeQmH7SxEtmXH4vWKadLomZNWbSCMyfxLiNH7pMxLU5e7jztWYQLULp6UYkolGZIoEIFNQwkBlJnAWWsAGdSmIsWVbQrFT5beJutkxZyAm6/rZv387Nx7kNdMMJ/lmlM+uChzCc3kiMboi+vj49k8ca0VHauUZgJDaOSeGPwQ12T++HxDiolOnQpUPoRKqQVMysUASVMyVdiawMtOSNyFKR/0QG3gdbbHl0P2C2c042yo+gMh1TIHrj+GfPZeunktdee63eo/Ufsk/M8ulU575fEnubg3/pTgN++Yuf+coQn4uz25sVYXnEkPF49O3yMxvcxvLG/F36O1EeLN2mJIZzeS3NR0jmJWd5WYZ5DXU+QZ0nEEo4kFNrcdCwM+2UQ2AkmlP/eF0bD2llisM3nHriJStv3aBYJDGE8aOcokWodei114+hXDvjMlOhX/79vAX58uZe+RD6wFbnYtopWGMzlfzqco7MY+Lg4Xx8ngkz2NNDw7LFRpKVNw0kwnykVnZ4Xx80ifEafD+UBF2LpgpoX3Paq1P9SP68R+e9LBfOAGI/fZ+WoG30StvMYy688ELfO+bzcyJnes1IWJxxiETmT2K6nfuWgJ+ZMj1LvWvWl0nTxc4+euFQj+FWpKSHzDxltMpIcPwCSApiGbIQ1JfN8cUgNTZeM9iNgLHFBRifW5Ueg28LpupX2tk/NgqM1KOPqw6WFohMCQyfxlm0zhZJzLHSECyC/RbcMYBgn0GMRyOJdTV4LbGXXjwsrqx0nWySpqeyr5fEkiBJaGRi66ui35RI5OA7ZJLtM2kPa+7BU0nro6KbjyRDcNmsMVWIVIpei8xfkmCZiSRbgsupnHkEkko0ge5JWFcOnLSNxGIwbUwUWnE2kScLBwssR8dffvmlmAboTRRYv0JqpWpJIePqGWecoYrIWqo//elPvUednjCFywJLMvv617+u6ZnCoDuBbhqzvkzyeDvXtnGdy1Tkdv7fQmL2mCbZ2uY4FeYNQcWrCpp5BTDf2NkchXdGRaMtPShKfqojBQU/Ge8g2UtkabCO09HAyIClzNYbB9Wr8kUl573aTyu3rZxC2rEJCQmaBomMz27bT3H6+5+xQ8sIokHf+DOm34ILl3mC/ApHy5gNI+aPfvKG5RAVnDPSlOKzKHOrxtTCYJ76P7vd74nuf+k2WtacEJfvxJmUlt4FXA/g50eSkPfMaxfGFFEZKREwehP9cig6vnBuu+bJJMvkFVdgCjOka40r9tOwbPjIkAUGv8U+OpKbl8RwGLuPeAin2uL9cnLgz2xdJ3+/rkM+1O2SDRgjxoHPnAh4ozsR8yrGSH8OPr0EFzQbrHHMP5SpaIBkxjQYTERysXL+/0JiHPjNd2CEZRMlM21+vYLSyj4JyNyIfE46ck/1Mzes3SMDRew9OpJ56KdnvAkyZYL1+de//rWPxFjnSGL8SG8sdTAajSQrEhQ/UaREhWUSkT9hGUHZNpPUtdTBBtvuEBlJDAEhuB51PfexflPH0+BhmaJ+Nr3rb1CQ0LRfHA3XMnyUV2f5qHapa1EtMvSTDWCs4BgJDNaWuhZhmZHgCB+pwUojiQ2jT2wQEY19cEkOIAKyEVPWddaXO+5EkhgnAGZ0opEYb4yWWCIqIl2LhJGUrxMQoen24Nxnx9DqIXGRhE4lHdchCWuRwBaJzEmDJKog+y8B3YS0tkhYRmJGaiQwFnz7LtKi9FpjXhKjS9EqhbVmSWIksJORmBUwFmQWMrqzrHLTEuNUVP4j873l8qTCiIgH0KriQGkWeiOfc845x3euWV2+DViw8238CSsHg0vsfJOn4060Z/NJryWmFR0KhLPDJ0ZHSwY/4peZLnn43lFnfZ2019Yg7DYR5cApF8x7IhkFfxF4V6gELFv6flBuPigSm5ub8ynZ/5/jxI4dRfACQEV00Y9/6COxKLRen3j4ATny9KNy3+03yUXf/5ZcceH35fbrfyP3//E6uevGq3UgL5+f73rpzxSd//al2/g++V5IlGW52TLR2STrevHVXcz4vRUfLdze75G9o41yYHWXlMSjtY7jqAQXdu1UDcl3fDo/NqCMxNhIIE5IYkjQUe6UXgsNlio3cu5IXo/WIAmI3/uaxtx3e7vLZXtDJiwwDMfIwUcuszB/oisUA6BDZNAVLQ34Nl0lvvNWhQ+9EvwqMScbT0A5jEJd+6BJLBTjwDilFL84EI45TENh1fIdESNDw1o/qRn4nMSpfnQnGoFR8p1ZfT0dEmP6HCNqn2rh+2OjMQ5fJnBwPImRyPjtPZKNgeRjJGbkZvsW9a2jh43ETJq+NxLjt+b0e3O4B5IbSY5GAvU+B0hnYQwb9bHTgEKDFQ1Xel8q0qOlHl+36MTk4P016OvCx05JYkpemL2FrkUHJDFnmfvoTnRciiBAuCMHvCTGzz2RxPg9zIBXjhzWCYCNxPTGkEGOonH6pRxi8mYECnAsEA8Y+VAmwN9LUqNUdkeLT0kO0tZPJOP0eLQcvFaYSR6rxyNzjEhV0ifrD+4HSLi0HNV6xDLvny23RfKyZboS0aIzdyJILBKFlhWLBYX9Gdu3b9WxYkd18lBvMTWtjlVbtELMKaZYQM21wcLJiv+3/PzdiSy0lh4DFVgR/BUY0+a6bWOlsGW7pk1cynTeF4lBOfv3ibEfh987Y+dyOj47wRZZU2W5tLgrMecmPuKJPE9C+UnFIEoiEeXEoO8E98P3QnCKqvdLYnxe5h1dipb/dBEuzQ/Ll6Xy/boTnfRo/b4lv4A70T7JEQ7PwIvPPy2PHrpb7r/rVrniov+QS3/0XfnDb38p94HEHrv3ViWf901iyEe6LYvwwUsONN3YWy7z3QVycKxMPr62Wj41Uy9fOTAqJQisofUThWPP3Pd/yXsTOMuyqk4355jneZ4zMjNyiCEjIyLneZ6zpqx5IKsys2YoEUXaAgREGWwUh2fTjQpogVBAQb/m6WuFJ+h7jXb7/LWAij67W1EKEEGoKqDY/f/WvuveHSdvREZVZPnk1zdzxz73nHPPsM8+69tr7bXXvtfqcM7fIlskV3ynfmXNiQjjGL8QWEmTyL0UOXRJwKNd6JtiL+Lu7wE2gBhT6CD4tmg84TEFgz7O3GGaa+6gvFd3tK8K25uJpbhMEe1rwubO2rCBSWI1lxdpWCGQcBqiAVwhQc17Sx0nLUYTQ+PiWQAuAFapfsWKlYrJyfVqPdsv3ZcbuqE7o0/M3/8rCixZ4X1ifo0pxOJurol5Hte6jOHbE088YVNEcR00WLhvxreiidUrEEKdZAQyuUaylGFDVbJskOIcbygIlBfy2eU28jb6B7h8zMpdtts+yGcdn/NwDo6Jpm/H5t2WxyZQA4rEXuyq0QzXMnEij7GKdcp03mXdCCvC2paysHlA4ec2doYDm5lJOgevWRBzmCnX+kOTXZYOT0eIHdIM3oen19qchTs1MaZBzKPYV6hSIJBin0YBYlFbEgAk3C3ppigsCsVuVDdUpwKr180BMIOZlvlOYtu8yY8jgBQv0KiRAVJL0rysn4ucdbnzcF7THFmne3Hzgx/T8wiwCDG0MFIVrS/dBy8ELdtXvOJRvZPza2LeEkOAUlHRxHw8iQPJ+6ditZz/byp0/+AP/iAvkKn8mCT8mP/0T4pHN8cn1dLctMnvFwMxvDTpR6E/DAFdLU8o5lRq0JgS85BSBzAT8w22teRaZW4ORjtX/6kaCI0qX3LqQa3KmwkOqTtM1MiL6fDx20rLwtddLceE2tbWZsKMmJEL/SwWYjwXBA6C/oNy7KC8qUNNmtbob/7bF8Pf/vUXw+f+38+GDz/xa+GD7/u34T996rfCn/3xH4Q//cPfs7iA7Mtvsp9iZZBdh0Dkt0BsSBA7rijfdxybCBeObwyP3bA5vPbOHeGNF/aGn/vhG8NIg8pc+2J1eFhhp/Duow5z7Qv5UMe9HnFOPHABtwFsPoipr9DGrOlEnGuJ6gH3zPs4osDdk42KVt+4NOxR1IfdipXsG4nVAAAgAElEQVQ401oSJusVxb5GMzx3VhnE1rfWhPWalWJEYZAG1UdG/yqmasY5LRZimFa5HuohCYChfZXLCaZCfW6lOc2Rba949OX5AnOz4tXKDrB6/abcUnNi/K3Dy/O4lrLyZ/Pnf/7neScqhxgzl1dLaQAsxQCWhRjvm4PMZXf0DUAWxucByFx5MIA5CIGfIJaCzI9PDg9IaHnNMnMSg7GtTA1YgYwuhDZ5NXZaP9lym95l69q2sHdMDh8CGf1iRwQq177yOWBTOri509KhKTmESBMDYkdm1CcmcyIQixE7no5TsWBTN68W2T5pSaPdkOaCmAFMBcOLgXDKAox1C4KY7M51SlG45QScjlloGUSIcR1Ai6nE8wlY5c6Tnt+EpR4yJosr4RUfGg+O/gP6xZjh1pw79BuE9cwMHkQxUnesUrkalatVZA4xtn/gA1F4AbL29nZW2ScrdHx9Nk/381h1XvGBURaGrnmR80nHkCFUSQDVHR1c+CD0rvikb4s2+tdCHqfz4EUnuaMCLxPgRyiSaJ1R1v4SNKj11qxrqFeLtkFOBeTuUGMvlAQE/ZHXCmLc1/nz502oe+xEB/8V95ysWCzEvC4AhY889VEDPsLKy4v7I+htuVKNXJP72jVz7sRIeODCbVaW7Mf+2U9aJ3xbdh3P0yZb1e8R5v4syNG4GiU8VndVhpnRPnkWy8tO6znfww8/KujqWXPxV/n4OWlIeT0ix/U8D7AcxDjclZoY5kRpY9rI9iUal8n90j83pOAK6wWlDUoTDaVhXLH5xhpXhIl6jdfUuq0NK8JGDaJF+1qnMaxr1KofkJcrE222q2uBcEnXAmI8I45DAlwGMHk+kpNYzz73X7ps85XZ+6d7WUDxWQPX3+UXCzGdKg9Z3jssR3hV0whEI0qVCgcTeQorl6/IWk/eoDQ5qePZ9xzsHGJ+HLQx1/g4J/Ai4RhXrUZqtcCPDACoRAABZFjOUCjo8jGHDw21GZRZe7yvLs5ysQCIHZKp2bSxHMQwJ6KJzeoTQxOjTwy3XzoIsX06xCCpgUPbXBMzm6qEdSwgFdQcEGH9wtLVIObXQEsiAi3vrIHQtPNErc+hCVj9wRQ0rwK8Zq1T4SOMgZgJVC07xOJLShXShxqbq7W+SI4G4H1YVFY8mBYiPDkkHwdS/Fb4631sqYBLNS3f04UM52SZ9IUvfCHfR8fvXfgUhZgfKJen98Yq9050oWyDwnVMXmyCJ5MoP5Lby8nTVp+ZMSQcKPcqNDEJhjq+q/Jbmavc0vv0e8pc2pxfvQzf/e5323HwzFzoMRYDMS+rbylyO42a93+IGQ2iByB9o5QZpjPukYTGxHQkVXJS2jq5KV/f0nv3myx2/dl1ExOTOoeErGYrZjZmGxOWO6d7kzLjeLX6Kho1VyBx/7i+B+5/RPWWZ+tnmzv3sk0dFAp9YvyuoEFwOG/cxUNzEiUjpt4VTdPC+ZmtmwZkp9y0hwSl1YLSsHKW11YtDZsk6MYk8DYpDVUJXHICGpYHHBAb1D4dCEU1Zum7B8yUH+nFmBPRxPLPR8eoUoMLU2KVvDvJS1Rfqes4eVy8Nw6i5665P7Sxq33ScuMaU00sPk8vP88LR+Qc/sypS1wHKYWYa0QOHZdt1lBEOwJyer/oD2UboOK7Q82+a31s8Gt9AjGW+Q37m6YlQJFzToDFM+QdrlTDxCxaUggAHSZGAguT6Dag/7tFzxiQdcmsTfDgbZo1+uCkXOjRxJTyGhj9YTkt7OiWLgUR7pYG1mUDntHGDmgMWQFiiXdib2ebvVyYE4GYmYHcLJcDh3sZRpAk0DCnDBWOXs7ZiQJZSIq2Vy9sK7CkkOtVQNFk6DnQKwAyfRj+gPwYaAb+UD3nYflv7GHqQdEqtIqhB0RlQZuyClSoT7HW+krPtZ2XnOTQwfXYPwCOSuhQY5l1fLxyspxu5zsfP15LS0tckfvrmpqv5Dic3z8cH+/ItPU3H8T8Vjz341ieW0mZMFYmHUPDOjcxsuxecnhO0UKk0YNWRoOC59ekxgLL/jJZC1Kz1i4WYty/J665Wk4n994rxwV9vKztyxx/rgXEnpMahvD+0Ec/Lk2MMUUaX6T7JafsKR9PNAKIgdfR2mDrXABnLy+tH74t7WdlecuWaZ1jRSgtq1YuQHFuCVsbL5Y7J9BknBWu2DQ4EIJ45BV93n6iIjnmRK7V61XqKm67c8Bin8x6jsEzR5NY01wf1ipI9zoJNiDWL0HXJ0ANSNgNSXMclLbVJQHYrbxXwCN1ybu1Xfu1aD0N7MVCjOfv1xQBIS9OlaNpY2poeZ8Yz881/GK3Ode6bJ9YCrFZv/EHkikv/0q5cw3MKo22WKHnblqQ6pl5WQsgDBki8R3NqEamUd/mOQ1IttGIJPHdEx7byEnzcFVdIbIKyRun9HuhaQEq3l/2w6yJZzJ9dJg3HapNasShjaEQ8ZwcZgShIL7t+g5pYxqwzGzRJxUs+NS0otoLYIcn5OyBt+JUp8aWtQlgbeHQFoWykkZ2cItMkILYoak1YXpYLvayaJg5Ee9Eh5i5a+J1goeZKr71LRWFWBRMpvnwglwBMNYtBGDsEyFWAM/sloKrvhFmIn1OHW7QwyI5kDzPHofvDjDyFGL8BoDxYNAkUNVt3iD9xutUvqL5imye28FeBEHw0UcfneUO77/Pwob1Dh8Xti64yImfSMWl0rM9FWD81n+THodlgPgrv/Ir9mJyTaSrQQwB7LfFMezjK9Qp730aabDSdLeZmRl7wQAZplnMWTYEQ9ffoNSkcmlWGbPsz8IAp47pawExroWypEwOHjxoz8Cv72r5YiDGsRn86g4Sz6qsvvXtGDKIYqMIvX3hz9ZhVqPJCln2Z5S9Tt/fNWy2+zo3H3sdIPI55+I5apJgywmN9Jj6dhHyAAPXa3Lq+IOXgDx9vgv/LAhiXmeSA3MWX83ZoiCW8JNAHOlsUV9dmWle66qXmSbWL4j1C2KkXjnHdApWXer/6tRytxwFujQ2qUOaLBCrlexZLMQIwcUz4Lqoi2hfDjH6x4CYP7N/Nogl5edl5xDDwQTnE4OYQAaQHFALgZgDziFXq8lGYxL0BDE0LEtFIAbMzHQpiJGznykAeu8NYIIZECNhfQFkEWLSCHU881bWcyQy/uqWWgPR4XHNMbYlpmObGT/WI7d7kvrJEogdmu6wyB1uTsxA7GmDGH0deLvQgjavwjkhFlvYUTsCQACrWFoYxIpBh3UOJYdWsdz3SfP0eAYtHSsFWRZirZpeHO2goazcWqkuWP7085+b/ZJ7bcrkrkXxImBmyc4IXExzYp0LJF5sh5nnbNu6dau9XHSgp/v6+fx37qnId992zz335DW5hUAsvSWOY590pZa/l4u64NfIPphTvquBrBs2bDL4V6jVZf0xqswOq0bVjVa10NrUMGIZDzkaR80yBRFwdLEQc0Hugv29731vuHDhwizIxxsq/nexEOOoHgTXc9Y9+yzzbgEevhXKD+2VOlapGHVe13hG2U/6zH0b5mS/31ivdAJznFC/E2Y7gYnI5+50cOGC6gH1kvPpvbZGmpYfvHwht//VzWF+7msJMa4DN/H1itk6qokWJ5o1nYeCyQKyYXkeDilG36A0rj45BfQIWET3aBfcOuS63aUxoACNAfT0jb+UEMPB418CxGgIOGgdYpVLZcZTykLMgcb6dJuvTyEW91ml/UgRhinEgJZrYq6VoYG5IwmwQhvEnEj/NsmPY5YWga5RffooRTCCYM7eR8ZcZaM9TTHGooKDH1VoKgZAY1Zk7BggA2JHptujNpaB2Mya7rBnc96c+HTo6Wi3TmYgxsmtcx6aSth4P1TBnLgwiLlDxdU0shQ6s5ZV0R04CwUYMEuBtRCIcQ5aEzwAXi4XLHTSz2qrZoR62rwEHl1dXVbR3vWud9l7n8KFFQ4Y2zjHH/Zx4cU4L1pfHpHdtzlEfL9ixyZiCJXeTZLFNDH/ffa28peW2/D8d78Xnv22gg/nhDG/4xqeeY7B4PEzPb01LywrVKGb5JmEqaFFLbZmtdLaVa86cLsXzPjeJo/GbrnfM4fRYiHm5cGVIOQpJ8L08FlImS8eYgQiZjiFgKIPcMme164Rzw8lh9hKCWCva1eDGMfz+/Scc9n4NDwEn9c4te8+E76nxMch9sjLH80Lv1KVPWVNuv9y1MT8mu1HV/nzYiGWq0b5d4l7Bqo4kq1pawxjbXKjl+v1mBw7NmrixRHNA7hOIYzWalD4GkWBGFSkdjMjShtrU5k5zMgZG3qtIeaOHWhjPwgQS+GULkdAFbS0dNtskBUgFgEU+7vchJhCjHcacKX9Y/SJOcAcYn4c9sXBC5ChGJmyo0YcMpfxvKubqsLUYHPYs75DZsQIMhvsbH1i6g+bbC9ATP1ixFF0TawoxKgM2DU5sUOMvieH0BWD48ysx/asFgZIdCwlb43Pl88Cl86X3TfVslgGaNl1Dq8UYN6i4H6s4DPHTo/BOZmSJQYC1sR3KvSf+/l35oW0vd/+Nmbz3MtPHwHCiMC7fIoKsty+qXbmMGFTKqAOHDhgmh0Dd2l9p9vY13+H4PZt3kon1iIA5HpIDjFMk/7x3/vt+Pr5cp+V1k1EtPqZNmJsTF5yOTMHmhiNAuoOZkTA1SW322655ndoHF+7nIUwCfUxpkQDIxFofq1+br82/z5f7vum+V/91V9Z+fu6+X6/aIhZgN/vhueeZegDqhdGPTQkwV4NACoRcRW9PsTnIbOe+p79+ZBnP37tae7LeKtyPEJd6eGrsqGJRYjyPLkC0u13X9A5OI8cIFaUCZo4dqwI98mZwfdh/4V8rgXEuH6HGPVkdYvGfin82JjiaY7Wl5g2tl4gW19TEkbkuWgu9YJYv6YFAWT0jZlWhmZGv5gE4WIhdv+DyawCuiaHWJlMaz/IEMtCi+/eX5Zuc9h57vKSHIUmCzHkagqxGvVru3MHGpknP1+tTJ8NObMi3orwwo6hnJlGRtoAWVMSlirn7IHb/RbBLdcndigDsS1ruuRin+8Ty2liurhaTcEdNTH6nqLzhAPJyezf8xBQy3o2yCLEsjCa67tDbM7tFBrXJiE5X8oe54VAzPrFdO8IVFqqCBVCSc3yPuJtL5IcIIADt3Yg5jBBOGT7shA+n/3sZ/MQcsHEvixzPBLw4jrwtEuhlx7PBSO/8+Nwbvqo+K3DYTEQ4xwpKCmCbz/7jBWFm89wMKDcbIyNciq5m2kxI/Yo0na/Bkd3K0IHpqBeWtdKzB67WIhRbl4OnrNuoZ/FQsxAgmP599HGokkPkDnAnnuGaB7xw7Nz7Zjnw0B2clL2kz5PX07rQX5/PZDvyjuSD8/mW5r6xAH1gGYgthiKAteKlQoErP4P0r2aFFPYs6vlNwv5XAuIcZ7ZEGu0PrENCi21Xg4epHVKa6uWhbXySARkg4p8MqB6MqRJIAflZt+nBhAmRsaKXQtN7AcdYsXAlELKl72/LLu/wytqT4U+MYeYy31yc+RQXXVTIe+5a2KYFdPk5+O49as0tYtAZv3k6mpANtOFQ4B2YixuUqDgXXLyODwp545cbEU8FI9J8zqs2b4PbWmXFjZbE5sNsa98VebETjOlATEuDPdo13gcWn4zDos8UAxiUWOzznp9dy0s74nGjS8yXQ1kqRbGua4GMT+eqbYyf1kHJTbd8goTKkSSn/WC8yVNyZuP8Ny+fbtBwwUpIHLhw64s+zZcwfk4ANP9WIewe9WrXmXXgfDgA0jSjx/L1/sxyNEkHWAIyPkglh5zvmVuHWcB18Ke+250YNDpFEpn0iBGy9Xdf3kGneXlZkp0iPVKIPUr3tpqxUxEIBFH8VpAjOtOy8GX57sf37ZYiKF1YdbzIMDkFhQ4aVhwLvoOKUM8FldJM12ilrF7Ec4HMX7r4wS9DtFQ8T5AjokTyXd0fBoVfLdrkpnxgfsv5TxKVc7LiWKPB2MBYtSouL/9aN4/1xJiaE9oYkPNDWFtnbQuoCV3+nWVS5VrTioNjMWdHrPikGI/DsoRAIit1lAB6g2aWbfWExHifwVNjGfE+xwbALMdOxwcrgHNlft+nl9tv6xGxneHGMtwgpQ9jjuceM5UV2hrgAyvRhw+kA3mhyDzMAOhmRl6y2Br2DvabyBj6pbDWxjcjIt9ZwRZBmJTazUVy6RPxfL0V/IQw6TmEMtCqmBORCVUv5iZE1mOACP/54aYg4hrzUJyIRDj93g9AjDcUenPcU2MwZyuadjbTU1KU+6VdxARJQJ4pDBhlxRmDh60q/TDb/x3vt6nY2GcCR/f7rnv599d++O7t+4dZHNBzH/rxyqWc83sx617X4sXg4tMzJTEsANICCeCk7pzEP1hQKxPQmigMgJspLEyDGseok4Jp8VCjGvzcvWc+2C9P5ti9+XrFgsx07jMjMgRBRIcYFhSY4SPLiMmLT/73Hfzrvfmgg/IVF7zQSy9Jztg8odj09XG8/AP4/qYjBJHD7wQKV/qNIOibdoSnfPS5f9/zIlco2ti9D/3N9SGNYqrB7wAFyBLITai+aoY5MwYsSFFTUcjA2Kmkam/rEN16n9FiGHxcEhcDUoOGd8vzX1bmvt205YEq7xGpmXWeb8Y2hiJ/fk9GplpZXISsTF2OccTPGLpK8OsSAJirnDges9A6B5N4bKhsz5sX9cd9stbkYk0D01qLjJF64jjxGRWnJZWNt2TROxIIPaVL+Od2GX9QW5OjINTGZeFVhYdOVKImTamizOI5CDm+5G7JpYFS/rdNToKJS0wX++0Tn/DcgouA60K0gvFfpMreAo/CzJ7IDqGHUfbHcRcA2ov7uG88Jh8GBiMtpH/ICnSlNvgIHDznwsvFz6+3XO0BJ8fjH2z+/n5PAoIEHNAuYaRniMV1uz3mc98Ji8YEY6YrKwVp/sdHx+3w/vv/VzF8vRWfTmFOue1pB8TDJZxZAhMhBOBSakDxLFs08DWLmlfBrGa0jBUVxpWq/+jX2YjbOILgVh6j36tXhb+/cXmi4UY18YHb8S4VACLu9k/l3OBZzuaGFrYipWa44tlldd8EOPYnMPrgH/3dfRJ8kH7M3gROf57cvCQs8cjmvzS6rPOQVBbnDso74cu4Z0o0OEQAoAX8Hmxmphr7l42DjEcO4DYasHIzIdoY6aRRW1srTQxtLG1avgYxKR59UtzRwszbUxaGQFnrxXEGANJv67FTBTw53Ps8Ge+gGJbQMSO3FEooDRlVrsmxvN0iJmHomR0CqHsMpoQyeFULOc37pzh2/PrVFcxDbqcTkGGlyJyk+2cg99QbvQnkmw8m8qSHMChJKGNuRxGRjBMokVjBHskFzZ1a0ZoaWNHFaWeSPeAjIgdppHNSDNT/EQcO2LYqRcAMde0shADIMUgxv4/KBADfgzCJbYfDwMtgkqCUGHQrL94Vp/SCpZscGGKWzt9UXx8nX3RHweVf2/VNOVuImJduh3AYE583/veZ5qdC690H7bzIhV7md7//vcbtDzkVAoxj9jxQiEGzHHi4JNeN+fnWBs3akybyozgwIz/IfKLueRqHTHuiJ/GINUeDXQEXoPqvGeCzA4JratBLL1Hv27vG/LcLuxF/lksxFC4vv3t6KlJRAqvJt9+Jk5hj5nP16HJlpQ4vORZpwCzV4OYP39uj+ee1gPWed9bhBFaYEzPy6zJuKZ4Dp1L458Q0jQyHr14j3aXI8r3NfecueZzpPk/1xpiDLzuqauWaVnmRHkkmlci/WEyJ8Ykc6L6xdDEANlqae0GMZkQAVmPtLJrbU7MQmyucWJpnZy/1DQAXt0BbhHhWS9osHMiX7zuvFiIOZTmy/PAUkPH98uvy0HMFYL5IMZvDf6CGjEnWfZxdxwPsyIQw9qXV05UD4iFyzQuA02VYXKoNezeqODA8lZkUszD6hvziB0+2DkGAE4cO77yNIOdO4poYjEqB0AieZ+YQyprbnTY+fb8RerBFVt2jcsLBzqnqdhvfJ3/ltwjffg2jsdxrnZcPwa/QyPDpAjECC/j5reijh1z1FqiZFBBETKp4GF3oEbFd7hRmQmRw8dfCHKElH8+8YlP5Fvo6TaWU0HGdxICnvzxxx+33/k9OMw45wuBmF+H5xzbHAj8rVLuprSZ6c0GMSJReAgqIr+0yCOxiZZWzpusU/bvHpmMBiS0hmrk4KFO3atBLL1XX+ZaUpj6Nb6YfLEQ8+IAVjkveoOWAzfmsWECaIA9WishoHzGYJ5N9sM9ph+++zG/+c1v2rJ/f0bA5MMvaHDQ3HhGf+576DHFKhQ0NcPzslU11h+GRvaK+xWN/Xvf/GeBmJeP343dv+6XetJRVW4m5mFp5Dhy2Bgxi9ShfhLlw5qTiqgdpH45BfVonFivhmf0ybTIwOdr4Z3og52jOXy2JvaDALFU2ym2DEjmT9Ky0OZUL0hupkTLwyyIhgac3CEklatRE4uOGkTuIBG+DznK+LoSAZCZAOgrZx3Hx9pHQkabH4J+w4zRzEzSKa18HUMu+pttypaj04OaS0yaGfOJKYoHENuvucZi2KnugnfibIjFcWI+hQoDmrMQ8+9XgxiQcLAUyx0iaaG8GIj5cfwcfjzP02Oy7PuR81uP+mFqsQoZTcy9xj77R3+IbIgffxv9e5IDLaZLSEPxuBDKd8DnhNLnP/95gyQtNBdCwM0B5jnrEG7kLrw5pW9n2X/Psp+PkEv8jpYbIFssxDg3xyOSiYedchNVmlfIdEgrn7mMmGPIxhfKZMSkmAxMxSUaiPWq/2O4boXmt5I2pk79q0GMe/OPNw6477e97W2+elH5tYDYM8/GiBkf/shTNukj5W4asMqD8WAWnkvLXl7cc0t9Tbx3Lb8QiPlzpgwYn4fLPKbJFepv4DhWdyUYlgiS5sixsiqsqGgIpTUt2h5nd77/siD2PGP/Xnpzor82WYhRV9o0GwJu8wOASyalQSJ1qK6QhrQMxFgeUN1xiOHhapE75F7folBaizUnphDj+bg5ESD8S4aYD3YuBq5i6+YGWQFiBjPBC5ClEDOtTECKno5RQUCWmkaluk7fGKHmgBhdMgxVAmAkoouQAzG2oY2ZW75+Y/1rkhFAjHHIbWrIoI2tbasMY901iq/YZA4ePqcYECPe4tGtI2FmpLfg2JGHmA7mg53zENPB3X2eE5Fc0/Igu6kGFrdhTiykFBpxmWgOuhnZTD3MSRY0/h0QXfn7CJ/0HCzzGwcXheMtAwqXlB7Tj8vvGlXAZhZViwW7LRUZACD8f/U9vzangPSXEyFPQhMjijofFzTZH7MfE2YibHy6EN83hZML6+Hh4TmP5/tkz3H27Nm8JolAS126X5Qmphu11rMqYCqEqZweYgqBZJVUOWZn6gECpl3eiIQHigAj/p1a1ZiM6laGdZq6fLBekfZz5Z0Kci8T7o1lEmWH4PZte/bsmQX0bDks9Pu1gJgLaLRr7sMHNFdI0HJ/JMqIVKH3rE5CeUN/9AimbNN79+v2+/S8WINlVOPzlij4r8VN1HF4Pq4Jl+k8VrZa19TUEmrrmuN+Es4XH1CAZJ0oGjr9jPPnL9ac6O+Jn8s1McqC+eYYckFkDkyFA8oBFprXao0LMzOi8mG51ePYQRiqOExDs4JrzBEByq8VxLiuHzSIoSkVA1Z23dwAk5alxunsFPuwHJKeu6u+y1mUGXPkU+QVojwxGSfzA9LXSTB5QEYYOlKJ/CRKBS3khQ2IznXf2LG0nd9h6WvS0Ilu9ZvTuB1SEOh1LavCvo2KnTjRIU1ME2lqNuhDClF1bNv6YhCLAYANYhJC7llGxA6HGKR0iBm49NABmUPMNbQsXK6E0GyIOVzmyq/8/fwQM4DpulBVAdnVIMbx0SoBG2ozM7siVADAW9721jnfbH852cGBgkBE6LjAIUf4uiBi3ze96U0GFsahuVB2MyP7pTBzRwyOwXo/D8fx/TiGH4f96Jfj+k2YquLMB7H0ujhm0Y9ulBe8XCYATAQIxppVZSaQXWDagEjWq7xbNB4EDZ7ZnDsEsVbVoU61pmlxI6hWyxMJgG1oWBWGFDfPBK0qfCrIs9fF9+w6tN5Pf/rTRS/5haxcLMSek8chHzTu9z/x66FEZtRVeiERiNxbKXVQZUBdbJC2gTPL2EB7OLZjs8UyZL/03v3a0/tN55Cjrvi28fHN+q3i+8l9mT4m6nydUptSi1K71m1sLQ+7Nw2FbqLYax0eihcfeNh6zjTZssHMzzlfvhiIAbBiECNALFpVn2AfE1rZUgX/JfyUtHWcOFRvYggqDXaWFtYlocmg+TYtM+P7tYIY5sQUYgj+f6maGA1I15SywMp+zwIsu302wArOGA4vctPM9O67JoaMNbkpADGric36rLxSfeJ5iAlcACwGvNZUV+oHIwEy6x+Th6V5M2o/QqIhQ3DyIK5inzxWB+oU0aNhWdixpiEcGFP4qRzEUk0sP9j5K09/KR8AmA55WtJzQQyQeRgqHwwdta8owCLICloYQLsSQi89xHiZFwoxNDEcO4jkTCthlVomDoEHHprtCp++5CnEXLA88sgjs6AFXPi4AwIQQmhyfDc9OozYzyNisIzg2r9/vx2P7+nHhZgfP93W3d1t4HJzoveNcc6sJubHSX9/xbJu1F9wzAKYW2pWaBry+ubQXl1rk+AxkyvRNzoUhYPYiAxw7tNcTwjSDtWnbkGMVjTCaG31yrBRIYZGNTZkrUwHUbDODzG/Jq7Xgc6UN3feeadvetH5YiHGib/3HT1nldNHP/JkqFBMSODVJPfwp//bF8KXvvgn4c/+6FPhiV9+W3jHT/xweMfjj4V3vv6Hw+sevksheSLorgYx7tvv3W+UOjc1NWVmXspwQ0dNuHRiKlza0x0uTlWHx3Y1hNefHAxvvG4s/MQtu8J4blJMGh5MKeIuINTjhXwWCzE/Dw0irjf2iVWGnspSi8ZB/aDPC7PhABOtAi+lXpELGPEAACAASURBVMmcPjkH9Wg9wYA7JfA6VcadGsbBVB8vBcRc8M8VsWNB702uUCk33kWXKdfCsQOIWX/VAjQxvAT9fshTiPEuO1wKMJutieX7yHIQs8a+nh/jvJD3tXo2dXo2BJhmYuUUYgCMhFdsuSxbqTZm8ReJECWZWy3uADFYgbPOQL3mkGuSQ0/zyrB9uDEcHOuMTh7yWLTpWzQp5vS6nkKf2Ne+PD/EbIZktSzz8NKFokYWAgADrX/ZEGOqANf03ORIgZnWqJyWBQO8sdUigOh0x5x44/mbCu83b6GnZDHVjtxEyI8Qtp57pSd3cx9C2D8pyFjn/WgeNxFY+fHSZVuna/KxSbjAL1OFYRCtRePXvRSDWHo9fg1z5ThvWAtVrX2ED52yLRVVoae2QVE55OYsM8/axhobC2bROdS67hLU0AYGJGxMCJmJSJ31MifihQbAiJe3qaXiqhBLQe1lwLVSfkNDQ3Nd9oLXLxpiuYFazyt+4sc+/GSsP7r3Jo1tevov/2v4+z//o/Clz/1++D+e+IXwjh9/KPzMqy+Hn37lhfD4pVvMkkF9mw9ifv9+7+ReXzZt2GjPBlPMZHd1uHhgODyyoz68YsuS8KqJJeH1O0vCO84OhrfcMBo26L3lmVSrbjAVCxAj0qLD5WoF9mIh5lqYn8chhvmZqez7aypsADwOGw4xA5nqTJ+gRcQOTIlDchJin24JvF5N99MjU2S7BtMvFmLZiB3RTB7dxGm04ejFNfOMPIq9vz9XKzO2X2uIeXg3AJT236VwSpfd3d1B5ttm/z41KV4JsXLc5TEF0ohVOSAvCxBDE9N4YTQx1UMsAm5ONFkqbQyIAUuHmLnby9IFyOI4MvWP6XcoHpgU+xsrwlrJhnUtpWHn2maLbH9yu6J5zAwZxA5Pr5E5sTvs3pIb7Pz1L3859HW22cltfI9aOjbmS60HQGXxE3XwOD6LwcEAjPFjPuFaJChQ4MZIERARbCx7ypoa+e52UYdMNvffzpU7lObKs8fz775/AcBSjdVS4YFR+LSeNk9PacCzIjAQ4BWtilh4GvPDm89LiUu1fxAuf/mXf2lfXfPiSyqEWB4dHY2d/jo+n+wLkULRPRhtx2J/OL2u4XmFHcJg88zzcgZRi3a5XnzugQn9rBWoyseEiZMTHjtRosVj/BU7brpO53DXbDNXqUFAX0a7OuV75PpMp7y5QmtqkUFmdFWFxkS0RmlYgsi8zDSQdUReiRvkUs+EhxPNq8L2tlVhWuFmaJF7S9VPmy0TX0/u29AqESx/9md/lm62ZS9zN9NesUOyYnEQQ9NWA8MC7z4fnvzA+/NaRpvK5mt/+cfhG3/9n8N//+NPhN/78DvDL77+Ynj9/efCWx69PfzI7ScMYjQM5oMYl+r3TE5yzZ9IKUyGSRmOtleGR45tDK/YVRt+dGZpeHx6SXjboZrwrps3hJ+7dVvYpGfRrv2Ax/33P2hhp3DriE0tzjL3hzrpEONaMbW7Vk8VJFEOV6a4je2wng9AADxcR39jQxiurwurpbX3W58XY8FimCkzIeqa16mPhEDAqzXWELj1y4Q4rIbSGjWkOjUDxaIhlrOMuLUBjcG1kzJpClzvclkTuO97Ltxt92DPo3Djtm6uP4zzpH57Y5JyQz74M53rd77e9+P6rAEg2etmTvJZ1yuZzDoSWqQ5VOAZaMuqJzINkkqlwZUtZ/LPUmlpcVoXA5UcOhxynmP+I+F16GPObEyY5AkylAZU3qQodgA4nq1pgNIYsWzFJJiJHX4c+EEoKrqw8t0+AhlyHi/F9e21YUSm8G2rmxTZvj+c3rbaPBUPSxs7MD0UJtY0h71bN4SvPf0/whKDWEeHQYwJDX0GZ+AFsJgDyqbP0MHJcUcHYgj8CKUrYcWFOByy8MmCDKikjhcOGc+zv89+dxjNlftxsrnv70MHuC8cTihkJp6j0nb39xkcbOwN42ksvo9eVr2R1GFas17JqHT/+I//SDZrna3QH29J9/T02LFTwZW2rn1/KjrOIvN+uAikkC7p2xKkH/2tfy+vNAlFVSwqEpqlRWnQ84oQ05TyJkxoH+POzx0gfOb56F4dYjynZplxGMTcXVMeWtS6x4tsvTwO+2VWGNDUKjhz9EoLGdS2Mc3Su6Fa8FIaV5qoXy4NrCTMtJeGPV0lYUdvtV3nYiD25je/2S4e7cTLGE3Wl+e5M9u0WIg9/33c22M5PvXkh0JtSblBxSAmU+KXv/Dp8PW/+nT47Cd+ObzjNXeGNz96Przh8o3hgdN7Lf7f1SDmWrmDOb2f0dFxgxjPemNbaXjgyNrwyr0N4V/tKQ1v3LsyvO14fXj72YHw0+e3hBmZE+091uDzhx/UzM460EI0Ma/f1EXzfNS5qLsM2OeaCrLcIcaRvV4VtmchRot9sLkprG9pDms0mwFaO2ZnNC+gZeBS/wg5g50HzcTIOLKysKGmSnlF6JR1AIBzPaQXM7Mz2hW/pY5jcXAomPYgiK3IAYx36hU/9HJ7t61ucUP2LqVP5Mpl4O8Ao3/auxHYs9gzzR6B8sejGYAZUJWX6b0GUBFWhf6mCN8IsRRm5uIucKUQc5CVClxllpB90fToACNPIeYAmgUxyW+YYXNQqgGAtsZ2zJBotVxnFmK46zvE6hXlCLkCyEhwo11xVde01IR1rZVhur/RItyf2jps/WJA7JCWJ9dpPJkGRUeIPf13BU2sTLETdUFG1gRigMycOFSAHuWiAKMCsBxcaZ6FTuF3se8sC5fs9+zvs98dRnPl2eP5d9+f7ywDZocYD52KvUoaB3B47jkiIOglBWLfVc2VRoYWBj/mEpa+3isqlZHEcctlBiHPhpSiAiOMXRtLNbps5bbvvEQ5iD0rLewDH5N3nEx2SyQMeLmpLMtUMQlxlIXYrIC184AMU6VFe1CDBoGL7Zo+MCa568eTCFdoOSsMSxNbrcGrXdVlYX1rXdjSXBEmNGPvZgnPyaYlYWvTyrBNANvWWR529lSEA30VYfdA3aIhtnPnznzRUOYudCl3L/v8DkUWFgcx5NjzGpuFTiPT0W9+UIJQZheZo5skbL/xN38Rvvm3fxq+/OefCZ/++L8Jb331PeHHLt8QXn3hxnDh1P4FmRP9kr1OoIUxRo77HNs0aho3JsLxjrJw+cia8CPH2sNPnG4ObzpVH958riW84VxvePWZYWtsNGs/9r37tpvtsAuQwbYf5crge9coEMr07fDhGPE480PMz4UgxkpA38ma9pYw0dEmE7M0MTWCutXwoR+MmIkxkr2iecjtmvBTOHoMSxsbb6wPE00NClNVrr4xCUkdi3eJdC0hZuYvmcFWSh7a8XW99168YOVu9WqBEPvYxz42y7kKM7jXS6+rVpDz/MGjmXLLa4sy6TvE8AI0Dce0MAcb2iRamub3y2liQKtYKpMmD8gYnOwQK/wmanF8T7UxHzfmMhRmMN0KifB9OG6wD2WIMxgmWZw83JyYQqxRXRJ090RtLLKE8X+DDTInCmITXTXqE+sNQOxwzjvx6A71iW3oCDsm10SI/eNX/n4WxAAYyfu8ABjJzYo+Psxh4t6JVzp4xAvy/dI8BZlDZa6cfdPfZpfn+t3V1vsDYD/MZPVqdeDyX6FEBbCKqxdejt0mqBTlVcNqJKwwIcb/xg9/Ob0OUkGpnCnEvNJ+6lOfyrfKOP5b3xq9H307x0gFsR9zzpyTM6oVtuqi7rp8IWpium7uqYrWpTTmWRDzg5k5sdBi9tVX5DqHtwBrJThQ/1tkNqSh0kFMO4WLIRpHH+bE+tqwrqslDNaVh/HaFWGmcVnY1rpMpsPlYXd7SdgjgO3uqQx7eqvCwd6KsPcaQIxy5JMKBDcjpuuuuK/cisVAjOKnflD2LH/wg+oTUz2iRV8mT62///++EP7hb74Q/sfn/yD8X//hPeGtjz8YHrrrTHj1/beHe68/aY0n9vV7SK8xvXa/n3Q7y5Obx6P2oGexrq0snN81GB44OhQeP78xvPnO8fDTF6bDa26ZDK++c6+CMcc6ges94ajy9r3sQTPfvW768AF7L3TN3qfLfZOsElIRTQuL9cp9Egv7BLteIEb/yfqu9jDZ2SJglYU+fe9RYqwYkezzETwEsVEJNPYhqv3mlgZN21IbBiUwryXE8oDImRMRuB6ma7mui/veuXuH3an9SW+qsPaKJWa18DJDE2OSW2+QXLHzHCssCo/O79eIJuagoWFpcNB1R+eJghkRiLlGhvmQ5CBzrczX0Wc22/wYAeTncY0MOGUhhjMg84ZhHiTQLzEScdjgNw4x3OyBGuv4PZqYTdGi4OvMCu0Q41iNasj0KbYq07RsaK+Qm32XzIlrZE5UXEVc7HeOhK0bu+eHGC6TDjH3QvTcAeQwSSHmy/NpYv47co51Ndj49rlg5ttfaJ6HmAobc0yt4BVBJnVcy1QYHCQ+9NGPhG/8E9ENVMNIaoGhndhcWr4KLS33Qfj4i+/rvNL6GDHMMkzbwsBkPuxPSgUXGtmCNDGd+nkNtmWSyoceeyQsUWt2qV46c1ZRxVypVtayVBPzi8r3iXHtheS36Tm3VqqWH8IW4UOyF0c55QYseZacj+WOepmGNP5rvG5Z2NtZFnZ1LLW0v2NlONBZGvZKC9vXWxkOdcuk2Ftjx1iMOZHf/vzP/7zfVT4qCivS8szvkFlYPMRiAwKF+Dee+KDN20XDwVyLeQ4y75YrUWZoH2gOuNo3yurBOhoI80EsrUteH7xuTE2pT0yw5Bgcq1bnsfdKy5gOsZ4QCaFBcQeJpmLCVHX60oMPWQOMa77ah3Px+fjHP26/Rwuj/uIZaQ0ubaOuFOpQNCdGgBXMiXGfAsQYFL+ptyNMSGsfkeaF+blf1z+ssomBgKWp0ZcqR6DNrVVhXBMobqgtDxvrq9UnViKHIXksylKyWE3sSscOtI84rskhZuP+VG6EV8t//AXJryi+gBmWcvc6TmBxr5fpsy3+6ygbKHueMSlqNbGhDXRcI3Ng8d2jZRQAhokxQsyhBcwAWbk8jUsNboKYZKEn78sqQAwoxegdKcTMyUP1mni7QKxZcg0TIc4bEWKq83pHKVMgZl6QQEyNvQaFYGMCXXwxXBsz73hZkno0KeqIones1azfO9e2GsRObl+jEFRD4cj2tQaxnVty5sSsJmYAk93cBzx73xhQY9kh5rmDK80dYimw5lpeKHz8fNnjLPT32f2KQaxOD4m+Pl4Mh9j73v+EvfD2puLYkTMjIACeVSw86rJDKls500rKC09kem+Vke/du3cW8Pi9a3BzVepZ6zk5liyBhsWZXdsixHTsGqnx9YIxlXG5NMu8OVH7sW9siRfgZQfRgdiWJnYlUC3ROkzDUD/BKr3QCE36NRDSlBeJdaQuCZ6dXZVhX/sKaV9Lw/6uJeFQ+/JwsHNV2Ct4kQ52rgi7uqsWDTGE6rlz56wcU42FsvTnwT3M9VksxJ5TTMkotmVOfPIplRVavMw5ejkROpSZJZVVjcyulJ03BhiTyD7UhezHr93vI61Lvu+69SPW/0lji+N4+fMsMA8hpJbqWizYsJZXlFVZFI97LsYo9t/6dgSUH2+unHL1gNRef0+cOGHl63Ul/tbrE+8FdUlOL9pA0uOwikVZcJ0Iq7HeNk2IWWkOPzgBrZGTEA5ARLUnMUXLaGOZHIDqwlS7JtCU1xqmR/rNcPAYqK1cvGNHZlLMqM3kIKa6hQZhz1HXOzk5UahTyAHSVT5oYmhg3i/moemu8rP8ZhoRlD3XYM9Y7zMgA1rFYOVgIwdABZAVtLC8NgbIPOUARp30FLsR4jG8nwxToUfwwCxoclT1D80Kc2KL6j0mQrQxIEY/GhAzLUygc1MjcrZxZWlolnWnSY46TMiMNoaPArEUsfKs1YSpw5owdaqvweYZO7NrJBzbKo1s67qwdUNX2DW1LvzDl+XY8Y9fjd6JtKrr5MZagBhTq2gdB1XumhmwAlLELIxxC6PZMAuxLGzm+p6Fy9W+Z49ztf3n2u4QM/VYwh6AIfQb5LpKWdCSRjj86L96jb2EaCTP0x+m/7EFqnh4El/2qrJRHxc0LoDYj3UOOSLdo4H5AGQ6x9N9OYZ/p/L671hf9MM7xKm/o7iGMnOOK4YhHdAICga9tsr7iMrM+eaHWMGsyCHTRExA0+RUEekfsBdaxzZhlDsXywyGJse9tkkmoR2dFWFPyxID2IHOJeGINLIjHcvD/u4SS0BsT3fFoiFGC5eAyv5BW6HM/Vn4+rnyxULMhTTdpR/+iFrMEgrL1LL1CPXLVB6r9FKuEOxdEJlZSPWNZ+L7Za/P64Gv9+/u6EHdQBuijsZGBo0LtDuGiRA+jePTt0vU/CQJspcuPhTrTay2foo5c+oxwthDmAFoTOFck9eV+GMOGFMKMatdvCPa2TV5hNVoT6tBahMOQAr8u7Fa2pliapJGG1baMIyZrrqwtbshbOmoD6MaV7hG48oYGI03I+75i/ZOLAIxhC/JTYo8t2W63tWrBwvvZK4xO2eh5TY89RQNGz171VPew1tvvfVqP5m1nXr8hje8weoO9cacrAQSIIYD2pX9WLHvKzUXptqXA8y0L9VTGrkMx/HkcT09tqeBTGADhoDMB0FXqVGUh5juDyUDkyKamGlXipmI1uXlWAxiDSsYrqPxpTU1sk7IU1LHoc8d7jBh7nCjIKYxpevbysP+Td3h3O5N4dTOjQaxmfWdYff0SPj6038TIdYrF3taiECMAc8N8lJkKmnme3GINegBALICrKJd07UuX+/fgY2722fBk36fCzJzraewFvN7P65DrEwvebUED/DC/NJCC0K5mV9UJhcfuD+2JgUJs8DpRQQw/pK6cKHm2UttTc5Z9dC+sI1WmLdkvWL77x1Y8x3jiqMiQWhMK2exXv0FyyQsERSNquAdaulQiSLEiKAt78S4u2RN7kcmdOaGGMclIciippMIKkVK58P23/gNRc+n3HR+orxs7ygNBzqWhYPSwg4rHe1YEo516nv3SktHle9T3xgNBje12ME43hxlyHbf5i72lCP397u/+7v5bX6chYBsMRDjPD7Hmvn8UEe0jmWSlZ0qzfdsyhPKKpbXgw8+rHoAYHKQ0T1kP36frKfs/cM9+XevM2zTEMFYP/3x2MkpL8W+1POwZMBTFPuHH7N6Y6ET2W+ej5chsUHRJjrkycx4SF+fO01yhHgB/n5w5Va7gJjqGnUTTRE5Mar+UzStsZrlYbR6mfWjjiumJmkS9+qeurCjrylMSRMbb6kOI/W44mtm51wg4A6B7FpDzAWveeLp3UGL8MbHCjXi/L4L709y60UWeVYlMrN5Hf+xH/ux/DHyxyryu3TVXXfdZZYQwGINReUpxACZa2BAyqEFyHzZzYe+vUxmRJJNoZSBWLouhRjn9LnCIsSiNyKyFJmMSRGIoY3VCWJoXQ4xNFwLMsw6ySb8D+olc1srK0N3fb1pY8hd6wYRxBj0jHMHE2auVoNmx3CbQezc7jGFnRoJ0yMdYc9UDmJfl2NHf3eHVYZ6TV4IxHDsaJLLq4FMB0w1MRtDJhWboI8AweJnSTtziJFTQbmpuSDmpkGPQO/fyR0y1zp3aF2R60HjFkrkjlZVDoQ/98TLtlT3se/IofAttXr9XTeQqYYxfowXdSEfF0iDg4P5ykylJn3xi1/MV2qOxb6+v+dznoOLkpSAJSzSKl+hVj9g6FSrqUfhoVDTeQkxB/o8ZnYv/LEFl3oufOJq35zNs9eCkCJ80QeexPYvYEpgVuk6dnaVh31tS8JBweuw0gml413Lw+HuVZaOdQGxymsCMfpoXvnKV+aFu1+jC3v/Xiy/fPly/pkAQ29ksH5hn/nrAHUEo5oLdcqTSSlfCMTmvo5ospMeHneZ9bBYRwvnn6yPFIgt1btMXWDGZ3v27L/IT34+MwnrKJSBrIY75N4PhxgNv4899REzJQIxuivGulvDhAa1TjWXhM0KRQbIRmuXy7NVJsT2moAWRn8YEV5GahVPTyYmANYl0yMhqFqVXiqIYaFBAJvmKHloIFO9/p3f+R0rMQdQsXeUdb6dnMgy1Kv29vb8b71/04u/2HF8G/1oDlKcOtDG3JyId6GN9VIMTXLAtUqNI/K81iWwObzQwBxg5B7YgbqfJtfIXGPzY1VI0ydVSutHK4vziRUgBsBaZSLEaQPZQ0gpGwCt+6c83RyJORGItWvKq866GtPIGPzsQGwWfwbUaGG8WJ+G5xA+7dDmoXB212g4tWtTNCdOjkRz4j/gYt/VbpWhRi6sQIwQIsQlQxMzgKnyo4mZNqbKh5D3mT3ng1iqMaXLKbSyy9caXn68K+ClQmUdlRUvPjrCW3Vfbbq/Vmmk2O2BwqaJcRsYau87f5BZypmvaSEQoxIjTHmJMSW6kHSBSQuXT9qfYysW+odrUsLsZxDTdQOxPrWaGBCKeZiOaeByrSHGqRGVQOw3n/yY7k0u/ToX5Uqf2P72pQaxQ+3SwgQ00iFpZ2homBb3yZxI68tbqX7L873Qvi3VxChT95bzsvb9/Jhz5dcGYrEBYJWDQkk+syEW2REhVjAlcv3Zz0Kun2PTI8c/lu3U/LEFrgmIfVvlqzLOQYw6cv8D92VP96K/q3rbp3C9sSy4Hnd+om7y+cD7fyO2xnUNPPd1TbUCVX3YoZBZM4LZZFNpmBCwxtHOmsoMXgzf6JOzR69M1MTfbNN9tOQSVqJrCTGA5ZqYQwyTopnOJRN5Trfffrs1Mt2s6/dNzjs8SzvOWRSQAWxHBmQ/3tDyeuvbHXIcDzOuQ4z+MPqs6A+rkmME4EpTFmJXwAwnjgRkLxRiBswiEENhQSnBuQOIATMcPKyvS/2JAKwYxOgTa6uuNBMkEDN5zfPVMJ4hmRPHepps/sG1irW6c6TTzInn9m0OOzf2KexUrk/sH77ypdDf027mxFp5/dTJ3lyrqA+pJtYAzPIpBzFdGJ2zqQbmy6lJ0SG1UIj5/g6fa5XPBTGOz7U1KrXp5erSeJW+2uj1RMVpbGsyQY15yIRDTkhgpolRL7zazZ1TQdG4XFh73wLmGcwLfKis/kLw3VtyLM/3sbkqdU3ved97wyo9txJVAO51pKI6rFdsQxojK3RfEWKb7FAm43L3MdexfXM2T/dnm2tiH/ww3muxzwyTABA7IFAdkgZmEGtVv5j6yA4IZGhoR9qWqW/s2kHMQeAvP2XpAiK95uzyNYEYA+FJVlOiEI+tnZxAd/U9d3LOyfWmKXtdaV3IbvPvlL/mc5ZvD27+8ez+vNK6Sj0GXm5WvPjgpVn7+/FebP4dotjkPt/VDNPf+c6zBjCvH/buaPuj6n+icUgji4biRHeb9XdtldbFuMJRzfi9UcFf8UhkbjGiwXTJPN2uRjRBpNuVAFizvpOQM4DHy/HFjBNLvRMdYtZPnhO61fRh6xwOkcbGRr/VOfP03eU5ps+S+unfPedAXm9ZTn/vM8abh7CuCS0MEx/zdAEyA9gS+pNiQjMjObzILUkbcyeOvHZFn5iAmJoPC31jasirzyq/b06bc2BmNTEghuxukqbo2hiAqldwBHOhz5kW3bGjRteIh2KEnjuDRIjRL2YQU9Dqse4W6xcbVEDgid56jRVbE87unTCIxbBTcuz4+lf/LgzI1RXhV19VJndcHVwgY0ArAhCALQRiVCiHWGpSdCiRFwOZr0v3Y/lawSs9ThZkbGMdXpetyoktRyDStc3R9XuVXhRefNpP8qrX9O/UMCXeTltAdFz9gzClY9w9lBxiaGO07Lz1llbehQhgO3NOav3ae99jLxpCgr698do6dZRLTdezpL8TR5WxsU269FyLnR/bfRS//txhU1l4xe7sQ5FQCk/mIMYLTyt7Z1e1eSMellMH5sTjgtjR1qXhgNJBAey4vBWvFcS8cfBTP/VTdjOUp5eprZjnj/eJIQhdO2aZ9Qv7qELMgpjjpACzbGPnWkLMz0bOs7BHyh+vp8rzQlj1HJgxFYv/zvZf2I0W30sH+G5O04o7xPumlnFs+RxZTn3eu3OHDTOgfmAuQhObaK4WvEotdNmQoEVibjEG0RPBA9Mh8GLKFpsVQY1MZkggIWdeSoi5NlYpjcLLMK0b/r6iYRV7X1mXgso1MX7n9ZN1fhzKL52xgN8TGAELDhClS6CiRCZAgCBLCyBzeHnuEHPzn+cOMPI8mNDKrjHECKbeqnBg7error/LzYqphku5OsSiR2OpeTQy6zMymUZwo7SyfnmfjmgIxrrmKo1HVeNGJsWd67vD8e0bwvb1PWHfzKZoTgRiaGJzQayggUVtzMNSoYVZ3Kxcf9gLhZjDK5u/lDBLIeZws+vWi03E9S7luPHuHO6x1iIVt1T9hF8nQgI1jD/5pD6A78VIDWya6+MV97WvfW2+xegQ44VwEx+/pzJ7hS72UhQ7h8Zg60UJNuasRH0E9DfgmbhFnaUzCumDl4+5dQOx8Q26fMQLgkYfu6m4+GL/WnHoz4dlTsTbjjKjEu7oqrVxYXgmoo0dl2kRcOFqT2J5n/rNFmtOTMGDt94L/QArb1ykx1owxKwMo+AuNGxARCxnNifNBrs80/5URqYhKaceZD+p8Mtum/XdT20PQlss10oDqyqHzN40bEh4sxFR5IHLD+f2m3WkF/XFGna5X8a6Hi8IU+K3vyPzWu6SCJ1kc0vpOnjm7XIeW99SH9ZrYPyaCnkbClS9Sn2Clke0p9+rQ31gzElHTM5WmcYbaWzLgkHifX6pIIbnHcKWcsO5w8b96fw8qwp51H3yk5+0u06fE+8uGpUDyguUd5l1lE+6Lf0t+7qsYJnf7NixI+8RSl0pE8DQxCotZqRyDSyu0KzdFYkm5jArXarxX0o4dphzB8BKkmtZaHUkwIipknGlq9DecpobvzHwuSaWnKtC/XD0i+FTgNy2UFLSxIAY0+xgJgRiaGKMkSRZw0D3UmlItwAAIABJREFU4BCL48tWmekRiDHRJvKDrqteBVBY26wACq3VBrHV0tRnhjW32Mz6sH2kL+yd3hgh9rWn/zb0Sa0370S5r9bLKwRNLG9OzJkR3VsRpw9ABsRScyIwSEHGMoAquOLP1sSy8PLvLyXEXPOi8hvEVKi4c1p/mNYRdPTA2u5wft+0hedBINNyfeoTnwjPPKvwQs8y0Fk1LC+4orCi0l3tg2stL8AqterQHMzOzcuhB8fH4eUV279f7bgOoscee8wAAsTaJAy2Ky7d9raW0KXOcDwtMSmOja/X7tcWYpz/+7IXfUQQQ0AiVChfILZfoZDMucP6xKR9ta2QVrbKIHZM2hiDoRcLMcqU8qS1ihdY+vGyTNdll1OI+TPhmC8IYg4QaxxQvt5HFfH1kkGM86J+FbUQ0LpR/VTimZBWyiMsQmzuKYay5XPV77l7x8EjlncMw8U9+6VhTiRSBe8Tz5t3joDiwwyMVyPLZm3WOkyH3dK0mHKlXe8mc9EBsAbV3SbJGwRbIfxdbLG/1BCzyBPSCrh2QML7Sv1YvXp1/p2ljLLvK7Dy+peCi30dVvyGfdJ9+U7f2uOPP27n4VykmqpqM/1xHTh34PKOR2JlArEyzdydhRiDmUk4caQQWymniginGFqKY10NYpgl03M4xDAROsTQxJo13IYg4YAsDnyeDTHXxHDugA/mV6EyBmKujeH4Qwi7DZ1NNl6sr0qamSK5bO5vVjT7DWHnhgHN7Ixjx9+GJd4nlmpigKxZM6oS/oMR/+SYFkk4CjjILM5izhtxIRDjRh1W8+UpyFxjyubZyS6z2/27e1H691l5DmINyplAkDhtp8fXhEtnDqgPMJrgSlQWP/tLv4SsjvBigcbm9xT49fsQjS/zf2hVbd3KVPLxJQBkLLsZ7HOf+9ysA3jlz74Ys3bKfeFy6DjHVEgFRzvuU9DUvZ0dCvnUbCPfi0HMTFx2U/G2ih3b1rFPscRGW6/7l5T66AefkqCM3mLYx3eow34fgX7V/0U/2LFWaV+KXJ9CDMgtFmKpVku5/vqv/7pdNn8Wos0uGmL5s7FAXUB8R2y5EHdtJFfc4ZppYulzyZ1X9gGDB+ckcQ1LJNwsyQmAfkv6xORqZGkh9VeHmPNjrv267UK/GA4dDEGJwQAICHDdDddbfad+MqCVd7+zvFSzHayKMzULVp0kvXPMFwa8iPPYLNlCIuxdkwCGgPQZNGj1c6yXGmL03+E84hHteW/dQWtkZCQPJArIY1qy7O9wCrBvfOMbBjtf5/v4e+5wo5/cZQPWASwFAJSEFkY5MpC5urRc73u5aWLAxQGDdoYWVgLUchBzgLmGRT+Yuc/rOBwLiNHH5p6Nvl9eE8sdz88BLIGYTZiZg5iBTNocz4nJcQEZw7WY9blCjRCS9YlJ20MTA2JR1kelAoARxQNtjIDCnVXlYRN9Yk0VCiquqXo0EH59e3XYP77aILZ30qdiyfWJMUi1WRMbNlWWKCSOPPQ0qypzuwAwclKDRsrXK5q0zx/jnokOsKtpYsUgVswN/58LYlwv529Q6pDwH1YhHd84EC6e2GsmuXKVCZX28kOPhuckDdRwKgh0G60fhVZBEPB99of5uHijJxSsFXMKFZAhDWUah8cyUbJ/SZDk4y0zr9xe2WcfsfANQYGQIh8f1/F1P2hB3epP2NXZGra1NwliarXp3jhXqon5OQpHm2OJg3uSgLRl8uSD38KTH/yoziHPKZ0HIQXEdiuy+l7FTTwoU2KE2Ap5JZKWy+WeMWQVZjpgECcvaDy2Muyjc3x8m3sn8jLy21U577FbbjmvX8bn4pedzQuHfl4a1yUJificGQeEJx/PnPV+nMLzLfyy+JIDDJBEmPB80Mv8Gvjd5csX80KJc5GyH7/P7PrZ37lPxxVnwU8xOnmoiWVetWxdsqRMFgWBDIjp/i4+eJ+u71lL8ffaae4i18bk4zeS2980MG22d0M5WgSbGD/3mx/6YBheu8buD9jQL0L94J3rVvzNdr0DNlOz3gEmT+U7CYjhJdxOnE55DDdJMLZIwLWqD6hBz9tTNCeqn0/HI13NscNv0XPuyqPYx4HE8RrxojOzl3KWMSfy/uAc5XDxc9ZooC7vrzeYPOf5pcsOKs7Jh+3Zff7iL/4i7NmzJ38/fg6z3uj85QIYWhiBBShP4GPTqQgo80HMzYkOJsyFOHBgQuQYHjfRIVbMnFiyLEIRMLqp0iFGWWF+dcXEvBTNwaPUIIbSQ1gp3O3RbG3AtECGez77Iu9RLoAY0T4wMaKJdYhFaGKrG8vVMF8RuiSfB+pWhq3rusKO9f2akoU+MWliX/tqHCdWIZtzIzPzooUJYECsRR5CxHnLJwMZMCP0fhwMzckgp5sN3bkjBZvBTYXupoA09xv3PAWYQU83OUt7yt2wh+/PbnMN7YocAa9UOI+uR98BWJNyHDsGJPz3DraFY6NDYY3cO9ESqLwPPPjy8IykAYLhW/rjLVyrjRIa31cEeZtzTFtohdMSxQXfhB9vjGQNZj57gfUiTG8cshe5XOe142uSQnvzBUb/XTweY4wKApBDpQkBiS5I53mFWrZcL6bREXlXznTESAfYkXnZy6VRT6hP7Jnnvp0HH8eyjx+UC7WVEQLx+jmLf8/dk5VA1DZcWP7Gbz5pgpl7bNR97R5oCnsFqX2C2KE2+sOWhhOW0z8W0/7uMisHWrmUgybmsvNjnvTxR1zfc89xXm0CbrlrHRvdaA0Afleruc3IgVlbO95j35EQfUZXKX1DqgJ3kKZ4CK7/O+HipXt0HEVk0DWXyYy+XNoAUTYuXnqZfhXBMNs8yO+SlLsmf15s+56mZ8H1HZAxuwA565/9DpOfCJxycecc5jHIdevcrPdnz7LNnKC8UPZzLVM2McXrjOdN7zdG7NB5cud84OGLuh55yWkyFuqujZJGpeJ8ufK1nFXpd1tmn1zS/twXfV+f+f3/O3zgNz8U3vxTbwm33nZHaGlps+eBiQqB6/Wfd79ZQqpNQq5dz53UIVgRzJcciLWpC4O8Q5YfcrZ1ycutS630dgnwFkAmoYl8QJtA2AMXn7oIeDBBbPbSKRPWec4ys1zTEKL+INQx0+E0wXd3omC9e+3hXAHwHDCeb1Yw5l/91XfnZ2e3uqrjZ+GlVbM+XMN//dyfmvm6qkphwXReM2tzT0qci3MacKThWPBf5cAH6Lj3oTtweB9YNndN7IpcfV14HPJ7jkWfmPeLYXIkoLUn4OYpmiL5bQ5K2hYjeER5DYjoDwNM5joPxNSId1f7vLs98NO98CzjYOk41VOT6mpbqaZ3kiyzsWI1qiOKpdkv79XNA20GsdgnloNYb09HKJctukET+TnEABipUT8kNZRruxJaGqlJHa4RZMUh5h6KDrMUXOmyQ8Xzfy6IcQ0IfARuk/JO5at1n0Ds+pmNYUZx3djOyH0bxLuqQp6KEpZyXV+iB2eCQdupaJb0exMStOq1TOLF4mXwl5gWaI22H9k2Lu9PtUj1oMr1kvJ7XGjJqcCuGdgLoge/xBPH1UOPiWtQUlSOJXrJMAcDMYYKEGduoomIBw1hRGNviKCBEKFfrEyBZ6Pw5DgIAHKO+yIS16MKSGJGae6zUf1xHUqTTZg0y+SJKM3LvBEFMcHLkpw9Tijt7y03jZcyIiHwYlmqlahOa65tqcwOzIm2QoLFr5F97OVW3lQl6wGx1+Ttxvk5jgNipdbFZ6F7tGfGd5a5biXlOMNY+cv7rVwNOFrb/J51bLcxVuyf+57PWcd2rUfA2f6cO3dcP8cKCV/ORflQP0plXvH7yOacy5+/CTI/L+e+SvLz569P+6daA1om29iPZPep468UtB3ivs3rmJU95Z97BvF5FI7h51wh2MT7ZQC/GgIqa7TyOCA3Nt5oSNFoxDyIdoWm5alVyw4twMUwl2halMam58NMzn2qt4CM36CZNei9RFaY44WAyLXktfKcuT5fZpRjsaTfeHBrIOF1EHj5sRxe5KwjsWwmPp2f5+3aO+fDBX///v0BRy5iHvJxrYvlb37zW+EP//A/h3e+8xcErgdD/+BAKFHIJX7r/W22rPM4wIAY7wbXaCbAHMSiGXD2oGaHVxZqV8Ar5+Rh2pTMgqatCWRACog5uHiWvux5oT9tNsTMtKjnDsxQbOgPc4jh3JFCzIMB+4Bpi+ChfZgtHo/qVtWBDkGMGTEIBAy8eqrkAFRXopibzWFKvgt7pnDsEMS++pW/C/NBrEkxzUiNFQKaUhO5YNasl54+MjQx1EVMi2l6MRDLAozv3qfFS3CF1lVkne/jmlj+uypxqok5xLC9A7FuVUa8pHb3t4bz28bCvjU9oUnr0CxwtTfhpO/2Muj7KkHIBJy2m7DQyxsFJIKSzt8YCNY99qJnjvreNKXE4W0TmrKkUfNOIbgRUBKkvPx68N5fxnmWqkxdoORzHZv4fEtV8SxGn4QCLzCQoiHAMIEJ2ZB39DSG6c7asF7RD9p0rUwDXqpjpsBgrrEIMr/eIjn3MmfSS6Vg0RyT8wNpPCNHahWpY6AmHO4pM9PhUcVNJGKHp2MC2PEuudv3V9tg+ooyTTNPa1itYO4zxh7Ud9nzvRy5hpU5sPGSE7+P8/J8xwcH7TkxsJLrYD0vvJW9yomyWiKTS0ycQ8+IMtd+JvxyAqKnozNUl1eYkMoD1fZj3/gsPI+/j+t50W3eNuqAHVut5JXMGUddAFqcb6W0vbgMFFatIECwtBS1dKPA9OuRSdYaNIXv8TqjBsB5EG4xj/do96lzECsxxkuMObM+L9c5S3QtQKWqtNL6PoA9wp9y4thWp8mp3zSYuA9dV7x2yiu3rHpn69mmVjr1ExiWqtHiDQhyPz7vIPUOJ45m1fU2WQOAU4feny79lmROHPo94GIwc4+sPD1qIJt7vfbtl0VogKj1miixS8N+CEhAQ40GJvKBRqY/b3KSx/FkDJQ/Y7tPbaPueGId+wMGnrcfBw9AnoFDy3OO58nXcSxmfk49WwGce7zmz6UyJQapJ5uslrpFIzBXt0rVx+XrrSGgeuXaUKohuVnQwKRn4sBK81n7JF6JWZilEANkDjE/v+cOMD+u5XonU00shRhyG5BlIeau9inE8G5kLkf4AcTwqGY4RZdmX+hTNHv6xPqkiQEyZsjY0KlG+lCnvBNz5kQg1tPdXlQTa9YEi8UgBsgMYjh+SHCkEANq3leWmhZT7Stddg2MvBjE8hDS9hRkLKfffT/PFwoxwkw161i41w+rBbCvvy3cOLU+HBju0tToor/ulZeQc9XJ3Ii2gwtovfaP15wDhNYhQIGemST0UvACs4/1u2n/oXrNjdReFa7fORq2ysumQ8fDqaRROcfn2OxL2KY6vcB8TxPH5nuac85mmXw5T4+EwSaFaNnfUxO2t6xUtPhqTWGxMqzRQEGECMdGA+R+uAc/Fsd4ocnuM3cMnifAR7gwzmdz45KwR31fOHQcVbxEoAXAyC0p/NSJnpXh0IC80xSpnOnIuRYmbKzRdXJsT9VoL7nvdOSzzP2yf4uE4npN0XFkdG0YUTR0ypNr8ftjX+4LgW0tdj1rhJ4fj+dDQ6JJHpxYFzYMdikEToX6GfQ8dC7MvX6MucqnWmXu+/h5yOnEdoGOts38YqYtq5yq+K5jN6njulrvEPvXSHjTB+vHqNRx0+++3vO5ridd7/dJH3a7ugpaNLEkHl9E4eH54yVInbAGTpJ7mXnu9+GQ4Lsvp+djGVmA17LJBd0j9a5dz6VLz6xX8oTxX7jRD+iaBtS/3qNlonHkk+pPby71qSW+uqYkDFaVaNoVCbacuz3mf4OYzkd/DBH7SZQNcQT9ej33ay2WAzBMdGxjuaaiUr+PJjwHlecArET7klhmPZp1qomhQUdtWoASZB1iwMth5TnAAmLL1HhzeLENq0MZM4TLygI8AEkKMUDjMEnBlS7nt88DMIAGuACZeTBqmd9xLocXuQOM3I9r15CBWOzrUn+iys9lM6ZEYGZ9YmrUuDnRp7sBfDxDfoPVDogxs3On4mJ2a2ZvEvDqrlwWhhrKFMVDbvdyuR+VnN43Mxq+9vd/EzUxh1ijKguDnekTw5SIsHCINahTrVHTI8zSxPQCuiZGniYHWD6nghdJCF9PxSDm6ygULxhA5d99u8Nrrjx/Dh0HIZdeS4sqU7vWrZZ2eXSoK9wwOhyOSiM7MdQRbhftD/a1hkl1KB7sbQivO38o/D/v+snwkdddDK8+Ph6uH2kKBxTIdkeLBuK11Ya9vS1hf1+HftMWDve3hDPr2sKZ4bpw37b+cPdka3h492C4tLU3nBuoDOeGqrStOtw80RwubO8Nl/cNhnt39IS7t7WH26dawx3TbeG2LS3hls1N4aax+nBuY104t74mnFqnNFwVjq5WaKeh2rB7sDqc2qBpvHtLwgFFxSAyhiUiZihG4Z6ukrC1fWXY3VcVJptXhK3yCpxqXSXHj7Kws13XrWC9s1NJ7jt5TLs0Fxhpd1eZos+XW9rVUx52dFfaDM1MdLm9bWU4onvaL3DtR/PqlUeigv96cogd714RTvaWhuP95fGae1fpnuSSL7AdHigLJ9fWhGO6v0NaPtBXEq7b1BROrKlWqlIZNISTw+VWDrdsbgk3atv1uvc7KNNNLeHcRGfY01+leaoUSLa1LKxTTL416hfc0FIZpgabw+4NMkNokr09mzrC/tHWsGukNhzZ0hqO6tmQHxpvCsdnOjSTbFc4ONFkOcunt3WHM9t7MqkrnJxpD6d3dIXr9vQpQGl/ODLZGe48uSW8/xdfF/77n/x2+NKffir89X/57fCH/+f7wk+/+mXh3J614eDmTs2L1KXoA93hwGS3xr30h92jbeHglp5waKrX0j7uY6zd1rE+Tb7PoanucHSmJxyf7lIi7wnHtI7k32/YrTmYRpvD9ap/JyZkZdg5EO4/MRYePjMZLhxcF26ZUXRwleHR1dVhX0+JnvGqsKNdIX40ho/53vb0NZpWP9NRGybbqhVNvtbSqATJWoWIGmooCR1qiPRoctR2CZwuaU1E00AIMdSDRiANlSFFqh+W/GCOMJszTKBaTeI767UP+WrJGRLf18p0NKzJEQfUzcFg5zYBETMTbveMF/PGJdN+ANAItNhwqRFoCDjrQpPcBWeaAy+PgoEG5+Y6crR5B1hqTkzXASmgxfCO1Bzo8Ipm4dglAaCAGRYHh1o0kwM8OVlIE2MbCYCZhi2IpEBxgJF7crAUy7OaV/Y7EHMPRpY5Bsf1c6YAY9nPSU4fWjFNDCDRSEJG5y1pAhiNUBqRJJxlSOVqdPDcaJTSoGpSHxqaGPWnR41LtLHeauqV6oYANqTG6mo1XEdkyZqliWFOxLGjSTOnMoFes9wZHWL5PjFVLAMZ/WI5cyLu9wyGpvWVAsw1MXPo0MUbyHSBKTh82SF0tdyh5ZDy7w4n/57NfX/fj4qfQqxOFatVLwFmuNXqQznU3x6OqePwoELh3DE2GO4cHwp7pUHtrFoSXr5rXfjoj94VPvnGi+EtJ9aHH9rSFF61tzfcNVofTmuKkWOCwrEOwUVuoEfbKtT/UxJOSpjfua403LepPLxye2N4w5HB8LI1q8LtfSvCHYOrwo19S8ItQ5qocKIqPLKtIfzQ7tbwowc6wsNba8OD09Xh/i2V4eJEWbhnU0m4Y2R5uG3tsnDz6iXhpsEl4Vy/vP76V4RjgyUWKf7s4PJwrldOFILY+UFBtwHNZ1nY07QkbNPywd4yjR+TpqYJKvdoxmWmSgF6pINabznLiq5xSIn8YPL9EOGi1K/FtCoACS2LOcIOMT+YotIf6VkV3el7NCasR+fuFsA85WB2TFoYEDvRVxpO95eGm9eWhdPal3u5eW1pOKJznlWZnNLv7thYFW4aXhVuGykN54dXhJvXLA+3rF0Rzq9ZEu6bqNT2VeHCRHW4c7Qy3LapKtyyqTLcuLHa4A/gt+ieN+q5rVPd3SAT5/a+ynBkU2s4NiZojTUo1YdjEzXhyFhFOD1dH05M1oTTW+rCsfHycGpLdbhhR1M4t7U+XLetPty4rTHcpOd3XuvSdPPe5nDDzrjPTbtawqmphnD7wcHw737yYvjiZ349/N1/+Vj47//pyfD5331PePurzksL7w6Hx+rCiS2N4aCu+fDmBkunt3eEQxP14ajq1JkdmmZifUU4pcYM39N0bErjZJJ0aro5nJnRb2bUYFI6zXdtPzvdYul6fb9uqincMFkfbt/ZGi7s6Qp372oLFw/0hB8+vTY8tLcr3Kdrvk3nu2GIxkV8xoQKO6y54GgEUV92tywPWxuXhq1NyptXadJTzO/SvKX5d5MrosKALBdrpMliAlxTo5m+BTVgNFK3QpNZrgqbsETUrrT5w0bUQF4niG3S70YVqZxAwJuZjl75mBqE42p0jKkvhKC/vdKSLeRUDmJE63CI1VkrPmrmzCpcIwCQ0EI92KznmLKyqba80mAFwFwjs9iE2pfc+8TolyJlv2P+TzUvzIjAjPXmVShBjalxpTwrAZZDitzXsR6IATbWATsABsjcbOwakYPK+q0EgFlQEYB8u+dZaGW/Ay4HWRZiWYBlIYbm59OzmEYlrcqdO4CYgwyZDMAAVQqxuJzzBNU2tjMWkD4xZijoUeMFkAExnDoGpYkN1JerX6wsDEth2LmZKPZfKvSJOcQaVfFa5M7Yqv4h18TMsaMIxHC/B2KYgGzQsJb5zjLgmgtiKUSuBi/fnoeQKgXr/Hs2z0Lsit+roDg/5ghSgypCs1K7WgdAbEdrbdilydj2yCHitk294VRfXdgn89gtI43hX9++J/zyhX3hzafWhjcf6w/vuntL+JlbJsKPHBkK94w3hrP9lRLuleEwEZebpVUIDDcAFgnkl2+vDm883RcujS4PF0ZWhnsEsvMS1mcl3G8ZXhYuTdaaYH5gui68fGdzeFTC8mFB7eLmynBhrCzctUHgWxeFOML8ptXLw/U69qnBFeHcGmk1AgEQOyW4nOuVBqZrxiPwkJwqDkkLQxDtAlSCzm7lAIzwT/u0TNpP0jpAluaADLMgHoa4yh9uXybhtjz2dWlOsNMCIwDcL1BeN6T+PkAncB/VdZwWmBxiAM1SDmJoYkCMvrFTvctkXlwSzgwsC9cLWvzmpnVl9v2cBOuZXpWRvt+2oSyc0n63bSgxmN09WhFeNlER7hovDS9TOd0+Vh7u2tIQbtpUE86sr5PjSKkcTGRyFMhGapaEGXlDHkJjHQUgNQaRkxLwxwWuo5vVhzdeFc5ubRYIGg0Mp6bqDG6nZ2rDuZlGwawh3LC1wYBGfoMAd25rXbh+e4OSILezLZwUnK7b1hXe/kM3hz/+3/+tAPZU+MInnwiffOJfh9dcOBbObesRNJvCodG6cGpa2p/gcnBcIFVOOj6tbRO1AlirrT+q+0nTsalGQayQOAbp9Eyb5aekvZ+SRnlamvzZqbZwdrIl3LqrL1w3oesSJG/e0hzu2CaI7ekNDx3sD/fvEtjUWLpjvCzcuqk03Kg6BsgIFcYMBHv0/Bnrt031gkYBpuIJpY2C2HBlDBHVq8bsoIQMwCLizYZ6acACGprVJmlqE5qdd4sadVMtCu6raVaYP2xUvyWfbq0IM53VYbumXdklj9ZdAy1he29jmFQjcmNzpZkZCT2FFoaGhymxUaBwcyLvu0WKkCZES95a9JIPCFDMWGgFTP1RLEWNAIcO+sMkTFcpxJOEOjnfV0guuBnPYUIOUPLfdS1oXYDKB9y7GRGg4aAEsICUgwtQpebDCgXqdo2M/X25RN6Yfi6HmIMlXc+yaUY5iKWgSgc5p2BLwcUyv2G7Q5Hz0B/nie+ch/JgHzdd+mSZDjEzDQr2WTmchZjDrFTPxhoZKm+eHSEAcRpsV59Yt7oZDGLK2zFFC1590szR+ocUGnD7GBD7u+hi36uwU5UCUrOcDgoQwzux0Cc2lznRRt/PATEAU8ycCEQcZA6ZYjm/zwLL92MblTYLMb6nBZjub8fjmEoOMXKcEQxism9vVktyq6Jo7xWIzsvsdEJmspPSsh7e0R/eduu28PixgfCO8xvDb732THjfA9vD22/eGF5zXGZAmQTRxvY3rAh76wQHtfz3SHAe08t/g2B1cWJpeMW28nD/+Mpwn4TwXdI6bh1aFa6TUL6uX4JZGsaFscrwyPam8OBMvUHswZm6PMTuXL/StLBbDWBLBcelpr2cAVz99DFFCJwUFE91qR9KgucwcQrVgj4g09relhXWmgZg+zXjMjEM90rA72teaulAs0yALYpYovyABibH30UIArsIQ+BF1I043uuoIEbkjTNqrZ8U2Oj3QoM6pfs9pus4rNY8OVByiB2XlkZ/2ElMiDIVnh5YFc6tLlM561za//SAtIE+zdYsLdU0S0EMkJ1fU2LplpGScPM6NQDWrgx3j1caxADZ3dKe7hivkEBukem2O9ywsTFcv6ldprES6ycEZNNd0hjXNxlEDkoLQ/PZP1oVTsxIu9lcHwAams0RaXdoN+e2NQlqapwoXb9NGpcaFjfp+aCRoZndKKhdN12r9dqeg9gZAeTMdHv4iYunw++8923hT/7Dr4U/+vi/C//xvW8PP37fqXB8szT9iRYD6fHJZrsGwHVwvM4ARg600NDIj0w25iCGRsa6phzEokZ2cqugtbUjnFE6jWlzutMS13BWZtHrZjrDSWmdN2nbjTJN37G9M9wl8+fLpO3dt6szPLK/K1zaXi9Td6U02lI11laqMRaf21E9u72qL3v1XHfp2UwJXmOCF1rtWmlgQ5gCgZcauGsFpfWKqEAcRJsjTN6xk21VYUomyK1dNRo3WB1mNLnhRH1h7rApRarf1hG379TsvXtXt4d9Ciu0va/ZYDggqxDBf92MSNQO3lesOFF+yMojIejw4l3HTdtBhhzAacA1sWyOVsYA/ZryahPgCHLA5TkXbY3/AAAgAElEQVTC2jUeNCNSHl7az5YFKjSxrGMH2lg0JUYNK9XAWAZUwAxQuZnRPXL5zj6WCxzAw1MKMdY5VB0+gCiFWPlKjS2Tg1QKKJYxIVawTfdcDGLAi9BUJHcu4XwOdiDG7yq1n4GMvi3v35oDYgYybXOAuSbG2DEsZjw3ni0ezkCsR04dQIyEcxoA69aUPEBsdUutQewfvixN7Gsa7AzEKtTaAWLNol6bWlGtOG9I5W9Ra4nUpFYWCVNjdOzQyXKaWK3s1MAsamCAC/hEwOQ1stwFuhnRc4eQA8mhQ27QUZ6uyy5TiT1lt6Xf/XwpvNLldlXG4YrSMKZxCdMNmklUnn3n1sjsJMF3fm19eOWBYZn2GsNrDveG3379DeFTP3lT+NBjB8Pbr98QLm+uDdehndTrhdfLvFsv9l4JzeOCxElB7E6ZAH9sX3N4y7nV4SeO9oeHJTBvRXhLOJyRxgLE0MbuXF8S7h0t1/EwI1aHy5NV4T5pGfdKE7tH4LtjZEUAYudlfrx+IJrd0HZIgIN0skfaj7Sbo8QoFGD2C1775NyxR5rh3haZ+wQ0gxSAw1xouQDSIm9BXStaFev47jlaGMcDWsc7VwpMSgIZiRiIjP9i8PIs5w3MjRKCDi9f5tpOdC/TdQq+vQCrkOhD4/rRzLgnNLPrBpabmQuIYW70/Nb1peH2jdK8ZEK8e7Qm3LmpWpqzNIqxlvCyqd5w99RguG1iKJySK+6UNAOmvZ+UNrB3WMJ/vDMcm+wK+2QGPrxFGpA0rqOYEafQhBrUJyYtSQ2JU9LATk4JaNK2zknbum4HGpfSjjoD1/mdDeHWPepv2loTbpb2bGDb2h7OCSCX1V/6xFt/KPz+B94ZPv2Bnwvv/5kfCT9820GZK7ukDcpsON5s6cRkm8AmE+eExicKbuT+nX1OTHYotV2Rn9zSGY5PtSup7zYHstPbBCzB6gTamBIgA6rnlK4TMIHYzVPSzKS13bm9Pbxse5uAr37aXR1mUrxzY0W4Z0zlOFIezqpRRIPEJjJVPaHxs715eZhq0DxgmsRykyLNYxrcpIbaqMA2WhtnZmYd3rFb1GcGwLZoPjA0MdLmlrLcdCurlGsIiPrXdsmLFk9aS4LXtu5mmRJrZYqUHJIMIeFBjAMWY8OY949Z2Gu0jMzgHXcZkjZeI8Doh4nmKut30XLaR8ayR6hwoewAAAoIbBfaCH6SgyMPM8kN90acnQO2CCuAlYXYcjlTkDAhpgkNLU2+zeHlQPHvxXL28fsAYg4y1vl9uCbl/WG+LXs8h5hrYPyefR1+eU1MmpqZFjHZqlwpfzcpWq5nCMRoSKTPwpb1bO15iRtoYg1SioBYb41m8c6BDIiRuvS9v6Ey9EhO71AYPdPEvvqVLyUQU6dsDmJt1i8WATY3xKTRiJopxFKYzWVOdKCQp5VwIdBKwcSyA8zz7Hb/7udMwcUyWhg5L8uQwuBslC1/WmaMg9314exwi/qABBv135wfKFG/VrWgtSn8x9ffGH7vjTeGf3PHeHjN3tbwiATgfXK6ON9XHk5ofNTxxpVKy8NptV7vHa0OP3lmXfilOyfCz968QabI4fCIWt7n1Zd1nYS5mf8ksOnzoe/nHvWd0d9zeUuNgewS5kS1kO9cFwF28+ql4cYhmd0k4Ok78nSmV0BUioJHJj20J8AkRw7SfvVjADQ0LOCGlkZin2LpsPrMSEc0WJljGcQELIeXfz8hkHlC4DHxpfWXCWAOrhRkQMxMiNIWgRngSlOEm7Q7lQ+aWAFipTIxAjGZvNbKnCjz4q0Stneq3+wuPZc7N1SH2zfUhNs21oe7JjrCyyYHwj3Ta8Ltm9fIU1JDDdSwGFPfzK7+2nBoY4TGYWnP0YxXaybFE4LYSZlzAdiZmQaD1xlpWvSLoWkBMEyIN2yrDTdurws37agPt+xUP5lgd7O0tBv1mxvVL3VOjjh37xsOv/iqO8Infvn14d//wuvCL//4pfDQ2a3h5Hh7OCznlOPjLZZObhagJgSjccErl9LvLHs6ubkjkE7JecTSVEeE2EyrwQuAmTkxB7HTmBMFugixVvWLNYfzAtotMj/eLtjeo3RRIANil6R5ArDLqssXJ+rCHSrjG/v1HLrj8AjMyGjwuxQ6jD6xSZkJN8vqMKl6Pqm+MvrI8IxlYsvNsmQAMSa2HJPzx6hm5h1vKokmRYFts6ZdmVJk8un2+rC1s1HrNXOzOus3qvFIQOAhRWpgfJhNu6L3Mo4LY2yY4usJYLWCS42WqyX8GF+E3MgCzL4vK0AsC6/4nXBL0UGhGMTclAjQEN7kWYhhOvSUhRgAcng5jDyfC2Jsnw9iKWRMMxI80nUsAzGHjcPM4eW532/qlci27LEcYllN74VAzIBmAIumwxRiDjX2wasVfwog1ibPVeK+DmliTAY8d6p7C5Nih9b1qo6Qdk9umg0xzIktUtdaRLp2qWzt1i+miiQtrFnahWtiNmZMAqFZbrG4huPcUSuQATOSR/JIYYZmBmEdJGnukHGAeeQPX+9weqH5lb+PqqpDjEgdKcR4YXpVcOuljW5Tp+EhTcZ2ur/BzIKnpKHc0rUivPX4xvDUoyfDz58dCW/a3Rzefdt4ePLlB8IbjveEezeWhevVcj2uFutJtVxv6l9lwuANp9eE/+3eqfCzt20MP3ndoJkff/Rgt0AUAYSpDYF94+pV5uRAK/humbjuVR8NILs0WW1gQwMDXvSx0QGPcD/bJ5OiQIZJ8kwundbxGEh8VNdAn9wRmQsPNwlISiwzHYpPUBlNjoJdqxxaknRYXoaWTPuSw0bOfGimRK07nKRj6mvLJzQ0SwIZMJMAxHxoOVqZrssT18gyTh7HejxFqKGdYWY8K3Pr2YGV4brVK8ONa8rVX1Nm+Q1rtcx3aWZ3jlQoleUT5QfMLkj4X94+FB7euyFcN9IWtsgENirteLf68A6jCW2SI4dgc1xaMenEZJ36s+SgI5PdWWlj9IGRrlei/+u8TIs3yXx4oyDm6WZpaLfK6eNmQez27c3hZv0OTecGeTXeIrPea2/bF97zukvh3a+5L7zpvtPhZfs3hBPyoDy+UaZnweyEQHZSID2h/tQ0ndTvi6VTm/U79XGRzGwpINH/ZeAS0E79T+LeO0zPstr3R0jvPZM2vdfUSTLJtJTJzGQyycyk994JSSCB0KQXQVRQRN2oKPayVbogbASlKHYRkSaibqXq9hzP2Xv/zjqf732/a+aZlwS2+zrX9ftjXffzPs/z9ve9P89a67vWLZsFyLAV1YQYsS6UiyurJ+KJUcSPp7cGr289xzfjyW0DZnsIkx6oG2sH8TL38z6O4F0ebxxvh/BAFUFYn6+8buq3ym9sCRcdC/nO6vje53GRM4/fTQ0XRrMB2TQ+Y3lpyntpYUtZGbdlEm8ovFgN2ASsaTT/nTp6KGKPIeTPBli+ciDMH2r86/CK3pc8MHXoELwQbTC6RZgh32ZucYjpat+v+H2CdGBJSacC4d7WU2flE7MmeJ/sk5O3tj28KA9N3pgDLAkebTusuqHEa1d9oGoFZd0QS932/RqTRea+389PjuFx8Pb8uYLnl4KYQCbz1++je2D+Xj1npverc94NYn5/H1VOJHOPzD9z/z58dIGdjictCG1Snpv6vjrExhPdm0hDduXBZMqP6fYEQswqyZmECLF2eqXnxFjZmfXEhlKn8m4QixJ7qRN7IKaQ4khAJpgFowYmCTIBzCEmkKXDzGHjEPPbPv6j8PLz337/t0NMIJMnpi7Z+uOo8LKU9v/zJo5mrSvyFNR0NXJ12cJV5pUtFfal/Uvtxs5KO5dQ3/tbs+3RK9baPSda7bLmibatEHBln8af/nTbXDTAdqE8O6duol3TVYYV2QVLMuzSZZmIQ2bYuU1TQt5B4T/JzwWxVYV4GkUx77O5fKDtRLQgj2w3eZ7tAFIQUx5MHpgA1sVVsiCmsI+sA3jJC1NOTHAIKkLg20IIyK0VT0w9DIMXhcJQRcjucfkYPS+d0yeYAKXz5Y3J3IOLt9mfAlwrYcaQI0uATOpFQcy9L71Xh5iPgliwoGiM3pnCiYKX8mJ6n6sQr6wmnCixh8C1uogLBj4vmUKMG0v7mz6zLRWDyOnEz3AreaADdTl2dstUwmZ5dA9hYlWekouLpVPJNSGscHhFgCGmIKzYgTfWDTF5XSkhh3JhyoEJZPLENK6dN9IEsgAzjq8nd7YRmK1FeLEWheCZbRX2vr1tduXuVju2usY21uUDMXJaUykZAGCtjG0ILsLrAGQaBa9ls0abgCWRSIAbtwPUuB0gJgUi8JJ4w4Ud7WwnTUBTfqxLEvo5wAyIdQKwLmwN2+s4vhGI7cB73IeHeageIREAO2/heLu8dYpd2DjW9lchQip/j+2s6GPby/sFMU0XFxTtBf2tlYsMlUQ08Nuo5zdSS5h6Lr+1WdQkyhur4IKhhBCu+pGWcCEcBB4oDqeOHkw+rb8Voj4rkAKNJL6614ewof6LmF9ojsLTknpYsBLAZMPYloXbCisyp7wjxBS+Chbl4L0BRo1YIjSmbZ+c0z0Yh0ASYvKEpFiMHljvsKCDpRtu/wDEHFzpYzrAwnGg7M+l0SF0MogJVHp/yfecfJ/pEAsQTOXFHOryXLs/o/B48aLg3SAmmIXvie8i5MCUB8NUBhFzY3jTzMOK3qlGVm2nVAeaObRvyIUptDgZ0WEGIJOp5nHu1JSw48036J2YQ6cCZKwZEE+emHJiCidm4IH1eGLyxjB170hALDYGJlYNzBxk8siS+TFBTOv/OMQiyGIoUD9CAczN4dMj/nh7yFCg0g88aQ6vU43+x9CfJN0Uc3eIlbAw6JwJY6xu8mibz9VjI3/M7eQpruiYDohy+ZNPsk/srrGvAa8vn7PYPrSy2C4ksX8EmfY+1HO78QoUdpTtmzbCTjRmYpPtosXZdkU75zbnhbBhK8KL9uw4qXfmyLvC28DDWl8gGX0f2yYFIxJy2bZy5PglKBMLCCXmoj4Efp3ct4PJXiKJNurD5M20ZGPI3Jszkb0DE6kSmzIQM1AvFW0AoUS2qQuTSrGJHJegJO/MTUINmXJdcQ2w6LnJs5Op/kyje3MBZtSjqalvgBhQU1jRTeHFHogplBjB7aPA6yapvWAsKCuUtRZYryTUKu9zLZPn+pS4Q7CX57qSyXRV8UBbiUx/bcVg20DoVmMXYdn1yNh31mbaWa1VdqhtmrVXjqV2DIEC4FtGbkgCCeXDWgkXts4dZkvJa7UBp2WUNrQDp+WIHZYTMuwkZNjF5B5tJHkx8mN1w5HKE2KsJxfK9uo6xB26zbG1DXhu/B6kWtywaJId6KqwA6um2o62UuusmxKEGktmjjHZ4unk5GbxOhBvtOAV+tgi8YZeIyDUfr+9FNGKcmBthA+V9wrjPM5DUdlCGNOttYZwKfL8NmT7yxFytM8jr6bzub8rGTsIJa7mPtu57z4e49D88XaEkOkFjRPs2rZsu7Jpkh2vHmRnVp5hZ03vZ4fJzx4kOrBnOl5nxdBwIbE8j98Tv78AM35P8sqqR50eyhqKyV/kMQnlMwpiFdTqVRJaLBlGOEjFzUxUWnalO+fFf1D/S11URtGGLjoVLlRjWTUciF0dFEKUCWxaGdgh1gMy9e5LXO0z6aoIV5OsPDFfmdjH5ISehJi2FWrTJO9eiiZ5DzFqjBDrDZEkULSdhJhDyWHU5wwk9CfxxJL7dG7y9tu20yCm50x6ZN3wATjaftv7FbgT7/FtEDwJxASynsU3I8TiZwuUdMGQ8qwELs+LOcQcYMMoX1At31BGecoquA+KUn4HIwBY6PBCsbs8sFxChzmEFBVelPw+GBCbRy/YkBNLh5hyYhno8iXsGM9VlCAWc2IRYuOonBbIPJyoJVvUENg73jvIkhDTtiDm9k4Q64YZb0rbp4bS/xuIqcuEIKYGwOqkXUIXheoJAGwiDXSpbenIH2nntVTZXvIJyhfcuGmW3XawwW7dN9c+sK7UblpZZlcuyrT3UntzXg1hGWTau/AIdjCR7kVwcJzi5QsW5NslLaXUgGXbusL+oRZKnpJk8a2IO1YgZpDHoQlbkBKsNhefbtuQOyukE0Y8sY2Fp4fjAWDcV/dbRoHqUlSRS4GXAJaEmJY9aQZaSwCZTEATxBaj2JPkfjHgiRATmASynjHCLMIqCbC3QYz3IRWiasfk2QleUeTRe2yn5kgwWwak9L7dBLAVgM3hpdDoqmy82hxBLH4eGgV3QUyWhFgnysYVeGZdpYNstSZXxAkr8crWI1vfhuDh4BI+985q2zQvG/HAGQg7BgWPRRO6VIEScbQBsba5wwEYdWLAZwUw6yBM2AHEHGASdXTVIacHVivr8dDq8cgSFuBWO8zW1CP6AGq6rePrF06w9cBs7QKAgohCoAoAY1yE1xUhJlABIky3NbYSllyKp5R+uw1RRo/hfc0HaECoLQWyJMAEsWXzKXxG8r8MaMlC3kxKRo6t5PPZUTuBsOtEO4BC8zCe5KVLssKF2Q3tuXZF4xg7XHGaHZ7ax86eOdCO4ZkeIby6B/WmvgdFEFSn2IQ3LY+shvD1LLzdSi5yS4CXureosLkUz6xcK/Mi+lDtWFz0kgJpwvcqXtaEpWiI4NX9/+fiVqkFAcwhJpAJahFyEniwnfLE0iHWDbIUxHpApn5/0TQRu2fiuSHdDpN0CmIOAffEkqPnpDzvlRzTYZYOHwdZ+v702+963kkgpud2GPnrd48rCbHgUaUApvPcE3MvTqMeR6M/jucQ9dnpc9QSLrIkxEK4kO8yHWK6rWMCmUNsOPV5AlnssJTyxOSF8btQ+FDgEsTkiem2lIuS4MsTq52ZyolJnZj0xJIQkyeWwQ8weGPD+LHJUhAbDyXH8iONTYK1HUHmMPN6Mc+NOcA0OsT0Y3TPK/njDft0DEuHWNL7Otl2+vl++508MYFM/RMjxOjskDGWZURYD4sK8W3I7PfROeFMQlBXNeXZNUty7NqmyfbFXXhjZzbahwkXXto4yd7bONEuwuM6ivR6D17ZdtRz+wkPHSK5fiahm110glidTy/BAC/Uebl4SgCsRXmh1OSuCV2A0qSt8KFAJg9Mtrm4j20o7BO8k65slHucGzyYIJAgJBcEE3qsaFIKBk+KvMVSpPNuQcyBF9jE6/D6r7AvCDzIeaSNOhaPxwLoJXhiKoQO+3mcELbksQRjdafX86rA2y2pXHSPTDmyaDH8qfeh96P3tRJ4KWQqL2wdYUSN8lDliUnUIVM4UV5YZ8EA5PeDUTEOJPxIZw/2KeS4AW9sKx7DTjyZg/XZdt7yaXRDKbRlpRShFw+x5XyXKwCIioJV3LxiNnVlhBEl4lhJXmsVwo7VXJAolBjDiIQHmeAVTlyHt6JiZwk5ZBtqUfwRQox5shEcHxVsPdCT8ENyfIlCFKJUeFCyeqkQWxB0NNNBQ9va57YUz0um2/IYfb+HCl244bc7JatXWJFzdUwy+465UxJGlxG6erh1kiNTiHFlTRavmbwYIJNCUcKO44D2xo1T7bY9c+3jGyvsgyuy7cTs/kDsNDuz6jQ7G8/syDy8MUoaVKvYkcf3zcWX8mSLUOfW48HPCyFF5cdQK46kHgxRh0KJ8sRKUTSqeDmXRsvKP2eyNqGa/46mtlR5cqkNZfGqHc+LyVgwCkDSMYCluSE2T5CX1jN/RMAJcvH8ocBLNozJObRDYimaIdjg05CEB4vLlySB5Z6Y9jncktDStk/m2k6H2NvAJcCkPK1kniuZG/PjpxrTIaYeorF3Krkz3ttJnzMBseRrFsj8PQaAcX9/Pw4sh5ZuS9Th79HPc4j5hUA6xIIXJlDxPQVopb5P3+4+7iADYsPkkSHoGIoToXCiLHSx5zcyiRyYAObhRAFMNo4+mvNYQ/GtP/9Zxc5/tDw6tns4URJ6eWIT8MAEsYm9IIYrRydhgSwUQgOx7jZUeGTyymQOMuXGHGL6ocp6IJaCFFBzkCVHwedkEOuBUm9PzIHmx9NHh5iPCl1oOzkqqVwydIjVEE5cNImi0wlD8ADG2s7SMUBsjO1jAj0H0cXHV0+zr+1bYLdunGnXthbZJYvzUClm25kUq0rVtYlC5k2cu6mU4lnCfKqjkgezGMm9QjBrKsm/cCXboFouPBRZ9GQimBQ+W1+surA+qBL78Zh9bWMR4TS8EU3smuilGlP+a0UmUnUAEPJN3FZdlkQTbYIKj9+m0B/PLbl/K1fK8qpCNw6OLXYYASpXKHZ37uBcSe5DfRgS+lDsrPumIKbHkAliAphMAAsQ4/0sT5mHJANUU8pEwSwoF3mdfn4nOTEVaa/KJbSaR10Y71PvV/AKAMODjRDD4yoiZJg/IMBLrbuW5wwMeTVJ9pUn24iwYzuQ2okybw8to461VNpZi8ttA2HhFRUIOMoJG6qFF7DooMi8A/FMJyKartmEBencIZWhoCVTjkuijvUCWgpiDjDByyG2Go9OxzeSXxLAttRzDOXiBqT3gmEnsGyn9msZua4oq1e9mBSJ48O+dsQaOtbG65Zp2/dpjAXMvH4uiiTaCAIO8mJSH4b8GG2zohpxMsAk50oLqg7aT2nsnJMTrGtuLoDOCba6JtfW1WSG4uedhBX34sld0lZgXzi00O440WKf3zvbPrGxxK5aRHnJzNPtQBke2fQz7Ow5KGdnDgjdY9YU8fsjT9smI4e5lIuJJSh0F0yJrczmTxpEu7PBNouaS6kUy4BYERALubC+LMPCf1+dN9TdXhexXmajCTCCKy7TkYRYaCxLxw7NFeE+4dx4vgMvnM9kL3gNZaKWBYARmvPJV4s6ag2uMClzPF3goElbk77DSqNP7K7Y0wR/KohofxB4ALEkwNQMOnn7VPDy/UmI6X7ejNtBdqrnd/ho1Gt3mDm8kqPeq44LYP4+wz4gprBp8r4B+lwohAsBzlevSpl7Yg6pKN6IakR5WdqftHiciw4AJq8sGL8H/x2EFQ/w0KVSVCgxH1m9RvVVzOAiSCHFmirCiYLYW6//IUKMwuYMepUJYJNHYBQuCmBSKQpcQZ0I4AQ5QSyEG7mP1hqLraliOyp5Z65aVGjRc2VqOjqSH2y6OdSidybPK1q4ykr8sP1H6x6bIKVVXtNh5bcVapD5bY3+mNoW9OLIlSAhCsl4FZ9XwrkGdeKCySNtHqGRVYW06ykfTYgPcQV/VIUHb1wz2z6+pdY+tafJLmmtJNQ4kTDh4ACstflDbFUOIa3swYgoEDtQm9XI49QhEJH4YS2dJFaV0/6Iq9iFTOLKKagjgupw5B1JCLEiRyKOCLLgkZX2DXB0T2x1DuFHwCVvR/ASEOTRqcuCLGzzWArzxVqwCJ/QjYPnUUeORQCoiecNoUL2SckoWwLsBDJBV8ByTyzkvng8z4V5iFEdOsJzKpRI/stNoo7YnqonP5YMNbYj2V5OOHP5FIqesRW0rerK7gvE8LhSAFPt3DqEMio/2BBqxFAkFgwijDUgFKBLCbkE1ehinleewBJut9KlYzlgW10ORKgHk+1vLLODTVW2jpqrZr7HNjwyAWwFUnK1l1pBKLGDXJhMLabkPcWCZqkRAVsQckRJvbwr1Yd1G96Yn69jAtj6+ggv1Y5tbJgQiqTl6ckTa50xOvRnDD0aEVm41N7HALkUwASvboABLsEr2pQosUdqH6DmYJOYQ+cg6HBvTB1COmuyg8kbE9S65mbjcWYD6yxbhaBkK6HL/eTZrqN85CHESk/esNG+cbTePrW1zN6/dLxdMLe/HSGseHbV6XZs5iA7hnJxHx0+1pfw/yhGvUjYey0hdHVKWVVJbrFoCD0vaRhAOzIpF2eMIidGaqKYXFgBV9F5ffHC8LAy+N/5RaQuKPX/dE9M7YsCjPiPewgqCAHC7TgpqguHT4aea+kuvmWC9YnVR4k63JPQ6HmtMHlrwsb7CGBiUpbyUPsdVD4KGiFsqNqvRP3XyWCi83x/d26M9+3bfuydRkHMgebw89sa/XgAXBKQqefRa9D7cHOPKgpcYo7MF7nsh6eqz0XQEuQCyHm/OtcViCEsy1w5hOeSdXfqSG37Zx1H5boEOADGa9B3k/x+oocc24Sp/6U6rPTM7zgYOD0TaUCRhU4hf9QwOtkPDgXQ6tEpnsybmqoTE8TyaXA7Ag3+BOLWAtYkJLGCmBp7BoEH+bHgcTF2Q0yiD36YEWDRI9M5sediDDUKaO6VKZYp/b9ML8ChlvTOBDI3wUw/ar2ppIfmb1L7ghw/BaMkrLT9bhDz8xVjlwJKfyblxQoIi6qGpQFl4jzCISuLqAWqIFxUMMT2EAI6vrCY9lHVdv3qGhSITITkoxqAlPoUdtIQd0MxNUDU0ixBctw0lkJjOhQ0kuxeOnkQf3hCSvmDgwcmL2xpPq2gAEMdntACwn5N6noB1ASxUB8FyAQueWSb8e42psKJgphyR6oxUw1WCxBrFhABWI/xeLSJUsgwaYKXTPuSEJOXFiT5gMtFHlGBGFWJyRyZQCYvT6M8se6cGOASvFrxDlsIcwYDbp4vU65M8JJ1ADDZCgQBHTQo7iK3tyoXb4uw4HpELnrfwfvEI11HK6rVhApXclxtrtr4zFW/pwU3a+kiMZvPfjYK0rmMKshtRLjSkkuYsARPpXwCzYGLbO+iytDstgUvbglikI7p6rZBWFEAmz8cAQf1YPNHBHHGGnJZgpSgtIZjazkmW0dObG0DkEvZukbOQcgh0/kBXg1jQwH0RnpgytYjlFCnD9WdCWJLJerguQWxFhoYh3BiqmYsgCzhhcn7coi5bF7F0tGy4giwFEIM8nog5qpENS2WdeJtRYsgE8Bk8sgEsfXcZzudPQ4AsetXVtnj122x5z91yL53Tad9/UiNfWxtrl29CIHSjNPtPCB2Hn08T9Cm6mzyh3tnUadXhWqxkihBJaFcQCZRzTLlfenG0oTNp6tPWjEAACAASURBVKyjmu+mkovdIuaAfP77OYSNBLGJeAkeGdHo//kIst4Qk8IwSuXfXrDs+6Vy8/CWqxD9to+aoN0cWGGiZxJVUbKAIsjomCb+dMCo63xYPgXv4TQsAC0Bq/Tz/baDK33046ccTxKOdHgJYBKHaHTAdY+8h9CDkVGPrfciSKdDTB6pzEHmHprnzpIAE4iiVxzzlLFPYm+QCV46z6X3+tz9MRyESdAJZMPxeEf27c/imYCMeV1zvDggB2c8FzyTB1H0DMAyh6QUilwMiQ1zKoqisOPdICZPTCCL8IrhRIFO4UaZd7n34z6q96KA1gO1qGAUzBxoAlmAmKDGCw7eGK6nd/noVSzdvb8njPBOEHNIJcekJ5bcL0WUalKUE1O9ynQ6JdfRxLd2HJMm4cTVRWNtC13PL2ieQR1NCZ7WECZiPDbey3TuK1itxmNrY0JehlehrhbLs+gLyO1G/sCqueoqJKRUxATGhL2QyXwxHkQDE3wNk7Ca8gpii9kvT8YhJqGHT+YeTpRqL3hi2XTqQNghz81hIZioKFWhvxgG1DYwA5KhGwfw0jGdp2a+8tLco4qCjahSFLyCxJ73EWvDIshCX0TuG/J6WqkZaHooUZJ5eYQhTNid85LYI56TzJcp1NgJ7GRdvN9VgFt1dRFg1MsVsA24NgAbNQhWiFAtqiRiUQeVRVwk1I3pY3P4bDVBzpTROUKigtlcMMyjGLeRHpZLclH/5SGwmJZpuxeU2/YGOngQTlzE47dVDgl5L3lfXeSxgnCDUQXNa6ibcogFzwrvKh1S6xeMMdlGxA8bGvDUMW1vWsBvZRHtnRYBT2zDApb2wSNLQqwlBTEVW8fuHMAslQvzfFg73lG0lHSeWq8IKuBEB3y30GZKeTE3QQ1rp91Ub4hFmHk+TOHEtXhogthOhB8HUTN+YO00e+qDO+3Vr11oz9662x69ut2+emCGfXRlll1ZO9gumHGGnT+jv10EwC4A4MeA9348WbX82gDEVlPq0M4FSCvhYEFMKxIs5n8gCf6c0bFfopr+5vO/yeY/P0m5j/DfYx5g0gr/f/6HmsS8kax7X1HBllxGJ3ZD9/2aLLXScVztOE6cmjxPBi9BzL2w0LZJ3koKYoKXA8w9swC7FNy6IUZO5zQs6W0JFg6pU0IpcY7OPeV5J4GXA+pkENM+Px5GHlsQc5DpPfSGmEQZeKspiA08nRZUslTezEcHkMCUhJh/P4PxtHp5ZKnzHGLJ70P79HgyB5kgNiwBMc3pwUHhNyAmiBEZNKHIpAnF5KEDQrGzJPaK6M2tLO4NsWGEBuWJJcOJwRtDEjsJy0jZBBYnk8lbk4X8mHJkCdBpWxBziyDjXOXM+uPVEVJwj2yM6spSubIAMhJ83m8x1Axw27viR7j5jzwmeoOnxhs+FaCSsDrZdvDYuL8ai04m1q41jipYc2nueCBGXUtz5ijbMavYzllUTbf6XJSFg2w2H2wp95nLn7GNBqabK7LoAj4pAEsT/EYmyi3k0CReEChaBLUClhdhEcjFeGRLC5B2543q9h5qEV40IKhQSFEekvoIyhNbKYEDOSGBTKbQmiAmU15M0nzVWAXPByBGOMX8lcPLx5jfklcUpfB6nUGgwfNFkEUBR49knsfthlhPnZjXmLkCUZASwFy0oVHvO4zyFFMm4Mk8VxYAxu3VgHgt72N9Hu8zPwJsA1fy61ERbihBMs+yLMp7LSVEu0RLwLBSQA1ttGbw21MT2cqUqTZJ+6YzTqfx7ExESHMouq1nqZllxXSjaCi1/c0VtqqadYjItS0pQ6JPdw5J4R1iCiUKYqFLfcoTi3ktgKUQIV6WTK2mArwWjrXNtBPbtIAu8MBr88IxAWBbF2dYtInsp/gZyb2EHepwrxowhRTVUkqemCAWQJaAmAQdAlisAYstpHo8rTSApTyxk0FMIFNYsccbi4KOVfOyATg5sXk5tpaaMXXuOEJ3+w9vmW0/+tAue+3rF9grXzhsT9+yxb5z4SJETJV2U1uGXUnvz4ur+9nFNYPtQsoLzmsYGVZaUO/K9XSU6eT3uTSb35WiA9n8fhT2LWS9N5YdWpw1JPSxVKePclIWUi6quHkC/32JO8b16UMyPyoO9Z+Oy3nEcKFyKd5vz9dI89G9MJ8cffRJ9GQQE8BkAWCCVgJi8lgcYh6CS3pkSYhpOwkhB1j6mDzHt/0cv/22MQUxwSkdUL5PHpiHE32fj/74SYjpfQjgMUyYqhkjLxjygwBs0BmDutcVC+FEzvXP0SEWQrsA0iGWHlYM4cYEyJIQ03fj34fn0hxi8sKCJSAWonLAajwiDkEsa8Tg0KlDrafkCPU0AH4jhhOHEwqciIJIgJrC2llTSMIKYpOpGRPEQu0Y2xNZoEwW8mbkzuSVyZIQU1jRrTfIUJUkhR/kzLwwOl3N6EXSammlLvnDAYzakqiqW6bCuORKzfrhJ+1kwNI+F4D46Dk4hRNVK6bCy6JBNAIeTWPSsdQA4bJuq66iQ3qZzafwroLzqjmnlnPWFWXT17CE3M4wW4An0Ew+aSsdyncgn15L5wjlptScVyE+5WqW5Y+wxZlDbeGUERgtd8awztfo04Hl6aHDfB1e2ULCeYJAV666csQOHS5uCIXOwEsAW5nDpMHk344Xo9yQ4BQ6zCN1FrhUvCyxhoqXXXGo/Ja3jZLgIulZCV7x/j5yPz1WyuSRddeBqRYsVQ/mHpaaDktkIgvtpHjPOiZpvczh1QFsBTD1mlzJ/lAgjse5kdDpJuC1kULxDcXUfJWMoHCZtcIUggX4izOHE3alJx/NPyv4fUnCXUQIvAz1kqwCwUAVSzeUczFWTrihnONVhLtnERJekMWFxvw86sWm2qY61uxCfNOE2nPFzKEhBybIyEIxM/kwiTEcXhspAk63JMi2LR5nWxeRV1o0Noy6vb2J+itsWxPrwaUgFnNiMS+mkGIIIwpgKWWie2KuSnSIdTf2VchQ7aRSIcPoicXwoSsWu0HGud5DMQkx5ccEMNma+TlALIui7IygUDy2OMdu3VtnP795H57Y+faHLx21F2/bbU9c0273nl1jn11fYDctGWtX1w6xy+YTUpw3wM6a1TeIPFQIrXZoHTnRE28JEKPWEPWo1n5bSr64OXewLQJkWr9uJr97NQsu5HuczMoRE/tR/0PDXEFMeW5diWuS7NWBHpC51yWgOcTSoeWTbvKqP0yeKfGCe2HecUPeSWjGyxi2UxATyNx7CR4ZoAteF6MWsXRLemIOjvTxbYBiMvdzTnYs7EvBKwmpXp4WCsvT3xPzZb5fAHOw+f26nyeV5xO89Rl42LA/EFMoUV6YIObqxZAb41z/PJMQC3lIvh99R64C1SggydzL0piEmAPM9+m2ztFjJ8UdUYWqNFJ0TuToyAsTxHLGDLNMmrRLd1FTVRI9sddf/z05sYmsaMqJtImZhLgji6ulTGo6AsjSIJbuiYWaMq6stHyLg8wBpnHCkLisi4cWpe+XdSsZ+RGP6Ye4ItXpw8duqNFDLYIsQkwgc5g5xPSjTzeHWLq4w+GlUYIO0V5enGT2gphCHIWD6As3aoTNGUsOZGqlNbPe2uzBNAcGXoLY/MGqVwJuVIyvmDTaGpgsl08cYPtQg529gMazdOtYj8R+E73o1OFAOSvVZC1mUclG1Frq5ddAHdocLhoEMeUN6ukeH9b3kmfE+WqE25FN4hwIhlZTTPIKL3bJS3OIIYQQxNoobhZgekAWISZoCWJJcUZo2EvYUhBTTku1XaFzB8BxiAUlosKQCTsZxOSNOagErw4pMbEAsgTEBLAVghym8GEIIRJOVZsuLUezIY8u/sjotxA+3FIylA4c9KEsoQ6rBIVe7tjQjFkrC0zlYqqIC59svqccvgvlL4sJNRSjVipjIb1SwgwlHC/GVKs0HTHNdC4uasmfraPh70FEODsX5tvyaXSup6FyB2u4SZQRJPOASyFDAWwTLcU203pJo1sEGR5XOIbXxXF5YTuWjA+2vUnwird3NmfYzuYJwbbSAUOPL/n+ctSroQsHXpd7YA4xH+WFuScmkCUhFiCVChd2Q0xgS0nr0yEmkLkXJoCtnB8BthqAOcQ2zZ8SasUuWFpkXzjaTBjxsL3xzQvsT1892176zC776Qe67OELG+2bu6vss6uz7aMIPW5YMtIuqhtgh6afFrp6bC87nUgBXnUupRJ8n8v43WqJINXvdZawLhoXJcvIKTexVFFj5mCaCVD4TGcPLd2iHokTUCqOJzQXllgBYiGkxKSr/Ev3EiopiLnn5SDzCTEJM9/WJNm9nRIqOMQ0mQtkQWlIPsYVh0mQyVPT7e59KZAFQQeew8mEHQ4NH08FqXc77h6VQ0m3HVZx1O3e+xxiypN5rqwbsimIeUNjQUzAcog5yP5RiKmEQeYwC54Yn62DTB6Xfw8ng5grG7vFO8zHvUsplH7CwWL+lTeWi2MhkAlisyuL7M1XWYrltVfliU20EYQAM2nMOYWFx3JYIiGbCTaAjD6K8sbcE5NXJguhRsI3EWoKQ3I1FZSMEWhhTbLUPoebj73OSwHN68xUOC0b5e2s2FZbK/fItBy8TMvKaxl5h5qPHopUCDIYH0r0tlyN2OONOcQUX1U4UUXPkv0WDkEWPG4MIUXqxSZOsLkjWduIBGMJAJsBcDtysmxjeTG5sGHWxJ9xY8FIu3TpDLucFXMP0x1BjVSPLqBmbBEqMHI7S8lb1eOlzaPLfR1rKi3KHBnVj6xZVkt3+bqxQAwhyALlrACDICbVoZZX6VLokNCiZOeClyAWLUJDEFtGSFHKPweSxhAWBEzpggxXF0bpuyAWTV6jBBieL4t5NQ9NxsdTKDE2+0WcgScldaEUkrFYWS2wCHFikv9LdKJjGjsYOxm7CDWq6fEqio7XALsQRsyPxd3ywjZTwyWArSmi/RP5rFY+p0bWDaqmTqSC30Eh33cu31Em30MW31k+vxHlV4oIT5cwGQpgpdyWTQVi1XhhNfSMbCA3uWY6tVBNxSwGWWAbagjx0X1i1azhoe7Lva71FChvwiPbSsulbSx2KdN2j42O+/C6ti8mDEcrsb0tyPhbWP4lZXtbeZ6lE2xfK53hl04O521gscxOJPiCmMKJajXlnpjnwHo8sLT2UQ4o4OWKQ40hF8a+pBcm4HXSyV6mlahlgpgDTBATwNIhtp/f6dVrZtg/n78CiB2y179xvv3pK/LEdgKxTnv04gV278Hp9vVtJfaljfl227os+2D7GDrV9LezZ/WhwJ9lhGhPtaWU8HcRF14U63ehKF2Jx7uWlchXllFEXoxqsXA4eUqWZZk8OPRX1HpjgpgKnvX/U8FzEHcwRm9M64OllIgpiMUWUt5KqncezCdJB5dGFzIkR4Gs21IdKRxWOs+PudfiYUUBQRa60qcg1g0LQnsOniRsfN8pR15j0vNKP6/bowrAcnAlx56ejDrXAZZ8XQGE7lmmPDF5WgJZXx43qBJPV3eS3jkxHXcPzEdXgwYpffDEkrV5UUmqc3TcPWeNWk3bV3Pux//Xt/070zn6biPMyIvhlSv6pjlcDo3qwiYOYVHMcSOCjYUbajsVIPbqn38fJPYjAVAWqrxMCnxzx9Hmg7qOLHJkWrtlSgBZbAwsoMmS4UY1DHbI+RiaCLPf4ZYEWPKcGG4EgCkPTS9uDCFHh5m2I9CiRzaCnJpsOBOXQBZDjRrZhyVXmNZ2TBbrz3FyiMkL0x9HieUYUmQZ9aHDbNb48RQ9j+MqPsNK+RALOUcQa51CB3BCi4toYrqQz2dnxQS7pKnSbtmywC5ewiRJke0xip6vXjXdjjRw9YuqTvmoeXgFDUyoiwinSDDSwNpK7UUZthAPThBTKNEhFqXp0RtTf0RBTB5ZyIMJbIDMYeHhO889OZR8dGj56EIO3ZYX5ecFiPUCWQRY8M7w6EIokvvofi6Pj95Vb4gJYIKaQ0yd/JMQCwDLQXGYQwgqL9a+Kd+3XmFEcmDywDrzRpMbJCdJB+vp1IWUAK98Pvs8GfCS5coT42pM3pfCi/LSZvK7VF5M+bC5qELrtPQM3m9LNmvDsUTL/oWFtr+p0HY2ZNLFHc8L2XvofQi8BLAAMTpyJCEWYTYGeI2hMz2h4kXjbFcTC0kCr92tEyOwBK2UHVg2yQ62T7aD9Mk8uCzLdi6ZhPfGUijqjp8GMYHMw4jR++oNMN8XPK0UxNyzcqC5F+YA68KzknXMp04ME8AcYqtqI8AcYmsB3DogeVZLgd24fb7ddfEqe/pj++2PXz7H/vilQ/bip7bZj96/zB69qN6+fWi63bO3Aquyb+2psM9szqEh9qgAsnPn0pZqBg2vUS9uLWNFhmJAVsTvFWXpSr7XLiT3nUBsRSk5QfKTjdnDQ0ixGIhlcXEykSvtADG+X287JYViXMIj1he5B9Y92eG5qdNDABUel0+GGrXPw2AOpCTEktsOLx/9mN9PIJN5eNFB5t6YQ8NhczII+TGHW69z3gViOre35xUBFkOJPeDUeUmI+XNqDPsJ2XlOTO9NEJOlQ8yXZvHR4eWjQ8xBJW+5p8C8B2J+XvJ7c3A5xCLY4vfl36t38xhBjlSmkKLSRKo3FsjkheWPH2njSR2o7VSAmNpOqdh5FJOAIJbNMiQFdJsWwOSNZbMWUyYgy1QnYSwCDZApX4Y54CYNU+6MfBl5I1lSCNITcoz5M78tL071ZgKZwo4yeWkKQ45J1aDFOjRq0JRLE+CoERhNDmSUFCp0DXGvLT23ppxaEIYwhto0IBXULlwRBAEJtz2UqJCj1imSQnEcVxdZrBJbOYpwHwCbOowu21zxC2KNfD4751QQKpzCkiZcZRaMsIsXF9uNq2fSMJUJiyvPCxfl2Md2NNoVy6tsYwndIQibqe5qJt7BUkIpWs9rKQtt7phTYB3FY8JilVqwspH8lSAmWbwgJmGEWjQppCjrCSN6TiyOyp0pN6Y+ilIrqgA6FDrj/ajoWbeDEdLzDh/KX8lCvor7hEJpzk0KNEKIUdDCw/P6Lu/CobyWQoLyqlSgLKBqe3U23fgBlEAlzysAjMfQumnKf8lW8bxrCYMGJSIFy2vyUSYSdlpTTMsm1m3rzGfVZcob5pK8rZJ3xY+4CCvg8w/G96lwYQWtz6YSxp5Df8tafq+NU+TdDmcBxyHU3/E5I6BZNAmpN4rGlXh368lVbmN9rTMX5dtZgGxPXaZtp2WTOtBvrB1um2kXtRXFXdJ6wEXhNLmuXeS5duN9yfYQLpQdWEq3/NY4HmqfYodXZAU7sz0rQGxPa2aAmAqp22eO7PbEFE5U0XMrXplg5TBSzqsdJaKsJ//VU/sliDnA3BvTqH3udQlaSYjJA+tCxCFbNS8XTyyP/F8e6kReG107TnRU2s076+1bF66wX96yz37/xaP228/utedv3WI/vq7NHjpvjt27v9zu2FFo9+wpt3sOVNmXdxba7dsL7OaVE+19LSPtfPJkx+YNtmN8joeoqwsLbNJLdF35YFtTNozvgI4oZbTTKqClG9+R1iMrJKcpT0wQ06rNCunrYjJ6Y8qLEW1JXZ2ne2DdkyMekYDlEHMvzGGU7AvoYNKxvoTcZAojyrwtk9/Pz/X9HlL08KDDLAkxB0YvSAGXHhBFr0lQ8nMcbD46jBxCMWSY9Lx6b5/GY+mcdKj5a+keBTnMoax11GTyvvrjhckbC0DTPj4fQWwIK1x7XZeHBx02atwblKMpb0wwS5oXNgfYyTNLmcDlXlkSZv596nw9rjwxQcxTR/LGNMdPoEF7zrhRlqEet5XlPRDLzcqwUUPJhaUgVshCdnms0JpPaFEQy2Gdn2y6T2eHEZUIObNslF+CnDy1CDc0/MMVeuwfYCagyeOSCMTzaA4vH8N+wpiS8DvE3GPTmMytCWAOMQeZYOZem4qq3VRk7Tk1r0kLYxrAopfW20OTNzYBD65kuBb1G89S7MOtkKv+Cq76V5ezYjALZS7Cc9pYOd7O4kr3suY8OhkMtv3lfe29CzPtprXVds0Kms5SdLqxkDZH5LvmUyPTQG6mHgn41mlTWEUXlRhXphJxNBHq0jpNqnlSEbLCeKH7ezfECM9lqwYtgiwdZrqt42qeK0gJWIKXAyyAi/0CnEywU5f4kLsCOBJhnAxiHp5UqFLmOS2JMqIwI4YGBa7QaQNwOcQ0CmoCWSeemMNLAFtN7ix4YQBsLYn/NYQQVwOwVUXkjAg1LcZTreF3M5Xvs1TAwnQBIStmoqvke5jF8Xksqiihx6Ks4dSEEaIroKUTZQzL8mncixJ0ReEI60QZJ9tQhRdFR4vdhHrPWpBnR5cUhXFvA98Fwo3tSOPlZaVb9LrGd8NL0FL4UKHC/YQKZQfbpgSQHWBbEDvSkWtHO/lNdMgKbHcLoWeFE0PHDvo0Ai2BS+rEpCrRc2IONwHM4eTQSvfCdNz3JUdBrLMWcNXlhDyYILZyPt06aoFXbb6trSsgT1dAu6xcVJu59l5Cif+0f7HdeXFngNgfvqR82B575pb19oOrm+3hc+fYAwer7O6dxXbXjiK7Y1eRfWVnvv3z/hL7531l9qn1WXZt8wi7sGEIja7H2IlFGXTEZ4kXejpupn+oQoqdxSOCKndhJlEO5g9J7XP4bkMHeyYo5aPHcLHi9WIhl83/Va2nkiDzyc5HF3AoN5bMjzmENPrErVGQCisd9x1k/bF0D0zHk/d1iGm/PBl5ZAKZQ6wbEimPx+Hko8Ppvzr6/Xz870JM93cQhm3BFOApJxbzYgrFysuM4URBzIud5aEpNxZARk5QXphDzGEkiHWH/9IAJpglIeYg8+8s6ZE51PyYf9ehM4tARhpHINN8LhtPrVjm6OE2Dl3C7IpUODH0TgRio1mfJRtZee7YIVZEKEcAK8IrE8AixASyuK1QY97o6KmF44R9tEiZVtuUuccmL83Nw5CeU/NRKkdJ9b0eTZ6ZoKbb3i0kKiCjl5YOOXlxXos2jis7Ny+y9obEYb0zPgS5pd3Kx1B7Fgv3VPQ8Ck9MfyLVruQNZDXa8aNZpXZo+MPNY6HLFUjjJXBYkdPfDtG54yy6hR+YSihlWl+7flmu3b67PnhlZ9FxYUPeIMJlw62e3EwDMvDmMYQeZ+TambVFeHLkRgSf/Ni8V416fbVlhe/U+T0o/LrhgzcGpDqzo6mLvZrkejd77ddxrSXm0PKxnWPBAJjg5asp6z3E2iuEIXhS3UuiAKy4TS0VgpH4WnjPCEdkDjF5V8pxrcmNYc7VOXhYeSoDwMvC1vBcEm50ATLJ6HU7GOfruGrB1vD+O/MHhQ4bbST9FVqdrZ57THBlXDgojCsvTCArx5OdgQKxllWDF+N1teWO4X4Um1PD11VKuK5sPFf7dI+XIER5tTI6azB5rsUL2MSyKzvpfrGbgt4DteQqF+fbuS3FdnhxLnmyTNtDx/bdyOJlChXuXjKhxwDWbmxfq6AFsIBWDBVmmryts5ZnR2vPCQA7h9W7j68qZumVYjubFQ72tGanPDFEHfLEUlJ6eWGSwGs15uXkslTTpdvt9DVcTl/DFfOy8aZywrZuu+l40nrglQ30yINhoU8i9+2qywvwEsBWzs8HYgV4YQWArBBBS2GA2Pb6HLuE0Pcn9iywb563zH5y4w77/eeP2O8+s9ee/vAae+LKJnvoWLV958ypds+uEvvW1nz7+tZc+/LWLPvGviK7+6wq+zy3r2sZbidq+tg5NbG/otbC28mK5xvKaemFOrEla2BYUFNlD/Kild/M5rudxHebwbby0bqAVDhR4SOF+ZUXC/0TmTB9cvPJrltyD1DkhSVB5RByaGnUBC5PpF8fPI8UwDT6uT56mM3HIHRgQhfM3BsLoUW8P4HMYZMcTwas5HFtp5+TbEcVj/f2uN4NZj2emEKMMcyYhJjef4SYQCawRzsj9dn0wCwlwwdknhNzgGkM4EoBzCHm300YmUeTHpkf8xyZvj//7oI4J+WZ+ffq58fWY/K+WAg1pW+Q3mE0dbwTKXweQ2elbk9MEMtjPbExLAaZkzGcpNnQALFCJosSVmfNA2oywS0YKrFcTBCL3hqyRyD2NnOvDU8uqzskGfNrDjaNmXSKl6RfkHNwaXTI9XhxPSHKHmFI9OJiSDK2wnJJfxJuSaClLxMzEtqrS7aWdpC8V38igUzNSStpdTJz3DCbi9BFHSAa6AghD2Uf3cV3zRhhB5Bon0dD1M/uqrZ7T7TTNHWWnT17rO0hkb0Fb6Ad0UYtk+8iapfW5o+zy5bXsYpuMX9sWhnRO1GNbKUq1CKTKkgOXhihuuj9RA9JHlZYooQxCTJBzM1hFkCm8zjW7ZmxLaWjLAkrFQ7HJVwAFUu5+HYr7Z9k6owfiot5fZLTt6vWDSGHLBlOVJ5O+ToHmCTyMuW7BDGZ4KWVrHWOnyeIqQuHnkMTnDrrz6dQeTrQL8eTLsPK8cbKCCFU4YXP5uKonnZgqttblofar3AsxeMUEWssGYuIYFyA2GpCkmvKWGm5YkSA13rCWVKL7mR5k92sw7Wb7vVHF+Xahe0Vdl5biR1qzrF9zVMCyASzPc2TAVYmwMoKtpdRdoDlSQ60xTzXme3Zdmh5TrCjHYXmJoCdu7rMTqytsHPXlts5rHCwrw21Ks2hO1hjTOuFuRfWSquyZfQ4bKP3oZZXWcaaXzIHVDhWDZAI+7kJbEkT5BQiFKQ0qr1Ud6PfWjyvBoBVD7jq8rFCtovwwooCxNZxMbWpNt921OXYxR1T7ebttfalw4vt8fdtsFc+d9he+ew++8WNq+yxyxfZA0dn2Lf3V9h9QOyObQX2tU3Zdvu6DPvSlky7Y1+xfWl7vn14+Ri7aH4/OzKzL6uZq8sMXnchIWt+dyoxUc53FtEICW5K8KaDSAd4TcYmYaoXU0hRIBPAvFzGJ0Sf3Hyy89HDiA4xh5GPgo+20yEmmIVwIsf82KbB0QAAIABJREFUXI2auNPNQebeWPDITgKxdDDptsNLQEmGHn2/Ay0Jsfg4/ShUjqHCfwRgfq4eNwkxAfztEBMokfv38sh6ICaQ9waYCp7JeyUgptBfCCuyX6Dy+rHk9+ZemY/+3fkob0zbvaDIb0DhZAFMaaFYI8yICEjemCBWg3L8rdf+ZKe98fqfUCdOtnFo7/OQfefjjRUzCmKlE4YDtBHBCgFctKFWQBFw4biB4Zx8woxqzthjPE4KfPkAMXcMgOv24PDmyGEoHOkW824KS0pEkgKaejemPDTl4xx6SW/O4RaAh1R3IklitcmaBAAnk99zIMa2WYQdUzm2UVzlR7Vj/EAUdxX1Jesd06dv7BzAh6dmwMV8WKGPYuaIcMUv2Gji3Uux6h5k2u9bUUprnsV2/4Udduum2XaQtjs7mcAPz6TIVV4Yf9b5eBRrcsba9Wtb7bzFM213dbZtQykngKngWPkyN4kn5PlIcSjBhrwpX/BSvRLVasqXKlmdjYeTI08oekACiUKLHnYUyBRalPfVTqgvrDsWvCzUkgBqaSYARfAggMia6XO3hG4iCm/KtK3uGLKloQtJvwAywSx4ZHhp6nXoTXsFJxUpb2bV5S2l1Hnl9+uGmFSI7qFpXBu8MCDHOWre2zIZoQuilzmIX6YReq2S0e1lKl72rBGEF/GGGydRK5ZFGC57FIXPNNOldmwFIURBrKsYtSEQW11CrRcQW1c20jZXjbRtM9QyTBAbbLt0cUGndoHs8IJMu2h5hb23q9LOXlZsh5bm2YHWHNvfAqiW4i0vy7eDywt62ZkrCu0Q4cEjnUCrq8jOWVUS7BigOr6qHHhVBHhdtHGGvXfzLDt//TQ7tqrSDrQXUj/G6sooIjtotKvcl/JdbbMnB4h5Zw33vASsTrymaHQYoWlvj+GZzY22gmJlWQe3Oxm7uJ9M2zI9Theel7yv4IXhea2pK6Z9VjHy+iLCicW2GaDtrs/ls6i0D2+usc8fWGiPXL7GXv70QXv5tj32kxs6UCY22P1HZtr9B6bafTvL7E48sS+tm2yf7Bplt60ZZ1/enG1f2Vpot67OtKsWD7ejs/rZ9hIuXnL47fF7Db9xfucqH6lBgavOKuWATHnNXKCVhUArk4uVyYi1JpAfGy81GvtH8B+MCsXUxKjJUxNlmgligo8Akx4KDFBKQUyTeMgJkQcLHlgaxJLgErTcuvezzyHmIg/B7GTgSu5zWP2/h9gAnlsWPTZ5X76tUbfPINel5w3m759jMfcVR4FNr1efTR/OdaALYHrvSYglPbGBXPzLBDSHWgCRQMZ31A0xHIRYT5b6/gSrlDnEkveT5x2M71/iHs3LuqBxiAlq4wZQ7ExtYehi7xAryJ1iGSwVns9EUZAxIkBMocTyScCsG14OtGHBQyvNGGIl4wEaLZoKxmh0A3BMOgXAUOZA81HKRzdJ+eXVJc0h5x6a5+E0yqNzr24yObsgOKGezWvaNMoCDFOhTIFPXl26YESKx2jq3YUHhsl1DbUqfGhqBqzuHXN4D0tykESjqFqNRHgLISopEK9pL7HP7VtkXz20xG5YUWJ71HE+/3Q7Qr+7nXgCLeS/FvBnXYvXcO2qZrtpS4edWVMSCnjXFhNWIme0UMXNeHfqbq9mu0HCDmgU8pNYQyYwydzr0riaCWJtblxzSx6N4CE4CGQyyfElzQ8hRR6rPZt2WHg8EV7R82lBZNKSPYwauKHAYQiy/8EUYEsMMTCYhBFaPFPnCXhtUzDgJlPD3g7aCanfodSI8sYEMb0WQWxrGVJ5YO+eWBJiEnK4rcRbUy9EteWqp/xgNmHXamw2gp+5fN+C1zw84XouqhZljrambDpdALE25PeCl/KTK0smADFWLCa0qLXfOugOoaVZ1hTT8aOC10F7KUFsx6yRhBNH4ZGNsv214+wEdVGXr5thR9vIj7F9sLXADrTkI9LIB2QFtr8NJSN2YFlRANHB5UV25gpCkHzXRzvL8LIqAqTO6Sy34ytZ7ZvmuSfWVtlFG2bZxZtn24l10+1wVxkqxly8H2q5KIBvp7A5QIywoTwtWQwfqs9hVtheNjvL2vDAls3OTsCrB2QOLx8dYB4uDCFDvC4BTKb9gtsqILa2voTOI6UBZBsYty8oY+FQlltZWmofXF9tn95Va/ee12a/vGmbPfuxbfbkNYg6TtQGiD2IxP6e7SX2tbVZdnvnOPt4+wj7VNdY+0xXhn1ubbbdSmuq65rH2Ll0ud9eTBgZgLVz4aUWagonxpwYRf6ZLHWEOrcSUZiK1XMRaGUj2ooCD2o1maTGkgNRvlqTV1zCo2fiS0JMk2gI+8l7AjIyh5mPPin7JB3FHImQYgp+DiuHl48+mfvjeV7MQZYE1jttO8x8TD836YnpnCSQTr7dG2Lp5whgfRBtOMQEqADxFMRUH6YcmPYFwHJc57hH6+/bIeb1XP75nwxiSU/qZBBLDw0LZh5a1HYUdKQaAnfDS56Y8mGqH5Sz0bOtcOJfXn1VdWJ/DJ7YBKSLhVPGWOGEkVYCzIoBVMXkUb0gJqApxBhsPOFGrJhaqWIK0AoZoxGOZOJxkzcWgQbcEIzI5Mm55ePR9TY8O+rV8kjcB+M58pIm7w5PLwcPT2ATAPPpABDCm4Q4c7VN/ZUAKRPsVMAtz025tbHk28ZI/RgMpSMx1pGEDj3uKoiNSUEsiyvC6XiCgljLJK2hhPIKwcYFDdl2Y9dUu4kVey+YT1FrAQ16mcjPoZHqUSaoDhR5S+jntwnP4KqOxgCwbbSm2lhGt3tCX53kf+RxNXBOEyBrQfyhIuTg5RDK68TD0QQvT6UbTHhdwfNKAWxdHgtFAo5N9BXcRFNbddlX/0HlmSSY0H3lzXkxtLwp5d6WaEHMCeo/OBAxCSE68lC1GQglxrFSKhbq1pCmS54ua6AP4QJG9SvUStFqvLuUXngRZhQ3AzFBViATPBVKlCfmEFuJNxjCicBLoHWArcpXRxKKtSfTiZ5O542qoQP880fxGvje6snL1hEFqOU3p1EF4gvpdNKSNTJ4YssI7y4DZi3sa5o43BYxMS6gn+ICXRRwQbAM1aRq9BxiW2YMQRE6DHXpSNtFv8RjwOXaLXPtmu11dtX2Brtie32wy7bVmezSHfV22c4Gu3SXTLdruc0x7PJd9Xb1nsZg1+xutGvJJ0VrtOsOLLb3n7nErtlLycXWGjvUWWGbEPwswytsrmIVadWI0fpKnlgbEFui5r9sB68K2KyoybN2lk5pn6PtAmCWG7a1zz2yeDyb/dnR68Ibk0fmsFpNqLCrthBvroD6NMKRc/DUavJTnlipraIh8tp5Jba1ocyONJfbFV30R9wy327bMd++fqDBvn9Zh/3sA3Szv7LVvnthgz1wZLZ9e+/UCLDl4+zT7aMoemZJIsZPd2TYbSsz7Z+6su1DlBVctjCDurEhtq4ghrXDGm+s3LCuahzNmFkENG+E1dO1pgYF6kzmgnJy6fkSlXHBOIGoxTgmqbA8C/9BXYlHiJ1cpaiJVOIEAeZkENM+TcxhclYBcGpbY3duLA1iDjMfw+OnPD0BUZO8hBEqhJZFGP1XoHOqc3p7c+m5rXQ4Re/LATYghBw97KjRt9MhFmAFsOSFJT2xU0EsKBd5r0mICWQK/elzH0QES5YOMw/7OsSUqpEEXwAbTgjWzc9Lh5gaAQfjOQQvlUZJ5DOuXz8iZcjuUyDTb2NWWUmE2Kt/1lIsk2wSECvKHG9FE0dZ6eTRgGqEVU5hBGhJU4gxGJ6YvLHS8XhuCXN4+egemeAlwUjSeoA2CKgNAnCDu0Hn50nuLyukIW8wHief5xUcBbki7icL4U2AqMeJRi4P+MmzE8jkkUWQ9XQWGTe4b4ityjXtjr3y4ehPJE9sCjYNj25JFn3vUM5tQjRw0aISu7yJcBIhxaOsHrwXz2MnrXXkgZ1LfkEdJ1rwrAS88xZPt2vWNNme6iLUguzPoHs6Hl0zy7irSXBYmwtpvQqSHWACj0J0AoJWgdaikMGARPC+8MAEMLVp0tIwW1jZeAtex2bCk5KtC2DrqMtR1/3QhFgd3wnXCUKNAKkOgcl88pDzeF9zgfss8pHTENZ4D8LphGOnE8r1mqsZhGiryenVjO5DwXbfALSwQjTgUzcQf716zYKZvDFBTHCVoMOFHZ4LS0JM5QHKt4Wc4AQUmhmAiNWn6/ne5mFzuVCp46Kqlt+iTF1OFkxk5PuvZbFFhR9n0y1lBmHbGRJ+YHMIRdZzcaD83xqWb1E+bPPUIbYFBenO2cNYXwyPbN5IO740x27Y02D33XjE7v3IuXbvR88LdtfNJ+zOj56wu2453+782AV258dP2B0fO8/uuPm4fesjZ9s3P3xOwo7aHey78+Zz7M6bjto3bjxs3/rw0XDeVz9wpt129U770Lmr7fyt9baVGkLVb0mIIZXg6oZiW7ewzNY0ApPW6XZwdb2dvanJztncwthsZ29stbM3L7VzNmFb2uzYllY7vnVpGLV9zuYl4fzjW1u6t49tabYTO9rt/J3Lw3jutjaTnbdlqZ3Y2mYX7lhuF2xvtxM87vk85mWce82OZrt5X6vdftZy+yyRhc/tnmffPr/VnrpujT11TYc9cXmzfefoXPvm1mLgNc4+gZz+1mWj7CMtQ+3GJUPtE+z7ePtEu5nauJsQuVzbmsWaY5Qt5BMK5wJGalgtXCpPrDUfRS6emCBWjzCnsWCCVU8aYxUogPOo+5lEaDGu9Ez5DP/BKO6IbeYU8o+r/3o3+zjBarL1sGG3J3ZGlIm796T9QZEIsKKnERV5AXwCIBOsoBW8OgErYQ4x9+h6IBbzbKeC2LvByI+ne2Q9YcABIST4dog5DGMo0cGVHP0x+vYZFLwseXYng1g/gKb9DvceSL+Hz0liGZosA55kLV6swesNseCB8ZkrrOj5sQCpRChR8PL+iNoW1HSOtw9TUbvuK4CN6jcAz0vAEgBJ/zjEEvO0Lm5mlZUisQ/riUnYMQGIER5kLJk8xsqzxlkZXll55tgQWlSOrFjeGWMpk4qsDJiVM6FoW3mz9LCjzk3C7+Tb5NsmEabESrjSLuaKWuYA03YptT+yMq64w0ifwmKu4oI3yKKV5TrGvlLt47asCBMQBTN5ZSFESb5NeTbPlamWbQJ/HMVXR9O3TR+aTGFFhTKkUJwIxMrJtalV1Eq6chzkyvfS5gpWuKVbAxPwPuCxn7WpjpLjOK8+nzwZxat4Ye3klzpo9rtzdj65mCK8uCEIQoYQWhlJ012UiLSYWgLIQo9DPLAgnCAPJg9MnpfyXAKVTC2ZZOuB1/pc9uGJadzE828GYtsKUT3S6X077X0EMjXOXVc0jJAa4cIArwHBm6oBXLMpf5gJuKfhfVbhfZbTfaSU9XryyEXkkjDN52q4sD9LyDMWcLyA44W0BSthATrlqKbjxVZTmzUf77QBD3gRUJRHprXAtPinQCZva2MRbbnyuD2ZHB4TmWC2Hkn9xkLWA8NTXJ1H813grDq4Nt6z+kou4TOTOlGF4GoxJYDNwcNX669qJLVTqQuppNixijZTleRPypjkyvCUq7h6n06eU6HIOuClEK3ab3Xk9qP+jAVKEXbsmDHctk1jtW08hL1MsALZocYM++yJLvvlNz9kv3/kC/b8g5+xFx75ov36oc/bM9/9sj33/a+H8dnvfdmeYf+vHvqsPf3Qp+P48O32q+9+zp797uc5/3Z75qHb7JnvfMaeefCzwZ7msX727U/aj+/5hD361Q/aN2650G44vtG2tVSFhSp3t82yvW3Vdva6BXZ8Q5PdcGyLfflDF9ldn3qf3XvbB+yez3zA7vr0B+wbt14fxjvY1u07P3VDsDs++X6745+ut29xXNvfYr/OufO2D9rdKbvr0+/nPu/n9g121yevt7s/9f7w2Hr8e7nPfdzngduut/s+dok9+qkr7MlPXmpfOX+dfZyQ4jePt9rDl5IPu3SZPXzeQrv3zGr76qYC+0TraLt58TD7SNMwu6FxoH2oaah9eOkYu3HZOLuRBsEfbJtESJFIxfyRiJv4/LOjglX/iQVc2NXL08f7n89/tgaBzlxCxLXZ1GISxSkYgpKZ35nEHRJWKS+mxuAOMr8Cl/Q6tDbCmxqMedjPi5sjkBSmigXQvj85Cli+OGYs4lWuLYoYdL9oug3smOg99NYdfhMUCMcJAO8UHkyGCAUrPzc5pkMs/Tw/rsdKPp5DS8By0LkX5hAL3ljK+0x6YHpPA7DkewvebB8ADkj64e30BRx9AItGv0jQZx091OiByRPzfJgXQydH76UYRoClkKFL55XCkbc2kO9a3p57ZgKcIDamLyBD3i+QycZSuyvTXK37qhC+G2JvvkbvxKwJNpn8QyntpyLExgeICWSCT/DM5J1hZXhqsvIJGH0Dta1zBC0XgWg8GcT0OHpMB6QgWcqPWVbOD1pWRmNct7hvpFVkjbKqlFXSiqgCoLnptpvv01gC2AQ7wUzhSoUdYyst/iwhTyY1ZH8brw+nb78IMT40h5hqVgSxPP5Mdfzxts/IohMH+RAkzrspYt5FuG4v0DiLep+zyWfsqBgbvCl1fm8jx7SEgts1FXROKJpgdaPpm0i7qVZAtoAlKRpJcAtkUiRKnShJ+/JshBKAKUIsgir0FMwjLCkDYhsB2AYmho2EFgWwLbyGHawgvZOJeidScrVtWqv8AwtzKo/ViDqyZoQ8KbwrisSrmCQqqLso40dQyo+qkB9H7hl0TeB9qpVTJj/eLAAuD1S3szku0zlSk6mdk+q0ZiC4UC1XHXLpJTyHWlFp9WoJPQSxDYB1HTDuRJXm6kSFO7vDnniL8jQFsaVZ6qpB2JKQovpIaimVavKaM6gznMr3U44KSVbM65bUXmrFCq7YZdPIqdThaS9gZQF93ssoIldObGX+0OCNbigdZJtoxLyd1bi3VWkcjLCGBR3njkQlOt4+fXyFvfIvn7b/8fS37Y2f3G1v/OI79sefftv+9IuH7M/PfNf++MuH7PVfP2yvPfMv9uenv2N/+iXHsH/9FdvPPGh//jXHf/WQvfb0g/bqL78TRt1+9VcP2r/+4n77w8/u4/Hus2cf/ao9cPv1dvmBLtu2uMqOr19kV+3ptI9esMtuu+qI3fPJ99lP7v6c/ebRb9nzj99jL/zg29gD9vyT99tvf/SQvfTjh+L41INh/4tP3G8vPP5te/6x++y5H9xvz//wAXvhqe/Yiz96MNhLnPfiD+8P9sIT98bHfOJue+mJe+zFx++2Fx67K9jLT9xlrzz+LfvDY1+xV7//Ffv5F6+xu67cYt+6oNPuPtFmD5zfbHcfIsS4vdI+syrLPrxkuN2IeOOmphF2Xd0Au7auv127aKhd2zTcrm8ZYx8AZNfTxeRSWnUd5YJhF8X/q7mIWUoRfwPh4houMuZqCR3y4rNIKczAZuFhV5IWKKG5ay4F7hJ3KBLiKz4LYlrlVxYawsojY0KPKws7yLzbuntpqVwL9/EcTs8YlxTxxRx98tQYczS9ISaABSPHpKLgPu9JGIB4JyAloeMw8tHv57eTox/zMXksua3HfzeIncoDE8SC8X4EpngxIIgBLeaB0/ns3sNnr9yf8oAqig7GudEbA/JAzD2vJLxOtu2fryA2EhA5jAQxne+PI7AJZKP7ACwZ52pOHkM40e/jEJtZnvLE0iFWOmWsVXB15MARaGRlKauQpwa8KiZibMsC5FIgS8JL+/1xkuCqwNOrzB4frALFWWX22GBVOdrv22OsilzUVJL50xin0whWpu1ooxhlfrv3KOgJboKZPDPl4CLIEIdI8cgfRp2R1eZ/bOpDTXpiIaTInymHyXs+k+QuOmwcpkh0e+lw21021M4hUX+EdaHOYon5zQg+ltKJfikdIlYQ81ceaSHhw66yLJuHEnMmAo8GcnULCZXVos6qJW+jwmZ151AtlgDWicz9ZBATuAQw98aCJ0ayfBMejcKI23ktO8m17KhgUUYKqDtYsqQZQYbAORPvpAroVEiyjsfihcPe/UJtnNSLMItR0JqSGienRtXxaH8OlosVcruEz0SPWU1OsRY4LuB5FB6V2ENCj7AumHJfhJEEsdAjEbhtKkC1SKg19EfkIkAKRcmvW7lfw/gYGpxOaFASbKkT1Yle0NRzapTkvooOLdWEQedRw1iH8GgxHrwrFVeyVltUJ9K0meVbNpQi6CCsuVleKgrFLRUDAsh20zNxHwtUnlU/wW490m5/fPR2+4/nH7a//fpB+9tzj9obzzxsb/3m+/aXF39grz+v8TF764Xv25svcOz5R8L45vPfszdfZB/2V479hdtvcV+Nuu3nv/7cd9n/SADdbx75it1+/TkBYFcfWGWfuuSA/fNNF9l3v3Cj/eL+z9kff/Rtzvuuvf7M9+yN5x63N5/j+Z97ElA+YX/CwvjM4wD0e/avv3zU/viLR+wPP/9uvP3r79u/Yn969rFoz7CN6dzXfv14t7357BMme4N9Gv/y7OP29+ces789/YD957MP2V9/8FX7+ReusPuv3mpfP9bM6s6NtJeqsI91ZtqHmkcHaF1XP9g+sHC4XVXTzy6ZfbpdUTfIrlwgkI2097eOCxC7gtZc580dYYe4aNjFhYQubKRSnA/Iqvn9z8AqCQWX8H2XEK4u5YJIIcVSxGXZNHqdSKQgg0iAeinKQgE0o8vue0Msyr4dUkHxxm90IOfLBrEtG8yFWDDB6qTmnhhAxGvyRSIFsLDtkzhjgFnKwwmgITTmnTy8se9/eeS5kmDStsMrOfo5vq/ndo8n5h6ZRvfGdH54TB7Xc2Hugfl7S3qz/yjE/CLgZOBK7ktCbJSAhPOgMazOjfenLvbhHIUVUyBTaFHelyDmc7N7cvLEuiH2xquvWF5mRrcnlg4xAUemEKPMwVWpWHYKYgKUA8tH7XNw+WMkx3SICWC9DYCloCV4zcgb120RaKOBmizCzUed59sCnEKQApnyb8qhSe6fyUQ4eSieGN5JBh3QxxEykzLRPyiFEwUxdRHIY/KsHovAonyi7aLTxkFChxc3FdhVrYWEFccT+0fVx59SKzl30TJpMQIQycSbgHQTK2arcHcq1sDVZ8M4inn586oR8EI6cyyhJZVUg8ELyyHElkPbJjwY5b425J3OY5P7yokA07b2rQdgCtUpdLiVUOYWkuZbK1nnqgy5OV5I0wRyXjS+1WsoBVyCVwnmrZtC/0F+AOpFqC4YgpNAJhOssjGBS/vz9f7Zn48JJsVYCOGlIFaDwqwBT0/eWDvglGJxJe9DHTvUmSPkwxgFMkFsG70R9Zq3ldNFg3yV1JcKq+r1zuL1TuWzrsRUJ6bXXsTzlwEwhTFnEw6W4GPRlGGIOyK8JLFfjiKxkyJ0rcCtrh+ri1JeGB3x5YVtxhvYVs5zJyB2YO4YO6s2wz56oNl+/93P2P/57SP2v194xP4OsP76HEB64XH7y0s/tLcA2ZsvMuEDqwCmFLh0+42Xvm+vv6hzgRnwegOIvf48oHshAu6tl4AfxwW/13/9L/bKj+62Bz9/g91wzia79dIDdvdHL7OHP/cB+8V9t9tLT94BPAHks0Dn2e/ba795LADs1eeAzos/ttdf+nEYtf3mS0/xuAn77Y/sDeytNPPzXvvNEzwe4PrNkwGMgqPsred/aP/2wg/sby/wOp9+yP4d4P6f5x+017/3Gfvp7RfZfVesty8fXmC3rC22G+hcf82C4XbZvP52eU1/u7pusF02t59dVH26XcLtSwGZVn++vnk8EMuwa+jmf1HtSDtGDvLYvLH8Z1g8lIstLRlUR1hRi5dWAjCtSJCPldBubhqNnqdO4KJ3LFEdQsj5rCKhFX3H8TsYy4WkcmQuu9ck56GqpEzbgaXxlBA7JczeDjEtT+Iwc09kIHkmbSuPJC/F4ZU+/qMQczidauyBVgxh+u0kuJLbglj00iIkJaWXCWTuXXa/t5N4YmfwGcobO5knprIGz429E8SiJD96vg4xfXfBExPESOWE+wMxP67ldyTJV85MOTR5YAonCmQa0yH2+mvkxE4FMYeQwCPgVGAOsaQnpm0Hl3td8twcWO7J+W1/vN4QG81zREt6Xg6umfnjbVbBuGhI1meSFJ6RA8CQW8/KG89tAEctVhjzxtjMfLaxGWzLG1PeTDk01b45xCbR/WECbau0Suh4wmxaDiY0DBb1uVKTSlFdBNRRoGo4qy6TjN4yfZJdvmKG3bK9wa5dXmr7kG+3koNZRJhEOa9FhC7lpchzqJ/M50ZrFDWvVbGuRAmahGfgHc3FE1uAF9ZCKE3yd3lhmvxX5eLBALGYC4sQUy5MXpiEHBsKIsCClJ3Q4Wak/BvxwNYBsK5C8m2E1ObRVT8AjOeVxxXgxXsQiAKY2Bc8KiYHeTcBTmyrpVMBJnBpCfki9qkzfCn5sTKatKqLvDwhhfCmkx+bzedXQ+lCI+KQxWOR77NY5XJycAorKj8W+irS0cNbTW3IQ7WI4ESiD0FsC1foq9i3aOwZNn8EkGJSk8cq4AtkFXyGgtlMFlyVN1uPKEZqyqYpA0MN2xKeZxny/M4CLXdDR/oiSiC6AYY6MtSrIfcvxQMrG4inSsgVkcfeGeQ2qdk6q3aifXBno734wD/ZfwpiLz5q/+Ol6En95cUnIsBeYsJ/CZBgb8l++6T95eUf2BsvPxns9d/izXD7L+zX8XBe6py//u6H9rdXfmD/6w8/sjd/80gIU/7wjlvtk1ecaV+47pg9+rkP2s/u+KQ998jXwjHBU17cm88/BrAe57l+aK+99KS9Cmj+DExfe5Hb2OtATIB6k9f2+m9/0H1c56Xb6+wT3P7y8o/tr7+N9peXftS9/beXf8R75vX/hveOl/l/XnrU/v1X99ifHr7Vnvz4Ufv8kSV288ZKu7qFBTEXjrZL5g+2i+fQXg2AXVzdxy6sPsOOT38FmH9NAAAgAElEQVSPnT+nn11WR91k01i7gT6S19HR/8rFY+0SwooXLciwEwsm2SFq5AQyhc5VMzZH3hgXLkV8z5LaV9AwoWrcSJtK0+2pUyZYxaQJAWQTydnKK5PsXj1P40RGGIuJV6YQ4GB+21H0oRGvi9vBtJ0y7e9tUSgSapSCZxYh5rkyTfCCmE/4SQWkBCHKE70TxNKhdsrbeEqnApfv7wFWb68thitd6PH2URDzkGYSYsrtdQMsFU70XJd7YgophtwYIcuYE+sJJ54KYt5nMXpgtK3ivbk3posOX5FAXpe8MEFsOKkcecY6FrwyACbQuSkvJoWjoBYNsQdz9CDmMXlivSAmYYdyYu6JpXtRQewhOCXCiQJYEmIOviTETrZPAKvCS+nxvGLoUCBziAlggld14QSbXTQRy4hWANAAmSAmq87PCCATzII57BgFMj2eQFaGCEW1byq+VjixxxOj0wcgU1eP2G8xUl9/GHXWzsCKmGDnEMtfXT4OOfKsALErVUuEOrGLybR9Ci2T8NZm8KfUxKslQaqGDrYyWlfl82OoHEz4i6tMCRamqQ4K6NWRD9MS7mr/5AALtVZ4WeupN5PntamAdZryUqFE9q3Lj22dpECUgENhszV0Bu9g6RLVe83Xa6Clj16DoCSACVzyvgSxAv7I8soUqlMh8UwgpI7v1UBEeaiZCF+m0+tyBp/PTIrfZbNGkbfAZsvomqFlUSQQmUubMjXprWN7AepPgawFdeEyZPgqho7rhiG9TzX+VdPfjfkDQ02bQCaIrcU7k9ClkdKIOl7DPJrCztEKzXze6twxa+h7AsAaaba8gDWo1F+yicduZhmYpZQorMjF8yscAsBYF4xQ5UZCvZtKBUjUkeQKNyP3d4jt5IJjz7ThLOI4KrQLOzxvgr1v8zx7+o6b7N9ffNj+90vftb8BsgASIPLG83gvLwInASplgtebvwNiv3vKXn8ZqACRNxgFM0HltZceD9s6T3BzkCnU+OovH7Snv/MF++L1x+0r159rj3/xJntGXthj37Q/k4tTKFIenUKYb/D8AtSfgelrv9Vz/ajb3vgd3hhQ0vPKdDxp8sqS5hATyLT9BiCMEASEL/wQoD1FyBRAE/b8+4uP2H/yWfz7M3fZ7+79iN137Ta7Zcdcu2TJRDsxf7idVzPYzpnZx47Lpp9h587oY4crTwu3BbhrFo0OIUV5bgLZ1ay1diXNkq+kA8pFTVl2Jh7wpnI62qOi1QrmAlkZv8UCfpNaVqeIi74iWgrJGysZO8Zyhg+1SQPJkyE2GtenZwV4XZVrQlMexYHVG1ApYPEfCAvo+sjvP9wW0Pg/+H01iYZJFs/KIearHWuyF8g0kXeDjEm4H/c5nYk32b2ju58iOZ307f8/ICbP7N0gFkKKIc8Vc12CmNt/B2IOsu7Pkc9UIIsQi7CKKkRyXf37sRqJ8popgUcqlOgA0ziC+w9l/ztCTDkxhROT6kTlxBxiDqR0iHk4UcIO98SSwPL7JfclvTBBbGrueJueg6XChgKOclkKAwpiswoygBhLogCwuQgkZLNTEHNvzOElmM1GsqvjMvfE9Fh6TIeYOozkjKBrCBPwFLyJDDp5yCOTNyY1lKT28shG8wdRR231dcvlj1ZFGLCNLhyHGwklUvtz9bICu5Ti2DNns/QF++cRItHkO43QVwVKq3yECCUDKdAGIILZXDovzx41yKZxTjUQm8/Ky4JYZ16s7wrqPQqEN5IrCqscAzBBLIYRo6w+yu0JOZIPkxcjBaKa3TYhaJCqT0DyvoPyAIsBqEKGJbynCn4wU1nsU/0HlVcSUOsIcS4kr6QmumGNMwQ2DZlIn7NYLgMPvI6c5tyMkVbD0gdBKUjOopqF6WYSip3JhFON0rGacGwNQBSEFiHBX0qX/uWTEHkAmdDpHuB0TYqNfwUy5crUzUOQWVc4ECUnIGNZGl0ENKIkrQdoEqPI1IZKknt5mKHwGtFMO0pG9ZxciVBkHXmvtagyZUHEIXilAKkFNjcXot4kbCnbReGzitT3U6elNd/OqploV66ptp99/YYwcf/Hy4/a319+zP4nAPo3vCiFE//6O8J0r/TYX36PN/OHn9hf/vAze+v3P7U3X/lJMEFNYBHY3N56hXDdK+wHSH99Hs/q2Ufsxe9/w+685XK78yOX2lNfu8Wevf/z9vun7go5s39L5d7eILwnj06AehVPTAB7ldfRYz3PESDKc+v5081fW/DceG1vvvzTEJZ87UWASHhSJqAJbOF98pz/8+Un7D/5DOzlR+z/+/U99vtvf9TuuGqLvW91pR2rH410fkhYckW9Qg9P7WNnT+1rZ5WfZsem453NG2JXLxyFwGMsIIt2nbbbJ9mHunLt/Svy7b2Lp9jZtTRRpgXYer4zXYzMHBq9MS10ms1vNhOV7BTy1JmDWKC3v/Jj/Vj1mfpOeWIcDytQOMTCFXtcRFESfIWagnGury8oMYjAlRx9MV3lVUIdGv8TTZjBq8PziGEwF40g7ABggljwSADYgBTEFHLrwwR8Bq/nVHY6r+nUJmHGu3tiOse9MT/fbydDiCfffns4UZ6YTLm94JElIOYNeXua9Ko3JXnCVGg1lh/EcKLO1WcWQ4L9UCpGE7SiZxfLFpRz0z6pPuVtCWIjgNdIvl+HmHtp+h7SW1cpxOgQC8+Vgt7MsnJ7/dXX7LR3gpig4zBKQkzemEMs6Yl5ODEJLt3fHyMJsRhOxKPKzQgQc4DJa9K2Q0xhRIFsTmFGMIeYhxM9jOgQ03nV9ClUKHFq9sgAREFMtW0KJ+YBkmy8h0wm4hBSVMNhbLyWdeGKUA2CkxBTXmyCQAR8luQMsx3I6y9oyrcbVpYTaqm2iykWXU3HdC2xIk9IXs6MUagiuXqcxP0klijhy5o9ZhTwGmyh7gqIzRt3RpCWC0ZhUi+kpqmQtk1MvIJX0tbnx+4cCjUGeXpu9OAkCmnJHsLaZLFxrkQRIZ/Ee9ASJoKXlIhTBwzAq6HuipBNLSrUegrZG6m9k/ikGXFMMxcRKuheTEh2Ed/H4rwJtpCLjLop4+hYMoIOCyNt5uhhrJI8OICwkvBOOVfGFXxeUwH/DDy/uTx3I6HMZgqjQ81byhtbmYKYwooyeWbq4KGiaHmUK/OHUfg9GI9sAGpNwouqZUOlWDvqPbSiogxh8sCwdI1Ch2pRtZKao1WS6uPFaSLcXDE0yOg3lpIDk/eFkCN4X4BrO/uSENs3jX6X0xHk0HD3LNo/Xdo13Z78/FX292cfsP+FB6KQmmDyV+AhT0whPQ/baRRYgheEN/T6yz/BAwIEYTt6SvKIAniChxa9MYUH/yaP7lcP22/+5Svkwi63+2650n769Y/br/HEfv+DO4OyUeHEmFcj/ybPD3hGb+8p+/PL0SLIfshtvD6e42TmENXrkinEKM/MIRbyawDtrd/9LOxTiFLvSe/vb7y/v+I1/v25h81+96j9x69QMd7xQfvMsXZ779J8O1Y33g6j7jw8HVXu1P52uKq/7S85LcDsorlD7KoFI0PXjhuWjkOpODbYhzsm20dX5dAYIN+uo0nylW059t5mmiXT4X4TzYEX0K1lGiDTShESUUlUpBrNieSoM4CFVn0WwCTwUF4sQizCytsZRYAp3JSCGKPCjpLlK7/tppxaUDkyukjEJfwqrFVRrh5TykV5DpLwyzQhO8gEMJm8lf8OxN7D8yTNoXSyUaBSN42THdO+CLK3hxEdZlFy/84QE5yS0nmByQGm0evk0iEWQ4r/GMTCxQGfbRJiWhMuCG1SMAwXE0BL30N3PVlqW8ccdlI1ziqviBBTTqwge6JNxEPxcGJZZkrMAYDkMQk4gpisEvVisISwQ/ByKb5DSyBLemgOMs+FOcSkRpQKMSgR00Qa8tAUUkzPiQlg0+jcUDWFxfXIh8ncI9O5AmDSu5PkXh1IfGmZHnUi4g48p/F4Y1rueqQgxh9FP3rlxcYCAHUQGMcHVkSoUN0sDtJM9RO7Ftotm2bZzWun2dUrptnZjYVBVBAk7agQtUijK/4KuOrI4wtqmDIphOS0pIsUWgsmDQoQW1fIRIwHtgWIbaHDhOq+thX2iVYUw4mCmMQcCjdK/KECYzUiVpGwN85Vu6YYhqPnIKEZ1YLNIIxZLXiNGGLz8aLq6KSiNdEWTsCzIYfXzLIYSwnDNuMRqy+h1uSqo0vLPPJ31dTuVLF+XMmgvlbElbFqxoq4Ii5kQomd5WnOy+dTzu1pfG6zyWXVD2fxTCAWc2Op/BivU+uKrUBmrU4m2lYR7Kps+j7iUa0tZLmU/CEIXPC4eD8L6V6imiJ19VeHkbYsFg/NGcQ5qD0LhgIwFXIDMPJrG1j2XuKNjaXUpRVL2o+ApIjSg6I+wbazrRKEPYSwDkwFYHTNODhjbADYsbpsO764wO790FH7+zP3Iex42P6OMONv5KXeeA6QSNTxAiDCI9MEr22FF+W9OBQEAm3L2/F8lYf5dK4EGnosh9jP7/2s3ffxqwLEfvzVj9lz93/RfvvYNwgnPhAEFgopvv4bYKZwJkARpJKhREFSIUaZwo3dz8W5ut3LeE16XfK0QvhQopCUvfUS3uRvf2p/fflnQC6ep3Bj8D55/4K5hC72EiHGn99hT3/9Orv9+Eq7bEWZndcwCZCNtH0IZc6sGmBHpg6wo1V97byZ/e1iwo1X1g+x65eMoHZsjH2obbTd0jXRblmVaTcj0ZdXdg1L1rxveZ5d0ZprR+ZPDKsN1LKeXiUXQaVYAWF9Lc8ynv+dwvlj+e9onT8pFIPcXiP75UFFzylOeFIsauLzDhFq6K1uD1oncDwCgfH8D/U4ajCs/7Q/vtpcxS4hhCsDyFLemSZb4KWwmHsVAWY8jkKJCrUJYmfw+uRpJT0x3RaoTuO5tN9vJ+Gl7eChdcOod76rx9PqvV/wSoIt1KsR7uwRckSoncZ5svTHUW5MsnuvGxOcfAFM1dJFcJ3Ge6YpLxL66Hmx31WawWtTcbgs5YXxeXjuS6CS+Wem+2tbFwN+TOcqFzZqwMDuOjP3sAQq97p8lCcWQ8e8Jr5XXWT0Z9/08sp3h5hA5NB5J4i55+WjgOXb7p2dHGKS2feGmEvmXWEoIMlcrOFhREFsKo15p2cjv8fcI0sCzEOJEnYkIdatTtTinYTCtHyLlmwRxHSlFq/4UgIPPqwMfoy6Sqyj1uumHcvsqQ8ft28eWWbvrcuw4+RWLlxM77052YCFXBJ/xGIeR3moAiZ4jVL91Y0bgydEqx2ECnOZ7BvJBWlyluTcvQUtqrmjmAaqxWd02+Y8dedQsXDsTyiIaUHLFrp8qM6sEY9uLqHMajzF2VzRziXPpVxVDasSzMfzqyWXVQfAGoDSwvHDQoumZj6PFgAmlV8TIcQFk9UVY7jNxlPVCsmlALuMz2Yarze/r+rEeA/8YWVSK4b3xp+wlD+0IFbFcXXNmMfzS6ihAujOzNhbUUu3OMQEMm1rpeewiGYeBbFAXKHBDvJbynOpk7/yJSo/ULipDbgtyxlA/guQ5eKFscTN6vzBhCJpA0ZecH0xfSOBlgC2EdtceEY3wAQxSbz34q0dnDbSzpw+Knhih1iW5ej/Ze69o+M8r3tdUuy9A+xEJ4kOkAQBkigEQBAgOkCCFb0QIMHem8QiikUSKapTVJesZtmWbcWWbMuWLUtyYqfYTuy4JTnJKbEtud1T1l3r3rvv83u/eQdDiFKck5N1zh97fdMwM5iZ733evfdv771ynu1fHWufuavb/vD9L9j/g8z+f/zsHfvDT5G5UxsmmfuHQOh3wEv2W3lmOpJHkjpQQPA5JgkoPvgFoT+ODnhAT56c/v43P0F6j2T/V3/5FfuLLzxhX374nH0VT+wvX3nUfvKl5+zvvvWq/ZJasv8KvAJvTNJ9FJE8x6+VEwOaglHYQrCSl6gwoH89fwxAG4KtvCyBzKkZeb96z9jvgdgfgJhA9uEvCEX+XUjdqMehzNT7+G+IPf7vn33T/r+fv23/9a9esx99+m578dgmu0iLqsMF82w3Apmd9KTckzHG9meNsuPLxtmJ5aOd8ONC8Ti7j84e1yon28N1M+xhWlM9WD/brtbMtLurZtnVeoUX45mEHmOdjC1SI2qJnTLZ3CWxGVKdorwxgUbgiYSYDwsG+SwWUQcvASywAGJ4YSx2U/nbKBbbWSzOcwl1zeI3K5sHuBbg4S1AuKQu+notneNqcCDIBV6aBAZ4CTxvJMiCYuABiA0OJzowRUAsElyCmszfpjyZh4xyV7cyf78/DvbK/j0gJpB5iHkYhYUg/wLEBCgPMQ9AeXrjhzFkE/Owm8htCik6L0wQZDMg8xDT0V8eDDE9/00Q+/BX/2Qqdp5FmC3SE/MgUgjQhRU5qlZMXlhkONHnxCKh5T2wwUc9Rs/rgabnTaGlUyoQ8vVhg4/eS/NQ8x6WrwNTa6wM8jiyTHI53lR/JktmgVbnD7WpkjJR885UI6ZCZ9exg+ajbjo0KqnJ/KB9YaVanThvjA9zDrspLeBV5N3evve4/fc3n6Alz3Z2nexKEQwcZJSGmv6Wo1TMVV6MBT0VkGkGlmTpmeSN1qJWzKeBcS4dQJQ/K2X3qUW5nbyO4NWNim57yijrSR5Jkehw63Igu42RLtSJEV6UMlGemLpiaCKzOt6XqAsCcv1cwYvX1fMqp6RuGkUIWFbTSqyYrhfF8r4AWPmsSRRXB+byUHQ0WYEoQwIPCT1S8UhdWIcTLYmuGILYAv5vhUR9DVlQM8bjOAFTCAWo80cm/2e2Qoq8h5LpjJABYuvJXW2Io/YNMGl0Sy1girQ6vDEBWV01ZBvxROvjKDng/9NQUG8KmaoDv8oQwvV0QG0j+UAJQ4I8YQB5fUYKx8qj7eA5OwnP9qBS7EMNKU/MQ8x7Y3vz59vTRzbaL997yf7fn33DLdqSm3/411+33/4tMMF+h+zdm2D0u5+R38K8VP1D6q2cLB5pvKvvCsFOHpgk8+5vfvyO/eN7n7d3X7jfXrt60t4EZN978SH7wecetx+/8bz94/tfsN9SYP2Hn7zjHv97arcETXlyv6aWS1J7QdKBktox1Y854YlA6S4Lmjebbvf3+ffqpfWS1/8eD0z24U9VjwYoMcnwfyf7CfDmPf/hR2/bf+fz+B8/fNP+8J3P2U9evWpfuKPD7tmYS4H/XOuldGEPIBPEji4Z47yxY0tuc1L8e0sn2X14ZNeYMyaYPUR7qofqZtn9tbPtoUYKpzfEOY9MKlFNHSibx8aLDZDC9sqNSRUsiAkqMo1ICkJ/QQ5MC55TFgpe5HcEHNlErgezAVEY45nNYdGdP3wUHWlGWSzgiiMMrqhCMvVoaRODSEMihfN6TQ9P/3oCouAYLMqB9+EhNoLzeiCcOCDk8AIOL7EfwnMMNn9fJMQEqUiIeWgNPv5rITaEz0Q2+Hm8NyY4CTLyxuSJ6TNVP0Md1Y0jLNCgY77ELgHUBjwxfQ/Oi9Ln7zyuQFKvx3kvzD+/XiMI0QaPcTm0CIB5iAUAQwzCZz9Rz8mGxD03111eLQSxrLSQJ+YhNlOho1DbKSkUBRyFCD10BLBkbvO1YSp2Vj5sUbRaRQ20mPKdO/xtOkaaDzt6D20xISx17PBdOnQUePz1VHJkvmNHZN5MIULXcgrVoUQbkaYWVr6Nle/PKFWiBncKYHMQXsxElBBNC6OpSMinsCNTLmwSJ47vEKCQ4jR+gDOA2Gx2VvHkfjamJto37zlpP33sjL19aJM9WpVqJ+mhuJM8zCa8jBogJnWeFnK1QZLSTj0K6xLnMkMsDhUe6ju8HHXtWDdbocGR1ka9VyfQ6l48wrXqUbseWU/yCAey9sSh1sbiLLGHZnJtYKxKrSDGCBd1wFcT4XzgpSLqIgkhGN5ZTEizmILgUjyrNSgyywilCmAVfE46lkwfy+PpjIHXKEm7YJvM/y/lohSM8VgStymUqP9bAF/AIuKUjpy8iXwmiwjRpLGTykY9toQQkOq8vCdWzYLUCGiayPetR1LtvTFBrIbPqUpHvLEG+huq6Hkz3tQWfYaApxHRRx0e2sDomNCQTmCopsm11NYpnBpAckRoHA3hVjzVwBMLWnEJYBqL043Ao5eu+jsyJjlvbEfWNBdS3M3GYzcDKdU38Bdfum7/7a/+xP4rHTZ+/T0k5n/+hv36r97C6L7B8YPvf33AfvBN+5Ai41//9bftg795h+O37Fc//KY76vqHP6JWjCJj1X2pePn/Am56jp985QX7yvW77NMXD9mf3He7vUfbpz99/n77c8KKP/4qAo8/fd0+/MFb9tsffcv97Qc/RtH4I6T5FDWruFn2yx+9y23v2q90+a+/6UzXP/gxNWt/S21ZhOk2f5+7/0dA9sd4hthv/xYIh+zDHwPIHwHKvwGYmB77wd8Q1uR/1P/9IUXYH/zpF+0P2O/ffdX+4bMP2Tv3HbKne6vtNBGIY4y3OZA92g5njXYQO4ly8XTuSLtUNM6urJlo99LR4+raCfZITbTdWD/Xrq+fFw4vXmmIseOIPTqWorBlQ1JMiUY2v+dEfkvz+f1pHJKacQtgflimF2L4xdbnryIhNoXzdhoL8QxsHh5Y/MjRtmjsWDZpo13JiMpFlJ8uYv3SjLrlbC6VAnAw4xyQZ+ZfVyALvLHBECOEyAL+L8nsPbA+7ui7zA+Gk78+GD7+dh11X6Qn5nNhOvpw4idBTCBz4g5AIdB4iLnNAXD5YyHmQBaCmFcnDoZY8PxBjjEAY0i1GAExwdB7X/o+Pwli6usYhphyYvLEolHsLZwfNABW6ylBxoNI4FHLKZnA5dtOqW+ixq6ob6IH1eDWU5HXfTuqyOddKMip20fIdN1ZqKfiornkszCBzZsHlHos+gbD/hg0Bh4Y5Om73S/A05yLoMO1mgJeUerUQZGz5omp7kDTnhWqEMRc7zaOipHrZJiJKYxWy8iaJzo32qPr6Va+kkQ1I+TP0oX8KAMYdy+aaLvSpltv5iwWWOAxXXkr8jeMCulbmWIdWTEOOqs4QdexkAtEmg3WyuLbnjjEOsl/9aQMsx2pI5z1pQC25Nvc7W1JQcNfQUyFxHWEE9cBsTV4Yer+LhM4pQ4smU4XDTrBS/JePpP2V7OwmROpYUPMQff/fOTzOXhcmZysafyPEmeoHZVM9W2CmCTPgpiOqeNG2iK8MoVGdZ9yYov5sTkvbJQghjSfEgXVeRVOCXpC1tB0WBCTaEWtqPR+a5hYXU2osIr/vVJd5rms29V+aguwkapQCkONUNkgr4x8WQ2emjwzNfOtpA/jOsBXjWlOWj0gEwQ1mka9JrcmIOEHiMovtvP3nSgf1ZhZENvOc/elT3Te2I5swmDkxnYxX2x3HjL7rfn2/pNn7R/eeNL+/qvPEeJ71n7yxqeQv79of/PGCygIX3YmCP30qy/az772iv30rU8j0vic/fybr9nPv8HxG5/h8mftF9/6HP0XX3P2i28Hx7//9uftx195yd7D8/rclVP2qbN77HOXj9pXHySsiH3j8Uv2/gsP2F9/8Vn7Oc/7d9/8PH9P+6l3XrefvvNFWlF9yX7+7pftF+/RPgr7h/doHfXul+zv30F08a3X3WXdJvsP778RNv+4wbf/43fetEj7T7Sw+ifaVw08x1cG7n+fVlXvfN7+kf/tP5C/+9nnb9g/Uev24ZvP2Y+fumif3d9kD23IsrOro+1EzgRyYhMogh5vZ/LG2EVyY9fWTLGrgljZJHukdoY93jQnBLI5iD3m2H2N8+xcdaztWhnlFKYq/s9hY5ZMtCIeodWtIRaEnbTQKuwlL0khKu3U3QIIdAS8GRxnYjEojReicMxCrq/ZdJn8Vl3zAcLr9Uk0ZE6aQ90hClwiEopGLMQrW8C5Hq3zH1NYUgtqOETG6ygnpp6CLh/G/R5Q3gvTcbDE3k2B5nb/GP83/1aI3QawZJEAuxXEBsNMEBTEXM1YBMR8eM/nqFx7L55fXtjHeWKfBLFwnR2foQ8vCnACmb43/zr+qNyXM0FRpsfe5Inpu1BOj3rY1MwBdaIgFsUCnzh3hpsnpk72Ao1v6iv4JGGCi8C1mH5nQfd6mvUiFtDjIgEVCa7I54i83V9O5G/13N503RnqOXWvdx3rWYz96BYdNarFj2uJHLoZo3ljLNJOuIEH5Idp6iiAKXwo70uFzdPI9WgEiz4wtwMIQcwDTEfF4nUyzOYDU4eLYroInCzKsWOZsbaT3of7WZgPkbM5nR5l5/Ni6VyQQC1NvHVSfOxyQsBs+3JO0vwka2EMhRbwCk5SN+CShXijIAbA2pOA2KIhCBBus/50xCOYYNabPMy6gZu8sZZ4Cp0VfgMK8m5qJXwgnChvTHmoMlo3ydag7pOtjWbY5BwKsOkbqRDjSlr7CF4SYaRykqby/6Rg6fzfyxj+mYvyUCBTfdkiAJZKmFUAkyIxbSwgQ/os2b5XPKYC/wySs1l8joKYundoFIrEJhr/0hhLSFHhRN6vgKOJ0AHICBcSClVTWAFJ4VHNQ1NxskyKQ0nmNyDaaEC96LwyHlNF4bSDGDATxBSOrKf34oYY1I58NoKY1J1tIYgFABvnvDCFE+WJyXozaTslleIyPOicKLujJtNeO9tr71w/be89ccG+jrf09hOX7auPXUKAccEdv8Zt3t66fsneevxu+/qTV+0bT1+xt/GodHSXn7lqb2NfD9k3nr3P3uK+N65fIIx4u71050F77vZ+e/nsPnvtrsP26vmD9pmL5FevnLA3Hzofft6vPXXVvvb0/fbWMw/YN557xN5+/lFn33rhMfv2i9edvffCdXvnhUfD19996THz9u3QZR3fe/mGvYu9/8rj9h72nU8/Ye9jOsq+9+pT9mevPBF+3HuvPGnvcdv7n3navvPqk/Znn3nKvvvKDec5fvPh8/bdGxfs59S4/fS5K/Zn1w7b6wfr7caWbBC5XdcAACAASURBVLu3nHliZYg2VnMu5E+wuwsn2v1liDsA2f2EFR9F6PFYw0x7tCHarjdi62chvZ9tlxti7WDRTGtOY0grv5NcohlphMcT+E0JYmo44AUXwXyxIIyonI3L2wATLbzBwocUm9+0IBbFeTuHv1X4MIWIguocV7KJW64m1kQgKuji05aZYC3pMQiGotwmT3Ps0ohMKAcslaSeQ3k1wVEhS+9dSGrvIeZh5I8eUh5iw4lYyPx1D7Pw41mQvVc12OuKvO7rvXRb5OP/ZyHmvDgHg8iwH1DRehhaEx1Y+L/1v98KYtpECGAfBzH3eSEIcSAbBDEfVpQKNBJgKoR2BrwGQ0wbCbUE+wjEfvfhfzZBbDqJ/HhChPFASYMxBR95NWEjpyK4KHwocGmOmLwwXfZekAeWrnuPyP+9f0zkUffF8RyxPD6WkJcshvDXAsJg8qBuMrpdaD6YH5qpydAanBlMftb0Z41bCWA1h+ax3tStXhYNwGbQOUPhQ424nsSPW16YQgUyyXTliXmISdLrIbaAD3QRH2AetVa70hfaHUuSbBdKxb2ccDsJ5Z1ImIxHNsfO5Cyge0EMCe9oum6MM/US7Fky0/YXMmiRFlWdeAMKeXWlM74llTxYCiHDxUOxIdaXEgBsL2GZPdTf9KfRJR9vrIfcWAAx8j6xhBSBQ1MMwgkp9wBZBe+jHMGJioZlYZhRIKymw6rfypVykTxdOienLJDGI71nl7oEb1QAWzl1oqsBy+KEz+KzUrhlOTk1HXVd3T0UckxmYZGYI43PL4scg0KJWhgESknk1QC5GsjW07VDvSDVvUMQUwG0TM2CBTFZFeIN3acRMlIaBh34mUVFa6qNeE8b8KIaAVM9gKoGVlVAvzpkdRw9xFR6oDIFzTBro1t+O0IRQUyNmnfgJe9MnxIBMbp20BC4j872OwDZkbJF9tTeJnvtzp32+mWgciEAy0vnDtiLmDynF84E9qnTu9zlF8/udfcJSs7O77eXsBdC9qm79lukPcPfPXX7TnsGe/rETnv2RL+9cHK3ferELnf5mZP99typvfapMwfsuTOH7JkzwO7cUXv+rhM32QsXT9nLl263Vy7fYa9cvN1evnDKPn2Jy7oeYS+5y6fspbtPcTt/c8/t9um7T9or956yV+/hb67c7o66/Bnss5dP8jzBY1+8+w4Ksk/bS1fO2Mv3nrHXHjhvn71yB94jo2mwN/Ei3+D/fIvGxe9fOWBvn262z+0us+dbc+yJTen2EBL6e0qQ2BfT3R6I3Q/EHiif4iD2aF0UQo/pQGwG0YxohB7T7Wx5lO2nRZUaNNfFD3dNALLw6JMI7wliTtwBsKQ0VIJfu3Kfo3JFuVpI+T1OQKzhpPYhiCkkqHmAmsKQxnmv8hIpcwsp5i+g5rOe8psdecm2fWk8EYBZVo3SuXDaaBS9eGNs9OSNSQQiiDnp/SCIuTAi7yVSKeihI8h4855W5PEmCPFY/3c6RsLqX7pdjx0MsYEwYkidyNrlvbDBuTGfF3Ozw+TxAFtJ3p15kIUgNm4oKsZBObHBEAvKEgZyYoJYuCYtpG70YUWXJ5MXrfUXEDpHgteM9MQUTvSemMKUHmJ63ps8MQ+xGRTBxs+c6qCSAKgEG01jlqfjpjILaNzmPC+FEKfhHdHlQyDzU5t19PDy7Z101HOEn4fH+OcNpjXTy5D755Onkc0jlxOe2iyvSt5VyMLQmoLaCM8isI+CywNMR3lfMuXAFD5UVw6FDlVDEnRDDj5IxdpVRxIJMe0AdX0ubm8Cu7IMLrcTUjyXk2oHZo+3oyzae4DYcbrWn1o03U6kRdvhDMKHiydbcyzeBeE0dZc/U55sF8if3V66wPYsm2TH6aB+khDMYeZa9aYphDjMeV97s0ba/iVIlkmU707DGwNs2xcOtU68tZa4oHu998Y2zEPoQFGxehauo05MTXjL6ASvXoRrGHmhvJvyZCsA2FJ2l1l4VxKcLKOwOxdRizpu6CjlYr7qx7BCoCUp/grApZNelkseUR3w0wF/KouCTGpE1YdlI+V3jYCn8Nq0hVo3h5ou3pNyV8pbuenUH4EYoUGUld4bU1h1Yyzd7wn/yTaRI1R7oi2Y5oEpvLgesUZ9PJOqY/HCYrQAhQxPTCFZFVBviSecSC6tFSAqnCiIKYy4M32SM3lhCimqVZggpm4r8saOlC60R/uq7ZWTXfbauX575Q7s9F7gssOeP9VvzxzvC+xErz0j89ePDwDpmZM7TCZAPXl8x032FLddP9Rtjx3usad035FeZ08f4/HYMzzPE0d22I1DvXbjSJ89eniHPXKoz64f221P3n7AHj+5zx7DbpzY6y4/eXK/PXXqgOn4xIl9zvQYXdbRXT7Ffc722mPH9/C3u7l9D7ftvcncbcd22RPYDUyPfTRkj/B6j5wIruvvngK4er8vHO215/a32/N7t9rnj7XZGyc32ZcP19gX95bZK90rmfC80B5cN8ceWDvD7qOf4jXswYqp9ljtTLteH22P1AcAe6h+ul0qn2hHVo4htEuj4KwglFzGWJ/lbMyS8ewltZ/FRkulLreCmDyxUZzL6pUoiPl0gMKAHmKLaJGWRheb3Kl0fEHIpHB7CTWImxOm2oFVi2xPTrx1pyP1Z8Cqohd5zNNTjlj539nY4JCiQmLyxDzEhg8bfUuQCUAeVoOB5m/3j/H3R0LL3+dvuxXc/q0Qk9x+OOb6KYYgNm4EIhlA5kQX8pJuCbFQdw/WR4HFeVM81isPdfSw8kXVTso/bKyNGxFI+nW/ZPou/+a9Oe9RC2Z4vxJ0SNjhw4kBxIJNzCjuC0vs//Cb/2QL42dbNIKHBFojOYDRjNPluuQlASGZgCOLZ2FLEMBwz9X9Ig5BiEacxLKLCYzHRYT1fHhPR90ucYUUgvNpXyTPSaG+2eyONLDSW3Bdtw02PcY/NrgvSnVe/PDkac1kUfaqQw+umYQPXad6hRA5GVyxJB++TgoVOHpX1k8R9RBzhZH8iCXwUL2KOgos4noVC/y53Gw7TlHwYTpeHGLXeIK+gUfnMRhzwRjrJpzWghqvLWaEbUFO3okXcSxXTVHj7Z7KRLtcQdiliuGB1MuojY/A1Z92m+3OGM6gzTHODgtk1N70LxpKMenQAGQJhBRDINtE93cVDkswUYNApIqBkpV4ZWsZsLkmFGJcTYK8EMDKNDFZJmGJOmO4k1knNKbu+sWEHHVZebMSwrXKnRXwXa1Cpp8L/Jezk5XHlYU35pSIwGsZt8kDU7d8KS3d1Ge8LA37lIpQnphAprxXkL8a8MoUWvS5sUDgQa4PAAliTjZPjmyzOnpECD6aEjXtmu4f5L8UglQ+TFOl9TlslDenzzsWiX0cYhk8MifqQPUpBZ1sO/0Tt3P0uTGpFXuzptrhEgrXmwvthSN4FHf02qdP9tqLx7fbc0e327NHeuyZoz0oGLvD9swRbmchf/boDnvqaB/jXAIoOTgBoCexJ4CQgxJgeuzgdmfXD/TYY/sDu3Fgu9042G03AJtuf/Rgrz3CbQ9z/0McHcSOAL9j/fbo0V32yJF+e/jwTncU3Bxs/O2H+u2BQzvtwQM77P6DO9xlXX/oIHaI6/v77IEDvWF78GCfyXTb/fu3u7/TY67t3W7X9vXYfXu77eqeLruyu5MJ1R3uum5/6ACA3d9tj+xttUf6t9rjuzbbs3s32iv76+3zBxjbcqLe3ji4xl7pzLAnqQt7sIJasTUT3MwxeWIPVGnuWMjwxu5jKvS5NeNt/7KRtjNLBeqaMcdsOTZnBbNGWebkERbL720OXpZqvKQU1jnqQntcDs5bhjZybkpury4cymdLkCG5vLwwNe9O53mW8LtfwW+0ZDbTzemUU8l50pY00U7kJzAyZhbRDjaTAtmCya6Fmn7nCp2rEbaey4UzeW0V2o5kM6vBmIKYPBkPsVt5ZB5AkUcPI4Er+BvfqPejea3IPJevA/PHyPv+LZd93ZgaGrshoSGBR+ApyfsJaryC8N/A/DZ5Q4KQv13H4DYvEgkeGwwh9f0XuQ2Fol7HDSwFVIKYNiF+ykDQA1O1f6rXCyT36pMYFKEH3rg8t9F8F0uS04Kc2O8++CdbSJup6ey2Y6MmE8LD+wJSgpODl8AjC0EsFog5kLGY6xhAaqQDmWDmoaVaLJlmd0Wa4CVzKkE8pZmM85BFTxCMIi2YwDwT+XekOWAJWiGbQdjBGYuqwoXR3rx4A3jNiACY964UJhDIPgqxIITgIac2VOoYoNliauFUSn7oUPoiO5uWZHumjLIThOwuxE+zk/Qu3AVIeoFKP8W7+1OnWh+1TC3kfg6Rh3mwMhm5cbxdLJlFt+9Zdkc+0uRMuh0sGWG704EYdhCgeTtAXmxXMmHGRUOsJ2mIdSUMsY54cmjxGoiJqk8gwxNRiK6GeiqF6aoAqDycMok+VDA8Q1ALzS4jX1bO4lBBBwxZ+WzaPc0GYNqZamKzBCEoG4umBi2kVlLPtoIdbD7f0Uq6jC/nc5ZHp7CklIgC2AraXBXPoF6NsKDmoqnOS6HE2hiABVQEMgHsIxDD+1J+TCATxHS/mh8LYlsJIar7RqSpFkwToTVrTbJ8QUy5NoVVN9JEeROvI3MQYyFUwbhmWQlcvalB6YIu99EEWB6ZANaPSrEvc6rtK1hgd21Ybk/sbLBPHWrB2u3ZA+329P4Oe3xfm7MbLNyyx/a22Y197VgnBoSwx/Z2OLu+p9Nkj+7qcvbQrk6T3b+jbZC1cL3FrvVvc3Z/f7td29Vu9/W3he0q12X37QYiuweAIrAIMLK7Acxl/vZuXuNyf4dd2tluF3ktHWV37wjscl+beYu87VJvq13c3mJ39bbZnT0tdr5rq53r2Gx3dmyyc+0b7Wxbk51u22CnW5vc7Re6t9qF7s1Mgm60S511dq2n0W7sXG+f2l1rnz9UZ+9d2Gbvn2+0N/evspfbk+x67VTCiWOB2HinTry2bqrdxwDNK1VT7Roij3s5niudaIcRgvSm07UGBa6+20ogpuLnDPpmLsSLmgNMVIysTaXPiQWLWyC11wIniOk+bUDVmED5LA15Vc1Z5rQRtkzDOOmoU8K5uY5zpIHfa1fSBDu5kinUmTOsbyF1hOmzmBhBD1LKU5azYVNHGo0iUrcegVEA1Ws5iLGIOoCxcPsw4cd5U4MBJoh5kP2fADH//vz/4+ACoAJP6V+C2ADgPMB09F6Yjr5dl+87KYiFQcbm5JMhpo0JGxZ9/hwDpWhQ3O4aANN26reu7dSv/9GSFkTbVBKp8wklzQdezlMKQcjBCC9KuSeZ7ovF4til6+gKh8OhPeWiaLcUYT4nNYuF0F9WmM9fFqA8kDysdF0eluAkD0sWhUcgE6hk0xEeyNS4VzYd78BZSLQh4YYTbwAh335GJ4J2azIPKZ0QMp0Eut3LeXVZt6kHm3q26eRQV/gVnByddDi5nLfM9uCx3IHU/6GsWLuUykRbxoKcy55nlwsXITOOsV2J460HwJzNnWOfbimyG7Updn7VNEZZTLFTy5EiM8bieM4ovK7bbF/6UDuYOczZAXd9mO1OGcrgTQQfhBR7km6z7iSKoMmptSZQ2BuLoEEg00RowUKNiB3MgAMnqgMaJ20FTXODEN8YADPWFWRXsCMN8md0/ODklidVQtH0aryqwilBGHKVRsaQYC8C1AV4yavYYKi1lJLirtaNZr3ywsrwAoPBnoEsXqIOlw8DMvKWGhFkyFTc7DvbNyDOUO2YK4LGW5VHqdIB5cZaEHe0pajT/XiO7NAxjVPRoE3VyUmdqccKYJsokJbQRQALvDEKncmNqUtHj6u7w/ui9i4wAW3AExPEJLeXzF7ijvs7K+yJXRvt6T0t5Mja7Ik9rXZ9dwtAaraHAY63R3a1Aqf2AdvZbA/u2GYP9DXbte1b7b6eLc6u9Gyze1n47+7cbPd0bcE2cX2zM12+u2uDXe7eYHd3b3F2uWuzXRIkuE92ARXseewu/vY8zyG4OMB0AhnsTHuT3dG63s60bXSgub15vd3K7mjZYINNjzu5tcGOb66zI5vr7dDGWju0vtIONFTYgcZyZ/vry022t7bM9jaU26EN6+zw+nI7XFdiR+uL7OzGMru3lS737cX26X1V9mf3ttv3r7Xbd85V2Rt7l9mnts6369USdUywK4DsXqZB37N2Im2pmDtWOYWRLZPtXPF411h4O6FzNbrWRkWtxQrYeGUSBl9Efmoe59tMQoqaKqHzUXmx4JwNOmu4XXqEFyboyAtT549kNmJLiTTk8RsvovRFzaNVoqHfzA6aRZ9imO2+dDYzdIHZgyfWljiDWsYJtpK8sOof1bxbreM8xARL1SlJnSjPZcQnhBI9HCKPHmAeYgH4/vd6YuH3MiTo5OHDfx5G8sRu9saCsKHk+EE4MLjfP84/NhJkHojuCNi8x6eaO6+G9AIRf5THLXPeN9+BUj9qKxZ4aISQuU29Ex3Efv8hEnvaSk1h1zNv+gQnkHCeUghMHkg+BxUMk0RQQe9BWTAlWeIJKuMBjzddD27T7Xhb/CBlkTDTZQ8wf/RQE8QcpAZBS4XJsqlASyZwqdvGVOLYqvUabC5OHtqpeVD5oz6gW0HMA0wfmJqE6jlUza9ZW1lcrp06iZDiEqBFQ1N2eg8uibMrWTF2enGUXVoeZxdXJNnBhdOsDeFHF17RHRlR9mx9jj2yNsnOLUWGvGyMnV46DKCNQY5MoWj2UDuMV3Y0a5gdysIjA2aC2u6UIa43nbyx3kW3oVakloz2SgKZQotbQvkgeSYChDwahe/U0aOO3IJMwyolea+j96Ca52qnu5ac1Bpk7qW8N6kJy3QdL7KUwZ7yrDR5WkALjDEyzjsbagJbnuBGaLIw5MFV4AE6Dwx41QAXF0IErgr1yTzEPMj8dYFM8BLM1MFD1yXQUP9DAUyDLN0cMMAjkLmGwcC7KTYAXgAxQpCx8sQUUiTPEXMbC1HQakoQC0w1d6q9CyCm7h3eG3M1Y3mz7URFul1pXYNnscGe3MO8rz1t9pgghnl4PbRzqz0EsB7Y2WoP4jU9iPejy4LX/b0BuK4KUoBHJnjJLuHVXAZAlzuawnapfYNdbG9wdgEYebsLz+fOtvV2rrXR2dmWBjvdst7uaG6027c1ODvV3GAnt9Xb8S21dmxzjR3bVGtHmqrt8IYqByLBSKbrMt032Dyw9tSvtT31Fbardo31Vxbbjooi66soCKy80LZX3Gy95Sutb81y6yvNtn3lOXaiOscu1C+z53rL7DuX2+0H93fY9y7U2dtH8+2zXQvtmQ3R9kAFbahKx9jl4tF2uWRceBL0RcB2pmgsIT1KHxRORMCk71i9MYvZeKmfolq9xdEoYC657ChEWGpA4Hfj4ea9nI86PyXEUuhvPqGpBMRb6jiTTWRIswAL6aSj6eHrOB+04VOuem/GNDubH2P7UsmV0oR7H7nsnsXRtoFSngLWtWw2w5p8rgJoiUv02gp1eYjJwxDIBntgkaDygLgVyHTbvwZiChn+rw4lBmHIQEwyeFSLgOPaUX0MxHz+S2pBrxj0IFNo0UMsKKIeCDU6j82DzIUjpTYMlU2wQfG9EbUue4hpvfalUBLvyPT9L0tLCUaxSNih3omC2FzCiJEKP10WxIJclUJ/gdJPjXPVAV5HwU33D4QEAzDpscpfea9KUHL5q5Bn5T2scPgPWPnLUSEPS1J4iTG8eWm8PCwJNCJN8HJijdCP2sNLoJLpgxCUgir84GRw8fUIT0zeWaBGGnjc6NDfaRSEdnmLsUJqzHYkxdvZJam2n3zSI8sX2r1ZcXaImWMHGMuyi1BdFx5NGydiKydiPzvLk8y8upTN5NucaXZ11VS7igz5Yu4Iu0Bi++QSAAbETiwZ6oB2IGOI7U0bEobYzuTb2DkOt514FTIHMnau22Lobs/CrYW9CXB4b0cekE7WIKQXmhpN3ZbGvlQDMYVU1LbKWzmhPYFNJnHIGsoHVHcmE8hURO09NOXWdF2NejWA03lhoTCiA5gDaQAl9UhcH2EKf8r8bY2S2CucSMi1AY9M/4NqvdoRZHQAL80BUzPfVjyxbRRCaxSNQOcsFg+M/JeDWKxyYigU49RzMvDEumjf1bmQEgWKyGUByPjsnDem4mcUikjt+1CNHi1Lsbu3ltpjO5rsCbyvx/qbGZiJF7a7zYHr/p3bTHZtx1YXClQ4UGHCawDsQS4/0LfVeWGC2BV5XAIZoTmZICa7CJwuACfZXcDpQlt9YEBM8DqPV3VnC/ACUjIBzEEMj+mOLfV2ckudsxOba012bGO1s8OCVuM6OygvCs9JR3dZ13VZ92H7GivCJng5cNWUWj/WV13sgNW9dpV1la101r0237rKsbWF1sFt7WtWWHtJrnWuXmbdRZnWuzrT9hSn2fG1qXajs9i+fUmeWKd9965a++axAvtcd5KD2LW1Y+3S6pF2V8Fwu1A02u5azQBN2lJdLAkgdrJgku1fPsF6MqgV5DtrRF0qj2kpoiQNzEykDnEBzbTVDFj5aZ3HEzB5ZH6DqTZx6oGodlICmEpDNE5oBTnrFfxOi+ePpsXaKDfLTJuoFn47e9Om2p35sXaAQa29MURDCCf2J9M9hC4/hYIYa4ymQCzgNdXsQDk5LZ6CmOT1Pi8mEHlIDQaYh5gHXeRjB2774zyxfz+IBbk4r3J0058RcwyGmBdvhI98HkrF+F6GUhlGqhMFOSf6CKsKNW4lsKDvYlA8rsc48wBz3+vNzoWHmAeZE+Sxzuek08VeQzEFsXg6dUykhmg2oguJI3y4zx3DoosBiCkUKIAFEBsQZgQgU44ryGMJYh5ePnc1OCwoYA02QSsSWD406KEVeFtBlw3lrASvWwNMYAukt/oBBq5oED707qr3xAQ6QcybbpdrqxYs+rJmjCCUycmjvoHyxqomT7Ijmcl2V0aiPV26zC4TUuyfPtL6pgyzHryVTop/uwiJdAOx7Vzu56Q8BUiuMM/qidK59lJDvD1dPcsepD3PXXnD8Mzw2BgyeDybHBoQ2xeCmPJi/YQVd6UOJ+QxEhvNdTwy8mTtgKwZj8xPfN4EzDbGDHVdLAS29ZgTQAC6ehlgE2iq8dpkCv2twxNyJrAhuAh7aYC3BE+yaFpghRRUy3Rd3prCkApLVsoTk8CEPFcg5FAhN2CSpxUCmMAlQHkbDDJBrB6ICW7B1OpgDpgApoa+QcstwSvoH6mwokKPGnuvAnCZANZMKNG1m2Ix7Fo0PAyxMMC0AQBivXh5gUqRurFlUXaoZJHdvbnYQexJvC8PMeW4Hu4HUkDNgywAWCTEFEoMIKZQ4mCIyQuLhJgA5qy1zkFM8JI5cOFhndla5+z0tjqT3U7I7xTelofX8U14XwDsaFOVszC0ANitICaQubAgIcHA81pru+vKwhDbUVNivVWrrUfAAladwKpzLUeA1oG1l+VbS8kKa1md5yDWVZxj3auzrGd1hu0oSrZ9+Yn2aOtqe+9yt/3wwV773qX19u3bi+0LvYvtmSY62a8ZTd3YbXZu5VCgMQrvhwGa2J0FY+1s4Tg7yTDNwyvxhrLJh1ITqd9pBSG/XNS1i8hpSZwxF5Wi8mLKeSlKIojp/HSLG5c1hX0um8wENpdqJ5VNqiMPxXPBzHG2ilxwyTwiEEQj9HtvIkrRDMj2MHfuzhXz7KDKMAgvHkJZvDtltm0FYsXoA5bymotZE2JZA+bq/CecFUAsEHcMZ0G+TRYBMcHMg8yDzcNqsPDD3/7v4119skgkUgii13eAlKeHeYh9JJwYgtRgiPkSJX+799A8nDzMPMB09PfddGSddV4Yx4GQsRSneF58xwKYJkLLNFBzAmme5RkIOwSxDz74jxZLp47xhOVmIrjwHpIP+wVqQGBEeHCGvCnyUpKrz2a3M5svW0CL9LYEKwcuHqPH+tzV4KNCgVP4gapzRpS8LXld3nij03nTUhNq9zXYAuVgkOz10PHHSM/L7dpCsVUPJYHJiTkIB6gG4SaIATxBT88Rfjw7CsVtdbvqxhQjl8Ajhzh98/xZhA7T7dmqfLt32ULbRR1bz0Q6b9BxoJsTsIMQ5w4gtoM80m68sgMA4AKS8ZfWJdhbbUvtG91Z9tnNcfZ45TS7b/UYu7RqpJ1ZNpRi6gBkziNLB2iEFvejXjyQOdLZ3rRhtpMQY08ioEykGJrwolpTqfuHiqIFNS3qm+MQTAC1hlBNVZ3CfCGg6bKgozyaF4bIQ5N6S8KQUg8xVI6+K0ixAIbpPkn5lW+TGrGaeWGSyiucqZ2uQoONmIMXYNoIxJS/k9co0+Umbt/AY9bLG1NeDJDpsu5X1w0/zFIQ06TrJv4HPZ/k9B5cOkpaL/AJYPq7MMQIvXan+FAi8KLrurfedEQeSO1d0TMFzweKE+zChlX2aG8D+bAWe3w3ocRdhBQRbSgH5kEmmHmTByZTKFHm82Eu34UnNjh86EKIIW9MEDvfVmd3ttbanYQJZWdDADtNmPAOwoS3b6p2dnJjjXk7QWhQ8DqyodLZ4fXrHLgEr/11a8OXdX0f15XPErg8tJz3VUfoMGQ7a+WFrbbtlYXWXZHv4NVRtgLPS4b3BcBaS/NtW+kKay7Os1Y8sY7i5daxOtu6CjOstzDFdq9KtOsdpfa9+/rtb6/vsu9f2WzfObvWXt+RYk9tQMhROspB7GyeeiqOIBc8zE7wG9eE6NtXIozKH29H8ifZrqWEjBeTQ2WjUslmS+KONDaBccBETXpV9OwhpvPaQ8wVNnO/GvouGjeKuX8IM+jOsyqKtlKzxtJWaqSVquyDHpwqwN9GTrUd28sQ1fNA7Ag1iTuB2+GUKMA221rowVpCGcpSnjMFOKpTz3zWEHXT17rgFYqREBsMMg8wfxwA1kcLm//tEPtoX0T/ujoOfu3B1z3QvCcWltyHipTDIUIPMdZCL4aLPIbru8hz6XafEObGogAAIABJREFU2/JHfW7hUGHEc3gIek/Ot5vy67IPHaquV80pptJ9ZfpY5pCNYBr8rSAWTVsW1YsJZC6PFfKoBKnpwGka3pryUQLSTGLVCv/Ji5qu21msZVNZvGU+dxWZv/K3CWCTWeAn8QMVuKYrPMiPxg+98zJ4wctL3bUD+yS7FcQiPS//YXqIuTY1IYjJKwvmDwUQcwlEPmjFapXA1G5iFK/vGgJzVG4shftKJo5lRHuqPdtYZo9y4u9fQNEmn0Er/1sv4dl+IN/P57OD6wcnkefCQ7uHHeDXW3Lte7tW2/f25tu7e3Ls882x9lT1NHuQnMFdeUPtFN7YMewodlBAy2J6bjYnGnY0a4QdTGMnCcT6EoJc2XZ6L6oo2jUNRgCiNlUCmuu3CADkwTTFkp8CaM4747IgVgsUBCAVHat2q4I8mbqASNlYihcmTywSYLougJURblRdmiCm2WGCoHJxCmF68YYHjgfYNkJ+zYIOR4FKtwtkgyEmwAlIgphCigolqi+ins+DUfPIZEF9GF4YHpkbZ+Ma/6qAnCJziskFK4k6pFDU5UgLwokTKXie4RSK52qX2yNdtfbUbnJihBRv7CKsuLvdAUy5sMATA1ih0KK8r8AD2wzANocFHZEQE7h8CNEfBbA78bDONlfjcdXYua31ziIhJoCdbKq0403rwgATyOSBCWCC1yHCgzLBax+wkumyTPDaXV1qO6tLwh6XLsvrErgizUOsq3xVGGLtawkdygMrW2XNgljJKgcyQaylaJm15Kdb26pU66bO6lBJsj2zo8p++MgB+8WT++0HV7fY+2fK7HO9i+zxBjZnZWMIJSJuWkm0YcVIO740lP8lD3xk2TDKTMbYoZV0w88ZRzMAwsN8h7WEvYsIa2dzvqj1mYQavp+hznMPMbdD51wU4GIIIy6m84w6zORS+pNPwwRBTBPBSxE4KW+r0T8dzKLrYbNziIbdF1EnnmCm2S6gdoSOOvuSZ1rb/KlWOoZdPgBLx/tT5EV5Mb2G1iKFMEdikeHEj4OYvz0SHB4wA6HGPz6c6IFz8/F/DcT8+xLEZCPxymQ+3+UhEwkuXfbw8p02dN1DzEPrI2svj/GP8x6cjlqTVRfmOnUMDYQdgphEHBLYCWIC2IxxY+iAj2LaQ+w3H/6zxS2YbePwimZQADuNXYjUf87jIrQogMkD0+1SMHoQyXuSqEIQ023yqgQmmS4LVLpd3TFcg1012Q1Z0DFDb4zH8iYjzUPLQ0lHJVUjLbhPBZADJgmmN4209rNoXN5LOwN2ErJIF9Z9MUOCBKLApVhrWAUTAbGgMSbPyWPljc3jqBlhaXy4W5ir9iiLw7NNJMjnT7FOFFFdQL0bKfoOPoM9xPT7+Uz2swk4RD7pSvJke2trrr3blWc/v73SfnSqxL7Ws9he20ZHdWpnLq8cYmdzhtjp5eTIllJIvQTjeDJnBDvY4XY8i9HwhBoPEmbcB8h2sXvdlTbKmTp8SPyh5sHKA2mki5sMjZcWjHIJQnKNsUHbJsnbJXVXH0Z14BfAygkVOoDhcaml1Wres4pD1QtSVjoNTw3T49YhBFHBtWT+DVgwyRlQ4pXJyxKkNgOfrUBLAJNyUOZgBqw2hSAmL0yPlzhDcNuGd9VJd/9uFpiutInWQt2YQKVwqUAm8x6Zbzcl2Al8bQhf2hcjseeyy3/RCcJ5Xhx3ZhE6yqQVFUDrEdQoet6Tx6BHJj2fWpdhD3dV2/MH25DYdwbeGDCTsOPBHVsA1mZ7YMcmd1nXH9R1QHZfzya7iirxai/5sO2b7J7uprDyUOpDSdIvdJADw+5qrw97YOeaAdm22nAYMQwxhRC34H1tqnIQO0bOy3teHmAH1wcqwv0NAwATuOR9eQ9MENtRVexA5qEVhhie2A5gtp0wYtc6PLAKQoflec6CyyutlZzYNryxraWrrLW8yLaW5FkbocbmomzrLM6yjsJU68iLt/ONufbO5X778Y3D9oMHttt3LzYSTiyxV7sX2o16ZPUV4+zeNcwZKxjtFLnqcn84e5gdWcLveCmWO8oOrhhtB1fiEeXQ0YbyCrUaE3iW8dtbyLkTC8jUQkogkeclkGhhk2ek6wrzayK0PLElzM7Lo0won6iI5v+pNqyUzZlCic0Lx3FuTLRufoN7aDh8T2G8nUahug8P7XDyNM6rudZK8/ByBGcrWJsyWRMUdVFeTN07tE5pY6zNrYqeh7O59Yv/v+Z4M9Q+OfQXDLb8pMd88nsYgGVQl6a6tsjatmG3qVib24ZyxPuS1F4mSMvbVFjRdaNnzfOhQG3qPagioeaB5m/zDoO/fssjn6MA5tdn16VDQANiWsMFMZnqACfjfU0hPyrzEPvNh7+2IR9+8F9sAWGxsfxYpgOtaWMHZOzyyBQelAcmgE0ZHYBJcHIhQIUBuexDgx5ikSCTtyUTuLzpugCmseGR8vcBgHE7sPhkCwA2BWDJBC4PMR19ziuS+IMhJqC5D5ovSO5r+ANjB6YQ4higJhmoTMlIfdiCaTQfsOLkrm5sAh28l6TYDXbIx9JirJXaqm4+M0Gsl890J//3QR4jiB0gpHiBdlSvN2bal5tS7cfHyuwXZyvs/T2Z9mZnkr3SxNwlwi/3FAyxi6uG2J155MmA2R0OarfZGUIwZ4HZHSwEJ8ibHUK9uJ/Q4j7CjLLdGSqcRgCSRm4OoGmki7wyN8qFEOOmOC3+ACYGEAALhf3qgFgNMKrCw6rkuI4+jGtRJwpgxcqBkcvzIHMwA2geYnp8HaovQayefJpMNTgSacjDkjVxWSCTJyaAqRDZg0xw897YAMQQdwCxLjp29KRNIuE/2TrpfSixRzMtqJQ3U/7Me3rOCwNyPvyoac4dDMnsQRTiRRweYgJYXwhqAcTo6EHXjl0Uo59am2IPdlTYM/ua7RnViCmkSH7sEST2D+7aZg/1b7nZQmC7r3ebg5gAdm/PxgBk2wknArBLXesdxDzIPMTOEUZ0EGsRyMiDNQe5MOXA7thaG4bYUTwxFz7cGOS/DuOdSep+E8RC4PIA01FhQ3leEmx4cOmo6726DYD1cb2nssi6KwtCICMXViFbZW0VK62FHFkzObHNa/DCUCpuKc4NQ6y9KMM68pOtr3ChPb2rzn7w2BH7+ZNH7C+vtgOwdfa1gyvs1Q5yxU2zkNePc6rEsyhxj7EJ86IllZXszx6A2KEVeEQ5k5wiVZO7NQx1FZO9NSldvQwVxhesfEhxAuuDPDFd1+1zOWcl6sjAG8uZMsZWIK0XxDQ5uoRNmuoXVYfYxfy+zjjOE1qT3V0QZ2eyp9lBfpPH6Hd6KHWWtSKxLyeaksuiqdy3Ghy4ejEuq8ZUXqDy5JpsLIWiVH3/GoD5x3qQ3exVfRKsPu6+gdf3zxl51Ov5676mLRJiw4eNAWoYEJPacjDEXJ0XQFN93GjMrZkuxTIAslvByntftwQXa2f4dj7DPwZiYoU8McFrIqFF5cSWpiaHcmK//s82f95MCtACiE0lTDgd78HVXuFlhQHFj2kypt6D05ga7CEmAYYfZ+IhFXkUrAJDJciLyy3UG5K5Knt+HIGSMFAR+pzWR44RnpY8Im+R4LoJXvzIHMhCrquvR3DFdYDIyToFKp7Xx2uDY9DGRlXkN0Ms6LosWLppsTy/Zmw5yT0dTu6tWWMXdaLTIaCb4m1BbDufaS/Pc5S5XHsIL+4lxn+WhsGvVCXbC2Xz7f2dK+wfLlTbD0+ssm/vybA3uhLsxcZpdr18lN1fPMzuzg9gdgHv7CLhmMskxu8mIX6REMwZgYx82VFyZUcYhSE7SLsq5c0kAOlPFcgQOhBeVGjRFUjHSGAhCwql1e2iEWGGmgnXEL5RL8YqFUXjZQlYglcxOTFdFrjW4omVk3CvQLVYSQFpNb0a6xif4bwx6sU0ZqWWXa+GXyrPJYCt5/JGYNYcQy4C5VkHi4eO6qyh/MQWFpeNiEuUcJcnJrl8K4vNdvU7zJpu2ylI7smY4o6deGauiz/PKwAr3xeGGPVlCj92MulZ1kOtWRhiISGH8mDbgZgAJtPlPg13JC92vHSRXdlWgsx+I6FEasOQ1Lv6L7pTXANg13Zucnbfjo12ta8JD6zJrgIqeWH39GwOar647R4Adjd2iWLguygK9nZeXhh2J7mwM221KA8RbiDucOKNELxOygPDjuOFHdtI2BDv/ggAO4TpeBCIHQBi+/HE9lHPtRdPTDVcPu+l3JdMOa8g34UnBrA8tAQwmQNYTbF1VRVZV3WhdVbhiVWSA1u3wgFMEBPAtuCJbSGsuHVtgfPEOpDYtxUFXlh3YbIdqcy21+9otZ8/e9L+/ulD9oP72uztE6X2en+2PbdpPq2mZtAQeKzdVTiGHBgeF6UjO9l47SCKoOL+/UtGubZTCiceWTWZidtEMviONjO1u4aSkEKK8LOIAiVyLqmAWZ3lozhnFdYPVMZBJEd1XFIOq6vO4tGEIcnTq83UKuT1Ckuu5jdZSR2lRgO1JVCyQSmIFIl35dFCLnu6HaVF2Yk0cqPJ0dYcPc4q2LSv4PmyMamRlRdzLahCENM6oQVd3sofCzEv+PCekYeLh9q/9TgYVB5Y/nZ/9Ld7j0y1bpHmBChs2H1bLYlX5JHJfI9Fr1xUayo/e8yvp4KTB9it4BaGF49zl4GYj4gN5MEGompyLHyUTIKOSeQ+Veqg9TkzZdEAxGJCEJuGsmcKPwJByhcP+zDhRLwKmQAltaAXYbiC4ogwoe73npb3tgQswWswwG4FMe10Is3DzEPrk47e+/KhxEnks7yLK4hFAsxfHlDNSD4btLFRP7awhT2xAGJ6DYFMJ5LqUuSNLef/37diid1D+KZvwVTk9TTtFcQIq/YA8T14tDvZ3fWjUjxJrcqTq2Psev50+9yGePv5uQr76dkS+/OjhGV2p9mXO2LtxfWTAdlIu4pHdq04ZKuH2wPFYzHmNBWQO0PJeHsmoUYWhmPZI50dBmKHgJhaVknN2LeYPBmeWJsgxoK/BXgJFPJinIUgVk9+q5ZiZ4FMcBKkyhROjAgjlrMrdiFEPDU9pjaa1lKEampnM3kZgFWTJ6siHFmDR1dPfm09Ht4mVIsC1BaUkK1ASwDrZJeto4fYVsI87nGIQnzrqHaaAfdmTHUQE7hkApmOktWrrkwCEkHM9UxElt9Kpw95a12pgW2n1kw1Yb5fohNyREBMAFM4sTd7ssuLHVydZOc3FNgDXXX2QC+g6t7oQoMOSr0UJm9f78B0ubsRYGGdDRieVgfy+PbGIEwIoDyszrWR82qpDNvpbVV2aluls5Nb19mJLZXOBKyjmxQyrHDQUkHxwfWINMiz7m1cEwKVYEVNV6PqulAW1kucgTweiwwVytPy3pZTHOJpeXApdCjPy3lf6wAXYo6OynxnAbwQbpST81qbRxgx1zbLCB9uKgVkpXm2GWl9WxmPKcy09oJk6ymicH9jvn31fLv97ImD9hOJOu7dZt84Wmyf7Um1x5nmfD/FzXflM+WB+WLK5+5JpXh/MRs7QLYrE68sZwwdO8YGhkJxb95U66b0YQsQ00w6FdPnsClMJgokQLmGwJyPN0MsCPELcGoTpRFCmg22jP6qK4DgqqihVgjEVAoiYUdzAgISfvfdQO30kll255IZdhKv/2QGObFFM6yZHqCVgDOf83Ypi2UyABPEFM4ULANPjPWBtWI4Js/l4wAkcPj7/ndBzEGJ9+EhpqNu8xAbOXyMeRPMfMd9deNXp32nwARgOgra8szUfcPXgQUhxgGnwEPKg8xf/7jjQBjRR8MC58M7Jx5gXp04EUGdKzrn+8hKXRxA7Le//meLmTuLKmq8rLGjHMSctwWoBCiFBiOhJHm7pO7TQuZl7/4Y1Gt57+rjjx5UAlmk+ZDe4GMg0ghUSZ7Yg48eYh5c4VBiBMAcqPjx+aPCAkHdQjDaQZ+DADaS9zWcH+0Yxo2MpkbF58X0ZTiQES+XYkne2GIeW4vC8zQ712NLE207J4IEHp2ArAuQdfGcO8iV9eGJHWCO1gUa0V4h/v9w0ST7i6OF9tPza+z7J1fZdw5k29v9SQg9ou1T9WPs+pohdr1siD22dpjzzq6Xj7GHS2njUzDKLuYMtzMIPk5mSM0IyDCJPo4IYoQUdycjKAFinfFDrC2WcB4emMJ6m/Bg5PVsIG8l0Kwn9yDo1IYgtI6TXqb8mMKKApesAshVhO5T6LGG2wQ9eWOCWiWeWiV5NT2PvLtN1OZsobh6K/U5zSTq2+PxkOhg0kmLn3YKWlspMNXtW2JpHQXAgrZRI931Vtp1dZJ4l22JQ0rPY7YBP+U05Ik5BaSrhcPLiwN+1I8p1NiGN+ZzadsBni9sVnGzE3IAsZ50PLQMeWRY1gTbno2nh7hjd2GinarNtUvbKuxuPCaJMgSn25trAE+1M8Hn9i3r7NTmCqTv2BbAtDmAkW47vrmc4uO1dpRuFkc3ljo7vKGY4uPVWIkdWF/sbH/jatvfUOJsX32p7aortt01q21nTZH1VxXaDryjvqoCVIP5TjXYs67AnHGfUxISAlQYUNZJ2E9S+EAOv9Id2xBp6LqO7agOdWxFNi9rQYDUvCYvMEDVDLSay5dbc1kO+a+ltrlkmW0qXmpNHGUNBUtsPbYhP8u2kQ/btjLZWlfyGy9YZFfbiu3dK9vtpzf2OC/su+cb7Cv7CCW2L7IbTHLWGJY7iRocp7WaAOb6gApihMD72XDtyxnrQCaYHVox2fbnTmVjMclBTNPB86lHXMp5k0LKIpwX4/xTbsqvHwrvK8ynkKIEGBriqjFCSxBS5QLBPH7D+YIY9ZEN+s3xG2xFgNSJjP94+nQ7T52gQooC2r7F02gTN9ZqKA0qIIqyDBPE1LlDz/1/OsS8lxUJKQ8xD1MdI0E2cjitoSIsEmJDWBv9yBgdfb9IgTvo7BH0T/RemBwFjXHxUS93Xbd9kuHR+nU8vH7zWpEQE8jU4FkACwrOWZf5PsIQ+90Hv3QQ042SL3rxhYdSJMTkUakDvAMZC7OKDKUoDOq2gvvCwyV5Pv3QBoqOBy77H6COPrQYPvKDHAwwXfcQi6wh0D8dJP8GcmD6wPwuINKd1QftwRV59IV3gtQYTgAPMQFsGDYG91UQ0+MCUUgg0dcHKxWlvLFEPuBliGH6li2y8yVL7BCDMLfT0WI76qoe5PVtfEa7CW/s5KTcwwl1MAbhRtoIuzNzqH2pPdl+dLrEfnh7ARDLtHd3L7Y3OmbZa1um2Iv1I5HvD7Onq4bb05Wj7cl1Y+2xMvrRkSS/vHyYnSOk6PJjdPlwHpmDmdSLw5ALD6WBMG2qeK1W4KXamC2Y944EsEaAKog1ojJUGLAK70velMuNke9y0FKeLGS6XR5XNTCTx+W8LxdiJMw4mTAjoUfBbf0c4BQz3rbFjaewFIujcDmeLhwJdOEAYArptMRRAwbE5H0FocQAZAKawLaNHbMAphoyvTcXPiQM5CX8vgGw6uE0T0xF0vLGOphFpnxaALFghph6JQZd7G+GWE8mwhGaAHcti7YdqxJsd2m67a9YbgdqCuwgXs7BhjKXgzrQRA0Wtn/DGttXX2x7aotsT00hCsAChBQAidsONOhYxPVC7stHIbjKWX9lLt0wcm1n1QrbUZnnrG9dLl0xVth2wnc9hO66y8lFAZQOumG0l+ZYW4Q14wE1l+RYS+lyZ61rAI/gg23j8Vuo25LJU5L565FH3b6paKmzjYVLrKkg29mm1VwGTE0ULjchmd9QkG4Nq9KtfmWa1XKsy8+w6rx0q81LtfoVqbZhxWJrWhZnW5fHWteqeHugu9S+e60PL6zP/upeSetr7Mu7l9srrUn2WHW03bt6kp1ZTs44gzDiQs6FJDZ0NLTuTiGcp5D3EkpG8sbZoVwMiB3Im4YHPoW6wHFu8rk6xGSyidbEceWlFNLzKsFgbQlSEGpQEMViKG9JsJPnlklIP4fzLZff9CpyYmvxvASx1oXMEYtjkwnUDqdOsbuY8H1pBaUyKBVVK9Y2b4LVca4W8LqS2QcQUycQXoPnV95eohIXTmRN0YIe6XF5WHjPx1//nz3657nVa0Q+p+6PhJi/7P8+8rG67B8/gpCgzIPMQ2wo650g5kDGZT8nzXf2CHJnvmA5mOkWnkUWAbJPBJjgFoJYJMB02UPMr/36zOWB6ThGxuWsFDp2qHfi7z/8VeCJcYeSZspbTYV4HkzeC/OQCcaYBLHoSFWhLt8szABaes6Q3Uoef0uIAUa9liDhzf8jHmQ6hv9pPjDveQ0GmGLX3hvz4UT982HjfsHJizdG8aMdyWuPCJlANjB8bwBiwQ4jOIE0Aj2G97qYv6meN8XO0JLnzpVIj+mjuGfmKOubhPx9PC2k6B5wOGaSnVw02Y7RVeJIIqFA1IUPrh5n3zu6yv7mdJF99/ASe3/vYvta11z7cts0+9ymcfZi7Qh7oWakPVc1yp5aN8YeLx9vDyHFvxe58oVlI+wcdgqYHQeIUi4qR3YgFcUiz71TAzXxwASxbXhgmzGF9zYiwBC8ZE0hmCmPVaMEOMCoVv2Xip+5HJ79Rf1YFSYRiHJf1cBOwKuYQuEzubM1iFbKWHSqpgFHGgtvmj/WtsaOwwNk2CUemUxe2RbqdTazoMg2EeLZyDHwCBF5cH09cn019d1MYbiOeq0q3lctMJP6UfVokvOrAbDabbnCZ5SLmifWwhgXDzEpG2V96QHABDGFGLtSlQ8LvDGFrjqypljX8tnWmRdrW7PnW+2iaCtPiLKKhfOsMi3OtuCFCCSqneoCNh46PYTWugFKN4Xusq4SaqewztJM6yhB+IC1F6dba1HqTbatMM0Cy+CYYVsLMm0TwGgCEutzk501MufKW0NuigNIA2Bp5HEygcbDpm4FwAEykRZ5W30e9y9PCVtNTrJVLV1kOtblpVhVziKrWp5klTmJVsFsrfLsBFubFW9lSxJt7dIkW5OVxG2JVsnlqqwYq0mbbU1ML29ZOseutRXRqaPZfnit1f78QqO9d0eFvd6XbS9sjrWHyqfaXagO9ZvcQw6sO4G6SawNkLUAtI4UxgwROTiQOx5vDI8sd6LtW07uk+9rC5scTWbQKKEMoLSQc2sB56KHmBd3BJthokWcg1INS0EoOf5CJPKC2FK61+cRQVhJ1/pSflfVhK4FyBbyYc1EH/rZVN2xZJrdUzTfrpUttpNL59IXdZLVT2MOHxDLITWSxnqhieZSKHqIaf1RpwpFcf5YiHloeM9I1weD5VbXPYT88V96TOTzR77Gx4Uz5V0NByYjWEdHslkfTn2uTBBzIOO+Idw3lBCim0tGSDHI6wUqRqdc5LHOCcAR0EwyXfZFz/4o8cZHLAwxreeB8+LTRzo6PvAZC3Ray936zt94JyQzOdl+88GHAcQWzJlJvBPoIGEUQAa6YATeVWRuS56V88Z4kY8Dl4eX88J43uDHxhvlsjd/mx7jAengFcqdeYDp6P9BkdjbzYQP/kF/W6Qn5gHnIRbpkWmomyCmhp7ByHEAxmtEmmpCZPrgwm5z6H3of1AoQyeX6knU5f0AC8OlsmWILubaPk6IXXS5l+0mxHia1jZX8umtuHyW7Y9DIo8d44R+e3eO/ehsqf3FsRz70/0pQGy2vdE+3b64eYK9Wj/aQezZyuH2VOUIQDbWbqwd57yxS8tH2PnlI5035iCGJ3YkfYTtp01VP4KOvsTbwp6YILaJXJKH2AYHsiB3JYhIVSiPpxbvTIrFao6S3lcIVJguC1reKlEuVmBltNcqAV4l5PsEskrygfXAewOd8jfNG0cbn3GAaoxtwDtrRCnWQP6tjjBkHbk1hR43INEP2k4BVhYaBzGFGVnI1OBXTYKrAJh6LKoOzUNsPd7aBjw11f5swQvTdOhmPLE2PLGOFMKWKBoFsV4UjoEXRl4NxaKk991pEneoLokmw0isu3LnWUvOPKtg46ECW4WIZbGocRehdMuYNdFWJMyy0vRYB4C6XICTl4lngveyPNUaAUH90gRrWJbIZY7LE7geZ7XZMe6oy97q8GRqgYW3GqBRScuyiowYW5s239ma9Bgry4gNLD3OyjKBCrY2K8HW8HhvpcBmTQbXsdL0ePf+gsux7npJGs+Tmehu13tfkxHnLhenLjDdp+crSdPlwFanzLPCxXMtP3muFehySozlL55vq1PmW0nqfCteGGVr+IyqCbttSJlmlzatsK+d2WjfvbTR3jtdZV8/VGCvNKNKrA91oiGUeJD8107A1RkbCmtz3MLvvkUeGb/Vndls9DIpQ8kea/1LJ3FbEE6sZayRxgZljcQbAkya76WQnlpACVg69wQTHT3EfO/EpFHM/qPGdenUka7t1EpAtpoNmDrSbKDBsDZQGwh9K6R4jNe7d3WsPVKVQR/TWNseP9ka+LsiILYCEZuDGOe4IKYeil6hqDVGkRkn7mANCTwU5Y4CxWLgqQhUwX26LvWfNwc/HnsrKEXe5uHlj5H36bK/3cPUX/dHPSYSYP6yex4AoVzXMP6XAGSBVzbgjQ0M1PwoxHzDYHJkPI/WUQ8yD7GblIy3gphuc57Yx0PM6Rp4fn3erhaN9I4PWYYh9sGvf4nEfi5vBM9CGnx1y0AFouSpPDLfzsmrDOWZRea9PIxuddSPbAoy9QBEA67jgAsZ/BgjQ44eZJJQygagxWWuO9UgP2ZPY3lV4/iRj8eDlPn7ddTj/ePk/keaEpLOC+MDkicWQOw2jrSVwXw40UNMPRTlyo7nefUeXR6P69oVzuK6ksoLsZIpqAPp3nGG0Mz+xTNt59xxtosFvYeTZi9eyH2FCXa1iD6LLLq78JIOcFK/1pJhPz5fad8/XWB/djjN3tub6EKKn22aaC/VjbHnq0bY8zVY3Sh7rnaMPVU1Fm9sFJ30b7M7kdwrL3YkbQgFm3hhyOr3Lhxuu/D2euOHW4fUfjeFEwOQSTnKyue/AAAgAElEQVSocKLgFTThDR0FDIXwMHlBYZMHFjKFEZX/Uh6sdBIQY2xGaQhi8syqWXwa5zDkkF6SDQzslOk2gW4li9IKrIgwa+lEFhZAKO+vni7jTqKvBDwe20aFE0nwC1zVwLea9+sbG6sTeQO76SYe04Q8eiP/62Y6ocg0j2wbuTE1EdaC2JOu0CLQAl4qgu6kJZVk+N1phBbxwpozJlrrkijbtmSerWWB1jBGjd2Zjvkd/2QuR7GozaV4PYlJD5nzom3FwngrSlto65YuturleDeATF5MacZ8Z2vYxMhWU0CbnzTdVsZOdpYfP9UKE6OcFSTMsKKkaO6PslWJ0bYSD3BF/AzLi4+y3LgZtixuui2Pn2m5AHR5YmDLEmfa0oRo0zEnYaYti+X+2FmWFzebv5vJ42dbTlw0Nssd8xLnWl7ibPccep5IW87ryXJ4Tb2WbGnMDFtC66Xs+dMsk8LfrHlTbSn1j8tjOM4ca/nzx9squmCUsUE527DS3jy12d4712RfP1xqX9q51F7essCea5zJZm2kixIcJDfbF6ffIINL2aS4Ti3Kz8YTIWCzpQLnDkxDMbsJ7+q720D+tIbNz9pZYyyHTUUKa04C57jEHX40yjTOZ4URdRTUNGXCKxQFsfQJzMCbMspyaQW3kpytip7V5LoWNe0GGgLXEWZcz2+vL264XSqKsWc3rrB7ihfb7sSp1sRvuAYIruI7z+R1F/L8qg1VaY0gpo144I1pg6uQYqBUVE9FqficAAJ4Sc0nT8UZNVijMN8lfhS1WaOHjeFvBTkPEz+nLACfABgZFgwAJjAqhBk0H3aP4TkkuAi8KoZcEh5UDVvkc0fmtvxlva5XHuo9e/AKgJGvFVkG4CGto1MswgmXbgmlXBS5ksMg5yEyneMjZ06JyHt1hc00Ao5MB4kLEu4plCjx3BT+By/SE8D0nBOBmIZ2yunKTg/NE/v1r/7ZQUyLtR4gFchUTLsbJU0VDvSQ8SDTUbfdClz+Nn3JbqcU8qQGh/rcP8hj5GUFzx+4k97r8sPRPMScJ8WP2If3JH8fy/v0oUFBa7C5seX8wz5WK9c2yGsFoUFd1/PpuXT0npmmm8r0/IKXunXo6GKxHPU/CuTT+ZFHsyDHThhpKZPHWBbF4hoo2czudf/yxXYsJ8mdFL10tdhJDH5vDKE/wiWXGf9xkjzNvjjCjADmoZI59q19hBTvLLG/OLnEvtEfY3/SGmWfaZpkL9eNt+crgVf1cHsBiD1fN9qeqRmL0GMMAg9CioQVBbFDhGwOUPi8D4DtplluP4t7dxyFvzEsIDFI0VElbqHGSsIOSd4dxACDACbvRh3lnbk6LykMA5hJ9OEMD8qpGDk6Ob7qyoBY2WQmSZNEL5vA5Ym0oyIEVEkYpyZK+ayxQHKc1bAYlbO7LQBcOSxIuXxmBRSmriaBvg4FmcKUUjgqhKmu++vJWWwkAa96IXXir+B9rgWo6tGogZtu6GYsE58JDQliG+jyoAnQm/DCtlIkrcnQLXhjHagTJbcXvFT83UURuAOZbqOIuosQoyDWkj3DNmXPsVIAs4jFL5rfkvK97rfMRkiqWhdGd985ixmt0uaMG8dMvHGWMpvFPW6mrUqeb0V4TSWZga1OX2CFqfOsYNFsW5UEaABEDh1dsudMsAxgkBY12lJnMPxx1jhLY6JwapQ3njN6PDbR2WLKN5KjJ9vimYElzWRgLcNLdVzEBPZFMyZash4TaTw+RTZzyoDN4jFYyqDjYiTlskVR450t5vn0nAunT3CWxLT1hYTXUmnjlMIEb83nyuQ7zp3Kb5qOHa/uq7d3TjfZmweK7bXudHtu/Sx7vGqK22CdykCZm0gejI3UVjrDbGSjIk9bNYpNcXhkSRge2RZyt614xy1sLDYylVuFyWprVsDvy0GM8yye72MBJlBFszbNACjTWfAUzpcyUV6Yasn0mMSRiDtQKAZ5sZG0obrNCjR1AY+slg3lBkLdtShwG4ks9Caqu368fWpzoV0tSbF9SdNsK/9j42S6hqA6zub5FrEOzue1PMT0uxDIVHStTbLWDXkjOnq1s8KNgbHmsOA7Aw5jhwAvQnOjqcvSUSD4OIgJFB8HsQBkgk0AUFfPBRwELw8x/7w6enBFHm+GWBAeVMGz76cYwGs0ryELwZP35AHmICZIAxfvCOgzCNItgffko2MeYj6k6CEmTysSZF597nNifxTEfvOrX1rsvLlukZ4ExOQ5TeNNqRI+KDYegJhgI8/MGfe7PBe3hSHHbR5i/uhh9tHjzZJK/ZPeQxPgvPkPIQBQUDUeyDoFIqlWgrqByMcHIcRA0eLB83HHwLuS1yfBRvAF+JCj4OVisRwFV7WmkncaPYphnyxgsYxkyZjHDjkhxgoSY60odq6VzJ3BYjsdJd0c1FdJdiI3kd0ene2pUbl9yXR7eF2yPV6XStHyVNsTy0nOrvQoMvjnG+Ls+3essR+eXmVv9cXaF7aRE9s42V6uH2vPEUp8uuI2lxd7tnqsPVs7gX6L4+1+129xNEAkNElYcjcLxu6EobYzgYJnckSdMUj9Y+iUgSAiEmICmS9G9vBqZJGRqduGOsv7+32+SorDBiAjkCkcKHGHPLJ1LMTlnPTlkymSZnGTlZMjW4c8vwrRRy0d/aui2QUDOkFsBSHXfBaY4injrYwmrRWEHjWVulINhcnFSVpdD6Aa4sa59kNqMKyxMSUsOGvxHNUDTyNlanlMPYXjDTQCXg/ImlAubqSl12Y6MniIublki0e7Dh6deKiCmMKJkuEr5NjCcSsLZ3NWlMvzFOMtJfHeXGcIvm8PMRcVYDGT9+1/1zrq9z8DsM2hm42GyC6MAjxAImPeNMtaMM2yYwLvRt5OLp7W8tjplkVHiJQZgAGPPQn5eALgjyUcO5/PZh6KVtl86pTm85zzsLko7eYhGtLUCG9zGWmkvqWuATdH3a/HedP7Gfw3fupE5HEumy89V2A8h38ujnPHch+m55rFdxbD68dwTOT9LRyFd8RGpIohkg9uLbCvHGu0P9lXbC+3pdmTDTPtYaT1l/II1aVSVpJAo2rV//HbUeh4Pd+fRvTUAbJ6fvuN8fzWeMyWZMQ81PbJu9akhTKGu65CKJTLZ5PG6yXyOcfyHWjUiqY9z0ZwpfCevisBTN6zwo0SdmgYZgqfYTpe3NLJKBwFXZ4rH8+rkrB2w/wxhLJ5P0QWdqcw52xNooPYfaWpNASOsmZ+0xsYBFxMqZGH2ALWp1nAQF6fvnd9/x5kWkO0TgQb7mDtCq9l/I26UDhjwR+PBxVspKXsuxXEgrCjDzf6wmTvHd0UDgQogpj3wASwwRCLhNatLnvQeS8sEmJDgK43D7HAQwtApr/1rx2OZPF+FOHya6hzVkKemVur3WcQeGKu9R/rd7CG8znxOH1uHng6DoaYvDCZ1uYlaX6y869+ZfHz5rkvYTJJOYURBTHvqjtQhb40DzEHrYjbPg5i/kv+KMDkpXmI8ab4x3zjR183oKN2MpHk9pe9S6rrnuJSLerHFKgXAy9QOyVvkTL+cZwI4dsj/g/9MHW73q/3COWZzgBas9h5z5882RJnzLDk2bMtY8ECy46Lc7Y0Lsay5s6x7KhpJJMnWhYnvqYiV7PL3keO5Ege4cPsaHu4NsvePrLevthXbJcKaDgai/cUf5vtxMu4RHL7rR1L7funCu1bu5Lt9W0z7LVNkwknjrany4fa42uG2JNryYsh7ni2egJKxYn2QMloip9p54PU/gDSZUFsF4vCjnjk9Yl0co8lnBg7wkFsG7th1YltdgpFtXlCmQisHLwQTPh8lCDmLAQy5c68RYLMF0jX0BWhknEXApbAJYWiTJdVGC1PS0XSxSzWBeTMCvF0iqcy32n6JFsbPYEd92gmTmvqdGDrWGQkh3Zzz4CqxsSUALHVQKyYz2kti6FGdegxVYQUa/DMavg/1aqokSLpJrqSe5A143FpnIs6eHQAsMC4TC/F1mSEJwBuC17bFgYjNlLsWkj4M4FFWnJtRSDc70DwwoIwtzxwbWSCaMU0Qu86PxR29DadxXbmCEKPKOQWsPDHE9JazP+ZOXcaYboownNRlioPaToeD95OHGGrBROADo+fBRhm8vdRmMKZ03jeGby2rmsUUBQLtDOeX1EA2Qy8DndkYZdSWB3dbzpSJqPepDKVzLjLNChwPUtpi+b/Png+vQaPQ6Wr5tvasOnx8kpn4ZXM4vUFEcFEntFywsj7VsbbS31l9oU9a+zF9nR7omGO3Yfw6MIKREbpQIzNVUcsZRDkoZrIjSpU7CYpsJFah6l/Z00M0YEkhD6EeTWKpZrH6HsuRB6/kpxrJoBfLJBh8eQp4+kqFAdg5/Oe5vIZzMdiEWGo471EHfLCMvhMMwlXe4gtZ2OlOXhrCC1WIzyqoe5RnuEhvPB78MSeaswzQewIXTtaiCLIE3ONgAHlYjbLgthsQlwqq9F3rU2+h5nf2ATrYCD4ChwAid0CpZ3CY8GCTE6Hdcutb9wWhPGCkKKAIJj4zhm38sT+PSEW5NECT8zDyx9vDTHBLACZ/g/VzSm8Kq/UQyyAuxyEIMTo13B/9M6HP0aCy3tp7nNTRI3ncGHFwRD7A+HExHlzHADUN1AQU0eK4KQMdh3+y5JixH85+hLdbpTbvKLEf5mfdPRwCMDGP8fOxNs4XNbxETaOncY4PiQBLkxkKB95eRo1DoqdejVL8J4Gdkrh98KiMDFkWpT8Zb8I6f+RaQGYNWaMxUydYglRUZYC4JNnz7HFs2aHbdHMWYRcoi1+2nSbP3GKzR0/waLZAGhnqJlGEgVITZXCc1VQDHy4ONXurMy0V3fV2LtnWhjfnmdXy+bZ0WRyWEBsF+GyI/FD7JnqBfanB8mLHVpmb7bNtc9vnuJEHU+WUSu2GiseZo/TUPXpdZMQeUyi6TATcxkseGYZgg5yYvsFMna1O+mVuJOc23ZED7eCmMtLhCA2AC/CPPLEQvBSuFEmIYgHnpPl8xh5ZLI6QoB1wKcW70zm6sbwzlRH5urNEG+sJZRTCtQEsSLyZ8UsDqtZ2IsmjWVi9CjmlHE/HcvL5zDziXzFWhYW9c1T/kLQWsOOXB0XihCWFMqAWYEDGn8H4MoJT5Xzv1SgWKyKoY8jO/kNFEtvdmFF6tGAlaAlgLXjjamvYnsKra9CENPjNjNbqp4u5vlzgQoLpeqBPMT0Ow2HtPn9+N+vfoM6yQZ6egZCJ1d2wt+43xJHnUcCz1y64MTSMDphygRLnDrREicDTC7HEoJeMHGUzSe8OofHCBZ6vIY8ejDqqFyMv83/VvXbVb7Obyp1DIf/uU/v3W8wFT0JwqIfPXrF8U1/z+v56IM2oxJx6XNR6E7dM/T7XszvWzmmK41L7NX+MnuhY5ndaJhn99Cl43weDasFsUVMQk8ICtmb8KAb8aAVDq5iM1XOb62SEPc6rC6OkDYbL21I1F2jHA98Nd6Sunaoh6KGZKYRsk5B7ZuGBD4NTykJBWIiGwWFgJPp0pHK9TRmG2bi4WYT5s7mt7WUv5UnJojlciyUGEm/UTZWW/HIjiyNpiB7nj1SmeUgdiJzjoNYA6HuNTz3Ej5TjWSJYYGeA8AUUpQ3pg2Gvg9vM7gcWFA/qknUzrSWsqYGGoOBPI+LPLGuyRtTnizsCQExf9mF7ULelS8+HuxNDQEaum8Yv0VvYWEGr+2l8ZGSeS+dd/J5580BI15X4o2hiE9kHl4DRwQivF95Yg52vKaeW1B1rw+AXXjxEyDmPK0QwL2zIthFmoedP78i1/owxHCylN5ZlhryxH7/y/9iCXNnuxslwBCklCzVyaCTxQMsgIPPk3HkvjAg3GUl5QbfppNoAHK67BeB4AigiMF68273RD4Ybz426voj8t78+9GJJfMJXn9iByf8wI/LXQdaM1gYlL+KZqc9G8n7XHbA8/nhJ5DLWoT3lDZzmmXMnWlLYuaSMI+z3KQky8GWJiRa+vwFlhQVbQsmTSYXMt6iRo5yn5NbJPhSJ/MDCGK5et0gxKHwRiwneQq7xFoEA4dL0+z1U632xrFNdmVdol0sol8fxbZ7Y2lHhYe0lxP5EgXQX27Ptu/sz7Ovb0+wP2meQThxFJ5YCGJFw+1G8Wh7qmIyObKp9mTVVDp6jLVzqBTVgurAIhaNOOL8snjCZ/EjrC2GQuAYaq9ctw4VOgfmYfXHQCwSZD7sqKMDGSCRmtEJMwCQwFYDhJTjUpiwAk9NjYNLppKTIOwoLyyfxSaPNlxSc+Yg9lDuowyIlc8ba2sIOZUQVhwwhCOEEaUuE7xWsgitAIqrSMwLagJdMfm7EmwNO/tycmi1hG7XI/DQzl7eliZDO++L4u9WcmOttONSqFEiAuXRNqROttrF020FObxYfiNaoMIQY/EXxIKQUZAX1e5SUQKdiPruXRKak1iheC1W+lt3/vBb8OeQjvotai7VTIRTs0ePxpiMPm4MYcEx4eP88eO5PA6gjXGP0URjb/pbeVp+4RQwBTF/3glC8hRluhycs8E5GHneBRtIIMdjfERC55J/nuAYREoUMVF0Q/frf9Jn40GWwOWVeElHCuLt5R1r7eWeVfQQjcOzmfj/s/beYZ5d5Z2nkNRS5251q3OqnHOurq6urg7V3dVJrVbOEsoZBBJCwtgm22CDMXHAGGMMIgkR7LHXY+84jOefnX3WM8+swzysZ1jnMGtjQJGzn885v7fqVqkbBEw9z1vn/u7v/m4495z3++aT3rKbxPt+AicYk6/GxO2ipWphBuQIYtYyFLyOoYnZnmQenGpAq8cqYBShIOYYMCBjgvEzSuLy8KWAE6Y+A0yGqXHYd+nS1I9pVhq4dFkaCsL/anj9INYAQWwQGmHMjGKaNPfMlRmO4iO7vn4Vpdo2pp8e25Z+kQLQ753pxuS/M91MNPHlgOAM5tYB+qiN56yCmDlpmjEVWtWcpS1ordI23pHtZhj8JpitZbJ8b1q3spuG7RJ5XWqxWvnCII8ArmqbNbGsndWAogZUAUy2gloGEb6L/QFi8Tkf57GCDsdXKcyDBcB+MIgVbY3AEs6Vz1sDtaJFGsxydnNiBjD6ImugzJ3sL+TZIsZBP1r40jKQcZ9VrUww83NxFS0CsX/6WxbF3LYl2xiz5MWAVbp0IIfWFUCUvxfoamBXACUGu3bfsp0vVgOsWOIkzlEmlmAUCW2aZIJqqjffxbUFqSKFlkXxnERKhEo9LpRXBpODCEkJM4l+gZ2sY1ZHMeMG1kcLx3jXlnXZVzFQRzQWUV3j5AFNtBI23En4cm87eTA95Mr0kyvTn/b3dgJiTURn7Uxbl6/AB7YUDa0wq4icsbUI6XJfWu2lqCLL7DK4en/QDhhNG9L98UZCeW86mH75rtn09kPN6YnRS9MTA5ek11KCySra9zORH2+5MH3k4DZKT3Wl3723Nf3W7VvSM9etQhu7kIU0z08f3nt++hDBHB+bWQWIrU2fPLU++x/eTnCHBYFfC8O4r55yV9DtANktANfZQMwiuvq9LNQbpsLwfc1rYCUARP+ZZIFeKVZjLq0AZhFhCBNfkLUUA8SO4fOawXRziCixg5AgtgdTzygANki/DCFU7MHseIiIscM43Geo1JA1Mc7htqbDQzA1wUotTPASyGwniZBUQ1NTyySYAa6HiV48CUM8gzaqmepm/GAFxKxkfkG6Ca3spnaiHyH9aFd0EDbeemka27wi1SF0FBAzwZ7xzBjLvlLMdTlwqCY56qPVgrAaB73WgsLsHRNlXDg+AtSyNsS4yGOf1vkV0vlGAG3DxWjxmKw3LwfQEJJ2rFo9R36Wti9fnoFt2zI1touLv2olv1nGWn8EmsTq55v4LLnPuqaF3F6CORFGCmkmDDIvNCKODVbKyyBlICz3r3VGk7rz1/uWMeuD2s7YN39qmP66nWVMPnXn4fTZu6bTx6+ikseRS1l65eK87Mo9WAcsfeYSPC7TcxotSwCT1MYCxE7UUfasHmAjeMcSUUcJhsoCDQLRXoShSXymRkWOM54mtlMcGK15GFP0sIAGjW5ansYAn1FMgSNEwg4DfNIA4BUgNowmthtydfKD+MpMA3mwa116y546Ku6PpA/MDqafJAXiVoSZM5cgTOEW6OdZBbF6yAhFQ/zNR5Pc1j8nuSintIP+Ecj8bjP9aH8FiGUBh/0Rre0YEsTUxFyMskoBCmGuU8sSnIL8LIhk7QgN6nzOU92+4MKled88OBVNK+d6wacWtz/ouAC7AK/5+9MPZ+pAiYbUlFhC7ItJMXxYtgbY6Q+cj2kQxOYLrEdofplbzq+FFjjn2FlB7H/+3V+nhh1bC4hlCY7BykvIpgo6vKo9ZU2NfQFiah9O2jKJa85L92UULVqX55L8jecqUl6RDgUqr6OEqg+utEXSFKiqFGC1A9t3PWaXVtYN6sAso2+hhyitwa0biP7alEONJ1uIFGuvJ7eFPBhourspg5Xtwe7mdKCXhM4+QqL72zO5fZBw6cn2hjRct4OILsyEK5cXv4CStffOcwZIK5kWgmFpDuCZXTxuxZJl2Tzgi8ydzTMoge9govciAZ5qWp/efGw4/SxrVz02vI31wjZTNWB9epCKFvcyqR+qO59csmXpU6d3pd+5twOqJ9R+Q/rCFcvTLx9ekj40+ar0/t1qZRenTx5fmX7l5Nr0SyfXZ7/YT/QVv9gDmBPvaSS5tJE1xerIx4ExWC3edbpc5sSaiecEMYAtTIgBXtY91I82p8FhuqsCmaH4GcQw57kopkB2AilaLcw1xwSw/UjR+2Aa+5Bu92Lu0V84DHhlQhMTjASxI5SqOkxgx5FtF2WSken7Uip3OQ1BLMyJua2B2D4Abpr7CDqACfQIwSynGgjpbr6QAA5qNlIrUQ3M1YOvY7mW69pIyCaKUx/amc516XjrhswI69DYHYe+c8dxmBIjZSNHyTIRY7HA1YRJhyVhzfnLYFBlodXQ3LI5kvPNCW/MgTIPnDvOg+Jv83r62vS/bgaw9MHOA9oq/GYSILt6ZWpguZEmxn7LpWtTI77FOsL+d2Ke3cF6gNHuWA0gYqrczgoKWxHo1Pa2UBt1K7SZ8nJbIFsXuJVcGzCvEQj4Wdw7wHXjUv3ByzMICrQ7Adrt3OdOmFIHmuQAwHcV4fAfu+Vg+tXb96WPXtWe3neUUk4IVq4d5srkdyJcuQK5Y+8UgpDRsCdrNMuYy2ZFgj2O47c9yrvLQIZGXbSxooXvQ8ufQrCZ3EqUK2bAqZ0r0jjbo5Q9k8ao5Sntxj87jglyFAvACGNvCGFHIBtG8NGsOA6pjemf1Z97LwLMO6Zb069cN50+xLz8CUDslm0r02lM3lNo5X28I1NnAsQ0KQa5koVVQqygL+lKKPsK0Mmz1MiyBs1YKmOqCEVqGzL0MCdWAUxQiyANAzcykAFaS4iYDgoQE3wEMNsAJj//rwCxAK5swkTRsA3wqrYRTGJwR4BY5HKtwWpl1LsUIBYR4oKWaQnV32UAQ2GI6MUF5kT64uwgRu3E+hqIZamTF5ZND7RFYgCMeDlhUvE7J5tSmaYItSj9WAKZJLDJ8J2oTlBt8SGJClhR5UPThBNbB7bOa53pWcOi3YaEvosIKSOiWpmYnawP1I8zfABtapjov931W4kG3Jmm0KaO9jcDRI3pKMmeMyaG1uhQN4mg0IFOogY7dqV9rXXk7DSkQ10kfwJk022N5ObsSINEEvZsvSQ72eswH2wlImk9jEw/gc58n7dI44BYbeDlHDOe07wzt31x4aD15cZLzVE6PI9Atp3ntCL3la1b06Ms7/4k9JqBunR3C1UlWshZgoG7TPpDgM87KMXz9M1N6bfvb06/ecf29NQZQOzoRekj0+enX5w4L3146oL0cSrdf/rytekTp9ahja3JofZvxC/mGmM60+/CL6YvIkAsFqK8XA0MKhXsaWuBG/MamKWpyOMBuALAqiDm76SIYszVO9TE2GdOlyHxhspnU6LBGjCWgzCVaZKgJ9ecn7UwQWwU8BLExmEoOvAPIxW7/IZ+MaMRDxPabySiTn59JJqYZgj/10emeTHaYnIqyax7+W6K34U2dgymeAWa2A0GcnRTNQQNTAC7vh0ww8xoaP7l1Gk803Epic6MA3wpmoGzJgaoZDMa0mNO0UDKznmKjPv8/mEahkuHP9d2FWah7LBmnDhWnDMZxGrtnBmP8RBmPNsSkFTMe9lvRdGBdeRsBoBsXbkCvysamhGxa/ClAWCtG8hpYz4YZt+6pYTfNxOW38SCkPXrl9MCdITKN64zihbCbG40Yo5wxAfn513uM7DkkqWp7hJMqXzemSMWS3TiNjQ9QdBW2oHfTt9dw/KlqQkw6yTAwmTkQ5jt3nFqJH32/tn04Ss7088dwc+0d2V6YpAUEkDMor+3NjOm6msCFGBm+bAcpYhwdYLPxxhzmQQzBDpXd55lLKlVW21jijE2yXvfi2Y2qXYGoE0g3Ixjth7DpzqK/2w37QQam2SljlHGlSA2CIC5wKYgNsE4VBvbQ+SiSfpWkvmpqeb0S9dPp4+emUxvHmshmnJ1Ok6+4F74UBXEzAVVG1MLtQxVHRrtLnhjkPsEuK18v5njstkR/mCMwQbGS/bdw7hzcAKfrQI/l0eG1uF2hMpbZFcKsFADCp9XtGploX2FJiWABahVgS0ALto4Pj5n/xjXCE0rXw9eVq5fIiBzUjTPZgCHVPLiShtApEAfxSGyeZD5E9pYCfYo4F14JgWUOV6QDjCTZ1Y1shzBaF8xnyJXLIJABjtqZaf+8R8oALxrG53HxEItduLJuJ1c8wy8xshr35UQ+6JVhSlQH5bmtTlNi99nLQtJrerslqFr09/ERN1KRrxRWY0rWVqcEOVuQpQHt12Skzb3tmzPIDXT05SO9LWk2d4WgIrSONDx/rZ0YoAk04FWKhzUpUOd29P+ti05cSnPOioAACAASURBVHSKJNC9JIPuqd+YxuvRzKARIsIGtxLyvOXSrLH1oWl1rSffZg2TFpPBNiKejCjTbxY+huwvsE+giLQxB8KXlDs8vyxfWPnsy84SCx3uAHEgqWb7QgR0GaPO8EGYwYmdG8lhak4PUGvxjs5NFMZdnW5EE7Ge261MVqMMP3J8Y/q3d1NH8e769EUCPAyt/9jBC9OH970q/ZsDF6RfAtR+9dTK9MnLLiFnbG362QnyxdDGDO54AGe6IHZb4/kZxHJUYl3RxmJRyQAiSz0JZKWShyWpivmwCmJWvs/BIDCb+J2mSDUwF9ZUss6mRJiOeV6zMJmjAJhBLTOE1+/HH7aHwI5xgGsM4JJG8KUIYkaM7aPeouB1AnPiLNrXYcoEHQGQDLU2EMBw+zPUXjSk3tD64yxnc2znxbk9SmWHI5CmyINI6AfZfwifyxFotp4AFDSxa/GJ3dRDAeFOSl8BYNcBYNeiiRmaf5paegZ1zJDHZWCApjI1MQWxnF7xMhAr5pCc56MpkXc8D2QIdBUAyyAGY7ON7TBPCmgZvGrfxTElChLBL5v51M7wp2ACNJow56dhhdi5cmkGHAGrZcMqgGwV+WprU/f2dblt3wzIkffVwurGfl+2CSgh58vfNK1fRkrAxQSUXMh5LsrbjZh5myBN8FIjgNa4bjkBTgY5AXgAXf3a8l0zGl4L4NbJWO7nHWqeu290V/rwjZPpI9cOpvcc3Z7eMbUmPd5fQEyT4qsZ0zegjV1Th5ma0HotA3mR0zrAjH2XsU8wy1RH2TMEkFk0ewN2DmEi3o8AsxdtWyFlivEqTbJ/D34zgWw3aR8TaP6LQWyEsZW1MQBrEBoj2GMcLWw3IDZNa9j/4xMN6UNXTqX3n6aAN+W3btm5Ns0CYibmd/OeWiA1MUFMADNwy23LzUkBYrY7AawAMXPYNsAfsksk+0+LXycLOJjf1EjOBmIKxEFVEKsCTIBagFCA0uI2vl/cxnHuj/MKjqEBZjBlLAs21Ty4AlLzwruf/V7wyf4t+qXk1DLuFeScD7U5FCBWzmmi9avmoxsBf4GwnMciwqV01SsCsX/4h78DxHZk9MwXZVJlHwA3I4iFWURQq+bJqEkV8x/mQl5GcVzOO579br0aFrQJcFC7ErDUsAym6NlIkiiVD/bgn5oiIXS6fUc62FWXjlCvTu3qODXbjlEyR6By2/0H2nak6ZZtmfZRhUDAmqhfl8Z3AX7bV5I4ynlNHMX527n+YsyNS1MbE7IJc0o95pI6tKw6nemYTLRjq/1l0xHPLOBq3vF5o8BkXo5F4KJzBa6gnKFf63Qre8TLEMTKYEFCgrnpBHWp76W8LMHbJE0nQBuMbfKStemKxu0s1LeB5UTW5HqDhvy61tGDaAy/MLs1PXMnS7Pc1Za+ctuOvDzLx4+wjMvMRekTtJ+cXZI+dXIFyc9r08dm16afm7o4/eRASXp+qPVV6R60sFc3kOjM+QqIGSGGJojEWxagdLus42UB3qhsXwWxqgaWv69pYGUxTcALpnIKZnICZnIS8LHyuHk4hzHvHMKscwgfxX6c8WpgozC7YcbACL6wMQBMQJOmkZaNRDwGiAtix2AqFhw+BrPKic91y8kdIv+rdW26qoV+aqRAK6B2GlC7HPA/1bwm+xtncdIfwaw1UyctS7MkTB9vJIigAYAm2flGcsJuIOReAJM0JV5OoutlrZdkU+IUdS/byJmK8HrNGGpVMRGzgMeYCZt+gFiYFWPSeXyOtmLcFxOkwmGhlfhto7KMoBXVZlYwPzwmH18DtZh3GegYMwqHWgdy+DwC1yYEry2EktcR4SkACWRdCIDmqEndbHdtLXlrnQRBdABsbdTvNNy/Y/PKnODcvIG5weKRmQiGaCZ3rRmwagbkMgF6jQRNSA0ETQh+Al0rYNaKNmdEYB/3ME7UqWWifvpET/rYjbvTe080pndOr2d5IKrHdGEZAMTuaKFCRyPm7YZiWtS86Krj12B5uBJh64oGohPrsBIAZpeFdobwJJDNoLXtR2BSG8uEyXEvwUSCmFqZQLaHwJ9MaGN7oNDEBLFhxlg/QKs2NkLY/RiBXQpSexh/5jo+NLwrvfvkeHrHkZH0cH8dlUXW5OT9Ufq5k35vhhRABa6ijdVAjHdlFZF6xkU9LpOsmTFu1MYUhgQxIxmLq6QI+Nl3yvdhUgtQqLZL+I2RftLZQCwLy/CaeX5TixysCdBZiIb3zJkDNQVWaC44w2M4j9co4AVgAThSgFKueMRzlmCmaMUFhTOegzZ8xaEEhUBm6/jNghvndF7MP+d8eoHXDg1U86oU/aO2mol5pSZWTJIlonGuAPDf18pOWcYjT0BbJxJtNqfxkgLANAuqVWVtiu+1+aph+KIMtNA06L4tvPxdDO5mwmHN9B9gMo2R+DlJ6RyB6HBXfdakTo90Uui0K1020kr9uKY0Y003arftb9uWScDa37o9A93IThJFSSTtQcLsRsLsZEIJUu1I+a34WxqRquoZlLsYnNJOGOZO8mC2kUdjfotVGLw3g0G8V+/b55gLUWafz2v4vS8lSxVIwZGJbm0xwSur1GxbMFOy0r2kSjw3qACwEqqKRsbguRBpRU11E/u3cpwhyi7vMLDiIgISSO7EfGHSr4tS3t2zMb1rlpWir+5Lv3xNW3rm9q70m/d0pC9cvyX98gnC649T2f5YKQj86ZOUpDq1JueMvW/fUsr8sEAmxX8fbqNuYg3EbrLcD0zhesBMEAvfltXiBaZoA8jCFxZtHB/5Y6WKPP4vGMlJGIn+L5OU1bzM9TIPZxofmKHzU1R4EMAEqyGkWkkAUyvbS3L0XirfG15vWP1xcogkc3g0RRoYYoDIKfxjp/GTmaB6GjKk24RomebphtUEA6zOUY0Hcfq7iu80xx9AgztKAeET5Bwdr8eHh0nxWgBMELueiMWrNSVSGcJw/BOt63KljlGqZJiDpEk7+2rRpFdDVRCLyRrmRIEsQCwmXQYwJzdjSJDKv2G7lEabB7EF39cAzH3BAALEYu5VLRyO2Wzd4HebGedbyY3agTXDhGsDmQQwgayPOVMAjWodgFgzgl0jAQstRPVFpY4WKoUIZoJWC6HrkhU68rHrATW+a4QaADupCbBrwuxqonYObV9JVQuAQZPw/bvr0y9eO55+4XJSSqY3EbxEYd8eKsh0lnXE7mgtQR6aFm9pKqCWVx1vxnTN56sb8K/xvgqQzWtl89oYWjvjTiDTtLgHX+jZQMxaiWOA1wimRAFsMYiZ35ZN2fCJGfxld/ZuS2+eGcTE30uJsu2UY1tBSghrmcHH2p2r9LdV9Hch0GZin5qZ9RzNmRPEGtGcG8kbbMDVokamryyAbD38USBTUC7mZd0zBch0Scwz9vnt0MRCMwptyXYOxOAtizWs+FwFrcXbAWJGQsq3FMIXakGawr3HwvszFnDvCvkxDm3dL2Wg4lhXXHb15VyDV4Gv9l0+T02481mzKRJ+KHDF8wWIqZkuBrHsJ+P3VY3OeTYPYn/3N6zsvI0TczN2LK0dHU7n8GllSZAbFaic6IbZWgLGF2UrbeOFNiJp9zAJdtetTwfRsI727Egn+urSZYONFEdtSVePtmW6aoRlHaAT+LMOU2x0nxGDSMPD21ZnGtq+Ng0zESULsLZj2mhefVH2k6nN7WQFak2B22E8W2GO5tZk3xr3YGvSqeHImi1N4FSCrRYsDs0rXoIdnZmInc1AzNWYcUZGR4dEFG1Ufq6C2NxAg/lFuZiLlyzPJoNlGcjIHaE110RpbRf310VlAZdS3wMY6zt6YLwpffCGg+mDV46mt05tTp++viv9zmvG09fuaEy/dmZVXmfskyeWZCD7VUyMnzq2Iv3SkRXp/VTvcKHMN3aTgErwgiB2eyM+MQMzMNPMg1jRuly/K4BrYVtC8AO8AuQitN4KH0aYFbo4A5glggQvta+q6VC/V/i+hgUwmIagtp/nPYS2LM2Y7Ex4/ew2tCfoOHUWjwNIrlN2EnA7gXPeJWBcs2wWwJMMGJHU+A6SizaFz0OzpFGOkxyryekQvpSjVMGfRZo/TV8Ybi+Q2V5FtXtNiZdRxfw4UYl7dyIcYVYzaVbhJgcsMZnOBmKlFqdmjyIxLoORSD8IxFzix6V+lpM8XF3yx/1SgF20eTxyL1pDwjcdlpBgJmsYP45rSVO4gKZPS39Ym2WnKInVs2ND6gXMerZdmrUwNSkTsG0zcCEQqmE14zfzcxtVVNopnWa5qax5sU8trH5DacPs2ES+XwtaYDORpq28V/1NasZvOdGfPnjdWHrrgR3pSVZqdrXxhzrLAq13dyCkQXdi7jZiURPjqxmrt2I5uInPNwBk1lS8qh6fGaSZMYfdM1Zn8IsZsBMgJoBN4Dvdg5lxAouAleoz6RsDwPSHGcxhUMcQKRzmjGVNDPAdxTdtesco/WWAx/Ushvn6fT3p0b29RFruoEzailxVZoDx0AZfqIKYofZqZQFiTbwD1zBrhc80w8ClBviN1fSrQJYtPnlsVZk/Zjj2hfltvoRVARWBJZj8uarTLwaoxZ8VoqtUDeHPUYWAmJqf4CL/F7wcc3MxDdyfQpOWN6ka01DloVoJXEx5KwFEmzB3u6RXBjl+WwWx7AvjGhmk0bJKZGOJ0Mx1JWsgppm+UDErem8BYhGW39cVPrG/dVFMfGLcYLbn05boqXLDAV6+hDkNjG3rlGWNAm2nnZWLB7C9T1A49CDa07GenemK4cZ09VgTQFWfrhyuS1eyzEXQmb7t6bLOzek4JV6m8EWMAVgDmDq6qMfWgfbWSomiVqLYNFs4UQzw2E5RT/1WVi+IPBlBSoCyzRoV9xQdnoNJ7Hxs1nNRQXxfda6HX6IwplL/TDU6q9QwqXCsKq0sptDKBDEli3lwK0mHsU6P5/CcSu+aKWVADoQNSCpqhlZAcDXaXhj+JHlUd462pp+9Yl/66UN9LCS4Jr3/WGP631+3P/3uQ33pSzdtSp+/di1RiRdhTiRC8eiyTB8/sjR9YF9ZKPMJFh+0BJUJzxnEMM9YMzFATBOiFOAUn+fbYm4Ms6MAV4I4Sm1FfV8C2OWWD8I3pQam3+sAeTfT5OaoYUX0oYxCiXdEoCaYw8hEAWyGiv5HCIuW3BbIrNwhEB4mYmyWYBCrgMRim640PQtYlYU5S97ZfpjTPh30MKHd9F2OOOMYtbF9BJaYV6YJ6ijPfhIwv6IVE6JaGDUW3daUeBIQm6Xg6/iWlamVvDVXDlZiLhG3JcRXcMramJIl38dYeTmIzZtAsjDIpAtAsg2wEsCCAtiWAUDVY7MGxzhRoJyP9EUS5XNVEs6WEcaS4ykDGfeYfc05/4wgDJhJM1VBOvEH9+/cnAZ2bSYXckMy3USNTX+Zfq46TO4mXesLaybAIwMaoCaIGSRSh+a2S78Ympz+Mf1p+sx0CzRgVrQcVSfvYC/9rzb2C1ePp3cebk1vntyaXje4Kj3YTaV6cvTu66Rafc/F6d6uJelurAWZBDXWF7uDYsC3se9GgE0gUys7g4nxdAPRrnXFN3YQAUrfmJqYILab9AoBbHdt288CmAthqoUNMUbOBmJjJEfnsYlgpZn7BEWN72LpmQdYgeJmBOrjpFrsxmLgWmZt8BtXdp7TxHgHdZBamOBmmoHztw3+1L70gkzN+C8biKKu410LZIbjZ+sP2zJ+36F8IAToGFM/DIjN1zcEpNSoKlQFsiqAuR0gJngIGhYpLgFqxTwogKm4mGoR/DWnMrFvExrmZkx6kvlv8uFsFVCAQqkwOrZhQ4mWNRJ2LX2gb7dq3RLEApxLjccSO5DvhfsJTSz7mllpOsz0AWLWuS0+ulel3s6Osp7YP/3N36SG7VSxt2Mxjwlg5jM4MUyylNkaldRASHsd5q960LaNydF3yeo0QJLwFCsaH2rali4jAOMatCxXfr1uvCVdM1yfrujfls70bkqnu9cDWpdkOt2+Nl3WtiadwEl/mAUTzfEwA78VO3UzA0dNTol4Gx2jWVJzoD41O9SJqjTgIHAw5LwLmIxOeKVnKecS0FFOfrcFjmy3lalUSMYUyK7N1c6SMdmJRZUvmfOLB0GAmcBVSEmm2HdDJQ4brz40j7HTg0kplShRa7p0AIRGay7ZKOa3q1n24jFW1H0QzfV6zHRPDK9Pv/3aA+mP3jCJWbEpfY0FM131eTGIfWj/svSusQvSkz2ljqIgdmcTdRPrasV/NStCEUKfl6PAn1VKTy0ErgAw2/lw+gJioYHpr9IHdoRkVJfM0HyoljWBeUnQEryGlyIR44vcTQTcPhjfAaT7GYSVw5hQj0AzFMH1t5Ia3D5KDO3nPIetxQhZ7aNKRsGZ3zONGTIT30+jgU1B+wHRwzCjoyzGaXDHfvrOkHtNUSfwDZozdiVLtVjNw/JUl7PUy8mWVWmGpTdMlDXJuQR1vBzEHDc5MpF3FgxnHsSshSeAFRArk64UlFZidNJFgenq57y/Cmgc6ziJ80ebKxtw/VKWrYzvEMSylsYYd/xHTppRw5Jloy5l/hoMYri94fhdaGO9zNf+ui1oaBtzdKPh+rvWUlKNOW3kojmWuxBKcxURtK3tCJFb0VK3UMFiG+9xK36wbYCAGt9cJKPBWYzfPoDMwJtH9zamtx/tSm/Z35AeH9+YHu5bCYCxKCwRog/0LqW9KN3XBahBD/ZexD7yJHuWYMqjTFoAWRNjFQ368npMyxUQM/JUTVv/19lATFNiVRMz4bnki2F+QuAZwkyoJubYHOGe9dNOMe5OUZz5uvZt+Kk3pENYksxjFMQ6oAb4jr6vHMjBfG6ATPRugTe28F0r/Kmd8eNinFIrYGYl/SYC1xoAtJ0XEuyBBh58LLtknP8AQ44/qAlI8gjHgArFvP+9RAjOg9TCslClmn3Zt2CbiPHzz0JLKC4hXYQpXODIVgTGjxqY/DKnejAW5f2bvW/yC71383Btt/FZMgcu5+ry7NbxzNq/whECUxMRs7vWrUxbqFCzHoFKM6OCWdGgipIggLkQ5xKASloMYs4vc+gCxPxtLvheAzFXGpkDsf/5t3+bQUw0zmV0OChXCODlbOUFqgkZhr6HIITdSHLjbB9kuYdT3Y3pir6mdCPSyw1jgBd03WhTunqoLp3u2ZyOta1jcUEYCiGsQYdYy8ft/fg1TGDU+dqJ1tUAeO2gM7ZzTcFrE22uF8f1RXsBS/AqGiIPw7aAZa1Hq3zMVYlG0rB0lQwlZ4YDcEWSxtzDsWXBtsJggrnYSR4TABZApAZl54bkMt/WBhUDWYCqAtic6s/5zq99v5SB4KA0+jOAzPsXzEwuNZBAIGshSduq27NURL9nooe1sQh2YYLdidnr6w8eTP/xTTPpd1/Tm37r3ub01JVrKAZMDcVjVLQnwMPw+w8fvCj97Nj5GcQewVzzAAzgnqYSKHIjjFxyZeerYOxXI8nq81L7MsowgCr8XtXW712uJZsT0cDO8O4uA7z0hRmFOIPpbwoAURMaI+Irog4zk+CZdhNUM4mEdoA0CWslCmIzmhJJfJZMfhbgptDSJvFVTFFayOVsDkEu1RJk2aopNS6Yi4WEM9iR2Kr5UX+ipsiTANLJ5kuISlyRzYlK7ocB7uMwQTUvNTAreZw2oAN/2HECRaZ2YXaDWeflV3gPRpIJCgZ1rGKSVQUftwu4zJsT5wFMQWh+0sX4iolXJnABtWKu1mRdIrpCsnSchGkpxq3jON+L9wPJaIJCUDMqeF6QK76XADLnjcKfGprCaDNRuZ1bNmRq37QeE+P6DHCCmd9v0yQEWQJL5hQ5ZBt5lxtg/NJGGLS0CWbtGFYKt4ZhE4y8n3ejr/KJQ1S/ONSW3jhVn16DIHZf17IMYg/2AGQA1gP4bh/sOR9z40WZXtMHmLFfjcyFM69vRiMDyDQrGrloVQ8rsmSTIpr2JELKbk2INU2sak6s+sSs9GHyszUU+xifg4yvYYB4CLBxjKqRmXSvn/YwGvkRfIdWlMn7cVV0c0wrgrQmQ/1e+rIlg7M62Oeq0208dxfn6ERw66KfBLJ2fiuYtVLjsYn+rDMSG81E/7wVPuRvKggCmWkVCrVhQlahMEahGjSm8FzVsGI7gOtCQOkCUjzicy7kuwjEDDIzH+0iyGVhFNhzSghjKisGAGhYiQQwi0fkAhI891wyt+MIEsS0JG3ludXKuwGvPvJ0NV+3kg7VuHFtpo1UpNFHJojluUMEZF66BYAqq0kvo12Wq5YIZN5TaGPy5KJclECTMpcIAqHP1Oa6O7vSP/wDKzv/z78vmthKGLaTZA0PpNq4nRczzgR3Eb+bWI32dF89EUE40Vnn6JaJznT3/u706r1N6aYxNK6+zelyAhLUuo6hae3H6T4Fo9sDw5vAUW8y4jCmokFMRGpeQ0jhfWhf1kGrYzKUl4vGxYvU5zYXMci2L1mJM9tXmax5AvMAeQLTBlIHGBVAKuCVTYNoZBHSufizduD4rtraQZnojwCpMBfahjZmK9Cpmuf9mA0jh+N8JIdXcd/6zuz0LGXzPFkTY4AqTQvOgpiLappk243EvL9uUzrKulDT9NUYE+xGAhB+68kr0//1nhvSv398Kofdf5W6ip+7nMjE4xcSrUjNxWPnp4+SDP3O0fPSE93nsSzLBelh6tDdTfDG7Zj/bif0/WYY+nWYXa5j0t8AQ3CV59N8zuWjaiZCk5VP43+wzWHzApjHwDBcBTovbMk7NeDCEHjzuQyP1xc1hpQ7yCQe4J6H0cTGMTPtpVL9NMm409QI3A8dRHO3cv0M7/4A736aYIRppLW9mB4m0BjGsaNLE0x6aS8MwTDnSc45BVOY4vyuQ2ZF/OOMoct3rCFcmzEKgLnExhWA0pVtVN9gParDLOcxQ5i2IGao/anGiwAuQuo1IyIYSLPk6PUTeFSPHV+pMo873pXvJkumWCbU2AWgAjSahI0+LIKSUmyZcGWSOb5ijMW2KRZBse9cbXUMZu2Pa0fIfrTFvFjGf4CYc6JYIubNjY4tSaaUTT5uQ1o0tsBQ61YRQg9wtQBqrZgW9aG1kFdWj8VFANsEw9XPnH/LbwTCTPSFpqao7JH9dXyvsLmNY+ogq8dfxhppD093p0emWtPr9tRjWViPGZE19NC2Xtt7YXodK5E/Pnh+eqL//PTm4YvSm0aWZ/+Z2pnmRTWym1oZp/UIW4DYKcbsMdrD+HenEb72EA1rnpg+MU2LhRiL+EyLNkZwh+PSclXkhqmBDaJBDgDMmRhbfbhCehhfalwDMOMRvhtFCx3GemD+m/t7GY9dtBmweLYOmHsnKQ9+zsR33YzPPoCrF5N0D0E2glmm5RdQjJhjsWC1k1jeQr82M64bSSZXQzM5utTKtCpREdQFkzL+5i1IjgsFZvlN8KF5gblYjASnl1uNDCorVMCrrHG2FMHIcewYl7/qz1I7dGzI+9W6cgUkwFXw2kUfqGAo6G1nTAS/1lJmRGsPywvldejqi/+1g2LXzSwdZBL+BnIK1+InzJYMhcAaiAWPDY1sKaC2jCojktuhVNhq8lQrE/xULnT3GLnZY+3Ef2RlZ0Gsjqrs5rqYrLyBiSiYDGwjJHm6K91zbDDdPt2J72B92u06USwrcTegdt+B9nTbBH6uPpYeaV2VjrK201Fybg4iBU8QIWYC4sgma50tSb2YhrqJiurEqRph7xbuNOxdFVXU1+5qJzrptPVHZOTcEil0gJ1epUD2V8IkqgzilWzPdTIdKJDFoLENwDKQIxyTAV4mIJ7Pi3oVgyFATCDLIMZAzMwxJB8GrCCm3VyTQzuMZZzKI3tZkNA1kPqZWDez/tjvvP3W9CcfeSD90U+dSL91X1/6+m11Za2xk0vSp4+dR3DHBenDB84nsOO89EZCmh+FCTzSxmrSaBuC2G04xW9Cer0eALuevC59ZAZunFELI8orF/QF5ExYtsK4i08aOu86YgLYlWjNV6FxCWKX827Vwg4DYPupoLEX38M45rwhwEUAs4xUBjAGsAB2aMN6QGwNDvRlEOutwST2raCCB8fvY+JPUUJpgqoQ40zqUSbPGOPB7QC03YDXXhiDvzmIhOy6ZALY6e2r01UEZFy5Y2UGsct2LE1nCCw4wxgMEDtEHT7B7JiRigCbdBwz4jESnGeb0Q4bWYsLH9B2rm9pM7WWYuKBkTAenXhhCowxU4I4qiAmyM2DWBxX3fdKt+O3tj88iM0DWJjbBbFcjV7QYVsQs5VhqglsBqjUvPSHCWQmT5tEXYCMah4wnwiMsn/8veeO82t6Ely1LGglCT+vpbvGiCK+nPzNhwiYeP10e3pk9470ALVCH+q7OD3StyQ90ouwBT0xeEF688gygkBWpEcHGbPdrMAAkKmR3QqI3dDMWG0AFAEvQWyGcSuIGV4/Ae1hDKuN5UCP3GJmJGdsHD+qwR3jWAkCxAZqINbPGOxDe+xFU+phjnUDWN1oW+7rJ4E7fwfj7qF/3C+IuTBnJsZnF+Ozk9blaNTABC5XruhjjApkXYztbqKzezBbujinq0z3YH4NQBPU2pahoSFMCBBqO2pnBqT5brLgQZ8KZgrwjgU1dIVuzYzBm7QaydRzOydwl7SexeClsFX88r6v4ENFMJHvSo4JwWtO64KHeX9qkbZBCiuCmf7QXrTXYUyxLqw6WO8SRBtSN6s1qI3thAcYrehSRvJqhcEMYsyXHHcAGEXsQAYugSpIsOKeA8TcP/esfCeg93T1FhD7/wCxnZs3Z/ObnWatL0PTz4y3pSduPpoeObMn3bynBWfqciQZagASRXjXvt50z4GudNP4rnSSagcH8EPsIzx6iooLal5DOHgH1nERJKB2TETF34UtGaZVz8Dx/JofslrNSzNEv+RTKI0IYkX78gU6SZSGfZGFIkiiSMUBYNE552IYVQYR2x4b24vbGCgCmIOkCmIZyAAqgSucpdlJCYAJiIA3oAAAIABJREFUYnk/L0xtTAALEMuMiecoknORlI2GM2dNFb0Jc04P1Rj6SUjtcSIwUG4b3JL+4y88nP76qZ/M2thvPzySvn57Y3r6estRrUxfYKXnT2NO/NDUeekdw+dlc+Kj3een13bBEFjd2Cr2mhKvZcLrB7uGyiBX4TO6AqZ/BdLsFUixVwJIV8IAMqgBcuaBaUJUC7sSkLuKUHo1MY/XlDgLIGYtDEe6NQwt5TOMqU/S37CbAIE9lEGapFL7JKWSxgGqUSbBKAxhN+9dmoD21LbNx3GhzDEYwm7GyB6k10mi3qS9mBStfn8QQegY4HUZoHWmjnqHhNZLJ4lsPEl+mb6Yk5iv9XMdBahm6tH2qPxwEBA7Sk7ZMQDuKKB1BJPj0RbD6llpmaTWBnxAClFZC+NdWDzXSXcuEIuJpTZWNLEfDsTONs6c0IvHohaFQghujKHQxKKtamFhXpxvF4KNYJYBmtbnXEyuiaYJUb9YlLayMkjD2tW53JUFiTdTsFgfm+cJILP1Pop5vzBEx7OrLDfyTocRXK8lyOue8cb0yCRmxZGN6TWDq5Omw9f1XcAyKFS6H12ZHt+zNr1xYi3bK9JrB1gZve/CDGS3YlG4oY3CwSSs6xezlJiCicEd+jtzgAcgtpsxK5CNQxP4ysawEoyxkoKh9ZoTczFgtHfN9VbNyeASGhPmwuzP4n674EuLSaDSL9YGoLUzhjtg6B2AnaTJ0OjiHvzAntflXyQ10byNtcGK+v1oK71qLGwbBSt1EWndxthrRjtrgObNjSUGQMuAYKbGm/kgfSr4FHN2sew4loLfCVB+VmupUhW8QoB2nPjeVBay4MH7z0KN4wBwlhft5HmNsKzns1qj5D0ar+BK9nVospb7cwXy3bX18gQxa9P2stq4ILYF4UhlxPERIOb9ylsFJIEpQCw+B1iFJpZrS/JMAWDBj18GYg1bN5eH4mICy26Q9LHrjqS3vPp4uvMguVy9LGvOYHBdn8NUwrhtsjvdOd2Trh9rSIcb1wNcK9KIhTchV37tQnVvM1ADqVyH+a5MBbiMANOWqgZiqL6DPiaVE2QhgJUQVDugCmLzE1w1c95cU92ee7l8X2UQYUKM7xczlfhcBbHFmthiEFMbi5dRAMzyLeSU4V8s5sRikjobiPnsMtHtFIE1EbsZRqJ/rAkAMzLqxr4t6T+8/3Xpn77ynvTfPnpv+t1Hp9Jv3NOONrYzff2mLenpqy5FG1uVPrhvSXoHmphriwlijxAF9prelemOJmoHIsFqPrwOpn4tpl6XZz8D2V4NgF0DGNnqL4vq9hnQYBAFwCg1hQnxDCAoiOWFKjnWortGpJkesJu6iEZ9jaJhD3H/gwz6ASaAiwr2874HaUd5Js2D0h5oEtCaZIxMQJMAoP6waSb+frQtK95Llqsy8tHyVce531MkNJ9G278cgclcsaNohSdIbhbAQtNSyzrcUEBsWr8YADfLSgKHG9YShLQ+HW4lwZ6o2EFWSNbvqxSazW/cZ/ZPAGI5cVMJkndYzIlhli7S4Q8CsWAwMZ7O1eYJXQOx6jgtZkuBrAhvAV5zLYxoHrRevh3mRQXTOc2JbRmjpqNSVJvP7quQfbGFkleCWSMadNO6dZnqL0GyXr2agtjL0wbyoQyqyj5qxrlMyuvIcNUkwkTexPgdY1ycpu/vGt6eHh7fll47cml6qJei1wDZY2NUkd+9Lr1+74b0+N51VM5Ymd4wclF6dIg6ogDZnZgebyJR3XSIE/UEERERmwtC10zZBxGyJheBmH6yUcalIDZEbU1BzOCOQQQh1xcrIFbMfh1YDjoBMYOq2jJQLWw7ALX5/QjjCGFGIWYAQ2NTs+pV0wK41PLy+RHae6G8TQBSPzSIQK9Q30/QUj/BW5Lg1g3wdeKfE8zynEeAa6xpPWpDakWa93wnYaEK/mh/2+85aE3+uIAULBD+Yf65WjzfFeDSdFgCf7LPlLGQIw55T/LlLExzPa1CAlgGMeaAACaYxb5d9EMHroKx+i1poplVzV25nEVfhxo25lXOe3CJGKW4jmfJAMaYKFoYc0jtS21SLQsQk5fKOwWpBcT3GYA5RlAOENOMKD9eAGLf+vu/TW07d+QBKaioKd0+syd98PW3pSeu2Z+uGdqOqXBNXtOni5e+h/I214x0pJsmu9Llg/Vp91ZWssUx3w4DasfH0Yxk4ppMOcLQCcEDCIxZ66L1GjLuMG0Y0hwV631BOqizlMkkyf4IJmswhAI8JT9HpBalq8B1ru0qcwhm8sOCmCbEqjYW5kP3VzW1eZs1UpE2XF5akbQLMwppKJiMwK3JZhsgplmrDok3Dxb6rZX+uoI0hH/3sw+nf/raz6dvfur16T+8+Wj6zQd602/c2ZR+886G9MyNu1gVemv6RZa/eNsoRVfxNbyeMPvX95D4PLAiPdB+YXp1PZUSALGbMcncgDR7NaZCzYRWCLmWCX8tICaQXQNTMHpxAZChicU6YrnAL/41l8vQya5EvJ/Q+GmWt99LGPY4ZhOd5f2AVR/3Lg3WSE1sDxKn5kR9YfuRXvcjsc4AUiUCERMloDVjvhxm6wNM+gMwH+kQDMlQfqt5nMScaWSkdAKy4vlJAOskqwGY3HwMv9dx/F6z+MAO15lbREkrqn4IYkcQuGawJBhNO7ZtPVUnyGlhjDoeQ7so2v/LQSyEmvmxWMwd859frk2dbdzF+Is2QCzGSeyP8waIRVs1p+dtJnSOYKy2NW0/JG4Z10KKOSeAFyYZ61+F9B/RjTsoPCx41bEgrLRjzepcENi6jlbfX8vYzRUZ6MMI+VcwNVjJ6jSuyDwKIzfY465BQAwge3hoLRGLy9PrR1ejobFM0b516cmptenJyeXpTa7IMHZhBrL7e1mZnPF7Df5dFz+1lqI1NDVlH2W8Hma8qpFpUgxzogEe43w3hoXAMHvN8nlNMQI3jE4cQLg2wKMHXqYpUKAKTUytSzOh66Tp73LbVi3MCMRMPG87IN+JdaHbsluMZYHRgBGTvkvLuAc0B7FQeO1hoh+lfB+1zwaa9GewuzCbHAXEdsyRbWh4GdA088KLDXjTfJf5JybushyPwkIxf2eeyfbc+KXPDfQJCj4T/lF/Lxki71IyAleAlz460wJM3jYacxc8yIAW/XimDLgihwUBuknbGCPIb7p9Vy5gIYiNQ6PNW9Jw4xbWYLyUqFYKY3N8DlahzYFO5N0KRoKQgXIGdCwGMfl6lUITC80sQMzCyPPmxL/5q9RGsrN5C4YYG334rruuT7/8xD3poaND6ZqBHZhmVucX74AcoCzNbFdDuoxyUCYoG9nVhAQhOkvaSqPTlcgc0EEBXlnqZb8d7+QK8ArJMk/OADHUT8GpRBYWdA6Tzg8DYosZyg8LYlUAcztATACTArzC+Wo1j8UgpjQSTMhnzRIyA8W6eFuoEO4aU2pkuSI2fWN/X9m5LX3trQ+kv/ryz6W/+fyb03965xXp3z4wmL58W116+pYdlKQiWvGa+vTR2Q3pnbuX5XXFXtdRtLEn+mEU5Ojc20RSKb6EWwCxG4lQtLSU5kLB6SoYgeClSVHTYvGR6ScLwjcG4zDJWX/ZScxzFmgtVRQoCUS5r/2UMZpgHIzgBxiCKQwhrY4iqe7GBzaJL2ySyT6FhrkPG/oBzChWQ9C/dYiJfBTptKwEjbkIqVlAM5T+EOB2kCRV88bUwmapWG5JqwxiBJdYveM0GpbFgZXSTzShqTUCdA0s8dFI4IfbVkUn6XmWiNhjMFFB7FDjprQXk0cf9npNJgpVYSKLeplzpkQmcGhi3w/EAnDONsaqoHS27bnzzgk78yZuzxfgVW1jDJ0TxAS0GpApEM7TvKk+mF8JyS9rCGYtLZgj/eI8zdqVjA/tS9ASvFwyxsr2m9HWLoGh5woN/K6q9TnnNSvOARkAcjnl1e4f35ke2bMjPTK6IT0ytjY9NrkmPblvdfqJqeXpJyeXsoTLkryMy5MjS9Jr+kty9E0tBBbVW1y6lDibZZzO1kDMJXqs3mGSey47VQuxH2cM5TXEANBhUj+GAC4BbJB8xX7GaS8Api8sA1cNvLoJuOgWpJh3HTDeDGQwdFv3GVLfiobUxjGdWE26EMoM6PB8AzUgM4BkCMD0mi7maa3GMfLVJBfmzItz5m3miSDH8WpxYebUl+bK1J342NrwrzUxnxoRANWEHK+a+iLkXWBTkzJXVrOgWrA8NvisikLRuIu7xrgD1zrLofIcr/YlcFlhxJJZJmlLRmFaicTcOHPkmuHrOc2A63UTaTxBisb+1rq0v6OO+rbb0mTrFmhrmqB04FDjtlx42qWABLA5vzIC/bJFIFbC640Cn9fCqgDmdoCYrXw/zIkLQOyf/t9vplYWxXQia/a7eWooffT1d6Sfv+eqdMeeNkBsF47UlSy7UJBZKWHUSvKEgovI1iNU7bVDbaOsU7VTq6BVJIb5nK5Y7KyEyhc1OMyFgpcPsrwStRKgIaLPRbLwgKqmZ6NQURd3Tnw+G2NxXzCXuF6YC20Xg1g2N6JBllpnOF9VmWsUEnaAZpUBOemVXl023qUvMogtZQkNmEZOJKdPr+yuT089cXv6s0+/Lf3d029L//cv3pL+t0fG0+dv2ZWeum5z+vItFAi+sS596opt6f1oYz9FxNfjneelN1Dq541dF6XHu5elh2ECd2BSvFGTImDmUiwuieFyGC5mWVZori1maZUMTXQVsi7iKdfoAsBOosmdMOKPc7iq8gwBQFPk1ViPzrDkUSbgHqSw/YDEQZJpZ4h4O0h+2EGSZA8SlXiQZOgDSKnSDNLpDKH5h5nMR9ivVpYJbewwJY+OEoo/y9pOR0mIltw+vg3fF36xy6mXeZp6iVa5d0Vnw+iP11M0uMG8MBJYbev4zH6PmUUbO1K/Nhf63bOdCvCYcRTanOjB0EMLyyCGEJWlR97FxUzyufHA/qJZz2tijpd4v9XxtBjU4rs41jYmZYwT2wXXmju3iw0WCkArZnaBrgSalNbPharmpBh3GdC4Rixx4YKeZU4WEIpqINnsxLP7OfbliiEwP531Rp1tYrmiDYRQX8r2JQBcDsLi+DyuaasamZUtZOBXt69LD0zUpddN7kqP7t6Q3jRxcXrL5PnpbZMXpLdOXJjetmcJRB3QMcbuAGbFLopZt5WaixYN1l97HAHL6NgZSpPtJ4BsL1Xrp4h+nnQb0/NuhJ/dCEij+MHG0I6GMfcZMTuIpjMMOAzAwwYAhx5MiF0wbKkbkO5hDnbTNx30cydCQCfP34FW42epnXffxn7bDo4zSrEHgc0oR885hFY2gpA2SrqIZlQBzKr5mtsnGOv6jiW3y2fBjnB+gYz5Yx3KeSKEvAZmc7lnXEOtqAmA0MS3C3DbybswMGQe2AiUY7zGmmextpnrm+VIQ+45/w5AtNBCqfsISNEHTQBkK99bfaTFz3zfyHvULNyMctLB86nkHGjblQ62A2KUBJzu2J5BbC+lAvd07Mxh9tvog9X8Rt9yie6tWaPg0RHNXVwwSxeaEGtaWFFOtLIVCrOiPDv4sdXvuzt7aiH23/xm6qBih2YVq2X81I2n0ifecFd60xX70i2jlIrq2kZSIYVCAbid3JjqbTPSdRsAVo+ErT9HCUDE1yShFCAgKtVVNS23HdwxiWyzfR90zeHxgIC5alIwhQAxHyYAKkBJAFtxESWdfPDK94u34/gArWjtmELh61jYBiOJ31dBzO3QxKoA5nZoYLY5oIO2ML1ibpIBBUNRUlHlFsSUdHWeu/ih0pIgpjR0qn1n+ugD16X/9OEn09996V3pGx+7P/3+kwfT03e0pc/fsDV98bqN6Zmbtqcv3rAjffz4pelnsjZG/k37+SzLcnF6rG8dBVhXU81+CQEdhtCjsdRRNYPAB5OCD5MgfHg7eVWA0SEWG5ynpXm15aOErlth/himO5dGEchOoImdQJs7SvTiIap17AGAcnKz/i19WoStz5ATdogItaMUnz2CpnaU1IpMlpqCyaht2R5mgs9QqUUyP0wyd0zg8/dHqJdpu5/qETlZmmoKsxRoLbQqHSPI4wjPYxTiEaT1ow1Ud4AMq1cr09RoxfvDBH/M1K9JBwgDHt22lmAjtAvH49y4xATD5M+MmAk8l9/Fu3ilIBYgFe1iEKuCV/6OsfFKQKzMh3kQKz66WhI9AOaYngeyeRATzCIFxbkWASK2MQYXgBmgWsz5Ze6a1iLAC+6OUysv2MqcNCOqhW1mfTNpI8vFrGXx2FxAgPOXdJ0SMKNlZidjXcuCgHNT//Z0/2Qjofdb0k9iPnzHBEFJEyznsvv89A5A7J170MjGWFRzcEkOx7+3k0jFZlaH5r2aAuI6cwfQzKcJ6tlL0e9JTNp7qAEpTVDncdxkZcbRCH6nIUzcC0LriQw0AtHIxBJlWMCoCy2hiyTeLjQGc8DamaeG07cBYgKXoNVGYEsrgnULfK6FvmoF5AQyz9NLpPUAOZHDVEAZRWAby0TULcKYJKCNAGCaVot2VkDW+xwC8DRF9uMXnqei4QlqBqIIaN1cw+VvJHPQspkPIAsrWGn9XDQ3tbd67k8TYTYT8rkJ0MtJ2ICY6RBqWM2M+xaeVfDq4J1K7RynGTVXJOEY/YZDrDIy01aXZrtZzgq+JIgd6NpZtDC2JzAvmlC/HqzQF7aK82VBjf5znMtLA8RsNSfKr4PH2jqWA7yy8uL38Oq5bb73uACxf/x78sS+/dd/nbp3AmJc9ORAC2bE+9KHH7ox3Y3P67q+OpziFN6lo3cBXkquTnxDQSMkXsCS1LaKRDffClpSVisrzDsYeZEoSw6AiaI+QIBLBpvaA4q+Mdnj4e2AQvNBFWpIHhudUgW06Jho8/nz9RaCVzCgADHPZ4dl4IIpRBsg5nfLWQzT5OZX8ayaEAWv2I7zWJ7KoJJsGs3MRdCm3+hXW1fg3b4KE40r/TLhrUVpjbbjlPF6962Xpd96x/3pT37p8fRnH30w/fG7r0m//uBQ+rWrN6TPnVqanjpxYfrytRvTF67bmd4ztTo91nsxocqr0h3ta9JtLDNyM/Urr+zYmvbvIJ+Dsk89UCeTvQ3gaGMCtWP6cIl3a1eav7eHkNkDjdQU3EHiJ0ziaAOfYRqzOzDLAWZHMOUcJbx+FmnYShmuz2SemPULrVpv9XqrchylBp0lqY54DhKSNQta8zAv04LZ5xAr704DWIdYD2uaen37yVWaQjiaIlFykpDvUeplBo1Q3NbtcZKm9xAVNcUacNPko+xnFYPpOnLRADND5meocn+IUPpDgPQMi43OUgF/PxGZx6iPN82xE7vIYQFo7WNzoNSEy/iUSQtkZf2wqhlRM4h5Or7LqJXpO88TsCakVDWpH2Zb7T2PWxKrl15UzumYMydGB7jn8prLWVzQz96Ln5fBnEr+YW3MO+4XUBnXAZwCmtvVNoMczGUNAqErlAtsFjwwSCDanAdWAfccuQlTnGthjJcQLr4B0+I61jxbvXR5Nv07n11GQ41OIdeINiV/86cMf7+eMnSPHmhK7ziwLr1rz4XpPRSw/plJSqcBYG+doJj1xIr05Pjq9LrhlRTFZimdzpXUvnQFbvJQcW/s2bWK8bomjZC7OoygNESQziBFnAcQoPpdfxDqI8pX85fURf6b1EleYgdCuNSOibsNLbIdaqZfW2DezfS35rQW+l8hMn92H2Rx3waij6ttK76xfA40Us/dQ1RuH+PUCOMBBLEB5tMI9zTM/MqEMDbEmB8kjmCYbVtpgIjF0MIGM/BqokR71NeGubEQkY5oQwJmAJo+tFY+B0UumqWvpDbur4l3JFjZtqLFZQDERGi5LBc21UQqZRMpQN7K+2phjIUZ1eCWAVJRDjRvSyf7WtJsT2MGMYHsQCdrNXbsSHtZs3GAZa9cs65oYSWq1jFXeHKAFnybdK4MWPD3yA2LVrCSct4yPN5xlNNa2CfvDt6+AMS+Q9mpHsyJTTja75rdkz71E/eld7/6VLpxqCGdaNmURikQ2oyzXpDTPBCalsAlaIWkFppWgFa0MohcqYIJEmaQaIt5pCC0N1gFsXhIGYWdkLUcJlyooQFiVQ0pQKx0WkHsALI4f4BXtAFai9sAn7gPfV1mmF+8xDIpJZTePLFcOoX7ErQWk8Amw5H52MoIC9EnTAglFbPzLc8SkTzbCGfWT6O9Wnv4UYIQ3nb9sfSFN96a/uDd96X/8713pf/07hvSbzy8O33mmh3pc6dXpU/OnJe+dN3W9CtX16X3nWxMTxyoS1cz2TWx9GNSqQco9U8YRmulBZMbBU6vfSnXWM07UgjxnVoaZzO0A2lK/+YQWtTurYTKA0QzmPAOIEmfIqXCvKwZHOcHyAPci0Y1iWZlJXOr0h/iGMtRWUVjhlxBCwTngr043Y8QAq0G53IrBwCyCcBrBJNjH5O/l/JH7UiZpe5cCQ5S86+SfgET5BuYvI0c24RDvIWJY/5hF8ElnYBqL0WDR9Au9zYCWgDcPkKAXRnB1RQ60excCDJLipxb7SIHJgBgOSIRoAozom0BjAIcAovvT0Bx0glAMU5+1NaxtOzi5dmnqp3fseu5PV8AmNte23tZiblZIIuqBTEvFrdzOUWcM0eDee6z0GrGc9bWGMOC2vply/PYUHNzjFTJqjN+jjbGkDUgV2BJEFidLz6DlAHUe+Z3mm030tcGfRm9PF13Sbp3X1t618mW9KZxNK89K9J7Dq2HNqS37V2b3rZ/E+H4K9Ore1aWah3U6bRoQiuCUiOmwmaCgKy0vwMfVybMhNvxT0muDxi0lfEtmVQsmRsnOc6lMMVpdmsEiPKq1Zro+LwTgTLMcgZBZMKCpABvYES4TmxzlB/nNdrVUnkWJt8BYFu0vB/N3xU2LGTei4XCFTiG0Fha8Av3IJw1Y4bvQYMz3mCYYgCtnKNHsKfocknSLj43/W5SzknjOXNiNc/dialUH1qUvbKGo6kApgR0AWK2BqUYWdmJOTJXE2F+C2J+9li1UH2CPYBc1lDRttt5X1YkGbpkRTrYsCXHQhztbkiHAKyZzrq8APEUq47s66rPWljHlktyRZeirWs5mB8PoXwsZSX0xSAWPNo2lAxBTDoXiDn3cmCHmth3/uqvADGiSzCzvPuB69Ov/uS96YnL9+aM+71INz64WkGAl5KrABWgpVlQCc5AhTBRLNC0ZJgM8rMSUpoT1IkcCFtt4+FiYjhRBaoArlJ7qzgG3V+lmEhxvgCtxe1i8IrPwZTsLK8rgxHAbDOzuWhpOo9tCwEHeIUG5ufQzKrbHhvAVkCtALxgYn0xTTSXMpic8AKZwLO/gSUtrjiQfunBa9JXf+Lm9Ifvuj39H++5Nf27R4+kz9/cnRfEdGXnD57cmX768K503+T2NE6Qhr/3XXluyxnJfL1m1ip5ptwPNcboPVriRuZkrUmZk6akjQxy37P30b8JrQg6VLc2HQTQTu5ak4HqIJVF9EsU8MKnRaKpJGgZTegCl9IM2pukL+Mo0WS2+ziuHUDZxITSrOc1Qzvyc5WBuu29VcnjvT/b6rEl9Lh2Psaf3wvSG5BYV/B5OczmIuhCxyVjMJvZkLQ1hbkdIGbJMAHLfrOPNBHbBvm+fZ8/DsV4UkhyO8Z37I9rXQxwxXa0ZbyV8Rj7oo179r17f0V4WtiWdat4Lr43pL9UMy9j4WL2KWiV0kdlX4zZaKvfue1+x5f37vM4bwzIcvzJ2MJao0AsqRk/OtufnphpST99pDG99dB2gjvWpzfvvTT99Ex9OoK23wET3cG4zEIz7yvGs+0roaX8NtM5jreaRHXseJ9WYJfH5fBw2hhz1ePi2j5blWJ/HBufl3sfHCtlwZ7WsWuFInMV8yKjFF0W1AZRHLR+GYcwiBBaNTUamKJvb4Cgj16ALgeCkPpkvpqUK4WgdFguS+pFS45t0wl68Kt53naECaMyDWzx+x76wcRufXzZ1Mrcb+X+TOC2itDlfa3pVH8rK47UZS3M5bRmehrSHtd47G1Ow03bsxaW8cE5x9zIvBShRsXjYkpiCWDy9CLgFLNh8PjFfFnwOhuIxXELQOxb3/wm1a23pCsme9Nn3vm69PHHb013UanjwPZVuYN20clqYHkQMalDas2LBjJYldgWgBaMOjQt25eBF0wj76PV1+BEjIlbBbN4OKXSeHAnRYS6B5BF6zkiQtDWY+2sxSC20OSiCabW2YvaADEnpedYvnTFHIi5LYBJwTSi1Zy4ZdPmXBJlbGQ07d0zmbcvXbc+mxrjuOwzo1+DEaitxiB3NV9zQ0wo3E31jtee3Js+dO+V6fNvuDH99ltfnf7g7bem33rsRPrcHRMsq96f3nJoJ2sikQNFOLm5eb4rF1p8FZP+PPr5PExEeZ0hStAsX0ZpoV1Nqb9rIPX19Kex8YnU3t2VlhJxdjERkjIiGbsT0wkoADiZ1zEOBLN2JtG+nevSXmogHty6Es2MiEM0r4NoVpJJ0DMAVKzOnB3wgNchGFIGMUKiBTHDo/WPWNpoFWaOfD2eeZ4ZzoNF9Fm1LQzT49VyC6lx2K8XcJ4qo406dI43z3GexPMsIRjB6xkg4aSb84PVxqbHex41omX4ewQDf68w4ufq/fyo247VOaaPMDcPXgUMHE9x7jxmuE/3zQNqOS6OeaVt9F/uM57HfhCwnQ+2am1xjOd0e3Eb30c7f+24p9LfS+hrz+94ykycdiNMVFAToPYSdXoreWSaF39ipjE9ebA+vYk19fpgtrovLHeVrwEvOI/nPw/Nx2stgwHb+i5/VIpnWoEWchHXsV3C+HHMuChuPJvt/PPVxpDXrlLlPuLYi7xH9l/AuS9krMf5lgEY9kkIYhFZaO3YdsyLXTkxmopHmBkFMdMC9JcVECOQBBDrA7R6M3gVzc3yV5JVSAQiyeojUZ0kvje1wO0MfGyr0XlMqV5SKpQYuelx0wSm2QeLAAAgAElEQVRyHO+oT2cG2rMpUU1M8DrUXZ+mAbR9XY1pLz6yjpovzOcRpB1H8t/wgVVBTB4sGGXrGKCWebS8ukZ+J4gFVc2J8Tv5e293X6li/8//4/8hxr8uPXTNkfTML7wp/fx9Z3JYvapsAzezlUm2FqkqgxWSmeWTBCft3atl7mzL9KItNeZKiZFiLizfz29rm3cf54I5ZPCBydpKPlAAmK0g5r7cIRUQi+OXLCFhDmkvFotTApT8fgEoco7opIXt9wcxfR8hXcpgPKcaoADmNR3EU1NT6V3velf6gz/4g/Stb30rxd9LL72Unn322fiY/Pwnf/In6X3ve186dOhQWrViZZ4YF6GBObgd1GoDTnZDVJXUBlng8M6Z8fTzd16RfuW1N6QvveGG9NU3XJO+/ror0q/dM5vecc3edMvu1tSNT0qQkUmUiQ14weyWXboxTR4+kt7zgQ+l//pnf55eeOGFlL7HLXEvts8+/1x6kY/ueu65F9Izz3w1PfH4kxl4vadgQKsxyXhuTTDWUBvA5zDTRJHirUQiookd2EjEISSIHcZcKHhJrtB8VGADyMzvif1uT2Ie2oxZRNDxnttaG9Pu8dE0MNCXhoeH0+j4WBoYGkx9FfLzwFB/3u/20NBIGhnenYaHxlNHZ2/asGV7ugDz3HmMlXhH5T0VocN9FwBASzCb5W2fEcplwTAh6bN0XEoKMsF0BI7dY+Opr6/c29DQEPc5wPWHfiwaGRpN46O706YNm+mDmgZTAzPH8caNG9PExETq7+9Pvb29mQYHB/Nnr+32j0JDA/QdFGMwP2cGswIQ7c0tSSHMYzz/wrY/fx4a7Kff6QPaON/wYLkn+8Z73rZtW363qxGSHEtq+47zqpCk0GUg0xSa+10TDemh6db0WjS0JrQBNRWPHeAddw1OQONpgP7q7+9Nff1daXCY64ycm/qG+5N0rmPGdo+mppb6AoKCFma0Cxjjzus1VC0Z8vmgwWGei2vZ5nPZ5n3uD/L7AcZm7xzFuZcAjkVwonW8IyB5Dfvd53NuKSxas9KYg07mVzfBIVb56MWHK4hJ+smCBDWXcLK6j1qZuW+S6QNGTM4Rc6zX/C6BiT4VnAQ/w/qDcj1JPgtknRzj/omNq9LlANTp3hZq57ay9mNLOtbXnA73NmYQ04x4sL8jjbXW5ZUQihZW8EGtXv69GMQEriwogSuasfPnCm+Osm4BYLbuC/NimBsXgNi/fPMv0r7ulvS2B29Kn/u5N6Qnr5vGD3NJLqWiGXGjJ6C4pAio1pQZG/tz9WOQM8BLYAoAs10IWsWpnG3kMP5oZRSCQg6S4KGUSkN7qgJZgJjfBXhFK4j5+yqIeR6/zz4sOwjy/qWFAPaDNTE7SyDVb1GVkmWA9957f/rGN76RXnxRGAAIvicUlL/nn3/+ZZ/juDjGo9/9np9P6wEan0NGbv86yXWcr2cydRGmfvVEb3rrzafSh++7Jn3yoWvSF153ffqNN96UPnHP6bz8zU4GpIxA8JNROEHWb96W3vneX0jPcY3vQs+99GJ6KUMV4MVW4vMLzz9bwOul7+WWL9KLYJwfnv3ui+nP/9s30syRw+l8HPkx4byGkvEunOI9LL5oZNg0vi39W4KYADZL9JhVPfR9GQ59DO1L8PKzpF9MTW2KiEj9cT73KsK1P/vZX8t9Zr9wS+k73y0Aa+96W5LP4PdB9uncdu0Ybj09x05/93u//0fpi1/6SnrijW9Ox46dSNt37MrgdR4M+zykxejvALIqgKml5DFKOzo8kp5/1t4sf//8z/8cmz9ey6t47rvPp4cffE0eXwJXVTu777770re//e2XXaMqHL3syx9ix2D/AHMQ0K6ZK9UyBeynPvPZV3aW79HLmTjcF1H5q86H73znO+kzn/lMevOb35z27t2bVi5fkfmJ796+13ysiXHPjhXp1r0d6dGrD6U6mG62BCA8P/c8/cS5fa/PZvmrjGMv6Xs+F73ATQWVY17i2Hn6Htuf/syvopUXcHGcLyXYQTATvP3zGue6Tnw33zpCFxP3/QL8gPM89/yL6anPfSF95KMfSzfd/OrU3NKRLsI14TgMTdX5pZbaQXCI9Wa7ATGrgJgcLQWI2QpimQAxgUztNVMVxNjuDQCj9ThBKgJG3DaCUwog3I2v+ljLjnT1cFfWwi4baEunBtsyiB3sqU+HetHIyBU+0NeeunZsJocQHz/gu5qxI3/X3PdyEKv5vPguu57Ak6zMVPizUbZVABO83LeKIA+3qyA25xP79jf/e9rf25be98a708d/6p70wLGBrN7r9CvBHEYuqQ3R0YBFHnQwnqozeA6UFpnkyv55AAkgiVZw0c8UmlQVxPJ3FeAJ854TLswqTriIEhTEpDlwAxyrmlj1fAvB7PtrYgKnmpjMRRATzBrrm9J/+S//1fGdvvtcAQK31XKk6uTNmg/fVZnv8yDFi99DS3vxpcyYnVyPveHJtHzFmrz0uAM6pDMd1TpR33DVbHrPq8+kj9x9dXrqtTelz7/m+vT47EhqRAPT3r6cga/5QxPYHbfflmedTPfFF5z6BQJeevFZJtG38yRzInMXeWLl+2WGfY/7efF5AW5+0vrrP/0f/z21D/RnCfJ8riHIKjnuwFwxQoi8AR2C2CEKBR+hrmIOxwfIrLFovtlx2uPk9JwgB83lW/SXHaECx35qF17KOPN5pWe++CW40UvppRfoEWf82f6CW3iTmWAOLz2bXnjxu3x68WXM7F+/LYTTA8/xxLXzfvHzX0D7Gctj2XE17y+k3/kcWpgglgUL2r6e3tw/atP+RRu386O2+WT8UyAKzVGBJrTH++9/MA5JAkFcN4N3RWiaO+gcG+e6Pxm1jDtWXVhKmoefn3766TI2ON+5fpv3n/MeyvtxrFd/XwWbn3rbO9OKNWvz9fRbqYkY/DFaty7dcnQimxJdod2xpuXA9zc/t3jbju3qyX+UbZ7vi1/8Yr4Hzenxvm0H+4cWnr/Wt3GZ/DE+nKP1nl96gS/tjtoxzxcUzgKj/fHZLz6TGpvasok65pbL4BhB6+LALlfVRxpLKWsVGhn3x9yfD8lnPxpZfw3IrMpvJf5cjV9AU0vjsyCVk7MBLMErNLxcPURtj3MY9n+E5bauGewAxCg7CHjpDzuOJnaE5bcEsMP9TenwcHua6GhMDaxOYbBY9vUxV7KLBt5t8N2S86nKwTIxxZy4EMS07uU0Ki1uUEQlhi9MMBO8oq2C2AKf2L/+j29kx9wHn3wgvf+x29KrD/SkUaok7OKmTJBbcx4nB8RyVAlmNLUxGeUKJppAFgCWEXUBiBW7ZwDW2dqsIRFWHCAWUmhoYxl4anbSc4GYvwnwErQWU4BXtIvvI3f4gvteGHEmgAmMAWLHZ0+UAcnge+GFGkPLozMP6QX/guG4swpise0AntMwGOB/8Pv/MTU3t85JqAKTDubRus3p4VMz6W03nkk/d9uV6aP33pB+9sYTLEhKfTJAwAAFQWApIcJffRogACC/h5nQNn2PK7yEGCvVriZ4KRfma+f9FeCoTbbn+dL7+w73pR4gmB08cTydT+BJaGWaD1xOx7qa04TSH2RtL8HJgI7jNW1MIMtgBoC5iKaVN3K0Ijk+B2FWSuBqj97/r3/lq9wnF6xN9rnJX2EA8Z2aJA/JXVVJhvkSe4qQYD/79zzSb/wu9wvHvITw8cyXv5T9P2FhkHEJaFkzQVhSSHKfvjBBL98b5wvBpKoF1m45LvOKW+/PcSSIXXzxMvq2mD2XLSt+V/dny28NLLxmjKvnnvOtfP8/mb5kX5yNNPtdiKbjO11ChKGt9JWvfTULWj/ouRZfPa73PbWzfMW5rk/fhaG793lOaht0+szlRaDguoZna2I+MtrLemWYpti3kn0gAVTO6XmLcOb45kRSjBHbKsX352oZb1/5ylfy9X3XaqSORS0wI/3D8+eK33P6BX+x/1xt5b4yeDlcOfZ7vjpa5+B3anNNF4O8Nfzjzv1Gimm34RezgLCRxpbOymClf4ztgWxinG8zqNWATLOiGlg2K4aGhtUmtC5NimpxuVyWQOm58L/t2742rxV58+RgumKoHQDDjNjblI7gD9OUKIDNDJIrhnbW37CNRVKX5whUQUyBI6cSYb0SxASvEo1YtKhiHqwFA9ZALABMwJojfuexqwkGye2S5fk7j5WXB4jl9cS+9Zd/lg4Ntqb3PXpf+vnX3Jmu4MZ6KQ+0DRDT2Wj0YQEoTW+Y6JhkSqgR4rtY2wpznUAkVc2CsR2AYhsRhgKFmthiIIvzVH+Tf1c7v4PN37ovzr+gRTvzHkviNGaTCmC9HHgLgPl8EdWVGRnmUSf26dOnM0OQkeQBWNO6gqk4uP0umJyf/at+X9XUnJKO5WBFLz3LHgZ9U1NT1nouYAAqmW1HKrt6bDA9dtmx9Pabr0s/c/fN6QQS0kYGpkvbe2/rKNb6e7/3e/m+QuPIk9sTwlBeetHZA4OvmRBlaFkj9Fmqf04snsu/F14spjuZjsfTpOMnT+Tr5YAcrmsEYwsDfy8Df5rcsMOYFw8TdXiKkOgjBHDMYE603p3AphZmjpgLaR6E9hA8JJOSeUhPo4mpDb6iP2+Gu/K5XpLB+ZyZchfMPYNHLfjLv2NPrf39f/97+D7QgLm+/Vi0e8Y8wQ1+DlJjmdcCFpzx+34Ipu5B1d+HOdDbeAHmfP/9amLzGpHbLuVz3z33lnvlwNw3/qBCeSyyqwpu1W2++r5/glhcN57V9ktfQhh6hX9z46U2buI5beP+PJXPmZ83xhXg7bjy79SpU/kdON41Lzbs2Jr9ZwKKlN9tOTQfH9coH/gf39kuJg+K790MYK9p1Z//4hdyX0c/OAYc35paX3au6rk5l3M7PyP78z3V2heVAv2L69ZaTcf5srXPKmkxA7/HOD59YjbPeftBa4xBXi6VY86b2tIQwGWy9IBaFwAUmtRcS1J0DvhAANAPViVD8/V9DVKkW23M4/SnRQSkgLaHogRnBhrTTXt703UE+10+ghY23JJODrWmWYDryEBzOjbclg6jne3pqEstm9bl1Zs1+0alG3lsVhay/6vghrjgvqgqky158G0Xng1azfFBa2rbJs27z2NWoqTIs7P1hPfT2dlZKnb88zf/azrQ35x+7pF708/cf3s63tmSE+JySR6AzBvTv+XFdbB5g/kk2IwvhLLWxIXiJkPTCdBZACjcjJ/jO1s1pyqAvVIQC7AUxPI9nAPEBK8qBXDZxnYV2Hw2QSzCph3YK0niPHbsWBmUtf/ZPxIDlH1VcPKQkJIDwGRasc/v80TyOCgPd88FHxbInBRb67YTVShTwz4OTTfWp4dnj1KU+ap0/2XHU/2m1XlyZ+kRM8h73vMeTlAmla3n99r65qp/7gumE/urZir3Lf6N++I3ntcAg4vIoVGD0pS5FclvhBVxTck4wiTQXGipJ8tSGTF5CBCz2rwAdphgDk2PUxupYEAytOHLwTxlnNFfXvOH/Yv7jmd/Jb/32D/6oz/K97BsmZrQ/P2EhuK+HxXEqvfgs3m96p+fpAceeGDBtb2mqyD8IBCL/lp8Xq/hOHL/96OqObH67JrYznZOz7v4rwpU8ZsAaY+Ne4zf+fm73y1m3thne+mll85phc45zXtxT9Xj3I7r5P0Lu7QcWuvYxc8ewphtbH/py0/j9yXqkbEc13NejQyhicULOltbrpT/V5835krMd9vYrvwkC4kaHjIpZL4IN8By0tfbneeX92DU7A7y13pNoAbERtCWxinZJojpE3NflUyYVsMy4lDK0Yq0VQDLQRy16MYAwnxu8iyPtm1J10+wzNZ0f7p6Tyd+MECrvyEdH8acCM0CZifHOtMRNLTRph3kXK4gWR43C/cqVhgjYbRv+K6CTwc+FBATzEpeosAkGSgYwYIGDAZZjtD9HiMfl1dnQZPrdHR0BIj9SdpPFvbPPHRnessdN7LO0s5cjsQ8o/U49L0x82YCxGLdmiXceCYusvhGA4UXA1gVvGJ7MYD9sCBW1dQWX8/PAWBRQDjAK9oqgAVAB4iFdO7kcuLF4MwDkcH33HdL5KEDOCaVEzomdewL5hoDOCa1frHnmEpKYt/+1ncYzWwIZFzrqac/n0HMiaWK3ky+x237ptIjpy9Ll40OZhPLErQgJ93k5GQ+dUyUuG5cz9Z7qt5HNYoy7tfrxjn8jdtxr372vPbBf/7P/zmtprK5/aO06BL15rfsITH6MPUND5FkLWjNEMRxkCLDFmk9BGgJYH43Re243RRBHaAE1Y8LYj6T93W2Z64+i/d/tr84JjQh+zPMaoJIMLUfFcSq/ef17b/ob68d13/ooYfytQRO/VNx3R8EYp6z+l49v5/jGn7//f5CE1Pr85rRCmKL7/1s54k54fViO47zs89Xvb/qdhwfffDud7977vrxDqIf4pzRnu19x3dna8+GQe5TO/zMU58tAMZc87rRBwprc3+LTzD3xbyA5654pvi6ep/2Z4B35hkcNHfabH59AcvCs+m//8U38rswjcNgDxcn7TYZGovHICBm+apsRuSz4ON+ye1sIgTEcmFiNC81sdjOQAZ4GZ6fc81yQAc5YgIi2t1M88Z0/e5OXEpD6fq9fUULA8Rm++ozgJ3ABzYLeJ3c3Ysm1pF6qaFrybwonG3JNkEsA5kKC+AT2BDKTRXEijaGaRGgjkBBNa8quV8Q81h5uZZA+Y440dHRVRbF1JwoiL39vtvSm26+Gj/LllznTBBbB4hFFeLqxQUAAczQ8HNpYgEoAVbRBuhEGyZEbyrobAEe8XvbuGZe/E0t0M6C4pq2sS9ALNrQvs4FYgJYFcRkKu9973tjTGZmmaWu2uirSmBqNIv/qszECVwd1Jrz9E1lc4LnA8Be+I4MqPir+sf6c7ivjF7N+AyhvncdPZp6t27K4LEEU6KRVH/+53++gFF4D//6r/+ab8VJVb1m3ln756SKe67ep19XmY3P6LHVY+65554cGq/ZQ7+WK3XvRhs7SG1DS1EZqbiPsPppIhEnWddpH9U98n6+m7SGHGYR7fw/Loh5r95bPKPtv/zLv7j7h/qznzIww8xlYtL/ShCL+/OmvN/FfwFiXjdAzO1XAmKLGafnjuvZfj8KTSzAIp49B3bw21f6F9fz+Bh71d9W50mMI9vqOHN7FUu/eC/Ouwgy8fPiv+r1Fn9X/exxeewiMCo0SgKX5LZP+EX8yJFntvidz52rNt/nUGfuC6IlK2k08S7iGeM+45jqu49TGm+UJz8+3hdfUEN9Ke3bP537IQuJWGI6qfyh2U8QG6ZodoBYBjb3Q25H6Sq1rSEq2WTTYQ3MDJ83wCNATN+YwKcpcs+2lenKoeZ0+8HhdMu+/nTFKGA10JROj7alo7THh9rS8ZHObEY8NtqTprubUgtFvg3oyInsVGtZjTYbaz+qOYX2FQCmdqZ/q1CpmSuAnQ3E1MAyLQIxebMg9io0sjkQ+9e/+W8kqzWmN91+Y3r9NZezSurmXOPMBGcd94KYlQviRgSzDASgriCWwUMAWUQBIgFW0Wr+q1IAV7QCWICYv1kMTHEeAWwJwOfnuNbiY8u9zYf0B4At1r6qn+0k/WG5o+iD5RTkDUafh1owoAhAcGftLwaoA1gSXJRoz/an9OkgNsjiOQav/o4XjKTLmpj7U/rAv/lQnlzLGChWTNnX1JiundqXtjBg9Bs48Y4ePbxgEsXk8ZpVBuFk8ruYZN7rl7/85Zzb5rHuj+/8HJNv8bafY0JGUrF+LROzxzBxurbYlEC1jokBcE2Q5DzGtvUVJ1lmZYoFAXezVIW2fRM6f1wQ85m813jWeP747P1+v7/QAvzd8ePHM+OQaQokVXPWj6qJxbXt2+o9eb3MXGutQkEASYCYn++9F5+YfwyWs/nEYsx5yOLzx7P53bn+zDXzOoJXtG4LYq/kz+tXrxPbPq/PGGPFc1W/q9633/lZ2rdv3xyIR3/YLv6bG5+BBIsOiN1na8OMmL9j7Hz+85+fe/4AM1vzv172t+iE8Uwx7jzeZz/b/ng/3rvHxKmefU6hRnLWSy+ld/2MWqmRs0VIbANwBiwUzLxxCZcBgMwgD9ctc+mXsgTMfKj8MKs0WFF/mPX7rLBvgIfUj2kxKn7oExPERlnM+Hjn9nQr4CWIXTNGMAfAddlQS7psBO0LbUwt7ORYdzpKyP3hwa400rg9bWMpGjHCAtFr4ElqYs5ngSyb/+DP86BVKnC4XwrzYa5VqiZWo6oWlrfBFbWxOU2M7ZzqRN90dfUUTUwQm8BB99hNV6cHTx+jPtmGORCTOS1DG7NuW4DUPIjhiwLEwvYZ30c7BzZctApai7cDtBa38fvFwBT7A8S+H4BlgONhQ+sKEFMllargFduLQcxJ7l8MQLfzADQAwVHIX5gIHJwxeAWvYEYrqIdoknNMvJjAObCCAat1fm5E1875HWzkGBew1ZfgDrWdni2bkYbGcg6J78XJ/YlPfGLuHuK8wTjieh5QnWTe78mTJ/PE1XzygQ98IJ8jjqse67P6F0Ae53bf/v37Mthr8tjCfQ6S0zZBodMpzIR5qQlAbGw9y024jhITbhyyyr2rQLsEhdLljwti3sef/umfpl//9V9Pf/zHf7zgOavP73Fn+4tjfE6T0O3TqjTuZ+lHBbHquKle3z6Oa7tfTczrOmYCULzuDwKxOGf1fF6zeu445myt49vrxViN5/1hAjs8r9dzbPzlX/7ly4JCYk54nGPUY6tjzH1xTNU3qN817sffVv/mni+QoPol27HbVo2rClxZA+Me4s+5Gn2uBpgTkXGj9Pb3xSHzbfXE86fIzxV8wIO/9rWvpT/8wz/Mv/NZY266Hc+e7y2mPubE772EeZkUmBfxi/35//MXPHupmiIf1tIxsI6K/ICX80nw6mW7AFgBMYsFW7VfEsSkfkpKGZ1oG8vFuGRMlK0adSHamhlRADOg4/Lh5uwLOzPekbWwWQrDnxjtSqcmBtKJ8YGcV9yx6ZIc+Bdl33JQB4DmfLaAtECl38uw+IX0chATyOYIvAggCxOjAJZ5ODik+ylArLu7twZif/2NtLu9Pr32+ivT3ceP4Ke4JEcmKvkbcaI/zLwZwUn10OCODAbsq4KYYBYAZjsHNvzmbNsBZt5U+MUCyPwcvwmQqrYFnLSP4o/zvqDFYOc+j6sCWIBYANbZ2sUg5qRy0AUzj3ZuljBMFzMq/U1GMsYEdGI89thjeUD7L453EH/7+e/MgxjaXQ4rZ78WhmfR0Mz+twyO4bbN69enPe2dOaLPiC2d0d5bTOjq9tx9cp7Ff3/xF06Qom3Y7t69O5uA4jzV46sMJiZiHPfYY6/P2qAmDysr9FAo1Grzk9RYHEcbGyV/bATtSxpG4nNNp1Hs8OOU1Rlac1FSuvxfAWJVf5Z+jO/37NVni+1IJlYzjX7xnVXB7EcFMa9RNW/GvUUf+r3XN6nZa8aYCUCbAzGOy/2/iIl6HinGlOcLJhnXct+5/uyveOa4tu25LAhnO09VsLnrrrvm+m1sbCy/C+8njonnjnv0fCEgue+d73xnBtRqX3g/i//iPEWDUYsptKh75qap547f5LZmSTGK8Etf+GKORoznz6DO3LIiTJxv/vrz1yrXXCjEepzPGkLBhg0bssXD/Quuz2cTnzUlPkulnHKuoom9QNqL83/FytXZKqRPvIEahv0sMeNq0S72Ocw6ZX1su/imofaDRBa68GdeOy2vn4ZWpj8Mv7k5Y2pfgtc8CXgsPEuay1VEHwpgt04PpKtGWtPpIcyIBHFcTgBHBjC0MEHsxHhfOo6LY6x5V9q5gkhC7iuCOjJwaRrEkqVWJSiVhOaiRQUgLW7nwKsGZKGRxXGuiWccRvD6Koj19FB26h//MZ33r4DYGLWxBLG7jh1mCYO1c+H1VvjOlTi4QDjoCogBHOxTQwtNbDGIBbhU2wCmahsgtrj1GIEujq2eJ2/zfb6nc4BY/E7gqvrDqkBW3Q5AWwxilpOKv5h4DsYcQssIj4HpMcHk3VbClREFIxQM4y+Os1ULy6EdYZ50jvD3vPZ72muvvyZHAartbMNf0FXXkFbXqits3rolH+u/xQwr7tXvYjsm8jPPPDMneTrZjMqLP5+n+kzV/fl++d4/j9Hk5MQXUC1a3EYl+n7CgS1XM3Yp6yStR+Oi0vgIUU/DgJbS3xDFTsdY1sF1l6xA7wQN5vGjRifefvvtCxzyl112Wb7H6Of84Rz/4hhBQG25akIMRuT9/agg5vnNQxIUbD/3uc9lpvbUU09ljcVn/vrXv56jX72O15SJxrj5QSAW7zaeIzQax4PX9Pzfj9rb23P/e80g78PfvJK/uK7Hes2HH3547nyex9D5+PPY6vHVzwHCXrfaD25Li//mx+hCUAnQifa3f+ff5Zy3L3zhCxmsnnn6y+krX/r/yXvv6L6O696XFBsqARC9EyAJkgBBggQBECBAgL333kRK7J2URFVLsmRbsh3XG9tJ7NhprrK6nTg9cRxnxS/r3rzcJC8r690/Xt7NS+KS6jhWs/f7fub89g+DnwACJKFEN/csDOac+c2Zdmb2d/aePXtesBcFXGyuf1HWM5587PFkb5hoGlrJIU9NysYCYl4OfP8WlJU0nJNkrZXf3XldvIwM/WSbSArENPK5a5N2JOVhjDRo7DiIMTns0t7MxalTq8N+MVTlA5BxirWALQVgbHZeqn13gBdAhjiRcbhMe896dUTMDp0Hdqy/zc6sXyaV+laJERuDGHFnV7NtbW+y7V0ttnN5m23qlCixc5Ft6Fhki+uqgs1TrIrMELcMpwiIYa0D58BEGFyUH/kDIGU6j4ufBjDAUHF5LwEwlniSpSsYHefE0iD2zwKxFbLYcWnvTrtrwxpbVCwQk7YZM39knJiQQu08cFnaeZ2IE8X5AGAips59AWJ+Fgw+nPtEyLwAACAASURBVBFg4wZ8uXdgiX3Ayzcoc+/cmMdxIBsJxIjHb86JxfEIu5Ho0IHLRYuAWtg+oMb3NbF4bWAIUNAD6X0Zl3dqiB4d2QnhoUOHhnRyH7RBlMgs0nt0Kkk8QOz8xXOhLHRkTs+tLysPcnIslSxplwrwTV6UzwlFGKxKFz/z8noQ7oSHMB+ozDaDaromOrQV/aV5xnRbmC9zVGg9idtarPUvrHG3ae1riUQbLDaHAwllTX6B5PRY7wacvRw3q0zgZWb2DwEmHXxs9t3KRf28LDFBJ+xWQYxyeJrD+d7P3M+M8yYQG6Zi/q3cJ8pw3zgz7fg5bj/CeT9Ob5hsQ5DHwcfBUcbpotnLxdjxuDF4ed8KkfQPcM/UTCS9zMvTUu/UT87JMClMhhJjB8cYSTaQayxqXPs+NKQHsWONmd8G94UKCGSX09NzP8kvznPoRFZZhituAyZGv/qrv+o/pcGMNOHEQtop7UTqIuFj2MK/YtXaQLAZ+xgGbpeoHvACxJZKpLhURyCxPoaIES4Mh6SjU2r27VjmEIABZl0SRQZgk/HuoFIvwOspybZtOon5VIoDO9q30Pb3NAeFDrgw1sICkIkL2969UBqJi21LECXOtcbCvLCkEYzCa9IVA1F8PwSUxKEFziwFZM5phUOSNWYTP+HkAD/ACxALByWLLgNiwQkj0J+YKIlgWpwIiC1f2GQntm20gwO91lo0XSCmRNVwKHWwqRlwCWZDUiAGkMHdxGtlzpEBYIErQ7woNxqIOYC57xyZg5ODWQxOAbQArhQwZv4Wv+MA5YA1nO9xhgMxZs8uCvFeCAClNxR7YMr3weUg5p25v79/CLfkXNGNQIzODTHJxpabvgcTiurSclnaTo6BWdSmzZg3eVG+4QhcZjJeD8Jj8A5114yaC5NbGDO9Q7NWRM9NHDiok3NbNWjaxHm1ymTOAp2ZxDMH+XEsRJvqskALws2ymt2YI45e73kb3SqIZSpFVFRUhPLFdQgBo/wjvpflrQQxBwzycvBy3/N3f7xALM7T0w75q0/xm0+2PN54gRgEnMsnP9zTzjF40aecg4Rjisvn97wXX4PfNgaUN4MYQASI0b6AFA7wot8BDoizuccnHEkMcXkHAHTwcv9WQIy2hY4Md3m6iTEClD2CvZkAy6fOX1JZxEioPFViLJYIeACxZaUCL9bFdIYf62MAGeL6TmknLpOI3oFsqfZvLpOGIpwY1u+7NB4RIQJkq2tn2DHZZD23oduOr263A8vFcXUma2FsbgbE4MIAsCBGFIBt6pIosalRp89nBRCbAYBJ5wDgirkwB6+YuwoABpDFIIbYkfczQIy4gXsT7gTarPQBMMALfEDhZRDE/tEm/PPf/ZV1L2iyQ2sHbMeypTZver5VpDgxzJ+Ezb+oS8oMSFYEYhD8AGQpMHEQc985I/cBGgcX90OYdmI7gMV+JjBlPjsHSFrxbzz7elv4TRUeDrjisBuBmAMYhNy5p9AZXfyX0TN9cGWCGLvLh7uGBTF6dupC9BeIjToyWqIciuiDbNeuPR5tzD7lux0QIyMnQBQTLS6MpQJidQIpTpb1w/maNBvEzdGxExx1Pk+KQBznzjHonDqL7cXxALF4TczFcGNukCgibeNEE2LuBJ2w8eLEHDA8fbiD4Zznfbsgls4nJab0Z3yIK+3lPvV0MBsvECNN2tXHBc2deR8/u4g6kxuLPlO4HXwHEBt0DgqZnJhPAiGQnFbNek6R2qBIzxzsywnUbtgB7WRArP2GIOZ5Dq2Pl9P7kfuIdn3ceBzqgH4Y6v5wYO5+KGPBmFc8ee5iGsTKUyC2TGvN3TIW4CDWqT2XABmO/WPLADI5B7IeTSbhzFgrQ4TIGlpvWbbMSjXa+Y09EiP22NGBJWmV+m1S4tguixw7pU7vokRU6jdrLWztkgXWWl0ue6eYI9Q+Yo1l2pOTNwoklQPIXMEDYAqngst3kPIzJwPIiU7jc6RX8nsSzwEQMSTuzSCGfUvMo0maExQ7BGL/9Lf/jy1rnWt7V63QXoA2a8rLtTIRJsRDaMAF80I66sRBjDUxXGD1ApAlxhsdVPBjTmw0EHPgcg7Mnx2YeN/vY9/B8q0GsSEdTovDfqXVnT0g5fvgikEMQtHa2hpi8HvcmdMgxq8+AiMQiwEH24hsgEzM4kyx06fPpnIdu0f+cZo+yDJT8Hp4+JvKrXQ4xgUQw6oIGx4r1V84lRnj0bMk/mjQwONUadxsxZkj1yTAmyNHGCfthq0C6muU41Y4McrFeqMT/bc7iDlgUE6cG7R2o9bBjqMIg9fndkGMdnXAIm935I3yhCuw4Hs83hlPEPM+hE/fj/uWc/muXIO6u/fJWLkjToP7wTQcTBLfhxAjlfslS6R9qfrQzyC2hapnmdZxyqWVy1aVChHeslRYscLgHuDIeIdjfjw998k7Bk2eBsvCU3J5HWhT3HAgRsyQrvowAPYjGbEmbYe0s5euBu6DiR6GkVkTA8R6dPRRh8ArcGIpEIMbC04iRax6AFy4bmkqLi+cFpSp0F5cJg3HXQtn2tk1nXZW62DH+pfYwd6FYWOzq9QjRtyxbEFQqYcLA8TgwjD2W1+Yb0UqS7H6D+0VQEdt5mJE7CfihgMxuC4HqSBOjDgx8CY4hREHAINJgjNG/8K3YN0hKWByzFIEYv/4d/+vdS+cZ7v6l9v6JYtsto7EYI8Yi3UcOT4SiCGzTLixoVqJYwUxByRACwDztTDuCeN3ACoGQX8H3/PxsBjseM9dzHGNdD8aJxZzYHTYMBAjFXs6o1/eoWMQoxO7qr4P4kEg80GYSsFHS8qHmEwR5wJYTFTnCcdE6MPSXhclbrjZi/LdDIjFYqBYlEi+FJFyMWDpLxzfPlNlnC3waky5mfJxjfp9luLiGhSnTo6zyW4XxCgH6zDOQVAW7v078PtYL97JJD7+fLucmBOzGDzgNjA4684Pu2SSAncGIR1vEHPwBCDIH8f9cCA2lnbzdsbHZa6JUW+/+H2w33vooLauh/AO5fS2x8+8PN9BQEli0CcdwLjnXDo4K0SHzPpLBFqVavMKrfdXqQ9WK59KSTgI4zfiABpwblgzSQ3DtD9YjsFxO1iWwV+97D5puNEELXlfa2GvYywhEYnCl53T8TwQb8pToXGDOLG7VEYFYhDTHswOXEqsyLoYCh4ByHSPeBFuDC6sU2vT6xpL7KQsclzdPhC0EQ8sb7V92v+1R6C1q7M5cGBwYTuWLbQdssyxZdmiIE4MCh0zK3WY6eQAYpxAD1DBgSV7wljHkkRG5YQbc+4KLhfnz772FYMYXDEAFuKkABEQA18AMaSBo4JY14J5tk5cWN+8OdaQPS1srEU8BIglgw4bh4k4MWgnipUDxACFmANzYBkLJ+bgMxqIebxM3/PN5MSIF4fRELiRAIzwG4HYYLdM5PrpDqveHbixOILu/fcYxOjQnZ2dQ9YFGMzJgB4cDCGpjFHz3LPPJINZnQPACICm9Bhk1y5eTZAkoww3eqR8NwNiMdHxunn6FLWwpDiUj/4CYWgQlwVgAVT1KbCqU7nrCZPDr5PjEEQO/xsPEIPQxyCGpYdYkcDLO5pP/Zz4OOj483iCmIPHjUAMABsvEKMO1McJqgOpl8NBjHjejhDdsVzeJ/BxmSBGmlweL04z7lvssSIO383L4L6nEb87mN7g+PGh4yBGfOwfMlaCYpQACw6sWgS4RoQWV5fyCeO3IsVxEOOgTy5PF3/wivJVuTMvyhy7mLMdLHvyVrK+Dmxh51RKHcGSj9npaE2sUmOlvSwrgFivQCxsWylJlDw6tR+zi20siBW1NhYUPNjELAeIsR4GgK2ZWWJHljXbpS19dlEOLmy/1rwAsd1a/wLEdnQ0BzEiAIZWYgCxnnZbqXPDmkqnBwCDE8MwMeuIgFgAHN3TbjGIAUwxiAUxrmhx4MhS4sQ3/a6JRL4caUKbxwRi//Tt/2mLtVjXMatem2nLrEazMjgxxEPsEYtBbJqOZckSgCXONwuDmIOckYv5HHRG5JD0DnEyQYxnP8wyBiNPL+2rEVCxz9ReTHNgqfQdxG4EZDcCsXgtzDtf4E7ot2PQTvSODCfm79N1B+8HBwPhQ0aM8vgf//dfJlyYuJkJ4lxy8nTStICCgXn+9JkkfnhxbP/I92ZAjFQHAXcwD8KQ5c9b0BIUO+DEqiSemS1RDaJDTuWFA2uQeBHRYSPgphkVrkH9qlZhnGI7XiAGkfa2hji7mGqwxKPf0TaexlsJYg4a+IgR4cDc8Rw05NSeNwIxup+TTu9L7lPTzG8cgxjgEAMZ5eCZuns7jieIUa64bJTPw3zNmTAuwuNy+PdIfh38n04vagi/jUEMIEKZAxBj3QvxYZ36KOCFNKBedC7cKwxubIb6J8SZd4IBYMoUuXQJPJDfVObMy8vtPuJEv7zu4TmVzo9fkygxnM+ScGLU4e5T59UHkm0oaCcu1SkRcGKAGAoe3C8VgHWkVO4BMpQ7ADLWxbplioq1MDQT2bu5X5Y3Lumctoube+3uVe0BxBIAW6B9YeLCcFKldy4MEEOciGp9h4z91kpBCwArVJsFa05qI0S0YQuTuLCYEwM/wj6yVFzaHgeni3Ox4mC4flc/LNTpEWwhchCDi3ZODIWOYcWJ//Ltv7YFDbU2t7TYGvLzwkFsLHjCEiaaicjOE7AJAJECMQh/QvxvD8QALBcn4gcA00GZgJ8D0rBghshQZUFrxYEsju/vxCA2EpA5iPlhiC7KgYj4FXe8QCDpfGMEMYiGq33zLiA4OAu9MYgxMwuiREBMHWIivsoFiN1z+UoywryQY/CpRyaBI73Ma7iBSRgixfi3zmVdgdhCJFhjaMqZFk5BaMmTrz0p83OmBNciDr8lOyu4+dJumqvNkjPzdWie3vOBfiORS2b54mc4MSe+TozjMsZxb3TPO16W8QYxT9cBxEEkiOtFOH1tjOe4/40kToxoaPp7xHWOv7HXJfYpBw7AfytBjDy44rIN9v3BrxGLrWkr/47eboMxk7t0enFDkE/kiNnRrv2aSo91LjgDNOrK1MbBwLmeWf9HDJ6IEyGwiTYg79yQE/OMyO8GIOb9MgYxyuXvBOMGpMW5fpz9lxIn/kDnHy3t6lV/vCMAcI0mhV0Cop7SSVLMkJKGLOH0lMk2okSJAFngzFzJIwViXdhTlDr9shk6UaKx1O7S0SrXtq+2sxuW25HeRcHI705U6DkzTEerwIXt7JbFjt7FgQtzrcQ1i1tsQXWJDBHfEU51B8TQXi/QxMc1CR2UAiem3/g9xMkAsQTIUlqNwhk4X9JJAGyKzZDiWoGADIPtcGGAGGMiaJgOC2La7Pz9v/sba22cqbOppgWHMUf2h2WJWKINFyzVC2194ZmEncUDIQELAAdVelen59ldmnNKcUZjffb3HZji9wgDuAKApWSmQd1fsyx834jNvQOUg5mLFdl/4BvpAiCrLm8CMTXyzV7eOV2cCIFgIM6dOzcs7qJt+JWvfMW++MUvBkUGiM1IjvO1XtTGTI68IQ0GBCrLgCuz9WAc9iYLSPliAjcqkRgl/cXtS4IhYECsKmuyNRfl2UJtZG7TgjJ7wzp1qF+HzqdbWpAtSwOy6FFcEFxHSYEtKi8OBwB6GW4HxDwNJxoU27/FKFUIP/vEAgUcb2sIsKd7u+JEwMLToozeLzwv/414TsDJfyQQi+vExCgTGCCa5OPO0yfNuF6ef5wnYWPlxOJ8meDE4kTPh7J6PP8mw3HKrmbvZQ1lp9/LDUGnQPT1D3+UK5jVSqXhKvb4iL7os1hcB+AIy9fYKsjNCfmRJ2tio13Uy+tGXAdj6uD151tz+dq6twFhYXsY9cA0lizYA2JwYdy1LmGPW1LOetTlK7K1v0uGtcunWJdEh1jFAbwWo5koH+7MbSt2z9B+MSl7AGKragrszp6FdnnLgLQRe+3IinY7uHyxRIgyJSVNxO0SMXJe2M5ubXbuarW9/UttZ8+SYGZqV/8y65nbYA0FuWGZCQBjIhC0OwU+6TUu0VO0D5ko8Js7QAuRYaHACAeniygS8CrU5AGOrlBr/sVq+2JNcoukuIY4Ee4OesxkgkkdIMbhx3BjDmgtLa2JxY4f/O3fiBOrD4nMEJChVo9WInuSOGUUAgqQ+YwR4umOsJsFMQcl92Nw8nsHMPzh4hHmavQOqA5iVDwGsTRoqQFiTsxBzNfEAGTe85kwnYdBdLOXd1AHsXhAOqEgDCsZpO+/j+QzmPiILmJC7EQY7vLFt16xY7T6Y9UAQ8Bh8Vl7v5p1eN9CzfyWFkwLVjq6BWC9stDRVzLdlpfkS26fo82ZArYZedYldV1mbl73GMS8HUfLn98h9J6GtynhN5OGEyI3w0Q6ToRI+1ZBjHR5n29Pejgvo/cHfMLwHdw879FALAYDCKgTSkDM28R9z5dn0ve84rp6vmMFMW9nb2u3fejpsD7pF+WLy0u4E333sTno5cX3vn47IObtHNJTO1Nfb4tMnzbBEc43H+vl/cd90vA2QArj9fM6p9tBAPbDH0ihQyCGhiJrg4DYv+okizvUdhM1Phhbc6Qa310lazjaIzagQ2eXyfQUJ6qjpbgkmKGSqn2KE+sSd8bBmVi8R51+Z2u9nVvbrXWwfil19AjElmpj85KgxLENZY4egZmAbE9vW1Dm2DfQYTt62+U6bGvPUmvX2YacaYZVHlTrkdQBUoBSgSRhuOkCmcQNAhhxALDgp+IDgEGzUX29SPiCmn6RjpoBe3CFArE8iXbhxKDHTv9uCGLf/9u/tZb6eivSDLBQi5vINYOVDmWaFieKwEPcIaRh13QkwgN4AJuxcmIOSg5EDlyejgOYhxPP7933dwGyUKYUADmAue9cGc/JnraRFTzeKhDzjuwEA2PA8SAd7R7NNT6kTxz8+e0CYgx0B7FKiQ4XyAjwEpmz6dIhfl1FUgnWZsvlhdm2XKDVKbNUbHpeLMvaA9WltrF1/tsGxJxYMft2IucEjm90qyBGunADcHj4bW1twece4kZ+aNDF/cD7CsR3NBAjfQAELsaBhLDf/M3ftO7u7pA2SkXkw7OXAbuG9Rr35Es9vZ+6P1YQi4kz+Z4+fTqk6ZxnV1cXweFKE+7UM+/ChPjxKNx/9rOfHcKJervcKojt27cvtAHfj/am/jjaA0c4E0rGpX9v9/n9Zi7W9/gGONLt7e21hx56KJ2EA5wHUH/NcfQBcT+y7//LP4SfWKX4+h98S8sHmvQIxOAYF6DUUaWxpFMhALFubXRGpMh+MTgwAIx7gC1waHrGksfmORV2on+x3bNtlZ3b2GvH+zvtUO8S27tMgJVS4tiNir04tb19i4MoERDb2bc0gNj6pQttftmMcKZZscqSgFcCZgHE1HfQKoQDc8ezK2zAaSVgxpok4sMEuEoE8gCYg1ihgAz8QZSIQiEMB6JENnujmTgqiM2rq9VGNaGpEgLEsJfIqb2AWCyrh5A6BxSDiwPPjXwHIHzejR1h/q6LJOP4mff+bhAppgDWQcgBLPYBs9FAjPjEA6wBiPTg8R43Rt8JCZ3Y04h9iIQTDQY69zd0EBm5nNQmZ0CM70DYpQsXx1iqwWiUbzzFiQx0H2hVWOsom25L5ZaJI1s2QwvR4sQ6ZW5qkeTprVqcXqQNzr2ygL1b2zqOre7/Dwcx/17eQtQn/h7+7fiemXH9nRv5EC5/LxBttb8TMw8HgBy4fAbvz6OBmKflZWAm78oSgIYDh+fNM+/w/LWvfS30Ue+P1JV7/LGCmOdLutTn2rVrafuT1OHTn/50iOL58+BtQnzoN9p4+CgKcRqBc05eFspzqyDm+eHHF+Xxy8cq5Y0lJIDdaJe3p8fz9vZnfP8e3PuachxGe7z6CtxYsiZGvCPH7xKIiXlQ3VGaaq+Zbj2V2DtEnDgxcGSAGMocKHj4mlgwvI1oUW6gOtcOS1x4eVOvXRWInVgt+4gCsP1S2NilvV84NjQDYnBhONbD9q7otF0rumzH8k5bubDZGmSJp0zSOBympuJN4q467wCGT5grbARxoXDEAQxRIsAVg9gM7X/FFckFDNLkjSUeRIljArF/+btvW1NtXZANI4sMRhcljwQUAicTrWUBHg5iWO/IviM7DT4OQpm+g1IcHoMSaTqIZXJzcbz43kEMH2WQTIeGozt/j/y59zp4GmkR41sIYg5WThAZpPEA9fDh/HiRPz83Lw1gTC7eHiC2NIg7XZzYMiPf2sSFBVuJsuOG3TYsaTdrUtQ2bZL1VxTbntZ5dmqgx85v2xQUiLze/5HiRAcUZuuUh+8Tf6PbATGIlIv5IFC+9kO4X865kLcDGKK4sYBYnI6n577Xy30Px8dOodfVOTCv882AWFy3p59+2jAqvHLlSvvMZz6Triv5eRkor4NI5jEpv/S5z8qU2dA1Q8qYeXlameGZz4CK58Vv/l7cZnDCPrkkL+4x3ktfGMvlacZHscRtwu+44QDudYkNAXDWwhLljjfs61//ur4L67GJkglA0FU73XorpZmog2ZXVOpIIwFZt9bHUPTAAWjBSYzIWX19FVm2q7XWzq9bZte2rrTzG1ZIG3FpALF9Up8HwHZrXYx1MMBrb1+7uLE2AdrSAGK7tRa2vafDujEzJSs8pVpWClsQNIF2KydwW5kgFnQqtLwwXfGxcA/nhQO8EgCDE7vDSmSxB1eqfWelMj9Xrv3JpRJZFmDQQfTR1esHQUziWW10dmsd+Ok1sX8WiM2qrQ0cWI5mIhB1X1QLBn5F/IcDgGCCalJOGsRisIjBaDgQGw7Q4rD43tONfQegAEgjbJZ21X3i+LshvkSQALGHU98AZG8RiDU1NQXRAmstiHUQ48QiJRdvjOR3dy1LQCIlVmRNzDmxa1e0T+wmLwbT+HJiSwPbD4iVyrzUHGklzpOV7BYZH20BvNShF2gQLtFAWKM1sINLWu3cqj67unmtXdyx5W0HYnybTMLO862CmBM4PhOEzYmnEzbCIW7kgWOC447n0UCM90nL0+WZK04fIk7eHkZc7r0fAFyZIMZvY7k8X9LjckLteRAWE3cHFI8fzvZSHBTLuf/Jj38saOF6e7hPOvHl78dhN7rPLKfHJZyxRz60Q3yaNGN1tMvr6/FILwYwr6/H87ag/NQXfpCW+/GPxIW98ap95eUXLTc7R1qjaG3LCK7KVSPr813V+QKxSQKnBMT6dN8jseLyMpmhKpEljgjEUOrYNKfUTvS12b3SRry0ud9OrZV5KUBMSh374MQEWHvEleH2aY3swEBn0EiECwPAdq/olqmpJbZQYxatxBIBe6n6JgCGSzQPhwcxBzAUNtKcl0SFbJB28EoDmECsMjfLKqdLMx4QE5c2TTRjiiSC6DuMDmKYnfrO96yxrj685GtI+BB5ByBAYOpE2TicID/lHMTiOMQDgGIQiwFpuHt/Z7jfPMxBKCnHUFEkm7An68jrSUJpHPeExeGExXE8Hum5mJE648ZbnMgZVT7z9o7uHZpnOvON3GuvvBpEh3BeiBABMefO3g6KHUulQUVnA8RmSKO1XofvzRJ4zZfoEBBboLAuKXJs0jaOY51L7KJsdN6zeZ3dt3WDDmHd+rYDsfHmxPjGnJflRJe+wL0TVX7H5BIniDvBdq4MMLsVECPtOH3Pm7y4PH+0ZD3PWwWxOL2QeOofxJt+ju/nhcW/c08ZAwHXPaLEV2Uz8Mo1HeWiSU+ynUTcSOo+893MOmX+nvnsY85Bhd/Jn3DO03MO1I9PoV1uZk2MtGIRoYOVt4PnF5cr1FkLYL/+279jDz/0gPV0tgdlOsY5k3DEaaift1QUWWdltq2omhy4MDixvmrZQBRn1lcx1XpkzR63XJufe0un2vqZRXZUpqMuS5UeLuzsuh7tC+uyOwVUh/o67OCKjgBcu/sSANsv0eGBld1BI3G/JCSAGKJEbCXOLsoPx64AYokYEXuTyRoYIkM4L47sYl8YjucExNA6VFzU8iWBCRwXXFfKlWVpc7lsrZZrjbxSa+Rl2nIzQ8bB2drFtptEkzRZE3Pua3hODBD73t8HEAumWQAvoT/rQ3ArgIgDiIPYFLFxAJmLE0cDMX/ffQemsfie9tByDIIYaTpY3aFyOTh5WCZw8fvQeCk7j3BjbxGIYZWbyzu4Dz46PW7US6OcTp107ATIfJ3y3Jl/P9uJI5Wzo70zDWJshKwVB9YIiOkgPo4/7y3Ot62zdeRD7zK7T+fVAV7XNq0NQHZ19/b/cBDz7+H1G+81MZ+VOydEPuTpxNSJq4NJzIVBWEcDMU/H0/U+RR7cu8/vXhbueY+zzTzf2wUxb0fy9Hw8jPy4vKxeRsIAMYi5g9nc+fMCcE3RsUMOYPiZV2bamb/7s8dz38vgv+M7900buCgX/2ZBzNN0O5A+5gn378y91586f+rnftE2bt1mhQX5or3ixDXWkYDBgcCNcF5XR0OVdUg82F89xfqrJgS3okZcWQA1rZOVTk67gcoc29s20y6u6xYXttLOrV8eAOzYyi47urLTDkhh46DuD2p9jPWvfX2dwTmI7V3ZI6WOTh270m79MgxfK3DBKEGxNNZZD0OzEA1D1r4QE44EYg5g+A5iAJc7AAwOrFoT3Kp8be9SPih3hJNTlDZ4hGk97CTeGMS0T+wfBGJ1NbV6AS0QaSYCDENEblmBC8NaR8KF4QvcJmTJDYKcgxQ+oHMz3FgMaMOlMxKIwS0CTJnOOa/hfI/Lb8x2sDYS1OwdvAXgtIMPbjrdzVw+WHyxGLGMd1rSibkyj3vD9CMQc04MnzK+HfaJdXR0pcWJdPQm7QdrQ6lDB2NumFVt+2Wu5syABtSW9XZdx/3cu3mjXd2wLjzfu2/XEBCjrbxN3L9h26R+hND79/IZNT+NNY04nouWnKh7urcqTvTyQ8RiQubhXk7y8bJ7nvijgZi/733MfQ/3fOK8vQ+y7uV56q8FbQAAIABJREFUeX29DGMVJ3r6Dlz+jE9ZvG3xM+PEZSLuX/zFX4TN114GLxt+5uXpZoaP9DwceHkafHMmD+TjIMY94WO9SMvTc5934+/Bc1wOFydqXzMx7dypu62ksCAtRgPE2D81S3stl9dJsUPrYQPVrHfpPDA5xItsfF7Bupg4sRXlU23b/EqtN7fZtc0rAhd2Zu3yoNBxtL/DDkuceHigyw6tWmb7B5aFtS/39/V361kcmNTqUepAK3FJfaVVaxmgUpwUluuRtPjalu/xcu6rQJIXAMvBC+Aq1r5R57QAqgqdHxg/w4Hh+K08LyuAWLYmLH4kDiDmFjqcCwPc3bW2LEz2icUgBpABGL5mlKwbCax0DEsMYgmApcIBgQznoBRzUh6W6fu7Hu7P+B6G7+GUKXbDAVUCUIMixUzx4iCQJaqcbyWIIbKJRQt0V+/kcYcmfNjrbQ5ibiU8bHbWzGppbbmtmVtvWxfMsSNdi+zMqh67unFV4MDgwq5v3Wz3bdkUAO3anh3/6UEMQu3fm+/rAEK4E/F//dd/HbImhTjRieloIJYJDOQRE07vY3EZPAygcqC4VRCL8yJv0iYszo/+78/U2fP3svrzrl270uUBVGIwI258eXpx2Fju4/e87M3Nzel8aXcc7cE69mgXafh39LheH88rc/yn20gv/Ntrag/5YU1M2onf+J3ftiypmUPA4UZYE6vWwZbdNXmBE1tVK+UocWO9VZJypECsV+thcGMbG4vszu75Wm9eHlTqL25aEdbCjkuUCBd2WKrzR1d12+HV3XZQ4xIA29fflQKzngBicGG41W3NtqCyeAiIMUl1EIMLKwyiQ4k8UwDmokMHsBIBYAxagBjOgQsfTqxSrlRr6dOl6MF6mHNhtEHMhQFkbggYIGttWTAUxHwfWFgPE1fiQOF2EREnxi4AG2eMCWBikHGwGSk8E5wSoHwzEGbG83TH6nv+rqXoih40jDu0Gl07MS1GHWdOLDY3Q2d2ouMDyDv+iP7bHMQWL25XR0v2stTpmIaVrU1B5n5cg+TCxgG7tmWNXd8h8Nqxye7ZstHu27bZrm/fEvyre3b+pwcxvivfOnNdyAmdf3cHrRhUxromRhqAY5wmBBQXh3le7vuxJ4DFrYJYnH5MzKkzLv49vncwdzniU+9+T+hHrrREn8J5e3iZ3XeA8OeR/Hic8U787OVBnMhaGNZwPD98tBZHu+I0Sc/TZ9M2WobeJp5XnB6HyqJUDyP2xuuv6iZRsf+jb/0fKkeyjSasNYs76ajMtZV1Wbay5o4AYgM1U22FVO7Z/Nyjzc79FdNs78Jau7i+y+7fudKuYp1DG5xRqw+iRAEWAHZsTZ8dlTuyutcOSXQIB4ZjLQxOLKjWixvra56t9bDcAGJY4imbJuUOLRPMEJAVBY4MQPM1r4lWqrXw2JXp5HYcoAWnVS0t5SpttcFxX6P9o9XTp1qtjB9USXpTou05eUpvqurqIOYAhkhxkiRngBi0G1qN2HWRQAwmbMLff/d7aXFi4MRS62IxiGFoNwawmPtxsBgOyAAcTyf2YyByri8O4360dEf73dMAqBzIuI8BLBEnJhug3yoQc7GMd27vxN65/XlE/20OYpy5BLFBBFAhW4grWmbrhPBuO7luhaxlr7YrWxMQA7wAsXu3bgoAxvP/DiAWr4vwjfnuTvgg5E6MnXhCSB1QCBuNE8vsV+ThYbHv9/zOBVFF6Yg8hgOxsarYp8FIafoEjfS9XtxTZ/LzPu9loW3eECdy8fyFcByNAxf+9Lz8cQExzx8/LhPPlInyuzIPbQEX7O1/M2tipO31I03/nijsfOhDHwp50T5xG4Uy6R/qLTGI0T7nzl8MQMa4QhNwYckUG6jV+KqYmAax/ipZw0GcWDHFNs8utrt6mzVp7BUXNiCV+t7AhZ0QcB2X+PCYJpXHVy+3u9b12zE5gOzwquUBuBzIADGUOrboAMzOWTL4K6ULxImAWLn2d6J9DHDh0mryAqoSOTguBy73CUtzXikAA8QAsFrtH62TmLROa+aVhTJpJZur4fxK1ZWlkmBiSnoODmTOhQFw7GOmXRbroOEAYt/77rettqZK6KcPKBSEEwumnDQTCDYFhYIY2vV1skFRXKLxNxKYOGj5e+57uPujgVgmuPlzOt+UirxzVIgGXWU+KKhIRApAZTqUI9D08/feKhBDscMHrQ8i78jDzc7o2EOutzmIcfw7HY7+g1ihpWKGrV4wO5i1AcSu7ZAyxy6tg23daJel2HHPdokTpZV4r9Trr+z+zy9O5FvCjTOZwV4m94iYcYAIYEGYi86cgOLDnY0GYqRPv/I+5qCC//LLL4c84LjIA7ud+O4ee+yx2wYx8ueK+7KXhXDuvd/z7ISe+/e///3JBFp9J8y+Aw2SpqvGJkAGMXNgc47N/ThN0hrp+uY3v2nUn/ZnLNLm1N/bnXusqfiamH8HQGgsKvY+lsk/LhPv5+Xlhe9aVVU1pHguXiS+/sL1ozdSBoBlTJHwV6W1yGZnlD0QKTYVTLS+GkBskq2WQseAAKxfnFifLNpvnFVod3Y12ZVNy+zebSvs4gad2Cwu7OyGvmBm6u410k5c22cnNLE8sWGl3b1+wO5cuyJwY86F4Tsntm5Ji1TrS6xKylnVOZOCK5dIs1RKW8XuxHk5eAFWaSewA/Aqsu+wSr3rzjmwOgFYvQCsQfZVG2bkWr3M0VXJ3mqhlD4SUWJinQia4hwYQAbzgQgRDgwQwyjHkgUpTuy73/k7q6muvGkQC8go9i4TVPw5BikHMAcs/819fyfTB6gywzKfASEHIgDMnYMWgBxAOQIyBgkAFvbB6f23ck3skUceCcQjntl6x3d/SA/PfHibg9jiJZ0iAGyCTwZbuTr5vKLssC52cl2v3b9XosPdmwKAXdok1XoB2IN7dwb/wq5t/+nFiRD3WFQIkXRC6b6rdUNIM4npWEHMuw2ggXPNQwdF0nXVfQis58k95fB47sf91dMeyaeODk5/9md/FkACsHDQAEQA0DNnztihQ4cMU1TkC0hBlPK1LwqfcZrLyeW6d0Wz2wUxRIW0v7e1t2/IPzVR8HviBAPb8gkbq2IH7c1YdiDnmfdj95d/+Zf2/e9/P92EPvYV1ZLzxNBUfj2kA64hWFyoY2TcGk6DDrrsq8uRMd9ptl4+ShwDldJYFJDtXVQlMeJSe2DXgMSIveHU5lNa9wogpjF4ar3AbL32im0YsJNan45B7MDK5VKvX54WK6LYsUInODcV54W1OI5fAcgAsTKBWsm0RHQIgJWmwMvXugLnJfupFXKAlwOX+3BgANhMcWCzZBBhlmypziwtsAotQ+QLxGCimMwgMQNfMkGMfsFkOU+bqFHF71woEPv779qETBBjtzSsWsKFwY0NcmKAThDJiWi5jDIGFeeOPMxByn0PH87PfJc4MYh5Gpk+AIaVEQevTD8TwBzcXKXeAfCt4sTijhyvi/iMOd2rR7r5XwDEsCwNiKGpVCpurEpAtrA4x7YsnK2zi1bpFNl1cpuCu75nu4BtRwCxixkq9syWfTbr/kjNEodD6L2dnVjx+1jTiOO9FdqJlC0GMiekMXjEm2wdSHhvNBBzwun1hYByARreJu572/BMHl6muBye91hBLM4fwpx5yjZ5eX259zwDsPAbYXIYfMX3cTg9JzcBs1Qc58DSvjiVcB9qO/I/t8bhbRCXxetKmIe7T/nGIk6k/rR53IcQk/r3xCct32pDSYfEB7GoymtaEwvQpX2Dr75mPLWmTNexLlYvK/Z9dXm2tj7PNtTnBkWO1TW5tml2kd21vMnu296rdWe4sGUBxNBKPL1OTpY6Tgu8Tm9cHRwgBjeGWDGIFNdobUxixj3SWsRt0wGYnY3VOiZJIj8BUZ1OomCzNSBWIhArzdLRNTJmUJorM1SyyFOh35zbct9BC5EhgAVw1Wv9K3Bf4sAaNcmdLQ3mOWUFNrNcdhkFYnnaP8b3B8RY5gFfADHADE4s4I5+x64vVj3YFL2sTdqJ3/tOAmKIE91WIlY7ggV7WNkgUkxAzMGDxBKXiBM93EEnE3hiwHKgupGfGd+fPZ/YZ63OQczBKBPEHLQyfbixAGQZnBjhLsag49/s5Z3ZVewhEE48SIvfcU5sRk3/bQ5iiBNZhKYDss8jLOAKxGq1CNym49T3dy8Og+ie3dvs+r6ddq9A7J6dWyRm3GxXpGLPvhAnMP8ZQQwi54SbemZyQPSNmEOCiPoz96OBmPc3n9l7f8KkFEQ67n/kjwKXb5yHyyGMOE68nbCPFcS8TzuY+VEsno73ffLKFpflnBU+BCtIQfgNa+hTs216Vo4V5uSF/sT4BOSImwasFNEPZ/lxP8oV9v2Rl/oZaeVIAw7lgXDUlBQUsqU6nq8jQAIXoDjT1IfJj/bINDs1XHYjtb+3Kz7O2zOevCZgpgp4nbQ6BkeLtuIrmoscPHYs7JXLUnlrdaRKb22uranLtg21OhVChn43NBTawfaZdklc2IO7ZURg6/JgZuqi1sMubpJix7o+OyvR4ZmNK9MgdmrT6jSIHZdI8di6lXZ4zYpEsUOKHlu7l9jiWh2OLHFgndavAB9ALOHCdP6azggEuNwF4BKgDQdgrHnNksjQwStwX3BgcnNK8qypvFCcWJGVF+RZrr4LNAQOnPMrke5AV9BGxOg8/QQNaOhFsc4mxM5i9+KF9o/fFYj9/be/YzO1Tyx0KBFw51zCi+KGABGAA8AILsUh+T6wBEh803Cy7wqNRj/h+Xb9OK1kT1dUFpUpbXEjBUaZIDaWZ8A6xEPMqEHuIBYGT2qQ0OHoYN5pBzve0FHkvzuIxZ3ZY3qc5JmZ840d5QgDS/JxjsXhHmLEgvjNXuQNWPjgcj8znaFlzPx18Lm9vSOUB+4dEEOUwAyuQbO1es3cOiVb362F4ss7pdghMeIlaSleFYjdv3ebXTuw+7ZBjHJevMgi+CBBhoCOeZKgqnhdeSde5HcCTNoj7RNz+pPpD7aQhbL5NwRAMOKMzzdErI3j2cNiDb2RQCzOD8UALq8H95xF53nSnx28gigdIEuJ2YPYTu2VCTr0kZu5PO/4W5Am4jAcBCpMlOUzSWZNA8dhitNVf86iKpKppeJp2TrPUEfY0z6KmwYxFSapZVIqz29w7KTCM+ItbV8c0qB/1pXKMHVLo/UvbrL+RY3W29JgrTMrrHbG9EAU0Y4D3DzP8M1T6ZF32kRUFKbbIe3OM5f3R/fjCVoSY/B//C3dDBd5nZGBbwg562LVnCdWLQCrz7ZNtVNttSx47Fs0086vbbeH9qyyh/euDqr14eRmgdhZiRHPrl9h58V5nZNxgfNak76o9egLsld6VmvTd69bFQxwH1s9IEWsXjvQL5Hiih7btGShLaoqDZzYLJ0+UZsnRQxAS6AGkOGS9S6pymucV+i5WgBbnZ8obFSJc0MbsSZfShsCsQalMVtHMTXAlU3Xye8zsgRgOYETm63v0VhSHM4RC+e6SUTok67Qd9Q/wsRDfZV1QSQ9qO3XSNRZpTS7tA3gH7/7d4MgRmQIeGDnQEPQbxgQc1DJ0SGYuJFAzOP9rwRicHPeBk4AIGw+y/RuF0QIr6ubxaMq9aMPrvEGMQhBAC/NRLxsZ0+f8SKN2ad84wlinZ3LEgJMJ9NgA8SCzJtZmAZAvbiy5RJPYLH+isSHV3Zt0UCS1Y7dUrU/sv+2QYzvExNOB54xN4gixt/Xj0XxdJwIjTeIAVwxiMVg9laAGP0aAHMQY9IW+rrCIRjOiXm9xwvE/DxCFuNxucoP5ycBc6higWbdnEVVrFPeS3Sqe3hmUqo+BV3iG3DFxN7H2Wgg1tnRHkTd2Upjljbgr1jYYGuWzLY1i+pkkaLWljRU2kxpyLExN19ji5n+cCAGqMTOyxLKpTGVeXm/cX8kEPN0PO1k8pVMS4KGopZKAHPE9D21+bZpZo5trJ4sKzgzZIMUAFtjjx7YEPyrm/okTuy1Sxv6xYmttIsbZTdxy3q7vHWDXZRWcAxiJ9avtrvWrrTja1bakYE+qdv3yXJHt61umWst4pAAHUAMcSJAViluC5HioMJGAmKVEi9WCcT4vUrixaBOr31fAcQkkkQsOatomjXqkFxck062mFeWZ/PKC2xe5QxrKJ4RNnQzoWGSE/qfwIz+yDjwtXa+H1qarLs1lE+3en3L5UsX2D9+729twve+892gIRQIJB0a9EuBWODAUpyYi/EANrgwBzHAygHL790HwPz+dn1PK80RBlEiHF8iUhxJnHgznNhwIOaddHDQpGZe9D7k8hmXxxs3EJO2kn8bfDZCMpPnO129fCUj99EfxxvEGhpmhbIw050uLpFOzOyrXqKIWs3e6qXFtECLt+tkuf7OtQN2caeUPODK9myxew7vvW0Qoz6XL18eMoNzojd6ayQxYhBbuHDhm2bRpDdWEBsuTydkDFDnxJz7cvDim3rYWEDM8wndcBROjPRiEHMww6c8gWCIaFDOGMS8L3teN/I9bjyhABwBMVzQKFMemSAGBzZdgAWIzdBaiIMYQHY7IOYjM+bE6kvzrGdBg61ePMsGWuusZ16VtdaXWZ32Q7FRlwNaORQ4EFO1BeujpDOci8HT6x63j39z90cCMd4h/UEQS/aKERZAjG1BKssMla2/cYZtacwLIHakvcEe2bfO3nXnNnt0v4wH7NR2Fhn6vSAzU5e1P5OtLZc3rw1ie0T3l7U385K2tcCJnduyQeLFtVL2AMhWaSP0Cq2PDdge2UvsbqyxOToHsLFwauCa6vIniRObKJDSBFVm5AArHGDGM79V6zcHsRrt+WLvV1ChF4ABhrMLZRRcB+U2yc3TEkNLZb611sywlppSqy8qDGdZIip0EJuo/nCHvj/9EroCgOXKYdYO7q51Zrk115ZYf2er/cN3/2Zwn5gTShc9ZHJiYwExBxoHrMxnD78d/z8KxOhszJJcC4ue9+M3kkV0fvPLO/S4gZhEjXwbiA0+xA4f93YQJ2Jtm7KgEISsmh34qNFWsi6mjt4iFdr5OhBzkVTvAbITEm3cf3iP3X9wt52TpuJ4rIlduXIlTXydCPv3GKvv362ioiINYhBhJ0LjCWIOVnxTBzH3A6gIdPwbjyRO9HpB7MYiThwOxLwcMYh5nW9EdD3v2Pf2ywQxDkzlXMLhQCxX9czVZAwQy5dfJIINNwaAjQeI0TZL2oaKE7sXzLLV7U22clGD9S6ot5Y6rf/IyC2i8HCqPYRT5YUO/nuBGO1IWcO3xJp9SsFjkBOTUoXEnKubymy7FDm2NeSJC1ts775zp73r6A57aPcGu2/HGq2JCbgEYFc3r9YWFontt2p7i9ai7921VSL8bXZlx9bAjSFaPCNN4VMb1kisuFrc2EBYG9smCzuLKrROJY4KsV+TxH4xiAFkAcAEXoErk18vEWGIIy6rtmCqJgSawGoSy0TWAWx+cZYO9cy21vKc4BZVF9ri+mJbpLav03pYofQwEhBjDVeWWtQfJqHoIweI8RsHa7JfrbmyyJY3z7T2OVU20ClO7Dt/LU7se9rsXFcXBg0DyGXn6OXHm4RjEEMxw9fEHJAArEzQynz2uDfju7jS3/n3BjEWYhMWn66mjqaZf3j2XpcEp//7YL51EEsnlb6BkCb7JiQb1qI3cnLclSvX0nHGekP5IFBOnN3PfN/rkRme+Uw52L8xDTM0UpOt0KZFQKxOO/XZ8T9HGxndLa4ste2yZI9Y8frBvXZaa2O3C2KU89KlS0Pqg/IE4TGHlVluf/Y4+LwDQXcg5N7bZzQQ8/SG8z0N0iVNFD3isca9O8YfnJO/MxqIkZ9/K/cJG25NLIgvlb4DmucZg5jXfbxADC6MvsEkB6WxPNXV17wQKQJiABYgViiaA5DxXCgCdrucGEN0qdTUmeGzB6m2rNCWNjdYX9tc61s02wC0eTKTVjND3IAM0uZIyYNyOieGSTUf5u7TtoNcWDKJjds9+f1m1sRSaehF8vjRMCDG+mWZFKVW6XiVbXOK7IhU6h/atdKevmuPPXF0p5Q6NslKxwY57cfcJuPa2zfaA3u22f0aZ/fv2WXXd++0e7Qn89ouifMBMokWWRcDxE4GINP6mBQ8NiyerwlnjqQoE2xuKWK/HJtZOMlqdT5ZtVzNdHFe06WNqN+dK6srnCJuSmJDiQlx9eLicAEE4bxm6NyvkqnWJosji6vygr+0rkhGjctskTix6rzscIAm35p6sjduAtqJkvYBYsn6aXJCRoMmyO0N5ba+Y66tWFBnazpb7J8Bsb//exkAjkCMjs0MbVALMbn3vV6IE4doFyJeTAHYeICWg5X7DlqZzw5u/x7iRDqmEzvu6bRYGgi9joDo8g493iAWZij6wNOnF4oQShlgapadOHEqynlst5RvPEEsUYFNtBPZdV+lTjlTmxfDupjECrPkWsqKrLl0hs3WrKutosy2dSy2c2x2PnIg7NJ3gh0TTm/H0WpFvHj2T1qVlZXhtbGk4Zy1T1R438HLuRLCbhfEHBxIM4CGBixgNZyDC/A2GS8Q83xcoQM/AKaINmXyuno5+RY3c3lbx9+CPOFqYk7M18LSviZADmIFWocHyODMxgvE+G5BpKlvWChL6Sh3zNSaykytqWAtokLnWBXqCBAADAUK58KYnKG05ODl/lAAGy8QG5ToBBuKgRNzqx2siWktSgoU/Y0ltmNusV1Z1Wrvu3u3vffu/fbEkd0SK2rvpdaYATEA7D6J6x+S5u/D+3fbA3sTd33fbrtv764AZgDZBVnPgRsDxE5JtIgZqtXNs2yuAKlRQNVSnmfzy3MFRgIoAVl9gZYGisR1CbSq85P1LwDNQaxB3BZupoCrUWtgiA6bBV7NxVOstXiydVRlh4M9O6rzJLIssZ7Z5bZQIkW4K7gsQIzJ1UThCSB2hzAFDGJSgUJHpdbj5kscvFwi4N19i2xj+xzbsCwFYs6JMWhQ7cUxk43NM/k9PgnDoU0V2x/A7D85iLlKLEQuVmN+q0HMBw1+4LyYoWhgZWfnJs/6XsuXL78ZOhPiQmzGE8TYy+E76ctEEDA9VS/ui70hcGRzpULbWlVmrZUV4si0uVFGgtsqSnSibIed0yDD1IwT7FsBMSrlhNMJMRYYbuaiTZwIUxYn5O4TNhKIjSWfzDTjdAEsFx3ie1u4f6sg5t/Y0yafOK/0s7hDyuNlct9VwsdSP+J4+/m3IN8YxJhRB8UOARtiRBQ6cNwXSETO2hgOIAPEADZESZmKHenyjLBPLB433KNtikiT8qAgAUdGuoFoykdURbhrQrpSB2MNk2pvvgAcXLJ2xe9ed+798u/nfty3PU7ie3o8STD8I98vlgIxrf1TpiqJ5lfOLrODbTX2rn0r7ScvHhUnti+A2DsP75Z2orguwEsc1yMCq4f377VHDuyzh1PuIT0/uE9ifHFmcGSXtm2UxuL6sPn57NZ1wVRc3+zasHY1V2DUWjk9rF01lQicBF6AGH6D1soQH9bmCdQkSuSZ8EZxXLOKtY5WMk1jfprEh1m2sHyKtcum4xJZFVmuPW4rGgqsu77Q+poqrG+u1iMrC6XtiEh5EMTCpFh7xNgnBt4gqSmSUgtrdF0NJbZJ4HVMe+F29jTbpmXN9v3v/E/tE/vud61WJzvT2Jkgho6+A5hbD3YQc1EjHFImJ+ZcknNPt+PHnJjfu5/k/dYqdnzrW99KnwUWc2PJLvuh3ZEn79C3y4n5YGTZDRYbOTEDC04siKM02UAJ4WYvyucEzgcYfubl9cgMz3ymTIAYx0aU60wktLywTo1MnD0is6W+jJtfXhqArKm4IIDZ8qZZtm/NqjDT8nLEA32s+VMeCL2ngc8J2lzx9woBI/xjouL5ORdGOk7QuR8vEIvLGfIgn8hl/j5eIBbnMeRe4BLKkeGPF4hl6Vh6HDNq10pEnOhABUfmIBZEiykQQ+3eQYzycjEm0tfNgJjy9joDCDhAKzE2O/jscfDp14gT33w56IwHiMVpkdNQEDsv+4lwJpQXO4ZrxYXctazJPnz3dvvEleNaD9tlTxzabe8+tt8e0xozQPbOQ/vtySMH7bED++0dB/fbo4cO2DvkADOADM4M8SLbXACyUxukgr9tvYx2d1n3zEpr1lrYgrJca6sqsAUV+YGjaigQJ5Y/0fAbCrT2JWUOXL3AbFaRwKsIf5LNEdfVXJ4lFf1siQ51okXlZOuR0eKe6qm2atZ0W9s0w1bMklm6+TU2MK9G6RcEe4wOYkj5EiMaibFfOFCUbYolSoUzXNNaawdWtNr5Hf0qb6tOnk6BGJxYfX196MguVgDMHKzwAbAw2xYyOnjBiU2TOuyNRIg3+m00YHOgwo/jengCYKzD3T6IxRqMsLQ0nndo7M85McR3YpeWM6R6ucfhEY4NVW0ngrQnhMIvF10lvnfkxHfwcj+AmAaUb5jFMGqY4WqQty1qHSyPJy7f06esfs/PXnbMADnXQrkaGhoGFVaGSSezbv4c0gl9QzMpEcGSnKxwLhBmaDBXAzcGgDWVFMpJG6my3BZUVWjBN0dmbQqsb2FLIFRORCGcXkZ8v4+KNOzttWvX0oSYtj548OCw8UYKpD4uVqQs3tYxoN0qiJEuoIr5I7gC7kmLezbiojywQDbguru7rby8PNSDMrhF9TeBmHcM91Up/8b+Xajnr/3arwXzTuSFY21oOEc5srOz0/3BLU2MF4ixHoaDC2MvkIsRnRPjGVBzLUXCA0eGtqbaAQLOWHzTNQKIeTxvnr1791pvb2+Y8NEOXZ1LDY3FpW2LrGNxm7UvWhjapXne/JAPHKp/f8xjvfkaOl75fbh+yjeMXTxBG0zT0wIQud4MYsH0ktKqlpbvnqVz7dq6DvvkpUP2sUt32gdOH7anjh2w99y539599EDijhwSuB0KQAaYvevoEXvs8EFxZXsS8aIMDqDsgQWdwI0cGpIrAAAgAElEQVTplPUzm9bYPhkl6JGmZos0CVtLc629tjC4uXBf00UjJELEsV6GP0tKHPhzZkyWm6TxLKULHQezSCdNL9XhnZ012oxcrYM7ayfbmtm5tmFegW2cL06qtdo2S6lm+axymyurPpxRBoihYg+IcWgxdUYHgzC4sFrl2TOr1PYtb5alkXaBrgwXC8y3ds1POLFYnHgjEAs7p1OiRBcnhvPClHEMMuN5HwPWcOkmHOD4gJir6GeCGEZKudwaeZq4apQEbiz8Ojjrd9NSAwMD6U5Mu0KkeNeJpft03Nj54Iv9cMKtPjSDubysRFYHEhFDtkyvAKZOvNynSF4O7uNBRhyAGcLlBLtF1qC5+A2uJE7HCaSn4c8A9ac//ekwwYHQ0OHQTuTkVqxdI8NHjt1YqJ35ArG5FaXWXF1hrbLTOatI5mYkdpxTXhIW0SkHgH+rIHbu3LlQl9xcRK0TAqcZKjTGf143zvXyiUdMgLiHAHq8MSabjuZiaBdNx+n4PW3OVgEnoD7xGQ3EeN/TIEPvp9zH4elJV9yxuNfV39+f7qtuUWS8QQwAc04sAFdKnPhWgxj1o896nx7SXqm2YGngS1/4ouXJ1BXf2id4wx/FMnS8kv6QdiZAV2b/GR7EiOnpJfexONE5MbjGmdq6cn3vBvvAXdvs568dtY9fOGofPnPU3nv8gD19Z+Lee+ywve/4EXvfXceCe+/dx7RudkxajIfticMHBGb7A5hh+i2xmrPRrogLOyW7iru052pZTZEt0JrXIqnBd9QVWtfMGdoeI/GguCzArElrY3PEkc0VRzZf617Bn3GH1r0mKt4kayufpLUvgVftFOur1ynUMyfZ+qZptrV5um1vKbLtC8psx2KdNagtDr1S7GDfWIHqhgp9UOwISxNilCYkW6c4NRqFlpbSLNvUVi9NysV2dkuX1vCW2uaFNbZe6QRxooMYBNIXf12xw8EqcGUpdAQtXbnjrQYxgMs5sUyRJb+9VSDGordzYvv27aN3hcs7KwPCxYmEOWH3ePgPPPBAGAwQRQYFxk+dmMXxhnbigElD6A1xw8ASSFCmSilIuLVnOvc3fu9308BIWWIixrteNn7zgexpQigp35133plOg9/8Amj9nThdbwfeC31G5cifItM0eTlBOxE5NwCGq9Zhdyh6NAmwmmXNu6WmMgBafX6uleoIejTBqN9wIOblGM1nooHFcWbdf/7nfx6iO2CM9i6/U0+Ms/7VX/1VmoABJjGgjQhiDgojZOSTCf8ORKMfoBb/+o8Gz58i/PTp00OIKO2SBjHlE7Z0eH4pP06XNLhIP/5eSejw//m+TGJioguQ/fIv//LY0vDypDijS7Iy4WOHvuHixMz9YePJiXkR8DMv+kHcRkg20vGjseu2Jn0iT3vAPb/pSr+sX1IZ+niI48btyf3YQExJprUTf6Rvn4gTGedYvfjJe0/b5x48ZV948KR98vJd9vHzd9lHTwvMTh61D504Isf9nfbBk8ftAyeO2ftPiFs7ddyevvuIRI4H7Z1HAbFd0lrUKRK7tFdTGo24k2u6bbu0NZfXzrB2rWW1l2cL0KZbb2OxLa3KtdayqQIpiQpl6qpZQLZA618LWTfTGtiikom2uGyizjubZF3ivJZzaKfAa82sybZhzhTbtTDP9rQV2t62UtvbXmX7l822bdps3llXYjWiDwUa/4gMMTs2RW4SOCMX1kpV7xptpqYcRwZaxDl2B3d05YKwZ26NNq6/CcRcvddBDPBCZIgPe+fg5UD27wlivrnawcw5s/ESJ8KJ+WZnQMwXwRsbG9MnMzsIhU6bGrROLGOC72EAF+IiOAUu3iON+CiG0UCMdCEKmJuC46kUV4OYJV/7sDjK+/HH3jHsTNDLSr4+iGPCBheFKGnLli1ESRMsJ7rDDUziQfQ87Zqq6lAmBlmhuMOqglxtcswO9hODmj2q9nlSuUXNvqzY5ktrEG5sflW5ODSZ+pGYyUGMgR5zYuQ1lsvLEteNNhvrRT0dqOFQKYcD2HiAGOWICan3DaeF/O51ALBiIsokYzQQ430uvrGnnYSM/T99FDFiXN/YYO0NU/KK3ADEfD1srJyYK3vQr3D0fweMdFlS+Xn27qd/H+EmBrHXXtdUQt8fh2icbx+LkJGevOnyjNxXhOHGCmnF7sYgllQvJJkGMdZ6MTuVWOyYrTXmzzx2xV54Uu7xC/a5B87ap6+dtk9dEaBdOGE/fU6gdvbu4H5S/kdPHw9g9uHTd9tPnBRHdtcRbYw+oDWyPVoXS06WuL57o9bHZIJq5RLbvrDe1swpthX1+cG8VXeN7DM2Ftgy2WlcKkv5KGcAWAuLBFolk22pgG6JgK1LR8O42LB/5mRbJbdu1iTbMm+q7VqQZYeWTLfDHTpxuqvC7uyZaYd759mWtkZbXFlgZRIlonmIVXqWdACxqeLCcuSjsVgqTmy+xJVbFtXamfVtdmX7Mju/udP2LJsVDgldLeD9/nf+v8RiR31tsk8MEMMF6wECrSCXxLSUuJ5MEANEABYHE/zRxH9x3LHekybA9R8FYnTEuAM6wWNQvS5r035BOGPimdmxnVCl39eLSVgiTvAx8SZfA4xBDIBhgqWxulRiGYGYHCx4TUV5KIKn+4Mf/MCLlCbOcbm4d1BLR0zdOLh6uNfB4/PshBIi5+VKQEyntgrEMDdTg+FQKXcAZHO09hXWxeDEUgA2W9xkbS77QxJTMz7YbwXEKKuXz8vt9fXye/hwfvzuU089NYSQxUR9VE7MP9wwmXg5yOu1N8Td/vhH9oqsluPHl4tFvT3wL5w7n6Zww3FipB3XgfToC7jM8Div+J61OfKivi5O5CiXMV1e75sAMefCwvrXMGtiNwtiWLvwYgyW2cV0rDMN9vkYxCiyX3BiDmD4TCbGYsWe9/37elr48TfkPqYhcTzuvezBHwbEUJpq1PryZ991n/36Tzxkv/LUPfasAO3zD1+yz10/Z794z1n7uSun7NOXTwf3qctn7acvnBKndtJ+Uu7DZ+8SV3bEnrpL3Nid0lo8qA3S+7fJbbYHZbbqxECr7VxYLbFfmbinIq1jTbVerWmtmi2NwplZQTwIl7W0QmL1kgkBuJbXKFyKG33Vd9iqOimdNE4NnNempsm2o3mK7W/LtiMdeXaiu8hO95bZmYF6O71qnh3pm2/rmmuMDdBYIYGGsZ5OHSdr7T9ba2KsiRbrt3pxYT310+1QzxyZ0ZL91S3tOuizLYDaIokY1yyZl+wTw+zUaCAGgP1HgRhg59yX+zEAvtWcGB2wr68v3e8cLELP0yhwgukRWFfxy4kI79DRnVvgPp1OSiY+pCMrAX/mBgADKODAmmRhukQ75bEj5qZaIL6ZF+l7vpRjOGJHeeIB6Pdx+bh34PPfyQui7iAGR8h6GOZmsGLP+UMYAcYBYvGa2LzKMnFm2p8jCwlwYtTLB/ytgBh1A1i9bM5JZrbHWJ63bduWJuKUyYka97cDYuRNGWlHvitiRP++IUxtzIQGC/Bhe4uIqK+JjQZipM13jvsaYTdzocAQAzb1/drXvpZO84ZpeUWGATEkGnBhMSfmihsQquAEYmyABriC5Q7NyEcFMfJM5cftaCAWDpxMVUJNba+/Ie5Lzzgu+o5zYt4X/71AzMvhdUg2OyeTGzgxVM4Z9zM1rn7xiXvsm5940n73gw/ay++611561/32wqP32JcfumxfuH7ePnvfefule89pzeyc/eylU/ZTArCfvnTaPirODBB7+rgUPe7cZ4+xt+zgdnvHgU3BePCJ/vm2e1G57WwtFQc13VbWTw5uw/x8aRTm2MpZ02ygYYqs6E+0nqqJtqJOANeYqzjSOqy9wzY2TrFtc7Nsd6tOrViUa4eX5gq8Cuxs3wy7uLLMLq+psasb5tj59S12cNkc62sotUYZFS5SvVgPQ+kHEMMQe644sTyFwYXNK5SNSK19nVw1Xya0Ftm59QvssI6dYdP3PCmVrFw4NwGxfxCINYgTg1Ci1IDjsEgHLvaChXuxtb4+5SASc2LOhbnvcUbzM9McKX4MYPE7byWIIVJ0YsJMyjs8fuDCUqPAwSn+nXsIi4OcE9k4jnNnIUz/vEPHPoEQergwOvPcmjKbLeOZqJ1icJfvlp+fH/JxLol0/Z58M/OOOS4HAcrgF+87UfQwT4N0EUUy2APnLp+9HKyH1cu8FAffYfWaYxxws2TSZ355cVgHQ6TI2himZsq1hlYiEeTtgpiXLy6v33vbe5wb+QABiiEQcyfoEDInamMGMf94qcy8LB4M9/Xq66+Fb/39H/xr+psT3Y8x8Tzpe6OBmH/n4eoW9y//3cvhPuFoR5InIkUHbjiT4d73dNK+J5QBYkFykAIx10wM2okp8MJWYiaIBUseo4FYRn48OgBwP3gNcmJaTFSwPyfj0pOhX/PtOeE5nP0l+udLCe2Llwwml7pLv6dnz8/HRhzZv6H7I3Finh4lDKUUzUjKmogTOUuLcV+nwyg/eumYff2jj9o3/8uj9qvve8h+7X2P2m88/bB9TWD20qNX7dmHr9iXHrpkn71+wX7u6ln7mUsn7VNXz9h/OS8QO3lY+8qkwXgs2Vv2jkM7Aohd395jJ1boJPYl5bZ/aYXtbpsRlDFQyNjZVmRbWnR+2fwc2yCQYp1rZf0kWzc7yzbO1dlm4r4AsB1zpwm88uzOzhl2sqdE4FVsF/tL7fKqUrt3fZXds742gNiZNfNs1+I6cXSiE6JfhSnagYIaIDYNMaKYFkSJtVMmigMsCqB1ft0CGTNusbtWNNqWBaXWUaG9a7Lqv6K1yf7527KdGIOYW7h2EMNKB6JEt9bh3JivjcVrYg5e7o8ERoSH9+WHe3F5MSjd6L04vr8DuPl6VqwqH98DzDxn+nGcdBqaFRKPRWnvzAxs1J+5nCjRg/3eOyKL9Umc4KX/vfLKICi8wTHkGlCvv86mxmTGFSJ6Iv6WP0v85AAG59XeWGXdshtWLXkyHxsQgOiyrsHFgPTr1Vd/qFsfFInvv5M85U24Aji1N4KIy7PFZ8bKugFXmMHq/lvf+qOgxQUXxlYEBhgLs5W5srMmM1OAmKvXY7UDLqy1rlIWq8t0HHmBNRYXat0s18okBx8PEAOo/DtQzvQ9FRjD5fHPnj0bCDj1CnVTH3AChH+rIEYRyAMxorct7e73zpURjzKQl2socj8aiPEeF4TU6xLfJ78O/vd83ecXt9zv9aU/QdTHfJHYCCAGgMUgBpcVnPoO+8IS7cQkLF+cOc/0p+maSNO3AUO+x5su8tPFf3p8XB/C6d3uECcGJ1miAw7x6d/J9SN74flEPO7fH7+j/c37xDyf2Od7Zl7elu6PBmLp9FzeqQTPnb+s/pBY86/SeEf099K7LtoffuJx+90PP2a/9YFH7esfetR+670PCsiu2y8/ca+9LPf8Y/fYMw9ftc/df9l+/r4L9lMXT9gHTx219504FKx8vOfYHnvnkR32+KENdu/mJXayb2ZYs7qrp9oOd8k0XEu2bZ0/TYoYhUExY3trjm1rzgriwrWN4ryapup3HQkz6w7bPney7V+Qbcc7ZtjZ3nK7NFBp11ZW2j3iwK4NlNr966u1LaDGLq1tsLv7G2zzgvKgEFKeol9Icegf0JFsTWywnVmmPjBPtGPzwpl2YjUA1mpn1861/R2VtqI+x5ql8l8r1fsVC5rtX74jK/acjDmzvjac+YPygK+JocwRO9/0jO9aiyh9ZE3KFiixbpYljg2uTfvHUs/+Gz4cna+tkYZzem5R25/dJ24SfzC9zDxi81ce331PB5EGgDScTxjxeCcuH6Dt4RBqwIx2aZo9J00o6LQQjVdY49C9Oz+hBT+MM/VOSY80qyWGBtaPAbHXbNOmVfJFgPV7WBp5XTd0YB97RCeRf3vNCqdk6yPDaktTp162w7RnYlmRRAwsjMolA+UO27Z9ZxhOCQcymBf52Y+1BvN6AmoMGJIPWei/dknpvdft3/T7YLj/rrfRk9BLv/+NP9TBhnkiLCzEJjNExJqIBeCs0DhEiaMqd2rYiV+epc5YyVpYmRQ7ioKmYuW0STobSfvIchRH6vhor1F+CDfrbJQNouDEnecQpn/4I14e0X3aMfWCB+GnAQRUTj1/85vfDGUI4KVvHay7q2/w3V3RoqOrMwCRvx9eHod/DjwkhRKHEz1fm8ICBpfHc98nI6GOcQX9Prw1+M+DM33S61zaEerKOPH84cT4DaIfuyH5pZKPOV5OVqAdAR8/dJYJIqevZ7qgsSgihkiJ4+Y5BQE/V30a7p7NyIMg9iN9u0Ex7KsaVKGvavDwTZLv4neUGxGr+nXqOw+2RHIX2oF/epNx+OwXP2dZOmgxDWLRxDB5483/ed3HC/dJexHyo9COQYqjOkyRibgvPZP0beKFCU2qXOE5TBQZr+6SdM9euEfpaGO4RO8oQZyWivl7j6y233jfZfujn33S/uun3m1/IK7sGx96h/3O+x+2X3vqegCzlyV2hCtDvPj565ftM1fO2cfO3GUfvPugvf/4Hu0t26E9ZVvs3YfX2/1bZQJuYKZdWD3Tzg7U2t1dJbavJcu2zZoQRIMHWnMDl7VHoLataZLtmCfOa95kgdck29k8yXbPn2iHF0+zs8tL7OpAlV1fWWP34w9UyJXZ/Wur7NqaKhksrrbj/XW2cVFFUNmfoW/OcgITc1wQJ4uuEN4greWB2ZV2dMUCO6+1sLtXz5ZCSL1tbi3W+YQ6j0ybrKsEfP0L2uxfdB7mEBALNsZErFHsyAQwt9iBDT9s9wULw0JNB6xMgPHwBNQSQEpAKQHHABLiekYHMUAmAcnMPGJwdPDyPBzE4KoAoOF8whys/P30eylwYxD5QEJrc86cOem1JvXHMKaBgH97RQCgPggo+WQKnwiv/JCOrdvQcV+3CxdPizhOsN/7xm+HQRASgUPTYr/GXQC9MLZ4X44FTxyc10CNVFabtNg5L996tMgKgASCoQEIAWpubg55hRc1OBmgb7z+b/IT8CSccjDcE7HW6xpUP9RTQgCoyw8FnpT4Ff3DZ6A9/9zLwfhwsM4hYscsmc5XLFcqVynzUQBTjRxnigXVetmmmyPr9biGGVoHU3i5xASAWL20FitlaxEuk5k/A57ZfyAEqTwzgYxycNGM7uLnUFAipdoN39P7oUR4r4lIeBq8BxA88sgjiWaeykFfpF5w6DkyPgoRhqjRrqhb86473ift0RzxRrsckAAsF2U6mCBi5BqJGKcL5AVzPyNTD479JOHE0rsTb8/3xRdfzEgh9ZiRAGUniIu2cBX7HB0ZxCTRJRwOYP7MMkCirQhHloAY53lhST5Yk1d/om/QtyeLgCPBSPqo2Q9efWUIeHi4+3EHoN2GazsvczKxe81efv7L4dvTDpzdRzvEih2ejn/vAJIq0asa8IwRgCm51Mc0iL3fBMPd6k/PfPm59FgKTZgql48ve0OSmddfkVM6isCc9uSZy8GCBVzKfFnDePToBnt4W7t96vwWrYvdY3/y6ffYH3/qPfbfPvlu+8OPPW5f/8DD9htP3We/8q577MXHr9lzj1y1L9x/xX7+yllpMJ6yj509Zh84vtved2y7vffYVnv3oVUS9zXbuRU1dkEAdmFltZ1ZXmZHF+fYnnmT7Ehbrt25JF/P021f8zTbJRDbPfcO2zVvQgCvAwsn2+Elk+3Esly7LPHhfaur7cFVNfbgQLU9LCB7cGWF3b+6wi6vLJdiR6UdWV5lq5pnaM+blkBUp3yNeyYwHHiJAWj2jFXILZSBhG3aA3ZuU4ed2aB1sN5629Feav2zcm1RqTZZy3pJqehhz/xF9k/fSYFYfV1NcvqqOlEg+Bq8gFjMfTmIpX0hIXEg/i4CHE6UmITJ9ExKhd3FejwPrmclnd3Fex530B8+j0SUOPhbprjRRY5JGRPAJE2IlaedWWYHMQc158IAMO+YrEGxLhQuzfjeyBAN0knjxWOA7d9+KOUDhd9z7/Vw5DiD5NhdxzUINGMMAAPQvGIIGeGX1J3tVb0A/iWmnZi5TLCDnVV2ZUWZPbmlzh7c0Bi0d0okL4cjC6JFpVtUVGRPPf2+kJ+S0SBmqCSAFgbKjxkoKSfizgwwrflGfBF/yupuw6aNYVDnyCIHBAXCkidAqtL+rxq4KgFTnc5jqs+ZEqzXB+1EaVM1YHZKBldnlchmosQDbICuUFzAriEPVfzsBMSUHlxAvMGWvJkE+IRAj+kLAPPKhXiDj4OFzogT4lExXawjffTDH7FFrQsDaAAcfNtQL82avR+GyYGIMeJkxLVODMOaYpR+SPQW/0EUPV04Mcri4kR8V7EnHhdxY84n/ZG8PO6PsTzsd8SSR6g/oJNStUfRYdjL08fXRVlStwHErlzS2W5qSyQYYaKTGvcOYu4z/nJFPxAfQsSYiSNOZN0MEEPExPvhG2iC5sAUwERPvq7ItCQBFp9UEFUl8nLq8cYXk7wf2ssvvRAMBVN2xvzIZqc8NXJOJnkAmbdBKKekLQ6EpIP78rMvJvFTIkw3lPCaXmRkBhoSxmQy+OjjFy/eF2gsk8UVMpj74Qt77ekDK+wXr+yy33r6kv3BR+63//OTT9p//9l325988j32rY8LyKT08etP32e//O7r9pUn77MvPng5aC5+5soZ7S07YR+6e6/9xPHt9v5jW+yJ/f1at5pjZ3oq7UK/RH7ioi72V9iJznw70CKAWjjN7l5aaMcW59shqcvvk9Yhbs+8ieLWtL+0PUtrYDl2fkWB3bumwh5eV2fvWFtnjwrMHl1Tae9YVyUQK7MrcudWVdph5dM3e7rGf7IUgpJPjto6iJRVR0CsXpKaFTqo9M4Vi+zqjm47tXqe7V5abqvnyIqI1PmbCkQ/REOYvHfOXTAUxELHE4hBTCDYMYBxnwYvLb6Fe3Uy4t4YxAQYKqgDhvseloAYADYaiAE6CVjFoJMJYv5b7Pt7nnemH8cN9ykxpoNYbnZOGJQ+yH2mirintWWB/cKnf1bTMAEBYKTZ4quvAEYSfAAMuvPB9o3f/wPr0CnI2ELLmpavjj1FYFNsz73wjD3/whfsxed/0Z597nP2+RdfsF966av2+Ze+Yl98+av2xRdftmlab2Iw85GfOCizMyc77GePzrVPHm+zh3d06aMXWbl+Y3bDrBYxDAOnvEKd6IGH7E//7P9SSSA4gkhmjAwWZn340Ea5136g3ygwTs+//du/a5s3bw1HhFD3HG1gJl1mhTO0qDpfO+57F86x9poS7R+RjTWthXGSM65BR5VjV41TYeeU5Oko8rxggqpKYFulTgoXBojVCBQZoNQN9+D9D9jzzz4XxIrPPfeCIdJ6/vkXg3ryCy+8FEDuxedfspdeeFHuZYNb+NJzz9qXX3zWnle7se7A+7H7/Oc/bx/6yIft3IXzdujI4TC7Dt9S+eVO094o+aG/y5+elZOSzWPnL7EEQ7mIM3dOUygXm4ARe774/AvhuJOQJ/nehqMe1HX9+vVDQIy+tmPHjlBvQIV4cKu4pG2eD2Xg2JVMN9byUI8FzS1hLFNP8kSE+uCDD6bziNPKzIdyvPjyS0G7j3bZtWNn+JaJynTC1TLe2cwaO8YhgJYrcRlrIfgQM+IEINNvcGIOZM9+8Qv25We+aM89+4z96td+2b70pS+FdnnhuRdV9xf1PVSOyMXlpPzebpTxWaWB/9xzXw7g9aUvft4efOB6uq9D15A0NTXNC/2Pvvjss6SR9DEmW89rDQ333AvP2+dVtq9+9av27Je/ZM8/8wV77kufl+RHIC56Cq3kxIlHHn7cXnzhq/aMxIqU7Xnlzff8ovrrC195OdQLbvD5Z74s6yHPqK4v2s7te0L9GdOrZTT3Aye226fO7bBfeeyEfU3uN9911v7ww/fZf/34w/bfP/mE/fHPPGHfknjxd37ifvvau+8VN3ZVa2MJiP3cVanfX7nbPiLr91j9+MCxTfbozmUCLYkRewVifZXimKq0plVuJ7vy7eCCSbZn7gQ73p4X3FFpHR5FbX5Rlh1onWSH5E50AWD5dnVVkSbUVfb4pjp7fGOtPb6uWq5S99X2wJpSu7a2wi6tq7ejvbU65V0TX6nOQ8tQ4shV+6Dgg5QJkelCTXrZDH1qzeKgVn9X/2zb0lpkvXXacK0lFBQ6KrUexvsd81uGATF1okwQy+TIBsENTmxQWcKBic7JfeISy9WAFKKDpHOyF0BiA2ZcY3JDZek+EMIAkKXjHKmg5kzQSdMpxz6D4d3QQeTpDJY1KbODnIs5mZU5oXNujHoThsgk1EFxDmrwXtfhjHTkZ778eRHV5+wTP/1xEc+z1jCrMYDK1Ck5AbwmTpAYdnK+OrgmC5p1ThY4MFjD7E2z7wk6aJLjCCZoIANGENJifbwm2RB738F2+/TRVvvZ3TX2S0fm2Uf2ttr79y8Tq59vzeJ0yhSXD0x6vDs5C1M6OuereqZt2rZTpo2u2ic+8Qn76stfsee+rAElcHjmS8/bk088ZadPndcif5cV5BcGbhXAShZcE3BkMHE0Q6vOBerWutya1npb31JvA43lQeOoRaZp5uZNtFkqZ6N8wIxTXRvFhXG+WI2AsFbrYABYowCsJmtaUKdFxZryct5UrsSKTrhoY29/7nEOeA4uwSSXOvUdEj9NVDt6PNoytC3tqfdcy5TfE9CiXSPlHYWTb8HUbHG1iVpzoc5uQ8nJv7d/f9Jw+5o+qblV38WHbiuRdAiD+/Myu4kwz4Nw15wMXCScZIaj3TLbztsm9r1uxGXsu3ai5zlSup62lxefcpE238bHEeMsS+0cOx97+KhUZ8nPUR/Nkwgf38c273DPd8nTpBFg8O/vpteS5+Rb8j0HXVIORJqhLdQf6BO4uP6UG443WYNMuCbGDWJzAAg/cUPfS6eh9HK0vYRyUE5cVkoqwj36A2EMi1ahaUhaxClGXIsAACAASURBVA1jS/Wh/2ZJrO7txto3Zc6enBPSYmJarf59oGue/czF/fbMfYfsN9950n5L7lsfuGrffP9F+9ZH7rH/9vEH7Y9/6h32Rx9/xL7x4YcCN/bSO69IyeOq/fzVk8F95vJx+9ipvfbRk9vtg8ckmtzaZpf6a4MyxmVJd65K7HdF61hnuyVClKhwz5wJdveSHDu5NE9uevBPtEvEqDWwE0uz7GJfgZQ4isRtldg7NlTaE5tr7cmNNfb42nJ7bJ2cwvjt6ppyuygQO7S8TjYVc61SmomAVr7aI3ETw1rYLO0tXSnr9nfqqJkLG9vszOr5UjSplUJJgfamTbb5EkPWyshDiWgmtKhDTMQ/flfixO9999uGOJFGpEPTkTlTzDmv4UCMMOKGNSX5DgTecR3A/PgF3yfioDVeIEYHzwSx8AywpdwgoA0PYkNBd5BrBMR8HQ2ju95pIWROzLwzYoWbTkmnDYNLjTxJHW8iYhGJ3XgXI6jEz9KMk7JNkx82+oUwvZfyPR18fie8TGnVamAsL51gP7F7of3CoQX287vr7VObK+zn9zfb+zbMtHuXldmhFlmeFtghV8acC+0fBqOUaiZNxlaivqvy9kHKbJP78MxsOcWZUM4CiXA8fwZSqdJj30a7zhjqrcm3PnXGlTMLbO3sYls3p0RGPkutb6aMhmonP6ZpsLE2W+cNzdJ+jpnZOkxPHReNSsQFs7TRGVeXnRU6M/tCkI/H7YHWUjg2Q77PyPHhBgkPv8mnbSEE+JQ7dv7NnDDjhz6ueHDxrDMSf7ps5uVq4gDRzNfsEFc0NeHK+KbEAcw8PYgMYfghf907wNyOT/liMCMttwfJPYAS+zfKy8s6mg+B57t7n/b0Pa/MPDLTAwAcbPmNdmEtkXbDjQ3EEvDKk1JYAmaa3EyScXEROcYBdAMfrh1RI/d5mrTgD+fIFzCIQY9yefliH1qX1DHhvnxsYOAc5xMdV/CK0+Ee53WlTPRbysQZZYTzO+lM1NhjLDLxHVJmicYoD3G9bvzuY48J6RJZlX/y8CZtcr5iv/3UBfuTjz1gf/qTD9q33nfJvvnecwKy8/b7H7hgv//By/bND99rv/+RB+33PvywtBcfsZekrfi562fsF66dkoLHMfups/vs46e22weOrrYHNjRLGaPG7pX472o/IFYa3IXe6XaqUxzX/AkCqxyBmvZ8LSu00+LQTnXmyc+1i4pz/7oye2BticSIZQKsKntyU7U9sV5ixFUl9sjqGRInliecmBQ7Lq1vtAPdtbakItvK9Q2LGGtqkwJNYgrVB1lTX1I13fZ0zbEL0pi8pH1hp1fPlXZkma2sy7ElMnU1R/tjAUDahL6wVNqJbwIxAIyFSIibH8LIM845MIgAzjkVBzJ8X2tyUHMwgxMDyBKxoYsPk7AEiIZyWzcK81ncYJxBwHLgGuqPlnbCEQKsOC8jA8AHQZiN67dCLMir8XAMVHzKQZkS8UnSIdPnF4lohzgQXcUtlM8sAg2cOp0kWy1xA4QdddE6+XX6Ddeg+3macSyU7LhD6qTLCyfYxurJdnVZrX3yQKf99La59nGx7B9YPt0eXTTRHuvIsWttObazShpFzcXWUSKgkFgPG4YzxO3Q9j6gEOFSVspFGNqB+O6CCRg9M9MpVlmqVI55OsunQ0chdGpRdZ1El31lU2y1jlpYV5ttAzL4uaY+T2q3xdpLUmKrZ8+Q2RotwGoher7OIIJ7rBeHWKXBDbhS19k6nLAJA8DSZqyRJlKp2oEd+nTOEh1OSDvRScNGSPlhzURhWCrJUTz/jfsctRUO4kF8lAMAYLTbqBN7UCASTpzpx4iKAbD8ablhogIY0VfhwrLUNkXSBiUPRFyIFUmHvk0/CJMbvRvSVlsms3Sfrb/Z93Ezkg/R5Iy4eELhE4ugFKDfeUaZCheHTRHw+jh13yef7nu+vk0m04/LH0zMpca+5+njP+2rr3va+A5yLsGhfbxvoRyTHq+KizmhtAsTUIkQBVzZtDObXCMQy5cyF4A2nS00an/6caG09OiXPuErFABM13fG8d3ZN+m/AQR8owAY6hs+6WESRDiOciYcZcJ1ZU/LCZzTZJWT33CMFe8f8Xuky1l4gBX3lNEnYQXS1OXZJ18JraDPJBwp8cL40rv0aZ6nqw9zKjrlZwJapAkLSlNYlr+4udeeefSsfeMj1+1Pf+oR++vPPWX/41OP2+89ccL+4P2n7etP322/+s6j9vI7DtnLj94pUeI5+83332u/9cGH7KUnpW7/yAVtggbEjtrPnNtrnzi51d67b7ndv2aW1OAr7AHRknsHigVohYGzutJfYJdXTLfjbXfYXW3aq9hTYJd6i+1sV56d6cy18z15dk9/oT20vsweXV8RuK7H5T+JSFFc2MNKBxDjt4ckUgwq9uvm2L7OemvT+WTQgZIAXtNEC6eEes6WgeO1LdrYvG6hXUFjcl2T3S3V/y3zZliPbDfO19EvdQKwUrUTXBxttqR1/vAgxmCIQez/r+09w+SqrvRfIUBCWWpJ3Wp1ztWVujrnHNVSq5VzlpCQUI6ggCQkkkBkSWRjbJIx0YAxNmATDRhwGtvjmbE9DtgzDvO/98t97v2y7u/d1btV9Ajs/zz3fljPrjp16tSpc/ZZ715rvWst/3D4h2EoiOkGeyAbCmJaDSUCmQcID2rOfYSSOA9InwUcKRB9ptG/HnwoBh6CMZjpXyzx7+r7cUbU+TF+3Lib80Igprp+ipu4SSwlhhKR6OHUyl3/TRPbg4JWWW7iSylieekz1QZzE5bX6dyAEsqtdBCk7cXH3VuYbOuaora7rx620Ew7u3mBnd3Yb3esasfiqrEb+0vttgVVdteiajuLy/C2/rDd3huw6xpT7NrqiXYgfIntgSm0JXeYrcwAwDKH2UwqSPdQ86whixbgGZMtmDzB9fZSDUNR3idyPgILjTovWUHu/AAXbVfzPSUpF9JqXH2FKmiOp6Kg1ckjrWn6aECL7H2qVXelj7BOWi50ZYy0NkrUtDJ25IzDKktyNdjqMsaxgrzMQlS8zscHnsaxNXmzeGiLIHaEaMcSmkCtRX43QH5ZIe8LKHKaS9mqPOrEFeIbD6ZOstD0yRbNmmaluWkWJeAbSIXpSJwtlzhb7lQIIzAg4/lpl7n8M5W0CkxPpWvvJFrOy9rSPcRlxb2Jz13uIeXSxgBUUioCJlnjmldSmN5PP4HXAjFZZSNRZNpn3Ki4i2csMY5JuGl1310xgIFVu1+9J45xr4U8FxcWgYN/3gQcAqbLiM3ptd8+GremAEzb9Jn28YA2CC4cR6/9c+pH/7uesDR0FHAJyDQ6i4E5reOPHAnpZuB3En9Lx00EMVlhsiA9iPn5P2nMOHft/bPtFgQOrARE559pXV+B1YVBzPcag3VLGlBTLGId1aXWUhq05tKA1Ufyrb0iYu1VUWurjFhjWdiqQgUWys2wXDqIp5GTmDJhrCVPGm/TqNWpfndq3DoZL4DmxriRWEUsvvXcjh8VX6DqmfbgO4HtjkHJsz+ORasWeLIKNer7yeQ7prAQS2XuStLo2JA2brRlwK4T4CbhMtf33TG5bnJTq0/aRKxXAVUqRKje6phtJfF4TmO1lWWlUV4KFi96YjrPSWcg227fvs6+c9dx+/69R+29O/fYr75ywn7z5WP2szP77BfnDtgHt25xIPbCwcX26I4+e+jKWfaVXYuIha23Z6ix+NzxXfbUEcpT7d84AGLz7a61XXZiTjkU+Ezb0wzokJC8p2WS7Woeb7tbJgBmE2x3G4nLFZfYijD6pXY8ZLLJDryuFBOxHhBjnwPtk+0YLkMBl+RY1zQ72jbZgdgRfYZldqg3i5hYpm3tLLRF5VmuSr70wFRAbBL3fQrPXSrXIjYVRiQ1Ebf3l1OdI4ReTLflVak2I3+SVRDCyCeerkW/Fry+5F5ZSdCUIjbMl53Sikp+9qEgNjiB+TFN3vMWVxy8ZGYnPjB6SBzZAyXgV65DwS0ObPGbq6KPIlTIvTO0PqInbmj0rxOJGCJtCFQUkJeyEmhKwQhgJNqmzwfdnExG95qJ5LdpUooZ5V2dHmjlipMIaLVNr/2E9vG9uIWDxcbxpACk0EajHKUg9XAm8d0UlLSskGIskgYyzaX45+WPZlJk2w0LK+yejZ12Zk2TnV1TZ/esrLS75hfZ7bMy7Exfhp3rz7AHFxYQ/yq0c3Ny7RYy36+pn2Q7S0bapsJhtiEP8AK4lqRDeaWG2WzAZEb6SGunaGczgFOXOtpqMd+raVQnqQKIKqk55ipVAzDlTJzKlHFWkTx+UPReUo3lVZ0yevC7tXRoraEIaB0AVpeMdZhCOS6khXpqbVSw7kgDxDLHWHv2OOdmbM2eZM1ZSe44USy5AqyxbB5MST4rqjC5ZKWAVRGuxiBdYoNYjkHcj9FJo1yFbDXnK6ZKdoTziNEiojxrCu3MJ9KifLSLyxXQRr1gEsnUMCALsOpyYEnKRRmiKkhpRjqsyCRcgiyK+D3dOylZD2JS7JqjHszc3MPNGi95MwIwR8Eh3jKQZe/2GQA/3V+5u1zFGu55ImjptQDBi94rLiLxgKLRb/Ofa5t/jjT6fYd+z28fCiaJwKLP/DPocyn13omezwFxgDZwfv64Ak6Blxe99zpAuiHxd+Kv49dWz7gT9klU2opzSYaCmN9+oc/8viJ6jOfZk6VVmDrZgVdHVcRaSgqstTQfybWOigLrqipy0sy2ymK6E1MhPYNeVZMpezZR3ggsHIHNVObHBCzz8XgfNLrq6XLhMj+kD3zYw4U70GvKWZOb250D5yHrSt+T1afeeakAYgpxHDWBnY4lkTZeCykISwI3KthMGY0uYN4JADXq/yTx27IklGoSYUG2aWYL7UVabRbAXEZOZQ5NZbMAsWIqvC8uL7Knrt1p799/wr5PzOvHDxy03zx6wn77GIzEu3baJ7dvs/dPb7bXTqyyJ/f024NX9Njd6zvt5hVtdsMyFsJrZ1I/cak9tGcdBYM32SN7VsNUXGK3rWi2Q11FuADz7UhPunMH7sV62tGIXkL2tI7HIuM9Ftk6KPSbqkfZ3tYptq1unO2GibircRzgN86uap/kwOvazlS7FvLGcWJfx4iBXdMxxQHasV7iY7MLoPHnQ7HPs9mhaRaC7DWd/z+N5ysFIBMhrZBFbU8og5YwJbZtFk0vewpsbWOazY9Otkb6k0WwwnK45sno0STNBxYRsqxLo8X/MxDzVolX7HowEh9i/7D4h8dZalrpDUxujW7COPCSFcTDxSSX/ztx1HaBlKwsZ/24/WSm87BwDO2v48iUV9BX5ABNQk1AmfEezDyIDT5kAjKBmITvDwUxvfdA5v+jJq+O66igfF9sGlUbED1Uq3wFdv2KXqutsZyjSqqIZJHJhQ+itJuTL7GlxUm2o266nezNt3uXldgj6yrs7JJiu31Ott0yK91O9ybbHV0T7O6e8fZA3xS7f3ay3Ts7xe7omWw3tIy1g1Uj7crIJbaukATDnGG2CACbT+uD2XRO7Z0+wrqxkjrpqipXXys3vzl5uLVMJSmQWFoTOWWNkwFSJ9RAm0yeBY3saunMWg/5ogagkeh9LeAhqaH1Qi2VqmXO1wFgtckXW83Ui5BhvMbVgTRyXB1f1pmstFaqX7dihbXRj6glM8k6aX7XnpPC6ymUrEnm/XQnzdOTrILGerGxABqWmsZSrLboeB7uicOplA3I0cuoFPBVO4iKjAl0ix3r+hupsnVAPY7YPzxhlBVjZRbw8BeNuYyeRrhTM9KsiEohk3FNSlHJhSSrWiDmQUHz1C06ACYBlABMMh7xICYgc9vdHIwvsgRgAi8Xs+F7Okbi/PevvwjEPIBp/EdBzAPcINgMAT3/uUbt4/+ffw4HR/3vAfELTn9N3LEBrUQgSwSwRBDzvyd3nK6rf770THkQk6fDg5UHJj/67XqmpOD99sHRKX3vLkTRpUx01ldXVbG1UQW9rTQHybKuimzrqc5DCqytLNeqilOtmLmSztyaxMJpEu7wSaR/aEEzAeU3AVCahJ6YjAUpgFL3BVlWDrDwnmiVL++J4sCyluSd0OtJbBf4SKaMoC4oFp7AKhWgnKZYDaPqhrqKNQCZLLJpAk769nl9Ia+HjqNwQjqL2/ZAlu2eTWfl9ipKPWVYdMJoy8NFmcPnMY65o6MClyDW1rmD9uHd++xnDx+2Xz9+0v71EUpP3XS5vX3jBnv9xFp7+sB8u+/yTrtleb2dWFBj+0SKaCyy9XUB29gctT0zau1Gkpvv3bLIvrx7iZ1d3wWTMGiHOrMcg1Cxq/2tAqcxWGNjbV/7RNvbMRlrbBLW2AjbSHxMVHm5EA8AUgcAr4Odk3EjTnUxsBNQ6Y/x+TUAnSwxWWTHZ0wHJNPt8Mw829OZx/nkW1+Appv8L3ll0tGR6WBAPvelfjrlpeqKKPBbats4r02d2bayfprrQ1ZDxXwBehb3JgW9Pxn9K3ft54BYPB42jB0vZiJrdK+xZJzLgsmqCevdh4OKfuBB1kPiAIzvJQKWrCO5as67BfX6vPUjF44UvywXTXqNie8nOIUh37lci0w2reqY+PH9tCpiYhIDiWf6AypMPMVHHKhxvgI2naviW67D7ACAyXoSkPlVl7fGdOxEUZ8s/YZEbgBZVxM5noKRGp1vXL/H8fX5FI45lc+02ihgosZQ0LNQ6tvrcu3GvpDdtaDYHlhSZA8tzsHSmmpneifZ6c4xdlPbaLupZZTd2jYCEBtrZ2cm2W09SXZ9yzg7XDPSdkYJsmJ9LckdZvOyoV6nDbPe1GHWk3qpdabg0kuhGOeg0BIBYGkDYNoBrbakYdYKPVXSTHytgbGebfW0VVC8rW4CoETszY3kYdQBIpJqfebAjqaeU+JSQwO8ar5bw3FrER1Hx2tgez2xuHoAr2EabRxSx+B+HG8d2VMoLsokbq+2g4t67fSmFXZ25+V2x+aVdt3KubaqIh9LbqSVA2JVHKeKY5ZzzCq6xFYC/BUpdInl84rUywA0+hcRl4sAvqFJw2ErXWQl5KOFscICrLiDWHeV06ZYVQY9yyhxpa6xUkhahOg+OUXL/HLKG4AaNTwOSBcCMQ9kssa0kPJeAoGXk4Ht+u4gQAx57cqyDWzzi7uhowc0AYgHBg9E2uYBxn/mgIbtfvQxLv2nxNdDQcyfv87XnTPXQfvoe5/5bZ53gZgXH07QKHemt8T8+cjCFTkicWEYXxzG3YaDYIXS0uJuUPhd95kDMVy+AzohcdQzJeARsOQnj3MWWHdlkXWUZlt7aQZgNt26y9Osp4pKENU51l6WabWAWJDnLR2rXl2BJwh8mAMegLS41GpeMScB1OB29tF8UcxFcespvFcR2jQavIqIkAoQKidSn2XL9U0FmkxYt2mjhyPsx+hqhqrsGiCm+qAZE8ZbFjmb+g2Bp0YVBtDiNh+3/crGMru6v5lk4QAu+ckWontzARZHHp/XwO49tbTHPr7/GLT5PTAP99q/PHrcfv3kdfbThygzdXQZVPvlANhCe2DLDLthUY1dPavEdnVHbV0tVk9gqrVnjnUemXaIWEtoZ7KbCvDXL260W5Y22LXoomtm5DgQO9Q1xYHY7ia5CccRK4NxCIjtI661qWKkXV52qQOxqzqT7RBxrsPdgNeMabgSU+wEMS+BmADsUNMkcsSmskhPtxO9GVh7JD53405sz7UNNVkuzBFmYZHF/8tGR+ZwLSsnj4K8kWnbZpTbblyJW7rybX1rJnUcia/nXGYl6KY8FiIZzLEU5qYWH3LVysNyAXfihUHM+9w1Wd2EZZRL0YOYt6w0cSXxmJVIEnGrSCstLyrwqUrVWpG44p8DFo2sGi+J2xXk9DEbvZb4OE78GExCbrq2K6jvArz8OZ8FLjATIHmLKhHE/EPnAVUPj1sV6qFKFB1j4Hc1CQVeSrSbwrlPBSAVW9Lk1+SWuZvKZ5lIFJZgxzSxeAKwdkrt3PJa+9KqCrt/Yb7d1z/N7pmVZHd3XWa3Nl1kp5sutlvax9rNHWPtdNsou61jjF3fPsEOEkDdXnqpXRGC6poPgOUMs7nZgGLWcMCL42MJtWMdtWAtNQMgElleHsAEXh1IO+DQBiA1MyEaBUxIDSAg0etaiYBsQLTNbee9xnqsHoFaLQBXA9h50XuBn95XQ3+tYv8qmIm1xP3qkkfjchyDJTeKyZtiy2itvqWtyg4v7LKzW1fZsyf32mt3HrfHD26yq+gR1JN5mdXo9wDeOv5DLVZk7TSsQqQGoBaYlfJfSyGVxAC4SBJuSH6zhO6weviD+MwFaNXTBWLTrJBEbJFFdO8EYnIZufuPEnfuNEDssoviVlgiiAm8vMgSc9bYQNzV7TfwWhaadzN+Hoglbh8KXv69B6nPAEmCO9FvTwQPbfPgJ+ASEHnx7z2I+VHnnghkssb02XkwGoinfQ6ICcC+CMTkiXDC910cjOdfVpVbdCaC18Br99mAbtDCMxG8/Gs9jx7E8qaikEtyrbuq0DrLcqyLQrIdJdOtq2y6zajMsN7KOLDVBqZZGKWdSZ5iEiAmK0rPqCwgPaOKqUxhm6whjSqDlsW8CaZMstLMaVaZM91JdTY1SnPTrTY71aozU8iHTLaanDRc1clWwT7FxJqzAawsfkeSiUvcvcYa0/EEdAKy7IkTbSqKdzK6QsAo/ZCByGW/vbfBDvRW26pYtjUTey5GWRcB2vl83oon5EtXLrJ/evBae++27fbTB652APavT5ywj+7d66yvJ/fMJfF5jt25vtsOz66g4kbA1jUU2AIAvhMClsIJ8m5E0EV6Nnso2bSmVDGwgB3vQy/NzHWkjINYXHsAsJ0No3EXjrW9bRMcgO1tjYPYmsgwR/y4mtyvI91KYk5xIHYEZqKsLrkSBWJX4368piPZrp+dZSf6srDW0gDDLNvalGHLSwAlnuUIXqlCrkOAMcR5dedOdOe8t7/CdhAL29iWTaHfTJsThSA27SK8LBDduC7pCs0MgFiSPG9YrBUloaHuxAuD2EWATjxg7EEsrhCc8meSOUtmAAAcCPBakzIORgALqx4BjgMAXmtFookVN9fjqyG/ItLoQIJjaKUk0apJ4iYBf2QqprxELDaJgqO5k8dbbRB3QnnMotkZ1OST8mH1M+AmEGrrfAVmzr3orTAuih6ycX5VqPEzD9Z5ANO5xSd+/CFIkbXFcT2zMJ3P8wCzMi56J+y8lVHVEcNVuLjWziwit2tZzB5eGrL752XYPTMn29nu8XZn+2V2qvYiu7npMrsF0/yGzql2bcMYO1I72vZWTbBNJWNteeEIW1ZwqS3LJUs+Z7j1ZY+ybiinXfTycSCG5dIKULUAVM0aee9F22V5NTGBHXgJZMYPd268MlyIpUh5Ei3F2a+C/SoHpAoLrXriecCqhSYv0eqwllVnDZOvFhO/ltVnBZZmGaurco18Vs5+VRy3lphEPYpHgNZC1eqenCSbA5FlSYTKAM0ldtua2fbU4SvsnXPH7IWT2+wwDe8EZHX8D1l4NYBZE3G2elyltbhKBWJltEAXiElKAOwwwBpmxR3gdyWxyYAmCqcig6abuBmlvGSJaTHjQUzKPO62RqmTW6j3zm094E70AOYtsaEgJuCSCMRc+oa+/78hHrz8KEBKFA8qQ7d9IYgBDA6YBWa8lui9A6qBMfEc9dvecvO/NzgOgJjciENdiRdyJ/oY+eeBmHu2BoBr0AobeO/7irmFqtMbn3UrOhBD+TtLDKKPYmHeEuuMoagBse7SdJtRkYPkWVtJttUUEndJG+8S7acCYrK8nGUlEOO1UkXiZdJwZQEyJZREayxEaUKwWN5Wb2u7Gm1dd5NdPqPJxas2UeP0ytldbtvm2Z12+axO66+J0eWYOqFjhrtcyFzmoBPc8blIzkSS+SEtqeWQil271kPEwGTRyUOThwKfHc62fbMbbWd7lMoYaQ7EilDW+ewjEJudPdmeOrDOfnLfEfvgtm32L1+51n71xPX2ky8fs+8Bal/ZPtvu3dBp5y7vtVMrOnAZltoqiBHzStJonzKFlimKdY+x2MRLLcyzUYpekqdlPvH4fW15kC4K7UhXhh0mGfkqETlwJXoQkzUmcofYinIlLg8Og8yBK5GYl0DsEBbZUZiJh3A7HoYAchS9pTjY4baJuBdT7Ib+zHhFofZUADHDNtek2PxCmMw815WcRxn8AOkaLVZXVaXbjq6A7ZsVtithS17emmVrGrNsRvFEK0UvFYndjDWchts3Gf0vd6JATHHJyljY/vbXPycSOz4fxARk8nvLEnNuGcDFg5izlpgYzr8s85/XEk0eD0QeALQK8nRqrZL1ehqBTkky39Ukk+h1KgFUme+STCjZ2Qres7qRZBNEzSKYqgTa4mRiL5Ei20nr7RO7ttnmxfMJAEctG0aSCkw6EOV4Wt3Fz1kkkvMiEBMjTe5J56IcAmL6X/o/kxmnAFzuQeAcFZAUcMl/LRO5hhyqWax+NtF++xAByhtmx+yOhaV2S18+sS6RNLIgaGTbPX3Jdnv7GLsN96Hkrq6Jdhsrmhuo9ny4iex2LK8toeG2PjTaVhSPtfk5I5wspAXC3ExYgRnkZxH3kuvQWWEofQFYE+LceoxyEzYkDXcSdxFyflhLouuXk4Acw3qR1SLRSi3G5C7FqpGUuX0ANSabpFITDj921YBUYvVUYfVUM+p1OVKKxNjmBDdJKfEB/U4Fv1OqVSDHaSLG1ZU22nohncyBxbiuLB2/ewTK7zz79ul9NPnbRN+hsAMy5cNVC8gYBWJ1gJlcigIxgZcsMWeRcUxVtNZEL0aRlEECqclOZrU8hdWwYlsJIIZyiHsP4uAzGitrjBLkAaQvAjHvTtQ+kkQQ899NBIihrwUYF9r2eSDmwcuDirfU/Hv/uUZnfSWAloDLg1gikDkw4zz8b3oAk9Xmj6tRx/TgIX6aFQAAIABJREFU5QHMe2K8WzERTPUdHyMXiInVJyvMhQ+8JfY5AOYBLd5fbMASY9/BmBiLhPgCU6zRi2jlM5kYWJEDsfYYsTDcY5IZxMFmVhRaL5a+2tXXFqRbGMKEdIPAy3lNBkaBVxYkjwBMxYr0aTYjFrJVXQ22c2Gvnbxipd2+l0K5+7fa2au22X0U0H3g8C67l15dDx7da/fx+ksnrrK7eb+6u9GKISVlAw7ZLOwEYPmAhchG+RCS8mHZ5kE4UhsigVjRVIpfo4hlhQnExLa7or2c4rv1tqUR1h6Ehxo8F7ksgrPQNXInroak8vK12+yHd19lH9+1x/71qyfsZ1+GpXiGHmLXrLK71rTaybkVdqS/2vbPqsKaKbL+8DRry5tEiss4qOwQpJJGwgLGBT8B1zzeFMXDlwQn2lWdhY7UcbB9uh0BkK6GxCFLTGSNvS3jIXZMdAC2o5mGlqTvLCuGoQi9fi+V6RXnEojJCjvSSS4YwHWU+Nhx52JMtpOzUu1kf4YdISa2u3kKll2qbShPsrm5l1g33qNOmmt2itmcdRlFhCGKdBfZ/pkBaPh5dkVbJpZYri0nn0z9ysLopXz0hxKcBWLyfCWhn+VS1JyoioY8iP2VppjZcVcBYDUYE2PnYYizxLQ647UkEcRcMJQJorwesW68lZQ88hLX9DCVWJVkGv7kNAgQKjckETCp/FAawfh09vUyHctKqxW3YmG1kgElXPX4RLvOJ+ipFt3qcJoFBVyiRnGiZ8vMX9vXZfvWLLcrF821xR0tVpadSVl/xa0G8kgAIecy5EGPU+vjbg8pKa223QPDgy6Xp1aAAi8nTCitFKUQ9UDIn53O54Uwj0qh7PZC/17BqmprTZCAZ9Su6yuz03NL7DSsnFtnZto987LszOxpdm52KgJJA+LGrW3j7a7uyXaGG34nfuXr6btzoAH2T/k421DIBM6hRmIuZV9yRxJPg7iRfpHLAesjD0zxo0ZYjk0o9EZWKoppSeQKlMugAuukAkCthKBRxcNSSa5WBWQJAVI5yr4cpk/ZWCwa2IBOWE2Wsj0mS2ZABDyfFQAKEJOUYIF5iQmwuIeSGPczSlxKEuGBjTDxIoB79QTcgVh/AlMBrazDTsCpPwOiS9F4W1eeajeTePnIXpr2reywNcQ3evNhOELZF4jVkYcmEKuGrCIQkxsxCrEjBtNSiZNF/Pd8jh1gW1n6BKvCdRlNTyKwTryUe6Waks4SY14JxBwIOUq37jsxsc8BMTcnBqwzv48DgwHLxh1n4LvaLovuQvJ5n3lg8SCSCE4OTAADBxIDrMYL7edchyh+WYT+fBzhiW3eMvOWpre+PIApF8rJEEvwv7ERBzwxHsQSz8O5NFkcKtboF4b/MxA7b4H5/6EFhp5NeXQmoLxC6anWWRGGyBGgGWKWdRJH6Y5lW3dJnvWWBay3PMS2QqsryKaiDIsY9IysrrjrP65TAlDuu0sitrSlwTbNnmFH1i23W3dTU5DWJU+cOmrP33HSXrrrBnvl7Cn79r2n7Tv33WrffehOJ29/9Zy9/dj99vjNx2x5SyVNGalGgwtRlWlycavnAxKJIKZSawWUY3NdzSEZ5YylaSyWYS7SV5xmV89rtX24EtfX5tiswkkWAWiy+Ex5onnIttYKe/3UPvvB7XtJbt5nP3/omH149oCrYP/Aln4ArAoSBrlUuFFXlNPiRNYXceMyyFDqeqzczsLxqqBzqWP/aqHaCDlrdWmqXd0TgJGYY4c6KA/VTc1D3In7AK99kDv2A0oCsXiuGJYYILY0QAV9KnfsgmZ/jNJScicKxK7thVpP3P7YjMm4Jqfadei5G+aQ9NyX6uj3W2vH2pWkAq2JsRgvoAJIEVZdSRLxuclO1tVyLrg19/Xk2ObmVNvYlGYbWrJtXowuHYQQtEDNQodMBwuEFzJ6nHcOrJFhUUWy8//6i7PEPgtimqyDxA6UtUDMVzpQLTCBmERWjcgOAgqB1HQS9zIGLSaBDjXzxLYhyCkQKsK8Dk+logRSxLZ8gvAF3Fi9DhK/COMSDFHpPP4ZEwSQUsn9IKuaCJOhBB+0Rq2ACifoeyPda9FSYylJ1hzItaaiHKvLy7CWUKGVsNLSuXlrTIDkXIUoIQGW89ujKLzf3oEYD6OP28mCE3FDbkxnNQq8UIhiwtVPnwpdtIC2BTHKrdTbzUzI03Pq8Q0X21EKaV7XNs3upATLAwtz7L650+1u4l9nZ06xe4iF3Tsv01Hnb+9NtevwOV9DNvz2KL5qWhwsL7jYlmYNs4WA1WwRN9Iusm5o7N3Q2Hs1ImIdNkDkEKHCx7Lk+hNYlfMwxQCMGJO3FPCQlGNpycVXxsMmd5+XUgdegBAUd4kIKEPFg5XGKPtERwEiWF0SvZaEmBMR3LZhJAIJRhIl8BoHNPzeXDO5GmUJNmAhyqXQSbxLyduzWJHNYcW1NDSFuFiFq6q9vQslU57uusy2Z5MigNtUICaXYinkEq3O5EYUc1GsxULeC8SCWGVlWZOsKh930vSJji3m4qcexLj/8TitXOC67yp5g0sRIHJuQQdsLGIG4mAaHTMRIPP7eGAQAHllq9de/icgdt4a+iwF34OFt8QuBHICIZ2TPxc/6v/4c1UcTOflQUy/J9F3ZVUNPe5QEPPg5Uedl76j83LMSnln0BOfjYmfj4d5iytxdM+cuwc8b5y/i4ENvPf/Qddez6Ri5VogqyddN/lgArHmcIa1RylHVJpjnZE8wEwgRg5ZrNgainItmpbCApeedSxgFQJQNYg8LKJOkmP3LV1op3dusXMHBVzH7Btnb7RXHzxtb33lbnvvsXP2gyfusx89/aD99LmHnfz8G1+xT5560H7xzSfspy8+bo/deMT6ywPkOkIswtOgijQXssTycTcKxOQp0uK7OGm08xiU8BysbShmrsddgCsriO1l0e0BZZ2Nss5VTIw5u7+30XVwfu/WPfbR3fvtk3uupnfYLpKXN9rpVR12oDtmGypzbC6Mv568ybjfR1iA56yQZ7wQHZDHYjWbY+ZpG1LCQrUVr8am+my7qrfYufmuJsnZJSR3JEHsGOdYhyJ0CMSU7LytkQodlSNhVROTL7nEUeyPwaI+0oMrETLIyf40O9lHCITwyPFZyXYdAHb9vFQ7BqDt5vubKkZhhVGmCv22tPhiW1M2Hssz3TbWp9rldSm2GyC9elae7aA48LqaJKzJaVwbCCCBCVbC4jTA4ls6V3lz8swNghh6WeGpytAAiP3tL3+1zHT6iTGhNVE1iWWNCbwkSmZUaRlVPVC/MdHZlX+lHjeRXOitVWW2qL3RZjDWFGRZaTorYYKkUUxogZMSWoOweKrI82gryLBmmjrWoGSqUydYbZoKOyZbo3pkFWfZrCjJi0XplNxPcVKPUqol16gtgM+4YJq1FqZZUx6mNy6jMOAmgJMI4CrSpkDBTrIYCbJyJwUAyylMCsVEHHORB81bYGKbuQeEbWIvjsUaVNzMkUP4zxN5UHWRpnCx9CCIDpvLsZQ7taY2aMcXddqd62bbl66Ybw+vm2k390btZGu+XUPpp2vrkuwMFtiDc7PtIQDrQW7s/XNSAbN0B2B3zs6wW3qhpLYk2c6yUXZ5IeCVPdwWAFrzkQWyugRgAFcnoNVJcLODUWSN5ilxBqBnDIoiL3KGt7bKcQcKtGSJeWuskhXeIIhhgckKk6vPWWMDQFaC5SWrSRJFZGFJPFCFcRUqTSCEpSwJohTCxCVLsLIjzI8oc8KL3se3AWSaIwNWmX5DFp9icrXE4RqxpFoB43asyg4YjXMKprAoIJ+kCYptU8DW1ufbIlyOPVS9VtmZKvznmthRgDDGA1sKYUTZ/y4uxvFKYERWMlfKofEH6HydQruGxHuvRdd/sxKkJJkLiYozrjw1P+KiyhGJ+wiwPFgJIL4IwPx+iaPfX2PcKhK5gmcKksklnMvFiEqDxevs4d4b2ObdfB50PMi5VkcArkgqIxm9KN435iIqj7DdfTbQzki/8VmJx+T88YaO+j2/zYOXB1ZtFyBeCEj99dPoFwN+dJYjQKtFxXn3YaIrUeQvSTyGrlSJsrx066oMwUrMs/YY4IVLsaMEAMCF2BEjV6ysmO3FVsdCNjw9GZLFGBemUNULKcGWIqjehBruP0J19ztvstcfuNO+/9h99v0n7rWPnnnA/unFr9gvv/WY/durjzv51bcet1+/+oT9+jtP2r++8oT9+3eft1+++rR99fpD1pgzFb3GIhvPhBbiEXSdEvUFVnIlZmH9KGG/AOZdEbHh4BT2wVKrwJPQRtx3DxT4k0uomNFbYgtjmbgSx5riYWLtFXKuevauWzrL3jlz3F6/mXywBw/be2f22rduvMK+un+FHaG6+77eWusvmOpSWRpgAZfhOizgGZP7TVaYMwI4vyLeBwGxcsCzJ2sUFl4+FPxC20MtQ1We34sVdnXXJOJd5H61juU1jS3JB9vZSIIzOWNX1o6wdTG8Q2EatNZeZod7AS0W40dmpGANpgNiU+zGuVDqyWu9dnYm1thUuxq29YbS4YRWaBkVHG6rY7hPxbAmxibg2ozFtQfm4j7qLKrrswBsSWwcdRJTbEnFdKsn17UcnSArTHUjlWvrOsGjj+VOFANc3ImywsJ4AeBEEHMrM0DMrboGQExJ0C4jHyUvEFOpFeVhTYfC3FJZatds22g3H9hpB9attCUdjdYeLrRKWD5iiLkgO4BWgVJpzUu1uaxgFlYGbTYTrzeQ7mRWOMf6Irk2t7TQ5pcXWn9JrvVGMmwmJUi6g9NwI5G4S32+1vwpNrMkhwrHsJOKM1mRc9O4SbLMVPm4FFAsgfETnUaliEwm2bRJruySy/sAiES5l88+TpGOx78cc5FJo5wDlTERRV7+Vuc25GIp7pVJQFZsIlHFjyxooxL0Ent092J7bNsce2xTj51dgAVBdvm1tQBYzSS7oQGrC9rpQ4DVI7gSH5qb4cDsS4vy7N75uXYTDJ+rVcalZIStLRpui6i0MRdf8WyYhv2pF1k/PuM+rBRZKt240lpTLnL5Xs59iCUiAKvFpebZhdWAlgMx3IUilVTg4qjAR1+FNSYAq8SadSDGylHWVxmjAEyjt8YuDGKAkCwvAN4Dl8AryKq4GAs8BPgPBTABmbaFuY4ezBzw8YAKCGXNxTgHAa1cnSJ9NE7GygJ8W3jQ+7nHy8uybUN9kV3eHLANTXRzLc/A6p3qgEzU+wj7ujwyvltGHKECICwnEbsyjbJYBMN177UCnsp5O4KRW7zEUzw8iEl5OpdxgkUlIIsvbs4DmFfEUr763Fs4iUCWCEqJrxOBa+hrv59A7GKAR+JADMD5R0DMg0ocRASG58FrKIgpjUDie/EJMJ0MgONQUEw8tl7/PRDzsTe/EPCjv3ZDQcxfR2/9JnpEEgFtkBjGs5fEAqqcii091REWzQHrqSy0bhiKArE2dEInukMWWjsxs9pAtoVZ0GYRQ1dCsSyxbNzdc2vK7ZYdm+3Fu07Ze4/eax9/7QFnaf3Ty1+1f371MfvVG0/Zb9982snvvvt1k/z+e0/bp289a79781n703svA2JP2ZmrtlgVoKE4rPRPPgWtQ1ToCCJFuBAL5UYEvIrRRYUssvJ4BpXXWJc13mK405dWptk1i+vsumV1trUjiOssn8XZGMvlPOVGFJBVo9Pu37Xe3n/oZnv1lt327r0H7S1A7LkTG+ye7QshQdTYrKIUFnjTqGM6yVXEkcUl6yuLUUZEDqEYdZcI8JyXkIoiYsdcPB47u0O2vT0HKn6OXdWXa7uhxG9rHOvyw/ZDLtvXChmDWJmAbDsV6rfUXGpry4Y5mv1VPQI9KPjdk6j4kTMgaXbtnAw7PreYeozlgCEuSZjWqrGonmTLoqNweY6lyn0KMXBiZN35xL/ybf+MLLtmHm1gGqfaEiy02cHRtrwm3RZXZ1s93ZsDgK5ijmJ0xok5SmtiLvA8S0enj4foQ3sk109sKIhpxTcUxFTJwzXMlDuRg8oSUwmX2mjQdqxabEevXGe7GRe31wFi+a49RznlgqrJfajCMqoAWJpp3TGnXPWzih1AtVDRQYVk66aNd1I9dYxVcdNrVF0Cl1k8T2g4qDyaEkrslzbKZoTTKRDJ9wG9KIFUlTOSSR8iiCoACzF5wlNYkWPdKRteOR/ynf53S+x8jorYlaqzJ4WnHDABmC5WBopanZPDuDWX8IDcfvkC+/rhjVBbV9rjW2fbQysb7e45Ebu5E98ysawDVNE4WDoCIBtld+AvfmBWmn11QY59fVXEHllSZPfPz7NbIXhcrUKagYtsRTZlolyljTh4zcby6qPyxazpF9sMxi4ssE765zThfmsEvJSHJfCS61Cxr0ompiNeAFICLpEv5CrUqPfVAJUArIrzLx/DPqzu5DYsxzWo0b93YMb7EoAmirLQKIKG4lwlPAhyEwZ5uILMAQGXxmJcc8VYNiEWBgKuEsr3nAcw7gfbta9E3w9zXC/O0tO5OosQkggPVzmrxQrOvQ2rbGGYKta4SVbX5jrq7drGAltVX2DzY+nWQo1GKQJR66OsbFV5pJLvCMTkWqwiubokLclyWQ1r9a5aegKreJqFLAa5EuPiEnFxiXmlKwAbCmLeclBZJK90vZtO7jkRNjxZ4vPGoaSOxO98BsQGLCQPYt4a0+iERWWcJfxZMsalAKwHLm+NeevL5cFdPNqBmIBO+7rOCQPH1G/9PRBLBLVES8xbYx7EPDD76/mPg9j5e6DvDgIZ88uzmgVipVDdOyuCgFjQ0eyVK9aKS1FWWRd6pQtyR3tpwSCIZUJ/T2Eui8xRnDTW1ve228MnqPD+6H3285eetF+9+nX7zRvP2K++96z95m2A6r0X7FPkjxrffdbJH997zv7j/Rfszx++bH/76FX72TcftaPr5rmYbB5WQgFztpiwRhjgEltRpdryJtFHj0VaJq6wAhZoQZi5IbwEcns35Iy3zTPL7eCSRjtAObm1xLR6WMTLZSYwFKkjG+kpyrbHTxywdx6+1Z6/aad9997D9vb9R+zczvl2fGWnLSzLssYMqtcAWrK8pPdUZDsTQpU8UPrv0bSpAChl39CNInnUQrfXYlBU9u2UrtvclW3rqYcoV96Weij1lI3a3Z5im+nsvKOZ5phVKgI82lXrUEFg9TBcGhxmhwiTHJ+H16mvwE7MD9mR2VT9mBu0rx5abXdf2UcuWhqgNcaWx8bbnCJciZXEuuoBuvnFpBPkOBDd2lZshyiht6c729bUJXNeY2wG+/aVEKYpyyCmh5VLeCQL/aX6rUksnlMoFu5CQljnXz5zzuqiMSvOyo7XTvzrn/9iGWk0xZQ7kR0uBGKqaK1E5xHEO2SJCcSU5Z5FwLI0e5oz55tDua40kG6mEFR9X3LdTebCoqhiFITtYPUwh0knCmiVKNO4gQRcVQBPlH3CrG4qp0AEgHlXietMLqRmShk1wWhTUVtVS1dLgrkEc8shLgQ5fpDMfN1EgZgATK8FYlFAVAgut6DPQ/ErcdeIjf/qfPEoOdUzUxa/wEvuB2WUa2UUQ/kvYaX05T3raW2w2x6+os/upobhHf0RqPAk/dGiYE94uG0tGGY7CumHVTLcbibO9WVywZ5bV2ovX1FtL26qhVZfQMUNKj6XUwG6kGPKbYj1NQfgmpdOq29KUfVhdc0i/iMAU8xo0H2I9VGD4pZ4APMkDYFWhQBgQARgiRLfjmUGgAm8RIWP0+HjIOa28x8FakNBTEQNiWJexTxYAi4BmAexAPNBQOatMW+BCcCCXNO4KFZ2iQMyHSeEW0BgJtKH4mwiiohoIhJJCedWz72fUzyNlVkWQm5JNXTbhnzb0Bqy9S1BLPVMB2TlgHopbtRSsvnLSYgWU7GS5OoarOUYCyc14NTET7TEFLO5EIg515aUJwpdVrrch14Bfx6ISWH/PRC7EHj5bYmA56wiWWIJIHZBIPtcEBMjMQ5kHrw0egtsqBX2vwti0gsSD2Ye9Pzo3Ym6JrI4/78EMXf/mHuTmS8RUidEse/AE9MOI7ElkulATDlj3ZSeUv5YR1k+3X6pz5c22bFTBWLJ6ICSaRS2Xdpvz505ZZ88j9X1uqyr5+3Td15w4PU7gOr3H3zDPv3gBfvTgPzHh9+w//zBi/afbP/rJ9+0//rhd+yDZ+61zbPrSbRHP7CALkRniRWrun8hAKuIVkSF6Dm1K6ok/LGbBpTd1UHbsqQXNyfvl8+wm3cut/3Ew7b1V9ri+kJb3dNiO5YtJjkfBiPPiApjn9y8zp6+7aR954HT9tiJHZBNDtpTN223o6u7bB71BzXXV7TW2LZFs13oJIVnKpNyTg2RQlvW123VwXy7Yukix4rMAdAUN9y/bJYdXDXDtpCzenlHgZ3ZO9euXlxm9+zss2vmxxyxYltbFkSLmD1I7cWTS6uxklJgDGdiFRIyoTTeua29tpPGlzdQHu/hfbR0uaLX9vaF7SBpRO8/ebe9dOc1tntm0JaXT7RNbQG7e+cyO7S41XbhPj04O+S+f9eWBXbf3pV2bGGlXd443WZHxtvCapjZa3rsir4a279iprVHsh2AKf+2sijfNi5faqGsLJKcqUhU32A/eOtt23flVutqbPIg9jdALPMLQExJjrgUUVgjiXGMIRYi95uslymwDEuJT7Vi0jcEMy1GqaEi3DyZgFE+K5EgN1O05yiuIrXo6ApNt/lMtq7iFFeNQXkAAiOVH1LpoSCTTuw6lTqqBsQkDbBU2rJo/5E6AlZPKjW1Iii3YhfIVLJcGItMdfbKUsZjPmPGsxKqyJjqkhI1iRNBzFfncOWiUMLOZaGVOq9lpgrEVN6kUNYHF3BRMMvu27zMnjm4wR4iH+PGGUG7GXP4+qZpti843PYWDbPN2XHwur5xoqt3+NTamH1rR5N9Z2ezPb+pxh6kQsdJmIdbMa3XQNpYTHyrH+tqNnlQs1OGQ9iA5ABwzeB/dtMzp4P3Slhuwm0omrxYhwIvT94Q01AkDcWXpPwTgamSlZiX86Al8PqsiBZfgauwkrhROSKKvEAsboUBao5tCA2f+x3iXgcHQCxuieFOZC54EJN70YnACynmOgb0+YC4bVxTuSCLuaYSF1PjGiteJldmlHsf5vdrki51LKsFJekuHraiJteWVbFaayxyQLa6OWiLKnNtBm7mxkzchyyE4knQMDEpSVWXm+zciUo2lQWuGGfcEjufM+UtKadwRXrAynIWwOeAmFfKfvSuQQFSYkUOD1D/yPjfQAwQ/TwQ8xR3P3ow8eOlnP+FQMwDmSwwL/oNgaYsOwGlk4R8MP2GJ3D4UQnO/rU/Bz/qHGRNSjyIeYvWj3/fnfhZS2zQvcj8cYtP7qGs6jBJxs3RfAdiKjklckcb7sTOCiVA5+NqLLJOLLK6YAYgNmkQxJQSo8atRzettO89fp/98rVn7Q/vvOzcg394F6sLK+sPH71kn378sv3xoxed/MfHANgnL9qff/iSCcz++qNv2Z8/edVe/dIpmI1hC7GIyuX5k3VVLK8IruwwRKNCdFc+i6ssPAUz66P20Rsv2Omju+3xc6fs1x+9YdftXm8/xzV55ugWW9tTYddtX2WP3XXa9m/aYD956y2IcWOI7ZXaT9/gtx65x9584n777TvfsJfvO2n//s6zdnr3SqvCK7V//UJ79oEztv/yVfaL9990JbkaY0H70btv2q4r1tvXvvKg/ei9dyh7Ncr6mqrt5+982/avmW+/evsbdnR9HykFNfZvbz1iL1JA+MlT2+wP7z5pW2aGbUNnAAv0ebtr92p75Z6jdnr7XFvbVuA+f+3Bk3ZqC/0I+2N2554Fdu7AGvvdW8/Y7buX2YGVXfbW1x+yr91+3Hb0U9BgWZP9+Qev2FFyQX/7vefsIfTn/r4Se/7UlfafLBzO7F5FQeCArapNt45CXI2rZ9gvv/us3Xlkqz1z/2m769qrXFf4VngWn7zzluvV+PE771qsCEu8uc1++MEPbMfGzdZUUxdnJ/71z18MYprAmrQqLSMRM1ExMRE7kmEdRrNpjsgKSPXMqvIJqnMzp7OqljWmgGYtQdBqTN86AK6XSbe4Lkh15mTnFgpzs5UzUQ7wlLAqFygJxFSrT0CmEkSq19dNJWPV5BONdG1D2ElTKrEwvq+isaKSajUkEBOjsYTsd5E70lDqov8rp0AuRZcnNvBwyFXhzVO9ViKdXA+qtiEAm5FBRY31C+z5gxvtzIpWu46CmSdIxDtC3Gtv8GLbjfW1LzDMDpePsPvmF9gzWFyv7um0tw722Xf2dNkTq8vsVoKWB8rG2KaC4baC2JcsMIHXDAgKM7AiZuIG60IRdwHQKh3Vzn9uwZRW/EsA5i2v88QNLKoBpqHiWY7yzrWWFePADP+3QEwuQoFYfDsWDyDm87k0lg0AWAW5NHrtiBzs492IHsTENAxz7bwl5oAIkCoC9CUeqAq1gsRKkxRgscUFyjFzJy7xbX6/APciLgShudau7Qwu0MbUcTYTa70/TPwUmR+bTvmZTFtSSUM9ygoJzNbRMG91U8jmEjvrKJC7eqTLGxPd3ltiGQTWtXhxVV6433H6dzypWSDmXV+JlkOi0k20xDzA+c8Hq14IAJELgZa2e7nQ59rmgczHqIaCmLfG5BnxoKHRg5cfPw/AvFUmF6JEv+NAbAC8vJtSx0/8DQ9YfvQglngOXidomywy/RcP7v46aRwsz8XvD1q1nId3zfoFhF8gxEfVM1U8Mw5iuoeqfVgMENVHcq2zMuD0TRNx83bNAejlXZWqnUiemCyxISCmkEJFNuWRtq2zN2EZ/vL15+wP33/F/vLRt+1PP/im/fHjV+wPWFqSP37ykpM/AWJ/+vglJ//5Q6ywf3rd/si+j9HapLciyyJUnsgjZlOIRRbl+S1HNwUm4doD0PJYcKbyPLbE8uyXP3jDcqi8sXuLB6iEAAAZxElEQVQDzSzvu9lWzWqyl2FBPnz6sK2GmPGrD1+z244dsuV9s+yn775rdeGQNUYi9q8fvGvf+NI99sw9N9u7X3/Q7jiw0Z47d8Luv36PhbDCfv7+63Zi/05bB1Hlx++8ATehxNYvW2jnbj9lE2GId7U22g+//45Nh1h36sgBe+LcbXaYPLgPYFqewBLau6zVfvPek7YTC2rnkib7t3eesivnV9v12xc4oDu9Z4M9cdsh+9qdB23rgjr71btft5t2riAhPMdWdhJTW9RgV6+ZZe8/+5Ddc3Szreopt0fvPGk3EMebEZlqT968y+7Yt8Z2QYC7jv5lv/nuU7aPqvmv3LXfXqDz9BYq9KxrzrN+OjZX4IXas6rPfvq9F1iEFNmedcvsxUcfcvf81LFr7OFz99jKxYvtua993ZYvXOy8gB+9977FgmGLhSPxPLELgZgrMTPAUPSTV7UGBWJyJXp34iRiJgVYQI2Yf6oqXR/KtJKMSawoAANATOa1GikqsKm8nk4ssUX1Qesoxt2nCcBEEKsmhiVWAmMujIWhIKT6Vik2VsY+KgA5i/1bcCm2ERNZVgm1HWusPZNAKZMmwHeUr1E5fYLVADzFWHYid8itlE48SCapBzHnnuD8Xd4XylYg5h4SXImOhchnYge1T6PkEyVhnrl6k929otOOQ50/QumUIxSl3BkcYZtzsL6iI+2Gpqn2pSVRe3XfTHvrmgX2vcPz7Ju7e+zh5WV2Y0eG6/G1OjsOXo59CE28F4DqJJ7TicXaBTGhzTH0aG8CcDfxX1V/sJaxGhBzicfQ5stg9ElKiSOJGBEXLCYAa5AGL0tK8S5ASqDkRwdM7FdOpegy0hrKZD2Te6dR7/W6BGssRvNOSSnFjGOkS4hZ6EgZXBsHOCiVIl4XorgETPms0PMBozwsHo3+dR775QJwubig8mCYuZFt+YBffD8BG/tzrX0wuxB3SDnxBBUK7sHtMiOQYjOp/dYTmIz7OQ3ST7rNK0tzQV9ZYwKylbAYF1XjXioipyRjrJXj86/IJN8mdaJrJ6McMd1vLVxcOTSAIxE8PIh4QBsKVl4Z++3ecvtHQOzzgCtxu/99D0bePedBxQOLp7wPbkfB++9oTIxJ6RwFXoqReevLx8I8WHrw+ow1BuD47Z4V6ccL7afP/P46b8XH/H9LBDOBmK7jZ0HqwiCWeB/i1hhsUnl8uIcTcEPnTIGBlw87OaZCv3nomjRrhdmnIsCyxjrRC9peW5zuUizkXktmXk1DKnOmORD77hOwEL/1tP3u3ZftL5+8hqX1bcDrFfv9D+PyKaPkTz/EKgPUZJ395affsb/94nv2mw9estvRB03oojDhDpebiLckygI0xEJb7wVqhZMvIS4GC7GsAOvqZStE7+3dsNC+fNtx27igyx6/+zr7+r2nrL82ZD9/6xW7bv8e27hsma2ePx9dmsz3yuwXWFRPnLnVvnb2ZnvqzA1OyWt88NRhXOWX2oevv2y3nTxm65cutg1L57v2M2sWz7PbbzpB2xkWgl3t9uMP3rN00pYEYo+fvdWObF5lt+y73HYv7bQ9y9vttx88g4u10TbPr7ffffKy7VndYce3AWLvv2LHty5HFrv3G+ZU27+894zdtHetzazKMb3/9Ycv2EM37bc3n77PnrjzEFyIkD1yx1E7tn0Z+j3bXjx70E5tX2Jb+uvsxKa59rOXH7Rds6P2rbMkat91yFa0BGw5VPrmHOLnXLuty2bbL99/g3tLEeC1S+0XH71P8eZL7ci+PfbQmbO2bMEiB2CVpWWuBu4nH35ggfw8K41QsQN2/bC/B2IO0FBYArCRagqIAlLSqNyJakpYhNLQ6qchlGM1UOFjVCvPAojUTDEDyypHZjcKOJaMOxEXwOJ6AAglFQLAXIAeOqjK84fJLA9hRalliSqYqw2I4h5lyMxgqmvv0YSyWspk3dASs3bo9xH2DWCZiFLazATvCGeTiT+RpNc4zV4rctVME0PRKTQptgHRSt25GhlV20zJzGqBUE9bkiubK+xL21fbfev7KcnC6gCf7RZ8t1sj1BaDSbO3bILd0J5pX11Tb+9ft4a+Prvsw1Mb7MU9fXbPkgq7Gqbi5uAoW5k73JZmU2mDfC+RNmZgeXXw31pxf7ZMIdYH/VY0eUeVp2K86g4qs74K0FeysgBdeV9RrM0oQB0FxCKAmEaJYnYxrCmx/pS7pcoh8Rwuvsd2fS6AKqW6SRlVTiR6Hf9Mn0OH53MvUd6XUgm+hIadYiUGYHeplpssKGdd4RLMBYxyAAaJXmczF3yLFY1ZzA9Zs5nMmSzATpIN8OWw4s/F2s1jHrnvAXRiYqlPUAHuxDJ6hDXJNZ1DjbW8Kc5lOItKBr0ojX7KCyketoBV8EKSO5fWFdhq3DprO8psSWPYuomP1OYSZ4WdGGJRNY3roIWKFihyIbscpgEQGwpkTvFjSSQqWg9giQr480DMg5EfvTL/e6Pf3wPShUBMwCUQ8+LeJ1DeFavylqUHD4GYBzBH+iDGN+hGBHzU3duD0KBL8QtATPtcAhhdSmdwjd5C9OD2/w+I6X7IIlPbDQoPiGLNvC1E11QFMrDIstE1qSyeMwCybBS/WrLEW7PUFGW4PnQZJPOr7JSK+JZDCjm5c5O9/cxX7OffeZ442LdwF75un370Lfs9bsLf/vBV+92Pvm1//PFr9sefMCKf/vhV+wNuxP/86Rv2l5+/ab/EDSblXpWdRIeES6kchO5hsR3imQ7gPdFruRKnofdE7OitCdvP3n6FxHtIESv7sVRO2N618+xrd19vT5+7yVppGXP4itX25H3nbHl/v61fuJBq+KOstazE/vm9t+z5h87ZV2+/wZ699xZb1FJmX775GrvvxsOm/LO9m9baI/ectbWLFwJiC+EmjLe22gr7AVbZtsvX2UtPf8254aaT3tRbX2X//O4bduPuTXbDznVYX+22fUGj/fqdrzsQ20FB4N98+JztXFpn64iH/ebdlwC79Xb9tsWAZ7ttnltt//6D5+0GQKkfstXBdT326w+e5f0y+/fvv+istbkNOfbI6asA3Gts76I6u33XAvv0+8/YnftX2e+//5zdvW+p7aCs1At37LYX7ztqa3qiNrs82Q6vm+GIOdtXLsQSfc2aSgJ2+ZJ5zi2qljdtdTX20dvvAGALHZAJuNQa6/133rQ9O7ZbY21NHMT+66//y8XEHKmDiaPJqcnqWtnz4Mt1ICAbbLmAkpJLUVUQxP4KEETVxGosKbRqqO8RzH6tFjJY/efCHMzBtSXXoogXXVGo9FUh64FiL5qq8hpC1NkLQSlVLplE/aRKcQ2WQdIoxVopoZTLjHCmdRWmUr1hjC0oJ5eoq9rVHhPgiVoaYv+63GnWDpAqg781lD0Y4J/oLLF4fCSeBxYvRSUAU9xEo5KilRWuXLadM9vs4b2b7NzGhbQm4KKWpFDDcIptLJlk2yqSbXv5ZKprpNuD69rsjWvX27/QYfXjW3fbNw8st3PLYB3VZ9mqAlh2GeR+ZV9mM1NVrBeXISw6WV2ilNdgfaq2YC1AVgOxRcBVihuiDKtVMcJSLFjVPJMIwCJcTxW6jXF9VCoqAjiHuL5BLK4g1tMXjcViGGKRuhJTXGf18NLrqBhMSER5LoiOE9+XBxPrLIAlJpGllQuICXzyYSLmUXklhwmWybxQ2S2V0lGTOy+pzI/pAFsqClaSxpxKZf5M57Uqnagatca4kJCJotH9r2EeNcJgFYu1JQ8XtSjExE5nBJOtN5RifdSi7IehqMD2wiq1Oi+wJfXFBLipeddaZvMbotaKuylIyw51tNZ9lQvZp1YINERCEGjEmXW0ZUFJypLx8RyN3vLSqLY/3uU1uM/ngKEHpc8bPagN/dyDlx8HLa7PcfMJuLx4S2zw3Dh/HT8O1Jexn6yk8yAWBy9ZXefFg5K3vIaO3uJKHBPBz7sWPZj5/+fPyS8IEhcJ7trqPBEPvhoTAVkgpsLNWohoAZoEySiT5yWCa7AqSGFemMo1WGNNVO9ogSwmT1BDFMIXZafUtiWdUMdUYq6Kc1fmZtrRLZfb649/yX7x5jftdx++YZ/i6vv0kzfs9z/6rv32R6/Z73/yhv0B+R2vNf7pZ2/G33/8mn3wzcfs3Ml9NK6MunBJESGTAF6UInIVI5R4CsCSFRNRoqLAOTxf7ejDHcvnuIXVyu5a27+63w6un283sjg+sHKOdaAzlcs1t7ne1i3AmiLnSd6DWOZ0u2Hvdnv63jvt0Vuvt2u3rHJ6U+WxllPTUfM7GzdhL9+7fNkimoGWWBaJ1GoWev2hA7Z4Vo911Fbaz3AnZlJsogiAW9xCg92dG4iHLbSVLVHbtbCZMltz7Mq+cts1r8qu29htBxZBtCBksrGduqY7ltmNG/tsK6C2Z165nbpytp1Y22MrGnNsVWOmHVvbZjde3g9JpNIOLG6yZc35tplY2KntEELWtqNDo3YNIZh7r15jx/mefmMXZfhu3Nhr117Rb/NhHM8qg8q/vBM+RZ41RovswBVrAbEg9zBkaxbOjS9eCGeUFNFbDIuzs6HR8TFkPDXWVNi8vl5rbazzBYCV7JzlmIkCMoHXoBA/kDtRE1XEDpWdcoVUUVQy9dWcLI+M9MoizPqKkJOaomy68o4jLgYtEgUl2qdyF5SQ3BHOtX726wJkqnD/FeEKVIWOQoq1FoynwSETL4CiFsMwipIPA2CytJrohNxCTkQdFOp5FcW2vqvG+skNUcKrXIkFWHERKPqNJErPqYvYnIZSq4elJKq16LlqY+4tMZWw8Z1VVZJKMbNkzlNVq7fPnWFnd11hd2xaSi5Eta2mmOa6GNnllGpZS4O2DaUQNGozyY+otGcOrbGP77nGfnzPtfYt/MJnV3TZAXKb1gan2nySCmfi6+2l0kQ7KzUl9TbhHq0jZldFI0cV3/UFeEv5j6ptFuF/qvSMUgcEWmHifIr3KalS9c+8BLFa1UAyAOgUAVDFAhwsqCIsqkTRNr+9mFWs8uq0QIhQnFSvdTwdK8R1V08utz/HDAnQcDMWQfkNYJHlM5HyEA9g2dQwy+C9gErAlcI1TGahoBWvxhSstbio6jRxU+aUWtNI1A9omj7nOxJ1dM3FzRniQatMn0r8NMXqibEqmbQZIGsjmVPxUxGBekOp5AkKyCjWikW2AFfiwroiW9QQsWXtlbayu84WtFTCWitEiSVBBsBzwPlJGSomJuUqAoIAzHkU8CrEY7znQUyKVErXu8E8gEnpemX7eWDklffQUb+pbXFgiYOM36bt3hLzo3ff+9GD2uB7/o/f94tATOAlF6IHsfMgdB7ABGYexPS5t9D8vkPf++2JIOZjZh6E9d/c/2MUSI3DgvPX0wOaRl1PX03Ej9rfA5tSIGRFuyo7zC09w6mEHYroPVVWSIV5Qhf1lJ5qxgprwXXXjD6oDeW6LuAqCJ7C/JUXRiBWnkNF9U3r7ZuPUInju9+033/8lv3Hj96xv/zs+/aHn75tf/zFO/bpz961f//hdwGzt+zPv/zAfvXRa/bm81+GjLHBlqBvVM6smK4MARKTlQcmKn2E8mYlJNgX4TXKmcizgpUkinsRlYdUmUjzWWkfS5pKbOeiTtu9uMu2z2+DFxB2z7pY0GJDywskb1Ay+jQVS27nioX2DHGsuw7tIq4005HjIrjbAzy/GSxcXfd1FRemKpIKoBegWwUAP//gbdu/eb195eztuCl3Oap9NjHv9mCeXdkPI3JOm61qjtj6DppPwgTcSHWcDa0FtgWSxab2PNvcUWTLIU6t4blSjubOmTHbRXuXHSRlb24XFyHXkTFW12W4YsPLKLy8krJZqxqoe9hb5kgdO7ojtntGxA7Mq7G982ptN+7HffPr7BBxtAMLGyC0lFkPzONqChgonpiGIaMu7Q2RgNWFCmm5MxmLlGcQ3SCjw7mTcS3KcNKiRqLXqmIfLsqPg9if/+MvVpBXaKNGjuXhpkMyk/8yXo8YOcYuo2W3OrzKneEeeOJivj+XVrjq65IDiMXy0qwuUsCkItG5MIdinZNcKwIV6lXJKdU4jLBfUxFZ9qF8a8bkr2QyiklYjA9XN12tM1SaKki7ee0bmTLB5TiovFRlxmQSpxX7SLJuAHB+dciNYj4KwJSfoThYfQFtGUionlEZtFp+I58k6Km42SbDtpNbQmkBk7AkJjFhVI5KNOxpKO4ICnRhU40dWDYP2mmfra8nkz4IqQA2ZH/2WMYkWxSYZMvCU2wTJvXx+Q3U+ltpL1y71c6tm0PRy3rbRJB5Ye4k60unniJV7FWJopkVWxPtWBrIFamjortSCSoA51Ime4zVUwn/XyLQctYWlqcr3OkAHHAB8JRC4K1U5aQEWOl5cCpkJVdEIPcLhWuv78naUZUTb/Vqm0S11ST5XKN8VrtFgEoh8bI4cMWtr1yAKxt6axb5YJlYYyrGOY3FjWrT6cGTJStRVwERZFK4vhK9zhg1hrqZNAkcSdfbUbSnGD3GjRnkfagYq+57mPkiBlkl3ZsrialWDVRqUcWWxpzJVGlJwjoj4b1wsrVTCV8xVTFde6iIr9JDfbBV5zfGrL+xnPhIxMrzcwioJ7nOus4txfxVC3rJZcgozkUiMHPARaNLNbt0HblRuuN5Drzy1Sjxn6tzt0gbvvnl3xsFmtpHTTKH7htvnHkeVHU+I7i+cWF/upT7Dssa9T7xGC4WheIXCPhmnZ5QMoJzlhtxBP8l7gocBWBhlV0st+B5SXQTCpz0/CdKImAlbtf3JMPl8hw4t5Hc58tGUI8y4XqOHTF68Lo6ogfHd6B2gX0cmOm/uO8I6MgTYr6oM/NklHUyc1/WWCEhgyju49ICWM7UIZRlVgU7ugwrLEgHgxxqJKaOGU3C+whXOi6cnk7cZQmEipvspUfut9eefNhepQ7iK4+esxe/esa+/cyD9sYLj9hrTz9kr1DB46n7b7Hju9ZZf3OM6h/jLQMCWTaLyiIATAt0xduyWQhWoPfU50y8ACli1UkM0pQ1nDLF6TAt3LUAn0eC9qbeGifLm6LWXTTdLVy1uEyD7a2EbJVUUk1Zgdji9ga746pddmrHRlvCgryBhV0laQIq7KAFn4Aym2dZYF3Eb+SwXQn+csdtXbnI1s2fZcU8U1pUqpRfR3G2La6NYkVFbWVDyJbU5NlSvBmrGwoBrAJbA2FjXR3xLvIxl5fSyoVruZznaktrxDbjtl+H12M1YZx19D1bzfcW4xWZz3VfGALMINWsx2O1qSNmV3REbXtr2PZ2AXxdMdvYEqKobwljxLZ1VVLctwwLLM+FfRrwuMgAkcdOYZ9YTrrDjumEMyZx3tMpGzaRxbJrZKoRSSJWr1iZKtjLxVxOnvJ//e0vNuz//r/+H2tparVAYciKi8JWHIhYOEQiWRDTuThikUiJhcNRi8IEKYlErSwcttJQyCp5XxNFIkXWUk45mKqYM21byyJWHy7CEiqwFn6kOQi4AWytwXyqTeMLrYzarPKwzYjSYjzAdvZtDgcImOY7Ud3D9mixdXDcthD7BAnaAo7dJSQ0QrGdDUgtrCuxOQCVLDu1UWiNQLEtLXYA1oOl1l3J92n3rbwJUU/rSsMUiwxZBQUja0ui8fMOQtMPkuHP+akm24LGalZIZba4MmRLuZFLotlUlybxFp/7+qo8W83qYQWWwApKIa3lpl8JQ24znVN3EOO7oqLQ1kaybDkujuUhcpzCuLwY5xArnBvOsz7cnL1MpBl0cu3h/8wIUe9N/yuQ7aqPyLWg1z1s7+G/dPMd/TdJF/+hM1zgRAuATlZVHcV8hrTr+gVwnw5IG9dQ4t9r1CpM4r6bcBy/XcfvxpzvDtHiPViI65aKCHodYHuxtsMmRTqCIc4nbG0EU1u5ls2hMGkVXNtQgBVwIH4tGeuZG17q9HkR17mgiBYZFGcN8HkxpYE0FhVaA3OkSfeY3++ISbjHSDeuod5Yns0ooXoL90GVWmaR3JoofeQH9ZVDr44hlCLqZl70VBEfqyqxVlry1HLOJQX5Vsk8riAxsipWZhWxUistiTmJUQg2Ggkxn2NWHillnzI3VoZLrSpS5uQzr0vK4/uwXxn7l0Ro+xMu+YdF+yd+R69j0fPnM3heMbY7KWMsc89flPMvKeE3EX0n8ThDz7+U/xM/P77Lc1wSLed/8jp8XqIRbYtLhP8r0TPv5ULb9JnfrlHHlITRD1GdF+daWlpuZbG4VHK9JLq2OscKvl8eLHGi19rmtnM9de399de5l7v3+pznFp2jauUq9lrFXK1Bb9TFWAjDZGutLLImGIktPH+teHikhxpK4s91FXOsgjlXy3ysChQxN6psTlOd9TdU2fzWalva2WArZzbbst56W9hT42Rxb50t6am3BR3Vpg7SyvWqLky3+iDPKcWHOzh+C0DRzHxt4FmUG6ye57WlHD1HRXzpPM3rpmLSiKjTOLMsxNylQSXzdGVTGCsoBDkp4KoSdVLBqAXFXcuCqyUadt9rDvM/0IezKiNOT/aWFNqcMupCoge60Z8tBZTZQi+qvJZ+v5lRHTxqC+mlxm91oFejFCSvwhvWyP5tnF9TAQV1Od5SQEyhmCXEDgVgiyuILcP6leW1ktcqMLA4mm5Lub5LuM6ruKZqWLsS0swKrN1lXPOl/JeleEKWQabRfovRU8vRj9qmtJhleEg24iFZR3PSZbzXcdfWFdsiWOkryO9bjvExi+e7p6yIa8L15D+0RgNWxf+a1VhDK60oYJYJGIfRJ8Uw30nqLuPZDRW7+1+OPipDL1UEA9DtOe+F8+z//D/+y/5fSDRaOxPuKAcAAAAASUVORK5CYII=)"
      ]
    },
    {
      "cell_type": "code",
      "metadata": {
        "id": "9SgQPCLg1MbB",
        "colab": {
          "base_uri": "https://localhost:8080/",
          "height": 83,
          "referenced_widgets": [
            "aa1957d6331a49de82f46a56ca1da2d6",
            "de311c2c2cf8444fb043473d091ed8f3",
            "0bbfbacd8ab94187947f5cb3b2f55dd5",
            "cd89a196024c40f491ef33b23a4ed017",
            "c46682859a8f49398b0743f3f7ab1e48",
            "893051ff078543fb91d7b6855e28d624",
            "d803237ba8994a67ad36ceaa5626dadd",
            "d7ff36e5070d48ae8583f1804031f177"
          ]
        },
        "outputId": "49e0ea74-9b2f-445e-a566-7b88d3bba221"
      },
      "source": [
        "model_ft = models.resnet34(pretrained=True)\r\n",
        "num_ftrs = model_ft.fc.in_features\r\n",
        "# Here the size of each output sample is can be set to 2.\r\n",
        "model_ft.fc = nn.Linear(num_ftrs, len(class_names))\r\n",
        "    \r\n",
        "model_ft = model_ft.to(device)\r\n",
        "\r\n",
        "criterion = nn.CrossEntropyLoss()\r\n",
        "\r\n",
        "# Observe that all parameters are being optimized\r\n",
        "optimizer_ft = optim.SGD(model_ft.parameters(), lr=0.001, momentum=0.9)\r\n",
        "\r\n",
        "# Decay LR by a factor of 0.1 every 7 epochs\r\n",
        "exp_lr_scheduler = lr_scheduler.StepLR(optimizer_ft, step_size=2, gamma=0.1)"
      ],
      "execution_count": null,
      "outputs": [
        {
          "output_type": "stream",
          "text": [
            "Downloading: \"https://download.pytorch.org/models/resnet34-333f7ec4.pth\" to /root/.cache/torch/hub/checkpoints/resnet34-333f7ec4.pth\n"
          ],
          "name": "stderr"
        },
        {
          "output_type": "display_data",
          "data": {
            "application/vnd.jupyter.widget-view+json": {
              "model_id": "aa1957d6331a49de82f46a56ca1da2d6",
              "version_minor": 0,
              "version_major": 2
            },
            "text/plain": [
              "HBox(children=(FloatProgress(value=0.0, max=87306240.0), HTML(value='')))"
            ]
          },
          "metadata": {
            "tags": []
          }
        },
        {
          "output_type": "stream",
          "text": [
            "\n"
          ],
          "name": "stdout"
        }
      ]
    },
    {
      "cell_type": "code",
      "metadata": {
        "colab": {
          "base_uri": "https://localhost:8080/"
        },
        "id": "Ba8zUWz0Eqn8",
        "outputId": "199168ca-0bbc-4c29-a6e8-a76173d32247"
      },
      "source": [
        "model_ft = train_model(model_ft, criterion, optimizer_ft, exp_lr_scheduler,num_epochs=5)"
      ],
      "execution_count": null,
      "outputs": [
        {
          "output_type": "stream",
          "text": [
            "Epoch 1/5\n",
            "----------\n",
            "train Loss: 0.4335 Acc: 0.7725\n",
            "valid Loss: 0.7008 Acc: 0.7333\n",
            "\n",
            "Epoch 2/5\n",
            "----------\n",
            "train Loss: 0.1837 Acc: 0.9200\n",
            "valid Loss: 0.3774 Acc: 0.8389\n",
            "\n",
            "Epoch 3/5\n",
            "----------\n",
            "train Loss: 0.1257 Acc: 0.9600\n",
            "valid Loss: 0.3119 Acc: 0.9056\n",
            "\n",
            "Epoch 4/5\n",
            "----------\n",
            "train Loss: 0.1117 Acc: 0.9525\n",
            "valid Loss: 0.2894 Acc: 0.9111\n",
            "\n",
            "Epoch 5/5\n",
            "----------\n",
            "train Loss: 0.0682 Acc: 0.9825\n",
            "valid Loss: 0.2705 Acc: 0.9000\n",
            "\n",
            "Training complete in 7m 56s\n",
            "Best val Acc: 0.911111\n"
          ],
          "name": "stdout"
        }
      ]
    },
    {
      "cell_type": "code",
      "metadata": {
        "colab": {
          "base_uri": "https://localhost:8080/",
          "height": 542,
          "referenced_widgets": [
            "fcd0bb7de7bd4ddcb2340a01e1f889e0",
            "8116423d7d354734a2fd7450be0853e8",
            "568bdaeac7c9451e85814defb0acdd4d",
            "2a07cc551d0b404c94624ea6d1fce1c3",
            "92724eab1ad84494ba7e6b0acd1451ec",
            "41042d45bc2c41bebec116acc855dc1b",
            "f6fe933e59da40fd82e5e969fed2cb3c",
            "bb57e77e3a6941e98fc363240f1ca578"
          ]
        },
        "id": "5P0cKJZkLZ4V",
        "outputId": "464615bd-d574-4e34-ccf8-07dbc556291e"
      },
      "source": [
        "model_ft = models.resnet50(pretrained=True)\r\n",
        "num_ftrs = model_ft.fc.in_features\r\n",
        "# Here the size of each output sample is can be set to 2.\r\n",
        "model_ft.fc = nn.Linear(num_ftrs, len(class_names))\r\n",
        "\r\n",
        "model_ft = model_ft.to(device)\r\n",
        "\r\n",
        "criterion = nn.CrossEntropyLoss()\r\n",
        "\r\n",
        "# Observe that all parameters are being optimized\r\n",
        "optimizer_ft = optim.SGD(model_ft.parameters(), lr=0.001, momentum=0.9)\r\n",
        "\r\n",
        "# Decay LR by a factor of 0.1 every 7 epochs\r\n",
        "exp_lr_scheduler = lr_scheduler.StepLR(optimizer_ft, step_size=2, gamma=0.1)\r\n",
        "\r\n",
        "#training begins\r\n",
        "model_ft = train_model(model_ft, criterion, optimizer_ft, exp_lr_scheduler,num_epochs=5)"
      ],
      "execution_count": null,
      "outputs": [
        {
          "output_type": "stream",
          "text": [
            "Downloading: \"https://download.pytorch.org/models/resnet50-19c8e357.pth\" to /root/.cache/torch/hub/checkpoints/resnet50-19c8e357.pth\n"
          ],
          "name": "stderr"
        },
        {
          "output_type": "display_data",
          "data": {
            "application/vnd.jupyter.widget-view+json": {
              "model_id": "fcd0bb7de7bd4ddcb2340a01e1f889e0",
              "version_minor": 0,
              "version_major": 2
            },
            "text/plain": [
              "HBox(children=(FloatProgress(value=0.0, max=102502400.0), HTML(value='')))"
            ]
          },
          "metadata": {
            "tags": []
          }
        },
        {
          "output_type": "stream",
          "text": [
            "\n",
            "Epoch 1/5\n",
            "----------\n",
            "train Loss: 0.4090 Acc: 0.7850\n",
            "valid Loss: 0.2707 Acc: 0.9000\n",
            "\n",
            "Epoch 2/5\n",
            "----------\n",
            "train Loss: 0.1382 Acc: 0.9475\n",
            "valid Loss: 0.2392 Acc: 0.9000\n",
            "\n",
            "Epoch 3/5\n",
            "----------\n",
            "train Loss: 0.0798 Acc: 0.9725\n",
            "valid Loss: 0.1862 Acc: 0.9278\n",
            "\n",
            "Epoch 4/5\n",
            "----------\n",
            "train Loss: 0.0927 Acc: 0.9750\n",
            "valid Loss: 0.1834 Acc: 0.9333\n",
            "\n",
            "Epoch 5/5\n",
            "----------\n",
            "train Loss: 0.1039 Acc: 0.9650\n",
            "valid Loss: 0.2054 Acc: 0.9278\n",
            "\n",
            "Training complete in 7m 43s\n",
            "Best val Acc: 0.933333\n"
          ],
          "name": "stdout"
        }
      ]
    },
    {
      "cell_type": "code",
      "metadata": {
        "colab": {
          "base_uri": "https://localhost:8080/",
          "height": 542,
          "referenced_widgets": [
            "27690b0de35a4d929b2f3a5ea310b7c9",
            "875b8e695fbf4d778dd3bec9614f7343",
            "6a9e071b403d4afca53d3e6d36c03f5f",
            "00ed2ed75b4548bf8902aa02ddc0d37f",
            "1f0e280174de46be887282dac715fbcc",
            "cb49ce4289e348bab116d66085be2a24",
            "0344a8bc17a44b07be300ea2c99905c8",
            "9a52b1cb5f5f4dfdb5fd99dfbdb55830"
          ]
        },
        "id": "his2IhHSOk35",
        "outputId": "bf0e5507-be85-40b4-8b29-4540f276b527"
      },
      "source": [
        "model_ft = models.resnet101(pretrained=True)\r\n",
        "num_ftrs = model_ft.fc.in_features\r\n",
        "# Here the size of each output sample is can be set to 2.\r\n",
        "model_ft.fc = nn.Linear(num_ftrs, len(class_names))\r\n",
        "\r\n",
        "model_ft = model_ft.to(device)\r\n",
        "\r\n",
        "criterion = nn.CrossEntropyLoss()\r\n",
        "\r\n",
        "# Observe that all parameters are being optimized\r\n",
        "optimizer_ft = optim.SGD(model_ft.parameters(), lr=0.001, momentum=0.9)\r\n",
        "\r\n",
        "# Decay LR by a factor of 0.1 every 7 epochs\r\n",
        "exp_lr_scheduler = lr_scheduler.StepLR(optimizer_ft, step_size=2, gamma=0.1)\r\n",
        "\r\n",
        "#training begins\r\n",
        "model_ft = train_model(model_ft, criterion, optimizer_ft, exp_lr_scheduler,num_epochs=5)"
      ],
      "execution_count": null,
      "outputs": [
        {
          "output_type": "stream",
          "text": [
            "Downloading: \"https://download.pytorch.org/models/resnet101-5d3b4d8f.pth\" to /root/.cache/torch/hub/checkpoints/resnet101-5d3b4d8f.pth\n"
          ],
          "name": "stderr"
        },
        {
          "output_type": "display_data",
          "data": {
            "application/vnd.jupyter.widget-view+json": {
              "model_id": "27690b0de35a4d929b2f3a5ea310b7c9",
              "version_minor": 0,
              "version_major": 2
            },
            "text/plain": [
              "HBox(children=(FloatProgress(value=0.0, max=178728960.0), HTML(value='')))"
            ]
          },
          "metadata": {
            "tags": []
          }
        },
        {
          "output_type": "stream",
          "text": [
            "\n",
            "Epoch 1/5\n",
            "----------\n",
            "train Loss: 0.3984 Acc: 0.7900\n",
            "valid Loss: 0.3369 Acc: 0.8889\n",
            "\n",
            "Epoch 2/5\n",
            "----------\n",
            "train Loss: 0.1748 Acc: 0.9400\n",
            "valid Loss: 0.2989 Acc: 0.8889\n",
            "\n",
            "Epoch 3/5\n",
            "----------\n",
            "train Loss: 0.0872 Acc: 0.9600\n",
            "valid Loss: 0.2325 Acc: 0.9111\n",
            "\n",
            "Epoch 4/5\n",
            "----------\n",
            "train Loss: 0.0536 Acc: 0.9800\n",
            "valid Loss: 0.1848 Acc: 0.9333\n",
            "\n",
            "Epoch 5/5\n",
            "----------\n",
            "train Loss: 0.0833 Acc: 0.9750\n",
            "valid Loss: 0.2116 Acc: 0.9222\n",
            "\n",
            "Training complete in 7m 42s\n",
            "Best val Acc: 0.933333\n"
          ],
          "name": "stdout"
        }
      ]
    },
    {
      "cell_type": "code",
      "metadata": {
        "colab": {
          "base_uri": "https://localhost:8080/"
        },
        "id": "j7mO3npqQqGX",
        "outputId": "09d4a567-a530-46bf-dee1-d0aaed117995"
      },
      "source": [
        "model_ft = models.resnet152(pretrained=True)\r\n",
        "\r\n",
        "num_ftrs = model_ft.fc.in_features\r\n",
        "\r\n",
        "# Here the size of each output sample is can be set to 2.\r\n",
        "model_ft.fc = nn.Linear(num_ftrs, len(class_names))\r\n",
        "\r\n",
        "model_ft = model_ft.to(device)\r\n",
        "\r\n",
        "criterion = nn.CrossEntropyLoss()\r\n",
        "\r\n",
        "# Observe that all parameters are being optimized\r\n",
        "optimizer_ft = optim.SGD(model_ft.parameters(), lr=0.001, momentum=0.9)\r\n",
        "\r\n",
        "# Decay LR by a factor of 0.1 every 7 epochs\r\n",
        "exp_lr_scheduler = lr_scheduler.StepLR(optimizer_ft, step_size=3, gamma=0.1)\r\n",
        "\r\n",
        "#training begins\r\n",
        "model_ft = train_model(model_ft, criterion, optimizer_ft, exp_lr_scheduler,num_epochs=15)\r\n"
      ],
      "execution_count": null,
      "outputs": [
        {
          "output_type": "stream",
          "text": [
            "Epoch 1/15\n",
            "----------\n",
            "train Loss: 0.4246 Acc: 0.7625\n",
            "valid Loss: 0.3950 Acc: 0.8667\n",
            "\n",
            "Epoch 2/15\n",
            "----------\n",
            "train Loss: 0.1152 Acc: 0.9650\n",
            "valid Loss: 0.6960 Acc: 0.7333\n",
            "\n",
            "Epoch 3/15\n",
            "----------\n",
            "train Loss: 0.1167 Acc: 0.9525\n",
            "valid Loss: 0.2611 Acc: 0.9333\n",
            "\n",
            "Epoch 4/15\n",
            "----------\n",
            "train Loss: 0.0745 Acc: 0.9750\n",
            "valid Loss: 0.2506 Acc: 0.9222\n",
            "\n",
            "Epoch 5/15\n",
            "----------\n",
            "train Loss: 0.0728 Acc: 0.9700\n",
            "valid Loss: 0.2634 Acc: 0.9167\n",
            "\n",
            "Epoch 6/15\n",
            "----------\n",
            "train Loss: 0.0945 Acc: 0.9675\n",
            "valid Loss: 0.2534 Acc: 0.9278\n",
            "\n",
            "Epoch 7/15\n",
            "----------\n",
            "train Loss: 0.0722 Acc: 0.9850\n",
            "valid Loss: 0.3222 Acc: 0.8944\n",
            "\n",
            "Epoch 8/15\n",
            "----------\n",
            "train Loss: 0.0634 Acc: 0.9800\n",
            "valid Loss: 0.2469 Acc: 0.9278\n",
            "\n",
            "Epoch 9/15\n",
            "----------\n",
            "train Loss: 0.0650 Acc: 0.9800\n",
            "valid Loss: 0.2846 Acc: 0.9111\n",
            "\n",
            "Epoch 10/15\n",
            "----------\n",
            "train Loss: 0.0342 Acc: 0.9925\n",
            "valid Loss: 0.2754 Acc: 0.9111\n",
            "\n",
            "Epoch 11/15\n",
            "----------\n",
            "train Loss: 0.0846 Acc: 0.9700\n",
            "valid Loss: 0.2401 Acc: 0.9278\n",
            "\n",
            "Epoch 12/15\n",
            "----------\n",
            "train Loss: 0.0618 Acc: 0.9775\n",
            "valid Loss: 0.2634 Acc: 0.9111\n",
            "\n",
            "Epoch 13/15\n",
            "----------\n",
            "train Loss: 0.0493 Acc: 0.9900\n",
            "valid Loss: 0.2337 Acc: 0.9389\n",
            "\n",
            "Epoch 14/15\n",
            "----------\n",
            "train Loss: 0.0378 Acc: 0.9875\n",
            "valid Loss: 0.2434 Acc: 0.9222\n",
            "\n",
            "Epoch 15/15\n",
            "----------\n",
            "train Loss: 0.0618 Acc: 0.9825\n",
            "valid Loss: 0.2432 Acc: 0.9222\n",
            "\n",
            "Training complete in 23m 41s\n",
            "Best val Acc: 0.938889\n"
          ],
          "name": "stdout"
        }
      ]
    },
    {
      "cell_type": "code",
      "metadata": {
        "colab": {
          "base_uri": "https://localhost:8080/",
          "height": 687
        },
        "id": "v3XZtashTgDu",
        "outputId": "ac0570ac-4c29-4cef-807b-d125ea1c19b6"
      },
      "source": [
        "visualize_model(model_ft)"
      ],
      "execution_count": null,
      "outputs": [
        {
          "output_type": "display_data",
          "data": {
            "image/png": "[encoded data removed]",
            "text/plain": [
              "<Figure size 432x288 with 1 Axes>"
            ]
          },
          "metadata": {
            "tags": [],
            "needs_background": "light"
          }
        },
        {
          "output_type": "display_data",
          "data": {
            "image/png": "[encoded data removed]",
            "text/plain": [
              "<Figure size 432x288 with 1 Axes>"
            ]
          },
          "metadata": {
            "tags": [],
            "needs_background": "light"
          }
        },
        {
          "output_type": "display_data",
          "data": {
            "image/png": "[encoded data removed]",
            "text/plain": [
              "<Figure size 432x288 with 1 Axes>"
            ]
          },
          "metadata": {
            "tags": [],
            "needs_background": "light"
          }
        },
        {
          "output_type": "display_data",
          "data": {
            "image/png": "[encoded data removed]",
            "text/plain": [
              "<Figure size 432x288 with 1 Axes>"
            ]
          },
          "metadata": {
            "tags": [],
            "needs_background": "light"
          }
        },
        {
          "output_type": "display_data",
          "data": {
            "image/png": "[encoded data removed]",
            "text/plain": [
              "<Figure size 432x288 with 1 Axes>"
            ]
          },
          "metadata": {
            "tags": [],
            "needs_background": "light"
          }
        },
        {
          "output_type": "display_data",
          "data": {
            "image/png": "[encoded data removed]",
            "text/plain": [
              "<Figure size 432x288 with 1 Axes>"
            ]
          },
          "metadata": {
            "tags": [],
            "needs_background": "light"
          }
        },
        {
          "output_type": "display_data",
          "data": {
            "image/png": "[encoded data removed]",
            "text/plain": [
              "<Figure size 432x288 with 1 Axes>"
            ]
          },
          "metadata": {
            "tags": [],
            "needs_background": "light"
          }
        },
        {
          "output_type": "display_data",
          "data": {
            "image/png": "[encoded data removed]",
            "text/plain": [
              "<Figure size 432x288 with 1 Axes>"
            ]
          },
          "metadata": {
            "tags": [],
            "needs_background": "light"
          }
        },
        {
          "output_type": "display_data",
          "data": {
            "image/png": "[encoded data removed]",
            "text/plain": [
              "<Figure size 432x288 with 1 Axes>"
            ]
          },
          "metadata": {
            "tags": [],
            "needs_background": "light"
          }
        },
        {
          "output_type": "display_data",
          "data": {
            "image/png": "[encoded data removed]",
            "text/plain": [
              "<Figure size 432x288 with 1 Axes>"
            ]
          },
          "metadata": {
            "tags": [],
            "needs_background": "light"
          }
        }
      ]
    },
    {
      "cell_type": "code",
      "metadata": {
        "colab": {
          "base_uri": "https://localhost:8080/",
          "height": 1000,
          "referenced_widgets": [
            "22ebc2a476cc41ea8e988e0d56a36fd5",
            "a7deaa275ccf47a5a3603c0514a76c35",
            "19893f1441aa4eb599cdc0d129037bb8",
            "695968d4449c4aec8fbfafd2a8c7ae5c",
            "a5b4e06aca1a4a97bbb97372c357ed7f",
            "d92f04720db245b7a3945c2a5ef28752",
            "33cf247436904bdea03d3efa4b6b9a8f",
            "ffdcec1f646746c2b388f39dceb4c7a9"
          ]
        },
        "id": "B9kspl1jwSts",
        "outputId": "4628b399-d9f4-495e-8160-1b9d17fd261f"
      },
      "source": [
        "model_ft = models.resnext50_32x4d(pretrained=True)\r\n",
        "\r\n",
        "num_ftrs = model_ft.fc.in_features\r\n",
        "\r\n",
        "# Here the size of each output sample is can be set to 2.\r\n",
        "model_ft.fc = nn.Linear(num_ftrs, len(class_names))\r\n",
        "\r\n",
        "model_ft = model_ft.to(device)\r\n",
        "\r\n",
        "criterion = nn.CrossEntropyLoss()\r\n",
        "\r\n",
        "# Observe that all parameters are being optimized\r\n",
        "optimizer_ft = optim.SGD(model_ft.parameters(), lr=0.001, momentum=0.9)\r\n",
        "\r\n",
        "# Decay LR by a factor of 0.1 every 7 epochs\r\n",
        "exp_lr_scheduler = lr_scheduler.StepLR(optimizer_ft, step_size=3, gamma=0.1)\r\n",
        "\r\n",
        "#training begins\r\n",
        "model_ft = train_model(model_ft, criterion, optimizer_ft, exp_lr_scheduler,num_epochs=15)\r\n"
      ],
      "execution_count": null,
      "outputs": [
        {
          "output_type": "stream",
          "text": [
            "Downloading: \"https://download.pytorch.org/models/resnext50_32x4d-7cdf4587.pth\" to /root/.cache/torch/hub/checkpoints/resnext50_32x4d-7cdf4587.pth\n"
          ],
          "name": "stderr"
        },
        {
          "output_type": "display_data",
          "data": {
            "application/vnd.jupyter.widget-view+json": {
              "model_id": "22ebc2a476cc41ea8e988e0d56a36fd5",
              "version_minor": 0,
              "version_major": 2
            },
            "text/plain": [
              "HBox(children=(FloatProgress(value=0.0, max=100441675.0), HTML(value='')))"
            ]
          },
          "metadata": {
            "tags": []
          }
        },
        {
          "output_type": "stream",
          "text": [
            "\n",
            "Epoch 1/15\n",
            "----------\n",
            "train Loss: 0.4087 Acc: 0.7875\n",
            "valid Loss: 0.2724 Acc: 0.8722\n",
            "\n",
            "Epoch 2/15\n",
            "----------\n",
            "train Loss: 0.2342 Acc: 0.9175\n",
            "valid Loss: 0.7615 Acc: 0.7667\n",
            "\n",
            "Epoch 3/15\n",
            "----------\n",
            "train Loss: 0.1184 Acc: 0.9600\n",
            "valid Loss: 0.1835 Acc: 0.9278\n",
            "\n",
            "Epoch 4/15\n",
            "----------\n",
            "train Loss: 0.0714 Acc: 0.9775\n",
            "valid Loss: 0.1988 Acc: 0.9167\n",
            "\n",
            "Epoch 5/15\n",
            "----------\n",
            "train Loss: 0.0856 Acc: 0.9725\n",
            "valid Loss: 0.2995 Acc: 0.9111\n",
            "\n",
            "Epoch 6/15\n",
            "----------\n",
            "train Loss: 0.0257 Acc: 0.9950\n",
            "valid Loss: 0.2539 Acc: 0.9222\n",
            "\n",
            "Epoch 7/15\n",
            "----------\n",
            "train Loss: 0.0316 Acc: 0.9900\n",
            "valid Loss: 0.2185 Acc: 0.9278\n",
            "\n",
            "Epoch 8/15\n",
            "----------\n",
            "train Loss: 0.0871 Acc: 0.9675\n",
            "valid Loss: 0.2572 Acc: 0.9167\n",
            "\n",
            "Epoch 9/15\n",
            "----------\n",
            "train Loss: 0.0678 Acc: 0.9775\n",
            "valid Loss: 0.2126 Acc: 0.9167\n",
            "\n",
            "Epoch 10/15\n",
            "----------\n",
            "train Loss: 0.0371 Acc: 0.9875\n",
            "valid Loss: 0.2452 Acc: 0.9222\n",
            "\n",
            "Epoch 11/15\n",
            "----------\n",
            "train Loss: 0.0945 Acc: 0.9600\n",
            "valid Loss: 0.2339 Acc: 0.9222\n",
            "\n",
            "Epoch 12/15\n",
            "----------\n",
            "train Loss: 0.0720 Acc: 0.9775\n",
            "valid Loss: 0.2364 Acc: 0.9222\n",
            "\n",
            "Epoch 13/15\n",
            "----------\n",
            "train Loss: 0.0478 Acc: 0.9825\n",
            "valid Loss: 0.2216 Acc: 0.9222\n",
            "\n",
            "Epoch 14/15\n",
            "----------\n",
            "train Loss: 0.0332 Acc: 0.9925\n",
            "valid Loss: 0.2571 Acc: 0.9278\n",
            "\n",
            "Epoch 15/15\n",
            "----------\n",
            "train Loss: 0.0864 Acc: 0.9725\n",
            "valid Loss: 0.2165 Acc: 0.9333\n",
            "\n",
            "Training complete in 24m 5s\n",
            "Best val Acc: 0.933333\n"
          ],
          "name": "stdout"
        }
      ]
    },
    {
      "cell_type": "code",
      "metadata": {
        "colab": {
          "base_uri": "https://localhost:8080/",
          "height": 542,
          "referenced_widgets": [
            "a50d82dc9e0544f2a0aad72e705c0fc5",
            "9e59a17515fc41d1a036aab67f986756",
            "89542611d90f483e8e202ec842f2ed71",
            "5988bea08e874ef7a28dfc2244e6b55e",
            "1bd1619ba7934c79a291afe882b98ce1",
            "1ca9e7cf779b470ea3c67b496d853fdf",
            "a5f8d6886557445a974f9f96c741e8dc",
            "905feb9254514284adf5f22f99ce594c"
          ]
        },
        "id": "9DUf9ijhwZ-Y",
        "outputId": "695ab661-4976-4b51-d922-3f745f71bcea"
      },
      "source": [
        "model_ft = models.wide_resnet50_2(pretrained=True)\r\n",
        "\r\n",
        "num_ftrs = model_ft.fc.in_features\r\n",
        "\r\n",
        "# Here the size of each output sample is can be set to 2.\r\n",
        "model_ft.fc = nn.Linear(num_ftrs, len(class_names))\r\n",
        "\r\n",
        "model_ft = model_ft.to(device)\r\n",
        "\r\n",
        "criterion = nn.CrossEntropyLoss()\r\n",
        "\r\n",
        "# Observe that all parameters are being optimized\r\n",
        "optimizer_ft = optim.SGD(model_ft.parameters(), lr=0.001, momentum=0.9)\r\n",
        "\r\n",
        "# Decay LR by a factor of 0.1 every 7 epochs\r\n",
        "exp_lr_scheduler = lr_scheduler.StepLR(optimizer_ft, step_size=2, gamma=0.1)\r\n",
        "\r\n",
        "#training begins\r\n",
        "model_ft = train_model(model_ft, criterion, optimizer_ft, exp_lr_scheduler,num_epochs=5)\r\n"
      ],
      "execution_count": null,
      "outputs": [
        {
          "output_type": "stream",
          "text": [
            "Downloading: \"https://download.pytorch.org/models/wide_resnet50_2-95faca4d.pth\" to /root/.cache/torch/hub/checkpoints/wide_resnet50_2-95faca4d.pth\n"
          ],
          "name": "stderr"
        },
        {
          "output_type": "display_data",
          "data": {
            "application/vnd.jupyter.widget-view+json": {
              "model_id": "a50d82dc9e0544f2a0aad72e705c0fc5",
              "version_minor": 0,
              "version_major": 2
            },
            "text/plain": [
              "HBox(children=(FloatProgress(value=0.0, max=138223492.0), HTML(value='')))"
            ]
          },
          "metadata": {
            "tags": []
          }
        },
        {
          "output_type": "stream",
          "text": [
            "\n",
            "Epoch 1/5\n",
            "----------\n",
            "train Loss: 0.4090 Acc: 0.8325\n",
            "valid Loss: 0.3587 Acc: 0.8444\n",
            "\n",
            "Epoch 2/5\n",
            "----------\n",
            "train Loss: 0.1469 Acc: 0.9575\n",
            "valid Loss: 0.3176 Acc: 0.8778\n",
            "\n",
            "Epoch 3/5\n",
            "----------\n",
            "train Loss: 0.1411 Acc: 0.9450\n",
            "valid Loss: 0.2979 Acc: 0.8722\n",
            "\n",
            "Epoch 4/5\n",
            "----------\n",
            "train Loss: 0.1167 Acc: 0.9600\n",
            "valid Loss: 0.2444 Acc: 0.9111\n",
            "\n",
            "Epoch 5/5\n",
            "----------\n",
            "train Loss: 0.0814 Acc: 0.9650\n",
            "valid Loss: 0.3754 Acc: 0.8889\n",
            "\n",
            "Training complete in 8m 1s\n",
            "Best val Acc: 0.911111\n"
          ],
          "name": "stdout"
        }
      ]
    },
    {
      "cell_type": "code",
      "metadata": {
        "colab": {
          "base_uri": "https://localhost:8080/"
        },
        "id": "w26v276Z2MTC",
        "outputId": "e2b3dc4d-1f7c-4ee1-eb7f-e6dc719b5f02"
      },
      "source": [
        "model_ft = models.googlenet(pretrained=True)\r\n",
        "\r\n",
        "num_ftrs = model_ft.fc.in_features\r\n",
        "\r\n",
        "# Here the size of each output sample is can be set to 2.\r\n",
        "model_ft.fc = nn.Linear(num_ftrs, len(class_names))\r\n",
        "\r\n",
        "model_ft = model_ft.to(device)\r\n",
        "\r\n",
        "criterion = nn.CrossEntropyLoss()\r\n",
        "\r\n",
        "# Observe that all parameters are being optimized\r\n",
        "optimizer_ft = optim.SGD(model_ft.parameters(), lr=0.001, momentum=0.9)\r\n",
        "\r\n",
        "# Decay LR by a factor of 0.1 every 7 epochs\r\n",
        "exp_lr_scheduler = lr_scheduler.StepLR(optimizer_ft, step_size=3, gamma=0.1)\r\n",
        "\r\n",
        "#training begins\r\n",
        "model_ft = train_model(model_ft, criterion, optimizer_ft, exp_lr_scheduler,num_epochs=5)\r\n"
      ],
      "execution_count": null,
      "outputs": [
        {
          "output_type": "stream",
          "text": [
            "Epoch 1/5\n",
            "----------\n",
            "train Loss: 0.5861 Acc: 0.6750\n",
            "valid Loss: 0.8040 Acc: 0.6000\n",
            "\n",
            "Epoch 2/5\n",
            "----------\n",
            "train Loss: 0.3233 Acc: 0.8725\n",
            "valid Loss: 0.4620 Acc: 0.8000\n",
            "\n",
            "Epoch 3/5\n",
            "----------\n",
            "train Loss: 0.2488 Acc: 0.9000\n",
            "valid Loss: 0.3960 Acc: 0.8500\n",
            "\n",
            "Epoch 4/5\n",
            "----------\n",
            "train Loss: 0.1776 Acc: 0.9475\n",
            "valid Loss: 0.3801 Acc: 0.8722\n",
            "\n",
            "Epoch 5/5\n",
            "----------\n",
            "train Loss: 0.1763 Acc: 0.9500\n",
            "valid Loss: 0.3819 Acc: 0.8556\n",
            "\n",
            "Training complete in 7m 41s\n",
            "Best val Acc: 0.872222\n"
          ],
          "name": "stdout"
        }
      ]
    },
    {
      "cell_type": "code",
      "metadata": {
        "colab": {
          "base_uri": "https://localhost:8080/",
          "height": 542,
          "referenced_widgets": [
            "d933df3cca304b79b0cd210584962b90",
            "0b2845afdc8743f9a807eccbe65a8262",
            "3325ad2257d44216b6841980cd21f74d",
            "350c0c9c4b3541c9aa26a1b4ea510939",
            "d42dafc634c34b7b900baea5ea2201d2",
            "bf1f22b7626140bf9b47e2889bc4c6c0",
            "cf7abf10c4e74042a20f2ff276cfb394",
            "339cb6cfb72146db9d45ad12ca582f9f"
          ]
        },
        "id": "Cyvy0sPA4U0D",
        "outputId": "4e9eed27-77cb-486d-f1ea-d6514a06575a"
      },
      "source": [
        "model_ft = models.wide_resnet101_2(pretrained=True)\r\n",
        "\r\n",
        "num_ftrs = model_ft.fc.in_features\r\n",
        "\r\n",
        "# Here the size of each output sample is can be set to 2.\r\n",
        "model_ft.fc = nn.Linear(num_ftrs, len(class_names))\r\n",
        "\r\n",
        "model_ft = model_ft.to(device)\r\n",
        "\r\n",
        "criterion = nn.CrossEntropyLoss()\r\n",
        "\r\n",
        "# Observe that all parameters are being optimized\r\n",
        "optimizer_ft = optim.SGD(model_ft.parameters(), lr=0.001, momentum=0.9)\r\n",
        "\r\n",
        "# Decay LR by a factor of 0.1 every 7 epochs\r\n",
        "exp_lr_scheduler = lr_scheduler.StepLR(optimizer_ft, step_size=3, gamma=0.1)\r\n",
        "\r\n",
        "#training begins\r\n",
        "model_ft = train_model(model_ft, criterion, optimizer_ft, exp_lr_scheduler,num_epochs=5)\r\n"
      ],
      "execution_count": null,
      "outputs": [
        {
          "output_type": "stream",
          "text": [
            "Downloading: \"https://download.pytorch.org/models/wide_resnet101_2-32ee1156.pth\" to /root/.cache/torch/hub/checkpoints/wide_resnet101_2-32ee1156.pth\n"
          ],
          "name": "stderr"
        },
        {
          "output_type": "display_data",
          "data": {
            "application/vnd.jupyter.widget-view+json": {
              "model_id": "d933df3cca304b79b0cd210584962b90",
              "version_minor": 0,
              "version_major": 2
            },
            "text/plain": [
              "HBox(children=(FloatProgress(value=0.0, max=254695146.0), HTML(value='')))"
            ]
          },
          "metadata": {
            "tags": []
          }
        },
        {
          "output_type": "stream",
          "text": [
            "\n",
            "Epoch 1/5\n",
            "----------\n",
            "train Loss: 0.4571 Acc: 0.7875\n",
            "valid Loss: 0.3827 Acc: 0.8500\n",
            "\n",
            "Epoch 2/5\n",
            "----------\n",
            "train Loss: 0.1196 Acc: 0.9650\n",
            "valid Loss: 0.4868 Acc: 0.8444\n",
            "\n",
            "Epoch 3/5\n",
            "----------\n",
            "train Loss: 0.1211 Acc: 0.9650\n",
            "valid Loss: 0.3557 Acc: 0.8500\n",
            "\n",
            "Epoch 4/5\n",
            "----------\n",
            "train Loss: 0.0935 Acc: 0.9700\n",
            "valid Loss: 0.3169 Acc: 0.9056\n",
            "\n",
            "Epoch 5/5\n",
            "----------\n",
            "train Loss: 0.0869 Acc: 0.9675\n",
            "valid Loss: 0.2817 Acc: 0.9000\n",
            "\n",
            "Training complete in 7m 57s\n",
            "Best val Acc: 0.905556\n"
          ],
          "name": "stdout"
        }
      ]
    },
    {
      "cell_type": "code",
      "metadata": {
        "colab": {
          "base_uri": "https://localhost:8080/"
        },
        "id": "gHsd9XTr6QJq",
        "outputId": "6c94f832-659f-41a4-ea92-a475101a5ef1"
      },
      "source": [
        "model_ft = models.resnext101_32x8d(pretrained=True)\r\n",
        "\r\n",
        "num_ftrs = model_ft.fc.in_features\r\n",
        "\r\n",
        "# Here the size of each output sample is can be set to 2.\r\n",
        "model_ft.fc = nn.Linear(num_ftrs, len(class_names))\r\n",
        "\r\n",
        "model_ft = model_ft.to(device)\r\n",
        "\r\n",
        "criterion = nn.CrossEntropyLoss()\r\n",
        "\r\n",
        "# Observe that all parameters are being optimized\r\n",
        "optimizer_ft = optim.SGD(model_ft.parameters(), lr=0.001, momentum=0.9)\r\n",
        "\r\n",
        "# Decay LR by a factor of 0.1 every 7 epochs\r\n",
        "exp_lr_scheduler = lr_scheduler.StepLR(optimizer_ft, step_size=3, gamma=0.1)\r\n",
        "\r\n",
        "#training begins\r\n",
        "model_ft = train_model(model_ft, criterion, optimizer_ft, exp_lr_scheduler,num_epochs=5)\r\n"
      ],
      "execution_count": null,
      "outputs": [
        {
          "output_type": "stream",
          "text": [
            "Epoch 1/5\n",
            "----------\n",
            "train Loss: 0.3149 Acc: 0.8650\n",
            "valid Loss: 0.3161 Acc: 0.8611\n",
            "\n",
            "Epoch 2/5\n",
            "----------\n",
            "train Loss: 0.1392 Acc: 0.9475\n",
            "valid Loss: 0.3664 Acc: 0.8833\n",
            "\n",
            "Epoch 3/5\n",
            "----------\n",
            "train Loss: 0.1706 Acc: 0.9400\n",
            "valid Loss: 0.2610 Acc: 0.9222\n",
            "\n",
            "Epoch 4/5\n",
            "----------\n",
            "train Loss: 0.0782 Acc: 0.9775\n",
            "valid Loss: 0.2073 Acc: 0.9444\n",
            "\n",
            "Epoch 5/5\n",
            "----------\n",
            "train Loss: 0.0716 Acc: 0.9800\n",
            "valid Loss: 0.2064 Acc: 0.9333\n",
            "\n",
            "Training complete in 8m 17s\n",
            "Best val Acc: 0.944444\n"
          ],
          "name": "stdout"
        }
      ]
    },
    {
      "cell_type": "code",
      "metadata": {
        "colab": {
          "base_uri": "https://localhost:8080/"
        },
        "id": "q1f1rpmMU1os",
        "outputId": "41b3c9c0-bb2e-4dc7-d43a-cdc8d3d09672"
      },
      "source": [
        "pip install efficientnet_pytorch"
      ],
      "execution_count": null,
      "outputs": [
        {
          "output_type": "stream",
          "text": [
            "Collecting efficientnet_pytorch\n",
            "  Downloading https://files.pythonhosted.org/packages/4e/83/f9c5f44060f996279e474185ebcbd8dbd91179593bffb9abe3afa55d085b/efficientnet_pytorch-0.7.0.tar.gz\n",
            "Requirement already satisfied: torch in /usr/local/lib/python3.6/dist-packages (from efficientnet_pytorch) (1.7.0+cu101)\n",
            "Requirement already satisfied: future in /usr/local/lib/python3.6/dist-packages (from torch->efficientnet_pytorch) (0.16.0)\n",
            "Requirement already satisfied: numpy in /usr/local/lib/python3.6/dist-packages (from torch->efficientnet_pytorch) (1.19.4)\n",
            "Requirement already satisfied: dataclasses in /usr/local/lib/python3.6/dist-packages (from torch->efficientnet_pytorch) (0.8)\n",
            "Requirement already satisfied: typing-extensions in /usr/local/lib/python3.6/dist-packages (from torch->efficientnet_pytorch) (3.7.4.3)\n",
            "Building wheels for collected packages: efficientnet-pytorch\n",
            "  Building wheel for efficientnet-pytorch (setup.py) ... \u001b[?25l\u001b[?25hdone\n",
            "  Created wheel for efficientnet-pytorch: filename=efficientnet_pytorch-0.7.0-cp36-none-any.whl size=16032 sha256=76d130830407a89fb1ae35c380689c52651de37ac9c5a8cbc82b935cd0f389da\n",
            "  Stored in directory: /root/.cache/pip/wheels/e9/c6/e1/7a808b26406239712cfce4b5ceeb67d9513ae32aa4b31445c6\n",
            "Successfully built efficientnet-pytorch\n",
            "Installing collected packages: efficientnet-pytorch\n",
            "Successfully installed efficientnet-pytorch-0.7.0\n"
          ],
          "name": "stdout"
        }
      ]
    },
    {
      "cell_type": "code",
      "metadata": {
        "colab": {
          "base_uri": "https://localhost:8080/"
        },
        "id": "8QLYlxuzU1lb",
        "outputId": "cdadfe9c-e31f-4bb9-942b-697886981143"
      },
      "source": [
        "from efficientnet_pytorch import EfficientNet \r\n",
        "model_ft = EfficientNet.from_pretrained('efficientnet-b7') "
      ],
      "execution_count": null,
      "outputs": [
        {
          "output_type": "stream",
          "text": [
            "Loaded pretrained weights for efficientnet-b7\n"
          ],
          "name": "stdout"
        }
      ]
    },
    {
      "cell_type": "code",
      "metadata": {
        "colab": {
          "base_uri": "https://localhost:8080/"
        },
        "id": "klUHznkNU1g6",
        "outputId": "ac497d94-becd-488d-d230-fc37f0148c31"
      },
      "source": [
        "model_ft = model_ft.to(device)\r\n",
        "\r\n",
        "criterion = nn.CrossEntropyLoss()\r\n",
        "\r\n",
        "# Observe that all parameters are being optimized\r\n",
        "optimizer_ft = optim.SGD(model_ft.parameters(), lr=0.0001, momentum=0.9)\r\n",
        "\r\n",
        "# Decay LR by a factor of 0.1 every 7 epochs\r\n",
        "exp_lr_scheduler = lr_scheduler.StepLR(optimizer_ft, step_size=4, gamma=0.1)\r\n",
        "\r\n",
        "#training begins\r\n",
        "model_ft = train_model(model_ft, criterion, optimizer_ft, exp_lr_scheduler,num_epochs=30)"
      ],
      "execution_count": null,
      "outputs": [
        {
          "output_type": "stream",
          "text": [
            "Epoch 1/30\n",
            "----------\n",
            "train Loss: 0.6971 Acc: 0.9225\n",
            "valid Loss: 3.1086 Acc: 0.5389\n",
            "\n",
            "Epoch 2/30\n",
            "----------\n",
            "train Loss: 0.8328 Acc: 0.9075\n",
            "valid Loss: 3.1655 Acc: 0.5444\n",
            "\n",
            "Epoch 3/30\n",
            "----------\n",
            "train Loss: 0.5437 Acc: 0.9425\n",
            "valid Loss: 3.1994 Acc: 0.5500\n",
            "\n",
            "Epoch 4/30\n",
            "----------\n",
            "train Loss: 0.5251 Acc: 0.9425\n",
            "valid Loss: 3.2969 Acc: 0.5389\n",
            "\n",
            "Epoch 5/30\n",
            "----------\n",
            "train Loss: 0.4393 Acc: 0.9575\n",
            "valid Loss: 3.3904 Acc: 0.5222\n",
            "\n",
            "Epoch 6/30\n",
            "----------\n",
            "train Loss: 0.6702 Acc: 0.9250\n",
            "valid Loss: 3.3885 Acc: 0.5278\n",
            "\n",
            "Epoch 7/30\n",
            "----------\n",
            "train Loss: 0.6718 Acc: 0.9325\n",
            "valid Loss: 3.4286 Acc: 0.5222\n",
            "\n",
            "Epoch 8/30\n",
            "----------\n",
            "train Loss: 0.3796 Acc: 0.9675\n",
            "valid Loss: 3.4488 Acc: 0.5278\n",
            "\n",
            "Epoch 9/30\n",
            "----------\n",
            "train Loss: 0.6115 Acc: 0.9375\n",
            "valid Loss: 3.3850 Acc: 0.5389\n",
            "\n",
            "Epoch 10/30\n",
            "----------\n",
            "train Loss: 0.6312 Acc: 0.9325\n",
            "valid Loss: 3.3728 Acc: 0.5444\n",
            "\n",
            "Epoch 11/30\n",
            "----------\n",
            "train Loss: 0.6631 Acc: 0.9150\n",
            "valid Loss: 3.3866 Acc: 0.5333\n",
            "\n",
            "Epoch 12/30\n",
            "----------\n",
            "train Loss: 0.6782 Acc: 0.9225\n",
            "valid Loss: 3.3986 Acc: 0.5333\n",
            "\n",
            "Epoch 13/30\n",
            "----------\n",
            "train Loss: 0.8654 Acc: 0.8975\n",
            "valid Loss: 3.4025 Acc: 0.5333\n",
            "\n",
            "Epoch 14/30\n",
            "----------\n",
            "train Loss: 0.5929 Acc: 0.9275\n",
            "valid Loss: 3.3679 Acc: 0.5278\n",
            "\n",
            "Epoch 15/30\n",
            "----------\n",
            "train Loss: 0.5631 Acc: 0.9450\n",
            "valid Loss: 3.3309 Acc: 0.5333\n",
            "\n",
            "Epoch 16/30\n",
            "----------\n",
            "train Loss: 0.4886 Acc: 0.9575\n",
            "valid Loss: 3.4117 Acc: 0.5278\n",
            "\n",
            "Epoch 17/30\n",
            "----------\n",
            "train Loss: 0.5778 Acc: 0.9375\n",
            "valid Loss: 3.4767 Acc: 0.5222\n",
            "\n",
            "Epoch 18/30\n",
            "----------\n",
            "train Loss: 0.5223 Acc: 0.9375\n",
            "valid Loss: 3.4650 Acc: 0.5278\n",
            "\n",
            "Epoch 19/30\n",
            "----------\n",
            "train Loss: 0.5614 Acc: 0.9425\n",
            "valid Loss: 3.4161 Acc: 0.5222\n",
            "\n",
            "Epoch 20/30\n",
            "----------\n",
            "train Loss: 0.6475 Acc: 0.9325\n",
            "valid Loss: 3.3772 Acc: 0.5278\n",
            "\n",
            "Epoch 21/30\n",
            "----------\n",
            "train Loss: 0.5627 Acc: 0.9500\n",
            "valid Loss: 3.4266 Acc: 0.5278\n",
            "\n",
            "Epoch 22/30\n",
            "----------\n",
            "train Loss: 0.5591 Acc: 0.9400\n",
            "valid Loss: 3.4163 Acc: 0.5278\n",
            "\n",
            "Epoch 23/30\n",
            "----------\n",
            "train Loss: 0.5592 Acc: 0.9425\n",
            "valid Loss: 3.4201 Acc: 0.5333\n",
            "\n",
            "Epoch 24/30\n",
            "----------\n",
            "train Loss: 0.5584 Acc: 0.9425\n",
            "valid Loss: 3.3885 Acc: 0.5278\n",
            "\n",
            "Epoch 25/30\n",
            "----------\n",
            "train Loss: 0.7653 Acc: 0.9225\n",
            "valid Loss: 3.3897 Acc: 0.5389\n",
            "\n",
            "Epoch 26/30\n",
            "----------\n",
            "train Loss: 0.6282 Acc: 0.9400\n",
            "valid Loss: 3.4576 Acc: 0.5278\n",
            "\n",
            "Epoch 27/30\n",
            "----------\n",
            "train Loss: 0.5119 Acc: 0.9425\n",
            "valid Loss: 3.4255 Acc: 0.5278\n",
            "\n",
            "Epoch 28/30\n",
            "----------\n",
            "train Loss: 0.5032 Acc: 0.9475\n",
            "valid Loss: 3.3871 Acc: 0.5278\n",
            "\n",
            "Epoch 29/30\n",
            "----------\n",
            "train Loss: 0.7434 Acc: 0.9325\n",
            "valid Loss: 3.3538 Acc: 0.5444\n",
            "\n",
            "Epoch 30/30\n",
            "----------\n",
            "train Loss: 0.6092 Acc: 0.9350\n",
            "valid Loss: 3.3834 Acc: 0.5444\n",
            "\n",
            "Training complete in 50m 6s\n",
            "Best val Acc: 0.550000\n"
          ],
          "name": "stdout"
        }
      ]
    },
    {
      "cell_type": "code",
      "metadata": {
        "id": "jVCp9HoFL7-V"
      },
      "source": [
        ""
      ],
      "execution_count": null,
      "outputs": []
    }
  ]
}